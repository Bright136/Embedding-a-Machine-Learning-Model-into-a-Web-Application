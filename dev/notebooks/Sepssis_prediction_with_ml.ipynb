{
 "cells": [
  {
   "cell_type": "code",
   "execution_count": null,
   "id": "881eec9a",
   "metadata": {},
   "outputs": [],
   "source": []
  },
  {
   "cell_type": "markdown",
   "id": "d809005b",
   "metadata": {
    "colab_type": "text",
    "id": "view-in-github"
   },
   "source": [
    "<a href=\"https://colab.research.google.com/github/eaedk/Machine-Learning-Tutorials/blob/main/DataAnalysis_Step_By_Step_Guide.ipynb\" target=\"_parent\"><img src=\"https://colab.research.google.com/assets/colab-badge.svg\" alt=\"Open In Colab\"/></a>"
   ]
  },
  {
   "cell_type": "markdown",
   "id": "53e4c3be",
   "metadata": {
    "id": "wW3v1-2n3CzK"
   },
   "source": [
    "# Intro\n",
    "## General\n",
    "\"Data analysis is a process of inspecting, cleansing, transforming, and modeling data with the goal of discovering useful information, informing conclusions, and supporting decision-making.\" ([Wikipedia](https://en.wikipedia.org/wiki/Data_analysis)).\n",
    "\n",
    "In Data Analysis, there are some analysis paradigms : **Univariate, Bivariate, Multivariate**. We apply these paradigms to analyze the features (or statistical variables, or columns of the dataframe) of the dataset and to have a better understanding.\n",
    "\n",
    "**Numeric features** are features with numbers that you can perform mathematical operations on. They are further divided into discrete (countable integers with clear boundaries) and continuous (can take any value, even decimals, within a range).\n",
    "\n",
    "**Categorical features** are columns with a limited number of possible values. Examples are `sex, country, or age group`.\n",
    "\n",
    "\n",
    "#### Project Title: The Sepsis Illness Classification Analysis\n",
    "\n",
    "#### Project Description: This project seeks to create a classification model to classify patients Sepsis positive or negative \n",
    "\n",
    "#### Hypothesis: \n",
    "#### Null Hypothesis: H1: The sample does not have a Gaussian distribution in the numerical feautures.\n",
    "#### Alternate Hypothesis: H0: The sample has a Gaussian distribution in the numerical feautures.\n",
    "####\n",
    "\n",
    "\n",
    "\n",
    "#### Assumptions:\n",
    "1. It was assumed that the blood pressure used was the diastolic type.\n",
    "\n",
    "\n",
    "#### Questions\n",
    "\n",
    "1. How many patients are under weight, have healthy weight, over weight, obesed and severe obesed?\n",
    "2. What is the distribution of ages for patients captured in the data?\n",
    "3. How many of the patients fall under the Normal, Elevated and High Blood Pressure?\n",
    "4. Is Body Mass Index affected by Age?\n",
    "5. Is Blood Pressure affected by Age?\n",
    "6. What is the relationship between Age and Body In\n",
    "7. How many patients have the tendency of developing sepsis?\n",
    "8. Which age group are more prone to developing sepsis?\n",
    "9. Does having an insurance enhance patients chances of getting sepsis?\n",
    "10. Is body mass directly correlated with a patients tendency to get sepsis?\n",
    "11. Does the blood parameters associated with sepsis?\n",
    "\n",
    "## Notebook overview\n",
    "\n",
    "This notebook is a guide to start practicing Data Analysis."
   ]
  },
  {
   "cell_type": "markdown",
   "id": "e1687deb",
   "metadata": {
    "id": "n4VFUnkuexCE"
   },
   "source": [
    "# Setup"
   ]
  },
  {
   "cell_type": "markdown",
   "id": "b7143ce2",
   "metadata": {
    "id": "qdFpRxPje1gw"
   },
   "source": [
    "## Installation\n",
    "Here is the section to install all the packages/libraries that will be needed to tackle the challlenge."
   ]
  },
  {
   "cell_type": "code",
   "execution_count": 1,
   "id": "9416246f",
   "metadata": {
    "id": "W-d-roFQe6yi"
   },
   "outputs": [],
   "source": [
    "# !pip install -q <lib_001> <lib_002> ..."
   ]
  },
  {
   "cell_type": "markdown",
   "id": "0e233449",
   "metadata": {
    "id": "0HmLxlQre7HW"
   },
   "source": [
    "## Importation\n",
    "Here is the section to import all the packages/libraries that will be used through this notebook."
   ]
  },
  {
   "cell_type": "code",
   "execution_count": 2,
   "id": "a7b4f875",
   "metadata": {
    "id": "MP62JaiKfCnS"
   },
   "outputs": [],
   "source": [
    "# Data handling\n",
    "# Data handling\n",
    "import pandas as pd\n",
    "import numpy as np\n",
    "\n",
    "# Vizualisation (Matplotlib, Plotly, Seaborn, etc. )\n",
    "%matplotlib inline\n",
    "import matplotlib.pyplot as plt\n",
    "import seaborn as sns\n",
    "import plotly.graph_objects as go\n",
    "import plotly.express as px\n",
    "\n",
    "# Feature Processing (Scikit-learn processing, etc. )\n",
    "from sklearn.impute import SimpleImputer\n",
    "from sklearn.preprocessing import StandardScaler, OneHotEncoder\n",
    "from sklearn.pipeline import Pipeline\n",
    "from sklearn.compose import ColumnTransformer\n",
    "from sklearn.metrics import confusion_matrix , classification_report, f1_score, accuracy_score,\\\n",
    "precision_score, recall_score, fbeta_score, make_scorer, roc_auc_score\n",
    "from sklearn.model_selection import train_test_split, GridSearchCV\n",
    "from skopt import BayesSearchCV\n",
    "from sklearn.utils import class_weight\n",
    "# models \n",
    "from sklearn import svm\n",
    "from xgboost import XGBClassifier\n",
    "from sklearn.linear_model import LogisticRegression\n",
    "from sklearn.tree import DecisionTreeClassifier\n",
    "from sklearn.ensemble import RandomForestClassifier\n",
    "\n",
    "import pickle\n",
    "import os\n",
    "import warnings\n",
    "warnings.filterwarnings(\"ignore\")"
   ]
  },
  {
   "cell_type": "markdown",
   "id": "019fbc56",
   "metadata": {
    "id": "UfOADQf0e9i1"
   },
   "source": [
    "# Data Loading\n",
    "Here is the section to load the datasets (train, eval, test) and the additional files"
   ]
  },
  {
   "cell_type": "code",
   "execution_count": 3,
   "id": "80cb98c5",
   "metadata": {
    "id": "KIQyG5EcfQlU"
   },
   "outputs": [
    {
     "data": {
      "text/html": [
       "<div>\n",
       "<style scoped>\n",
       "    .dataframe tbody tr th:only-of-type {\n",
       "        vertical-align: middle;\n",
       "    }\n",
       "\n",
       "    .dataframe tbody tr th {\n",
       "        vertical-align: top;\n",
       "    }\n",
       "\n",
       "    .dataframe thead th {\n",
       "        text-align: right;\n",
       "    }\n",
       "</style>\n",
       "<table border=\"1\" class=\"dataframe\">\n",
       "  <thead>\n",
       "    <tr style=\"text-align: right;\">\n",
       "      <th></th>\n",
       "      <th>ID</th>\n",
       "      <th>PRG</th>\n",
       "      <th>PL</th>\n",
       "      <th>PR</th>\n",
       "      <th>SK</th>\n",
       "      <th>TS</th>\n",
       "      <th>M11</th>\n",
       "      <th>BD2</th>\n",
       "      <th>Age</th>\n",
       "      <th>Insurance</th>\n",
       "      <th>Sepssis</th>\n",
       "    </tr>\n",
       "  </thead>\n",
       "  <tbody>\n",
       "    <tr>\n",
       "      <th>0</th>\n",
       "      <td>ICU200010</td>\n",
       "      <td>6</td>\n",
       "      <td>148</td>\n",
       "      <td>72</td>\n",
       "      <td>35</td>\n",
       "      <td>0</td>\n",
       "      <td>33.6</td>\n",
       "      <td>0.627</td>\n",
       "      <td>50</td>\n",
       "      <td>0</td>\n",
       "      <td>Positive</td>\n",
       "    </tr>\n",
       "    <tr>\n",
       "      <th>1</th>\n",
       "      <td>ICU200011</td>\n",
       "      <td>1</td>\n",
       "      <td>85</td>\n",
       "      <td>66</td>\n",
       "      <td>29</td>\n",
       "      <td>0</td>\n",
       "      <td>26.6</td>\n",
       "      <td>0.351</td>\n",
       "      <td>31</td>\n",
       "      <td>0</td>\n",
       "      <td>Negative</td>\n",
       "    </tr>\n",
       "    <tr>\n",
       "      <th>2</th>\n",
       "      <td>ICU200012</td>\n",
       "      <td>8</td>\n",
       "      <td>183</td>\n",
       "      <td>64</td>\n",
       "      <td>0</td>\n",
       "      <td>0</td>\n",
       "      <td>23.3</td>\n",
       "      <td>0.672</td>\n",
       "      <td>32</td>\n",
       "      <td>1</td>\n",
       "      <td>Positive</td>\n",
       "    </tr>\n",
       "    <tr>\n",
       "      <th>3</th>\n",
       "      <td>ICU200013</td>\n",
       "      <td>1</td>\n",
       "      <td>89</td>\n",
       "      <td>66</td>\n",
       "      <td>23</td>\n",
       "      <td>94</td>\n",
       "      <td>28.1</td>\n",
       "      <td>0.167</td>\n",
       "      <td>21</td>\n",
       "      <td>1</td>\n",
       "      <td>Negative</td>\n",
       "    </tr>\n",
       "    <tr>\n",
       "      <th>4</th>\n",
       "      <td>ICU200014</td>\n",
       "      <td>0</td>\n",
       "      <td>137</td>\n",
       "      <td>40</td>\n",
       "      <td>35</td>\n",
       "      <td>168</td>\n",
       "      <td>43.1</td>\n",
       "      <td>2.288</td>\n",
       "      <td>33</td>\n",
       "      <td>1</td>\n",
       "      <td>Positive</td>\n",
       "    </tr>\n",
       "  </tbody>\n",
       "</table>\n",
       "</div>"
      ],
      "text/plain": [
       "          ID  PRG   PL  PR  SK   TS   M11    BD2  Age  Insurance   Sepssis\n",
       "0  ICU200010    6  148  72  35    0  33.6  0.627   50          0  Positive\n",
       "1  ICU200011    1   85  66  29    0  26.6  0.351   31          0  Negative\n",
       "2  ICU200012    8  183  64   0    0  23.3  0.672   32          1  Positive\n",
       "3  ICU200013    1   89  66  23   94  28.1  0.167   21          1  Negative\n",
       "4  ICU200014    0  137  40  35  168  43.1  2.288   33          1  Positive"
      ]
     },
     "execution_count": 3,
     "metadata": {},
     "output_type": "execute_result"
    }
   ],
   "source": [
    "# For CSV, use pandas.read_csv\n",
    "df = pd.read_csv('../datasets/Paitients_Files_Train.csv')\n",
    "df.head(5)"
   ]
  },
  {
   "cell_type": "markdown",
   "id": "290a55c8",
   "metadata": {
    "id": "okaZxnc3fRId"
   },
   "source": [
    "# Exploratory Data Analysis: EDA\n",
    "Here is the section to **inspect** the datasets in depth, **present** it, make **hypotheses** and **think** the *cleaning, processing and features creation*."
   ]
  },
  {
   "cell_type": "markdown",
   "id": "b9610f4d",
   "metadata": {
    "id": "kTvnZQUlD6vf"
   },
   "source": [
    "## Dataset overview\n",
    "\n",
    "Have a look at the loaded datsets using the following methods: `.head(), .info()`"
   ]
  },
  {
   "cell_type": "code",
   "execution_count": 4,
   "id": "489f2ad5",
   "metadata": {
    "scrolled": true
   },
   "outputs": [
    {
     "data": {
      "text/plain": [
       "ID            object\n",
       "PRG            int64\n",
       "PL             int64\n",
       "PR             int64\n",
       "SK             int64\n",
       "TS             int64\n",
       "M11          float64\n",
       "BD2          float64\n",
       "Age            int64\n",
       "Insurance      int64\n",
       "Sepssis       object\n",
       "dtype: object"
      ]
     },
     "execution_count": 4,
     "metadata": {},
     "output_type": "execute_result"
    }
   ],
   "source": [
    "# display the datatypes\n",
    "df.dtypes"
   ]
  },
  {
   "cell_type": "markdown",
   "id": "043d3820",
   "metadata": {},
   "source": [
    ">- **All the data types are of numeric data types**"
   ]
  },
  {
   "cell_type": "code",
   "execution_count": 5,
   "id": "228df6ac",
   "metadata": {
    "id": "0VNR9LfZfbGe"
   },
   "outputs": [
    {
     "data": {
      "text/plain": [
       "(599, 11)"
      ]
     },
     "execution_count": 5,
     "metadata": {},
     "output_type": "execute_result"
    }
   ],
   "source": [
    "# check the shape of the data\n",
    "df.shape"
   ]
  },
  {
   "cell_type": "markdown",
   "id": "f359aab1",
   "metadata": {},
   "source": [
    ">- **The dataset has 11 columns and 599 rows**"
   ]
  },
  {
   "cell_type": "code",
   "execution_count": 6,
   "id": "deefc79b",
   "metadata": {
    "id": "3oUlBJbRFa2t"
   },
   "outputs": [
    {
     "data": {
      "text/plain": [
       "ID           0\n",
       "PRG          0\n",
       "PL           0\n",
       "PR           0\n",
       "SK           0\n",
       "TS           0\n",
       "M11          0\n",
       "BD2          0\n",
       "Age          0\n",
       "Insurance    0\n",
       "Sepssis      0\n",
       "dtype: int64"
      ]
     },
     "execution_count": 6,
     "metadata": {},
     "output_type": "execute_result"
    }
   ],
   "source": [
    "# check for null values\n",
    "df.isnull().sum()"
   ]
  },
  {
   "cell_type": "markdown",
   "id": "b2c10f3a",
   "metadata": {},
   "source": [
    ">- **All rows had values**"
   ]
  },
  {
   "cell_type": "code",
   "execution_count": 7,
   "id": "95926fe6",
   "metadata": {
    "scrolled": true
   },
   "outputs": [
    {
     "data": {
      "text/plain": [
       "Index(['ID', 'PRG', 'PL', 'PR', 'SK', 'TS', 'M11', 'BD2', 'Age', 'Insurance',\n",
       "       'Sepssis'],\n",
       "      dtype='object')"
      ]
     },
     "execution_count": 7,
     "metadata": {},
     "output_type": "execute_result"
    }
   ],
   "source": [
    "df.columns"
   ]
  },
  {
   "cell_type": "markdown",
   "id": "60a069a9",
   "metadata": {},
   "source": [
    ">- **The columns are not descriptive**"
   ]
  },
  {
   "cell_type": "code",
   "execution_count": 8,
   "id": "f5482a08",
   "metadata": {},
   "outputs": [
    {
     "data": {
      "text/plain": [
       "0"
      ]
     },
     "execution_count": 8,
     "metadata": {},
     "output_type": "execute_result"
    }
   ],
   "source": [
    "# check the number of duplicates\n",
    "df.duplicated().sum()"
   ]
  },
  {
   "cell_type": "markdown",
   "id": "1a9a724d",
   "metadata": {},
   "source": [
    ">- **There are no duplicates**"
   ]
  },
  {
   "cell_type": "code",
   "execution_count": 9,
   "id": "c593105f",
   "metadata": {},
   "outputs": [],
   "source": [
    "# create a function to print the number of unique values\n",
    "def print_unique_values(data):\n",
    "    values = {}\n",
    "    for col in data.columns:\n",
    "        number = data[col].nunique()\n",
    "        print(f'{col}: has {number} of unique values')   "
   ]
  },
  {
   "cell_type": "code",
   "execution_count": 10,
   "id": "d5862f72",
   "metadata": {},
   "outputs": [
    {
     "name": "stdout",
     "output_type": "stream",
     "text": [
      "ID: has 599 of unique values\n",
      "PRG: has 17 of unique values\n",
      "PL: has 129 of unique values\n",
      "PR: has 44 of unique values\n",
      "SK: has 51 of unique values\n",
      "TS: has 164 of unique values\n",
      "M11: has 233 of unique values\n",
      "BD2: has 437 of unique values\n",
      "Age: has 50 of unique values\n",
      "Insurance: has 2 of unique values\n",
      "Sepssis: has 2 of unique values\n"
     ]
    }
   ],
   "source": [
    "print_unique_values(df)"
   ]
  },
  {
   "cell_type": "code",
   "execution_count": 11,
   "id": "7ed7b579",
   "metadata": {},
   "outputs": [],
   "source": [
    "def number_of_zeros(data):\n",
    "    for col in data.columns:\n",
    "        if col != 'Sepssis':\n",
    "            count = (data[col] == 0).sum()\n",
    "            print(f'Count of zeros in Column  {col} : {count}')"
   ]
  },
  {
   "cell_type": "code",
   "execution_count": 12,
   "id": "95642272",
   "metadata": {},
   "outputs": [
    {
     "name": "stdout",
     "output_type": "stream",
     "text": [
      "Count of zeros in Column  ID : 0\n",
      "Count of zeros in Column  PRG : 93\n",
      "Count of zeros in Column  PL : 5\n",
      "Count of zeros in Column  PR : 28\n",
      "Count of zeros in Column  SK : 175\n",
      "Count of zeros in Column  TS : 289\n",
      "Count of zeros in Column  M11 : 9\n",
      "Count of zeros in Column  BD2 : 0\n",
      "Count of zeros in Column  Age : 0\n",
      "Count of zeros in Column  Insurance : 188\n"
     ]
    }
   ],
   "source": [
    "number_of_zeros(df)"
   ]
  },
  {
   "cell_type": "markdown",
   "id": "d1f0ba6f",
   "metadata": {},
   "source": [
    ">- **Although there were no null values in the columns, some of the columns had 0's in the them**"
   ]
  },
  {
   "cell_type": "markdown",
   "id": "1fbf138b",
   "metadata": {},
   "source": [
    "Observations from the data:\n",
    "\n",
    "Quality Issues\n",
    "\n",
    ">- The column names are not descripive"
   ]
  },
  {
   "cell_type": "markdown",
   "id": "0041a2be",
   "metadata": {},
   "source": [
    "#### Rename the columns"
   ]
  },
  {
   "cell_type": "code",
   "execution_count": 13,
   "id": "ea8caf11",
   "metadata": {},
   "outputs": [],
   "source": [
    "df = df.rename(columns={'PRG': 'Plasma Glucose', 'PL': 'Blood Work Result-1',\n",
    "                        'PR': 'Blood Pressure','SK': 'Blood Work Result-2',\n",
    "                        'TS': 'Blood Work Result-3', 'M11': 'Body Mass Index',\n",
    "                        'BD2': 'Blood Work Result-4'})"
   ]
  },
  {
   "cell_type": "code",
   "execution_count": 14,
   "id": "30a6731a",
   "metadata": {},
   "outputs": [
    {
     "data": {
      "text/html": [
       "<div>\n",
       "<style scoped>\n",
       "    .dataframe tbody tr th:only-of-type {\n",
       "        vertical-align: middle;\n",
       "    }\n",
       "\n",
       "    .dataframe tbody tr th {\n",
       "        vertical-align: top;\n",
       "    }\n",
       "\n",
       "    .dataframe thead th {\n",
       "        text-align: right;\n",
       "    }\n",
       "</style>\n",
       "<table border=\"1\" class=\"dataframe\">\n",
       "  <thead>\n",
       "    <tr style=\"text-align: right;\">\n",
       "      <th></th>\n",
       "      <th>ID</th>\n",
       "      <th>Plasma Glucose</th>\n",
       "      <th>Blood Work Result-1</th>\n",
       "      <th>Blood Pressure</th>\n",
       "      <th>Blood Work Result-2</th>\n",
       "      <th>Blood Work Result-3</th>\n",
       "      <th>Body Mass Index</th>\n",
       "      <th>Blood Work Result-4</th>\n",
       "      <th>Age</th>\n",
       "      <th>Insurance</th>\n",
       "      <th>Sepssis</th>\n",
       "    </tr>\n",
       "  </thead>\n",
       "  <tbody>\n",
       "    <tr>\n",
       "      <th>0</th>\n",
       "      <td>ICU200010</td>\n",
       "      <td>6</td>\n",
       "      <td>148</td>\n",
       "      <td>72</td>\n",
       "      <td>35</td>\n",
       "      <td>0</td>\n",
       "      <td>33.6</td>\n",
       "      <td>0.627</td>\n",
       "      <td>50</td>\n",
       "      <td>0</td>\n",
       "      <td>Positive</td>\n",
       "    </tr>\n",
       "    <tr>\n",
       "      <th>1</th>\n",
       "      <td>ICU200011</td>\n",
       "      <td>1</td>\n",
       "      <td>85</td>\n",
       "      <td>66</td>\n",
       "      <td>29</td>\n",
       "      <td>0</td>\n",
       "      <td>26.6</td>\n",
       "      <td>0.351</td>\n",
       "      <td>31</td>\n",
       "      <td>0</td>\n",
       "      <td>Negative</td>\n",
       "    </tr>\n",
       "    <tr>\n",
       "      <th>2</th>\n",
       "      <td>ICU200012</td>\n",
       "      <td>8</td>\n",
       "      <td>183</td>\n",
       "      <td>64</td>\n",
       "      <td>0</td>\n",
       "      <td>0</td>\n",
       "      <td>23.3</td>\n",
       "      <td>0.672</td>\n",
       "      <td>32</td>\n",
       "      <td>1</td>\n",
       "      <td>Positive</td>\n",
       "    </tr>\n",
       "    <tr>\n",
       "      <th>3</th>\n",
       "      <td>ICU200013</td>\n",
       "      <td>1</td>\n",
       "      <td>89</td>\n",
       "      <td>66</td>\n",
       "      <td>23</td>\n",
       "      <td>94</td>\n",
       "      <td>28.1</td>\n",
       "      <td>0.167</td>\n",
       "      <td>21</td>\n",
       "      <td>1</td>\n",
       "      <td>Negative</td>\n",
       "    </tr>\n",
       "    <tr>\n",
       "      <th>4</th>\n",
       "      <td>ICU200014</td>\n",
       "      <td>0</td>\n",
       "      <td>137</td>\n",
       "      <td>40</td>\n",
       "      <td>35</td>\n",
       "      <td>168</td>\n",
       "      <td>43.1</td>\n",
       "      <td>2.288</td>\n",
       "      <td>33</td>\n",
       "      <td>1</td>\n",
       "      <td>Positive</td>\n",
       "    </tr>\n",
       "  </tbody>\n",
       "</table>\n",
       "</div>"
      ],
      "text/plain": [
       "          ID  Plasma Glucose  Blood Work Result-1  Blood Pressure  \\\n",
       "0  ICU200010               6                  148              72   \n",
       "1  ICU200011               1                   85              66   \n",
       "2  ICU200012               8                  183              64   \n",
       "3  ICU200013               1                   89              66   \n",
       "4  ICU200014               0                  137              40   \n",
       "\n",
       "   Blood Work Result-2  Blood Work Result-3  Body Mass Index  \\\n",
       "0                   35                    0             33.6   \n",
       "1                   29                    0             26.6   \n",
       "2                    0                    0             23.3   \n",
       "3                   23                   94             28.1   \n",
       "4                   35                  168             43.1   \n",
       "\n",
       "   Blood Work Result-4  Age  Insurance   Sepssis  \n",
       "0                0.627   50          0  Positive  \n",
       "1                0.351   31          0  Negative  \n",
       "2                0.672   32          1  Positive  \n",
       "3                0.167   21          1  Negative  \n",
       "4                2.288   33          1  Positive  "
      ]
     },
     "execution_count": 14,
     "metadata": {},
     "output_type": "execute_result"
    }
   ],
   "source": [
    "# Confirm the rename of columns\n",
    "df.head()"
   ]
  },
  {
   "cell_type": "markdown",
   "id": "2b96d67b",
   "metadata": {},
   "source": [
    "#### Check statistics of the data using the describe() method"
   ]
  },
  {
   "cell_type": "code",
   "execution_count": 15,
   "id": "a5869fe5",
   "metadata": {},
   "outputs": [
    {
     "data": {
      "text/html": [
       "<div>\n",
       "<style scoped>\n",
       "    .dataframe tbody tr th:only-of-type {\n",
       "        vertical-align: middle;\n",
       "    }\n",
       "\n",
       "    .dataframe tbody tr th {\n",
       "        vertical-align: top;\n",
       "    }\n",
       "\n",
       "    .dataframe thead th {\n",
       "        text-align: right;\n",
       "    }\n",
       "</style>\n",
       "<table border=\"1\" class=\"dataframe\">\n",
       "  <thead>\n",
       "    <tr style=\"text-align: right;\">\n",
       "      <th></th>\n",
       "      <th>Plasma Glucose</th>\n",
       "      <th>Blood Work Result-1</th>\n",
       "      <th>Blood Pressure</th>\n",
       "      <th>Blood Work Result-2</th>\n",
       "      <th>Blood Work Result-3</th>\n",
       "      <th>Body Mass Index</th>\n",
       "      <th>Blood Work Result-4</th>\n",
       "      <th>Age</th>\n",
       "      <th>Insurance</th>\n",
       "    </tr>\n",
       "  </thead>\n",
       "  <tbody>\n",
       "    <tr>\n",
       "      <th>count</th>\n",
       "      <td>599.000000</td>\n",
       "      <td>599.000000</td>\n",
       "      <td>599.000000</td>\n",
       "      <td>599.000000</td>\n",
       "      <td>599.000000</td>\n",
       "      <td>599.000000</td>\n",
       "      <td>599.000000</td>\n",
       "      <td>599.000000</td>\n",
       "      <td>599.000000</td>\n",
       "    </tr>\n",
       "    <tr>\n",
       "      <th>mean</th>\n",
       "      <td>3.824708</td>\n",
       "      <td>120.153589</td>\n",
       "      <td>68.732888</td>\n",
       "      <td>20.562604</td>\n",
       "      <td>79.460768</td>\n",
       "      <td>31.920033</td>\n",
       "      <td>0.481187</td>\n",
       "      <td>33.290484</td>\n",
       "      <td>0.686144</td>\n",
       "    </tr>\n",
       "    <tr>\n",
       "      <th>std</th>\n",
       "      <td>3.362839</td>\n",
       "      <td>32.682364</td>\n",
       "      <td>19.335675</td>\n",
       "      <td>16.017622</td>\n",
       "      <td>116.576176</td>\n",
       "      <td>8.008227</td>\n",
       "      <td>0.337552</td>\n",
       "      <td>11.828446</td>\n",
       "      <td>0.464447</td>\n",
       "    </tr>\n",
       "    <tr>\n",
       "      <th>min</th>\n",
       "      <td>0.000000</td>\n",
       "      <td>0.000000</td>\n",
       "      <td>0.000000</td>\n",
       "      <td>0.000000</td>\n",
       "      <td>0.000000</td>\n",
       "      <td>0.000000</td>\n",
       "      <td>0.078000</td>\n",
       "      <td>21.000000</td>\n",
       "      <td>0.000000</td>\n",
       "    </tr>\n",
       "    <tr>\n",
       "      <th>25%</th>\n",
       "      <td>1.000000</td>\n",
       "      <td>99.000000</td>\n",
       "      <td>64.000000</td>\n",
       "      <td>0.000000</td>\n",
       "      <td>0.000000</td>\n",
       "      <td>27.100000</td>\n",
       "      <td>0.248000</td>\n",
       "      <td>24.000000</td>\n",
       "      <td>0.000000</td>\n",
       "    </tr>\n",
       "    <tr>\n",
       "      <th>50%</th>\n",
       "      <td>3.000000</td>\n",
       "      <td>116.000000</td>\n",
       "      <td>70.000000</td>\n",
       "      <td>23.000000</td>\n",
       "      <td>36.000000</td>\n",
       "      <td>32.000000</td>\n",
       "      <td>0.383000</td>\n",
       "      <td>29.000000</td>\n",
       "      <td>1.000000</td>\n",
       "    </tr>\n",
       "    <tr>\n",
       "      <th>75%</th>\n",
       "      <td>6.000000</td>\n",
       "      <td>140.000000</td>\n",
       "      <td>80.000000</td>\n",
       "      <td>32.000000</td>\n",
       "      <td>123.500000</td>\n",
       "      <td>36.550000</td>\n",
       "      <td>0.647000</td>\n",
       "      <td>40.000000</td>\n",
       "      <td>1.000000</td>\n",
       "    </tr>\n",
       "    <tr>\n",
       "      <th>max</th>\n",
       "      <td>17.000000</td>\n",
       "      <td>198.000000</td>\n",
       "      <td>122.000000</td>\n",
       "      <td>99.000000</td>\n",
       "      <td>846.000000</td>\n",
       "      <td>67.100000</td>\n",
       "      <td>2.420000</td>\n",
       "      <td>81.000000</td>\n",
       "      <td>1.000000</td>\n",
       "    </tr>\n",
       "  </tbody>\n",
       "</table>\n",
       "</div>"
      ],
      "text/plain": [
       "       Plasma Glucose  Blood Work Result-1  Blood Pressure  \\\n",
       "count      599.000000           599.000000      599.000000   \n",
       "mean         3.824708           120.153589       68.732888   \n",
       "std          3.362839            32.682364       19.335675   \n",
       "min          0.000000             0.000000        0.000000   \n",
       "25%          1.000000            99.000000       64.000000   \n",
       "50%          3.000000           116.000000       70.000000   \n",
       "75%          6.000000           140.000000       80.000000   \n",
       "max         17.000000           198.000000      122.000000   \n",
       "\n",
       "       Blood Work Result-2  Blood Work Result-3  Body Mass Index  \\\n",
       "count           599.000000           599.000000       599.000000   \n",
       "mean             20.562604            79.460768        31.920033   \n",
       "std              16.017622           116.576176         8.008227   \n",
       "min               0.000000             0.000000         0.000000   \n",
       "25%               0.000000             0.000000        27.100000   \n",
       "50%              23.000000            36.000000        32.000000   \n",
       "75%              32.000000           123.500000        36.550000   \n",
       "max              99.000000           846.000000        67.100000   \n",
       "\n",
       "       Blood Work Result-4         Age   Insurance  \n",
       "count           599.000000  599.000000  599.000000  \n",
       "mean              0.481187   33.290484    0.686144  \n",
       "std               0.337552   11.828446    0.464447  \n",
       "min               0.078000   21.000000    0.000000  \n",
       "25%               0.248000   24.000000    0.000000  \n",
       "50%               0.383000   29.000000    1.000000  \n",
       "75%               0.647000   40.000000    1.000000  \n",
       "max               2.420000   81.000000    1.000000  "
      ]
     },
     "execution_count": 15,
     "metadata": {},
     "output_type": "execute_result"
    }
   ],
   "source": [
    "df.describe()"
   ]
  },
  {
   "cell_type": "markdown",
   "id": "90d91d6c",
   "metadata": {},
   "source": [
    ">- **The mean age for the patients captured is 33.29. The mean blood pressure is 68.732888 mm hg which is lower than 80 mm hg, hence indicates that the patients had averagely a normal pressure**"
   ]
  },
  {
   "cell_type": "markdown",
   "id": "01086b82",
   "metadata": {},
   "source": [
    "#### Check the correlation between the various columns"
   ]
  },
  {
   "cell_type": "code",
   "execution_count": 16,
   "id": "295545b7",
   "metadata": {
    "scrolled": true
   },
   "outputs": [
    {
     "data": {
      "text/html": [
       "<div>\n",
       "<style scoped>\n",
       "    .dataframe tbody tr th:only-of-type {\n",
       "        vertical-align: middle;\n",
       "    }\n",
       "\n",
       "    .dataframe tbody tr th {\n",
       "        vertical-align: top;\n",
       "    }\n",
       "\n",
       "    .dataframe thead th {\n",
       "        text-align: right;\n",
       "    }\n",
       "</style>\n",
       "<table border=\"1\" class=\"dataframe\">\n",
       "  <thead>\n",
       "    <tr style=\"text-align: right;\">\n",
       "      <th></th>\n",
       "      <th>Plasma Glucose</th>\n",
       "      <th>Blood Work Result-1</th>\n",
       "      <th>Blood Pressure</th>\n",
       "      <th>Blood Work Result-2</th>\n",
       "      <th>Blood Work Result-3</th>\n",
       "      <th>Body Mass Index</th>\n",
       "      <th>Blood Work Result-4</th>\n",
       "      <th>Age</th>\n",
       "      <th>Insurance</th>\n",
       "    </tr>\n",
       "  </thead>\n",
       "  <tbody>\n",
       "    <tr>\n",
       "      <th>Plasma Glucose</th>\n",
       "      <td>1.000000</td>\n",
       "      <td>0.139541</td>\n",
       "      <td>0.116680</td>\n",
       "      <td>-0.080902</td>\n",
       "      <td>-0.054812</td>\n",
       "      <td>0.033482</td>\n",
       "      <td>-0.052230</td>\n",
       "      <td>0.532545</td>\n",
       "      <td>0.084631</td>\n",
       "    </tr>\n",
       "    <tr>\n",
       "      <th>Blood Work Result-1</th>\n",
       "      <td>0.139541</td>\n",
       "      <td>1.000000</td>\n",
       "      <td>0.143064</td>\n",
       "      <td>0.054430</td>\n",
       "      <td>0.339818</td>\n",
       "      <td>0.215949</td>\n",
       "      <td>0.144665</td>\n",
       "      <td>0.274057</td>\n",
       "      <td>0.050993</td>\n",
       "    </tr>\n",
       "    <tr>\n",
       "      <th>Blood Pressure</th>\n",
       "      <td>0.116680</td>\n",
       "      <td>0.143064</td>\n",
       "      <td>1.000000</td>\n",
       "      <td>0.197535</td>\n",
       "      <td>0.095281</td>\n",
       "      <td>0.269482</td>\n",
       "      <td>0.008318</td>\n",
       "      <td>0.225625</td>\n",
       "      <td>-0.025365</td>\n",
       "    </tr>\n",
       "    <tr>\n",
       "      <th>Blood Work Result-2</th>\n",
       "      <td>-0.080902</td>\n",
       "      <td>0.054430</td>\n",
       "      <td>0.197535</td>\n",
       "      <td>1.000000</td>\n",
       "      <td>0.429068</td>\n",
       "      <td>0.377950</td>\n",
       "      <td>0.176592</td>\n",
       "      <td>-0.121553</td>\n",
       "      <td>-0.017360</td>\n",
       "    </tr>\n",
       "    <tr>\n",
       "      <th>Blood Work Result-3</th>\n",
       "      <td>-0.054812</td>\n",
       "      <td>0.339818</td>\n",
       "      <td>0.095281</td>\n",
       "      <td>0.429068</td>\n",
       "      <td>1.000000</td>\n",
       "      <td>0.184747</td>\n",
       "      <td>0.218313</td>\n",
       "      <td>-0.011523</td>\n",
       "      <td>0.041560</td>\n",
       "    </tr>\n",
       "    <tr>\n",
       "      <th>Body Mass Index</th>\n",
       "      <td>0.033482</td>\n",
       "      <td>0.215949</td>\n",
       "      <td>0.269482</td>\n",
       "      <td>0.377950</td>\n",
       "      <td>0.184747</td>\n",
       "      <td>1.000000</td>\n",
       "      <td>0.127675</td>\n",
       "      <td>0.046117</td>\n",
       "      <td>0.026826</td>\n",
       "    </tr>\n",
       "    <tr>\n",
       "      <th>Blood Work Result-4</th>\n",
       "      <td>-0.052230</td>\n",
       "      <td>0.144665</td>\n",
       "      <td>0.008318</td>\n",
       "      <td>0.176592</td>\n",
       "      <td>0.218313</td>\n",
       "      <td>0.127675</td>\n",
       "      <td>1.000000</td>\n",
       "      <td>0.033567</td>\n",
       "      <td>0.006114</td>\n",
       "    </tr>\n",
       "    <tr>\n",
       "      <th>Age</th>\n",
       "      <td>0.532545</td>\n",
       "      <td>0.274057</td>\n",
       "      <td>0.225625</td>\n",
       "      <td>-0.121553</td>\n",
       "      <td>-0.011523</td>\n",
       "      <td>0.046117</td>\n",
       "      <td>0.033567</td>\n",
       "      <td>1.000000</td>\n",
       "      <td>0.054368</td>\n",
       "    </tr>\n",
       "    <tr>\n",
       "      <th>Insurance</th>\n",
       "      <td>0.084631</td>\n",
       "      <td>0.050993</td>\n",
       "      <td>-0.025365</td>\n",
       "      <td>-0.017360</td>\n",
       "      <td>0.041560</td>\n",
       "      <td>0.026826</td>\n",
       "      <td>0.006114</td>\n",
       "      <td>0.054368</td>\n",
       "      <td>1.000000</td>\n",
       "    </tr>\n",
       "  </tbody>\n",
       "</table>\n",
       "</div>"
      ],
      "text/plain": [
       "                     Plasma Glucose  Blood Work Result-1  Blood Pressure  \\\n",
       "Plasma Glucose             1.000000             0.139541        0.116680   \n",
       "Blood Work Result-1        0.139541             1.000000        0.143064   \n",
       "Blood Pressure             0.116680             0.143064        1.000000   \n",
       "Blood Work Result-2       -0.080902             0.054430        0.197535   \n",
       "Blood Work Result-3       -0.054812             0.339818        0.095281   \n",
       "Body Mass Index            0.033482             0.215949        0.269482   \n",
       "Blood Work Result-4       -0.052230             0.144665        0.008318   \n",
       "Age                        0.532545             0.274057        0.225625   \n",
       "Insurance                  0.084631             0.050993       -0.025365   \n",
       "\n",
       "                     Blood Work Result-2  Blood Work Result-3  \\\n",
       "Plasma Glucose                 -0.080902            -0.054812   \n",
       "Blood Work Result-1             0.054430             0.339818   \n",
       "Blood Pressure                  0.197535             0.095281   \n",
       "Blood Work Result-2             1.000000             0.429068   \n",
       "Blood Work Result-3             0.429068             1.000000   \n",
       "Body Mass Index                 0.377950             0.184747   \n",
       "Blood Work Result-4             0.176592             0.218313   \n",
       "Age                            -0.121553            -0.011523   \n",
       "Insurance                      -0.017360             0.041560   \n",
       "\n",
       "                     Body Mass Index  Blood Work Result-4       Age  Insurance  \n",
       "Plasma Glucose              0.033482            -0.052230  0.532545   0.084631  \n",
       "Blood Work Result-1         0.215949             0.144665  0.274057   0.050993  \n",
       "Blood Pressure              0.269482             0.008318  0.225625  -0.025365  \n",
       "Blood Work Result-2         0.377950             0.176592 -0.121553  -0.017360  \n",
       "Blood Work Result-3         0.184747             0.218313 -0.011523   0.041560  \n",
       "Body Mass Index             1.000000             0.127675  0.046117   0.026826  \n",
       "Blood Work Result-4         0.127675             1.000000  0.033567   0.006114  \n",
       "Age                         0.046117             0.033567  1.000000   0.054368  \n",
       "Insurance                   0.026826             0.006114  0.054368   1.000000  "
      ]
     },
     "execution_count": 16,
     "metadata": {},
     "output_type": "execute_result"
    }
   ],
   "source": [
    "# find the correlation between the columns\n",
    "corr_matrix = df.corr()\n",
    "corr_matrix"
   ]
  },
  {
   "cell_type": "code",
   "execution_count": 17,
   "id": "d0083795",
   "metadata": {},
   "outputs": [
    {
     "data": {
      "image/png": "[encoded data removed]",
      "text/plain": [
       "<Figure size 576x360 with 2 Axes>"
      ]
     },
     "metadata": {
      "needs_background": "light"
     },
     "output_type": "display_data"
    }
   ],
   "source": [
    "# Plot a heatmap for the correlations\n",
    "plt.figure(figsize=(8, 5))\n",
    "sns.heatmap(corr_matrix, annot=True)\n",
    "plt.show();"
   ]
  },
  {
   "cell_type": "code",
   "execution_count": 18,
   "id": "bf9f9ad9",
   "metadata": {},
   "outputs": [
    {
     "name": "stdout",
     "output_type": "stream",
     "text": [
      "The minimum correlation was: -0.12155329275228288\n",
      "The columns involved are: ('Blood Work Result-2', 'Age')\n"
     ]
    }
   ],
   "source": [
    "# get the minimum value\n",
    "min_corr = corr_matrix.min().min()  \n",
    "# get the columns involved\n",
    "min_corr_cols = corr_matrix.unstack().idxmin()\n",
    "\n",
    "print('The minimum correlation was:', min_corr)\n",
    "print('The columns involved are:', min_corr_cols)"
   ]
  },
  {
   "cell_type": "code",
   "execution_count": 19,
   "id": "894742c9",
   "metadata": {},
   "outputs": [
    {
     "name": "stdout",
     "output_type": "stream",
     "text": [
      "The maximun correlation was: 0.5325446086908504\n",
      "The columns involved are: ('Plasma Glucose', 'Age')\n"
     ]
    }
   ],
   "source": [
    "# get the minimum value\n",
    "max_corr = (corr_matrix.where(np.triu(np.ones(corr_matrix.shape), k=1).astype(np.bool_))\n",
    "            .max().max())  \n",
    "# get the maximum value (excluding same columns)\n",
    "# get the columns involved\n",
    "max_corr_cols = (corr_matrix.where(np.triu(np.ones(corr_matrix.shape), k=1).astype(np.bool_))\n",
    "                 .stack().idxmax()) \n",
    "\n",
    "print('The maximun correlation was:', max_corr)\n",
    "print('The columns involved are:', max_corr_cols)"
   ]
  },
  {
   "cell_type": "markdown",
   "id": "08313591",
   "metadata": {},
   "source": [
    ">- **The lowest correlation is -0.12155329275228288 between Blood Work Result-2 and Age.** \n",
    "\n",
    ">- **The highest correlation is 0.5325446086908504 between Plasma Glucose and Age**"
   ]
  },
  {
   "cell_type": "markdown",
   "id": "98ecfd54",
   "metadata": {},
   "source": [
    "#### Verify label balance"
   ]
  },
  {
   "cell_type": "code",
   "execution_count": 20,
   "id": "df40d1a3",
   "metadata": {},
   "outputs": [
    {
     "data": {
      "text/plain": [
       "Negative    391\n",
       "Positive    208\n",
       "Name: Sepssis, dtype: int64"
      ]
     },
     "execution_count": 20,
     "metadata": {},
     "output_type": "execute_result"
    }
   ],
   "source": [
    "# value count for values in Sepssis\n",
    "\n",
    "label_counts = df['Sepssis'].value_counts()\n",
    "label_counts"
   ]
  },
  {
   "cell_type": "code",
   "execution_count": 21,
   "id": "9a0189bf",
   "metadata": {},
   "outputs": [
    {
     "data": {
      "image/png": "[encoded data removed]",
      "text/plain": [
       "<Figure size 576x360 with 1 Axes>"
      ]
     },
     "metadata": {
      "needs_background": "light"
     },
     "output_type": "display_data"
    }
   ],
   "source": [
    "plt.figure(figsize=(8, 5))\n",
    "label_counts.plot.bar()\n",
    "plt.title('Label counts')\n",
    "plt.xlabel('Labels')\n",
    "plt.ylabel('Count');"
   ]
  },
  {
   "cell_type": "markdown",
   "id": "12758779",
   "metadata": {},
   "source": [
    ">- **The number of patients who tested negative were almost twice as many as the ones that tested positve. Clearly the data is slightly unbalanced**"
   ]
  },
  {
   "cell_type": "code",
   "execution_count": 22,
   "id": "9be72586",
   "metadata": {
    "scrolled": true
   },
   "outputs": [
    {
     "name": "stdout",
     "output_type": "stream",
     "text": [
      "The maximum age is 81 and minimum age 21.\n"
     ]
    },
    {
     "data": {
      "text/plain": [
       "21    52\n",
       "22    52\n",
       "25    40\n",
       "24    37\n",
       "23    27\n",
       "29    27\n",
       "28    26\n",
       "26    25\n",
       "27    21\n",
       "41    20\n",
       "31    19\n",
       "37    18\n",
       "30    16\n",
       "33    15\n",
       "42    13\n",
       "36    13\n",
       "32    13\n",
       "38    13\n",
       "46    11\n",
       "35    10\n",
       "39    10\n",
       "34     9\n",
       "40     8\n",
       "43     8\n",
       "45     8\n",
       "44     7\n",
       "58     7\n",
       "51     7\n",
       "60     5\n",
       "57     5\n",
       "52     5\n",
       "54     4\n",
       "62     4\n",
       "55     4\n",
       "50     4\n",
       "47     4\n",
       "53     3\n",
       "49     3\n",
       "59     3\n",
       "48     3\n",
       "63     3\n",
       "65     3\n",
       "66     3\n",
       "67     3\n",
       "56     2\n",
       "61     2\n",
       "64     1\n",
       "69     1\n",
       "72     1\n",
       "81     1\n",
       "Name: Age, dtype: int64"
      ]
     },
     "execution_count": 22,
     "metadata": {},
     "output_type": "execute_result"
    }
   ],
   "source": [
    "print(f\"The maximum age is {df['Age'].max()} and minimum age {df['Age'].min()}.\")\n",
    "age_count = df['Age'].value_counts()\n",
    "age_count"
   ]
  },
  {
   "cell_type": "code",
   "execution_count": 23,
   "id": "df08a0dd",
   "metadata": {},
   "outputs": [
    {
     "data": {
      "image/png": "[encoded data removed]",
      "text/plain": [
       "<Figure size 720x720 with 1 Axes>"
      ]
     },
     "metadata": {
      "needs_background": "light"
     },
     "output_type": "display_data"
    }
   ],
   "source": [
    "plt.figure(figsize=(10, 10))\n",
    "age_count.sort_values(ascending=True).plot(kind='barh')\n",
    "plt.title('Age Count')\n",
    "plt.xlabel('Age')\n",
    "plt.ylabel('Count');"
   ]
  },
  {
   "cell_type": "markdown",
   "id": "4690987c",
   "metadata": {},
   "source": [
    ">- **52 of the patients were 22 years old, that was the hisghest number of times an age occured**"
   ]
  },
  {
   "cell_type": "markdown",
   "id": "20b21b5a",
   "metadata": {
    "id": "1jp5LfsvF72x"
   },
   "source": [
    "## Univariate Analysis\n",
    "\n",
    "‘Univariate analysis’ is the analysis of one variable at a time. This analysis might be done by computing some statistical indicators and by plotting some charts respectively using the pandas dataframe's method `.describe()` and one of the plotting libraries like  [Seaborn](https://seaborn.pydata.org/), [Matplotlib](https://matplotlib.org/), [Plotly](https://seaborn.pydata.org/), etc.\n",
    "\n",
    "Please, read [this article](https://towardsdatascience.com/8-seaborn-plots-for-univariate-exploratory-data-analysis-eda-in-python-9d280b6fe67f) to know more about the charts."
   ]
  },
  {
   "cell_type": "markdown",
   "id": "a07dd027",
   "metadata": {},
   "source": [
    "### 1. How many patients are under weight, have healthy weight, over weight, obesed and severe obesed?\n"
   ]
  },
  {
   "cell_type": "markdown",
   "id": "7dc554f3",
   "metadata": {},
   "source": [
    "The follwing are the bmi ranges\n",
    "\n",
    ">- under 18.5 – This is described as underweight.\n",
    ">- between 18.5 and 24.9 – This is described as the 'healthy range'.\n",
    ">- between 25 and 29.9 – This is described as overweight.\n",
    ">- between 30 and 39.9 – This is described as obesity.\n",
    ">- 40 or over – This is described as severe obesity."
   ]
  },
  {
   "cell_type": "code",
   "execution_count": 24,
   "id": "7ab7f330",
   "metadata": {
    "id": "z2MH6TKPFbBA",
    "scrolled": true
   },
   "outputs": [],
   "source": [
    "# function to create a new column 'Bmi'\n",
    "def create_bmi_range(row):\n",
    "    if (row['Body Mass Index'] <= 18.5):\n",
    "        return 'Under Weight'\n",
    "    elif (row['Body Mass Index'] > 18.5) and (row['Body Mass Index'] <= 24.9):\n",
    "        return 'Healthy Weight'\n",
    "    elif (row['Body Mass Index'] > 24.9) and (row['Body Mass Index'] <= 29.9):\n",
    "        return 'Over Weight'\n",
    "    elif (row['Body Mass Index'] > 29.9) and (row['Body Mass Index'] < 40):\n",
    "        return 'Obesity'\n",
    "    elif row['Body Mass Index'] >= 40:\n",
    "        return 'Severe Obesity'"
   ]
  },
  {
   "cell_type": "code",
   "execution_count": 25,
   "id": "539cf650",
   "metadata": {},
   "outputs": [],
   "source": [
    "df_train = df.copy()"
   ]
  },
  {
   "cell_type": "code",
   "execution_count": 26,
   "id": "3d94e077",
   "metadata": {},
   "outputs": [],
   "source": [
    "df_train['BMI Ranges'] = df_train.apply(create_bmi_range, axis=1)\n",
    "range_count = df_train['BMI Ranges'].value_counts()"
   ]
  },
  {
   "cell_type": "code",
   "execution_count": 27,
   "id": "7e906950",
   "metadata": {},
   "outputs": [
    {
     "data": {
      "image/png": "[encoded data removed]",
      "text/plain": [
       "<Figure size 576x360 with 1 Axes>"
      ]
     },
     "metadata": {
      "needs_background": "light"
     },
     "output_type": "display_data"
    }
   ],
   "source": [
    "# plot graph\n",
    "plt.figure(figsize=(8, 5))\n",
    "range_count.plot.bar()\n",
    "plt.title('The number of patients in each BMI range')\n",
    "plt.xlabel('The BMI Ranges')\n",
    "plt.ylabel('Number of Patients')\n",
    "plt.show()"
   ]
  },
  {
   "cell_type": "markdown",
   "id": "108a83ea",
   "metadata": {},
   "source": [
    ">- Based on the graph above, most of the of the patients fall under the obesity category. The next category with a higher number of patients was the over weight category. The least was Under Weight category"
   ]
  },
  {
   "cell_type": "code",
   "execution_count": null,
   "id": "f9de97a6",
   "metadata": {},
   "outputs": [],
   "source": []
  },
  {
   "cell_type": "markdown",
   "id": "8c2154c7",
   "metadata": {},
   "source": [
    "### 2. What is the distribution of ages for patients captured in the data?"
   ]
  },
  {
   "cell_type": "code",
   "execution_count": 28,
   "id": "0fe4f591",
   "metadata": {},
   "outputs": [
    {
     "data": {
      "image/png": "[encoded data removed]",
      "text/plain": [
       "<Figure size 576x360 with 1 Axes>"
      ]
     },
     "metadata": {
      "needs_background": "light"
     },
     "output_type": "display_data"
    }
   ],
   "source": [
    "\n",
    "age_bins = np.arange(0, df_train['Age'].max()+1, 1)\n",
    "plt.figure(figsize=[8, 5])\n",
    "plt.hist(data = df_train, x = 'Age', bins=age_bins);\n",
    "plt.xlim(0, 80);"
   ]
  },
  {
   "cell_type": "markdown",
   "id": "5e03369e",
   "metadata": {},
   "source": [
    ">-  From the distribution of ages most of the patients fell within the range 20 years to 40 years."
   ]
  },
  {
   "cell_type": "markdown",
   "id": "cd39255a",
   "metadata": {},
   "source": [
    "### 3. How many of the patients fall under the Normal, Elevated and High Blood Pressure?"
   ]
  },
  {
   "cell_type": "code",
   "execution_count": 29,
   "id": "737559fb",
   "metadata": {},
   "outputs": [],
   "source": [
    "# create a function to create a new column called blood pressure ranges\n",
    "def blood_pressure_ranges(row):\n",
    "    if row['Blood Pressure'] < 80:\n",
    "        return 'normal'\n",
    "    elif row['Blood Pressure'] >= 80 and row['Blood Pressure'] <= 89:\n",
    "        return 'elevated'\n",
    "    elif row['Blood Pressure'] >= 90:\n",
    "        return 'high'\n"
   ]
  },
  {
   "cell_type": "code",
   "execution_count": 30,
   "id": "6ff5c5be",
   "metadata": {},
   "outputs": [
    {
     "data": {
      "text/plain": [
       "0    normal\n",
       "1    normal\n",
       "2    normal\n",
       "3    normal\n",
       "4    normal\n",
       "Name: Blood pressure category, dtype: object"
      ]
     },
     "execution_count": 30,
     "metadata": {},
     "output_type": "execute_result"
    }
   ],
   "source": [
    "# create new column\n",
    "df_train['Blood pressure category'] = df_train.apply(blood_pressure_ranges, axis=1)\n",
    "df_train['Blood pressure category'].head()"
   ]
  },
  {
   "cell_type": "code",
   "execution_count": 31,
   "id": "3d8ba5e0",
   "metadata": {},
   "outputs": [],
   "source": [
    "BP_range = df_train['Blood pressure category'].value_counts()"
   ]
  },
  {
   "cell_type": "code",
   "execution_count": 32,
   "id": "c74d2620",
   "metadata": {},
   "outputs": [
    {
     "data": {
      "image/png": "[encoded data removed]",
      "text/plain": [
       "<Figure size 576x360 with 1 Axes>"
      ]
     },
     "metadata": {
      "needs_background": "light"
     },
     "output_type": "display_data"
    }
   ],
   "source": [
    "plt.figure(figsize=(8, 5))\n",
    "BP_range.plot.bar()\n",
    "plt.title('The number of patients in each BMI range')\n",
    "plt.xlabel('The BMI Ranges')\n",
    "plt.ylabel('BMI Score')\n",
    "plt.show()"
   ]
  },
  {
   "cell_type": "markdown",
   "id": "cc926501",
   "metadata": {},
   "source": [
    ">- From the graph above more than 450 patients fell under the normal blood pressure category, followed by the elevated then high."
   ]
  },
  {
   "cell_type": "code",
   "execution_count": null,
   "id": "ad3570c5",
   "metadata": {},
   "outputs": [],
   "source": []
  },
  {
   "cell_type": "markdown",
   "id": "06ad8e2a",
   "metadata": {},
   "source": [
    "## Bivariate Analysis"
   ]
  },
  {
   "cell_type": "markdown",
   "id": "ba5ecce8",
   "metadata": {},
   "source": [
    "### 4. Which age group recorded the highest number of Sepsis?"
   ]
  },
  {
   "cell_type": "code",
   "execution_count": 33,
   "id": "4c5a7d7c",
   "metadata": {
    "scrolled": true
   },
   "outputs": [
    {
     "data": {
      "text/html": [
       "<div>\n",
       "<style scoped>\n",
       "    .dataframe tbody tr th:only-of-type {\n",
       "        vertical-align: middle;\n",
       "    }\n",
       "\n",
       "    .dataframe tbody tr th {\n",
       "        vertical-align: top;\n",
       "    }\n",
       "\n",
       "    .dataframe thead th {\n",
       "        text-align: right;\n",
       "    }\n",
       "</style>\n",
       "<table border=\"1\" class=\"dataframe\">\n",
       "  <thead>\n",
       "    <tr style=\"text-align: right;\">\n",
       "      <th></th>\n",
       "      <th>Age</th>\n",
       "      <th>ID</th>\n",
       "    </tr>\n",
       "  </thead>\n",
       "  <tbody>\n",
       "    <tr>\n",
       "      <th>0</th>\n",
       "      <td>21</td>\n",
       "      <td>5</td>\n",
       "    </tr>\n",
       "    <tr>\n",
       "      <th>1</th>\n",
       "      <td>22</td>\n",
       "      <td>6</td>\n",
       "    </tr>\n",
       "    <tr>\n",
       "      <th>2</th>\n",
       "      <td>23</td>\n",
       "      <td>6</td>\n",
       "    </tr>\n",
       "    <tr>\n",
       "      <th>3</th>\n",
       "      <td>24</td>\n",
       "      <td>6</td>\n",
       "    </tr>\n",
       "    <tr>\n",
       "      <th>4</th>\n",
       "      <td>25</td>\n",
       "      <td>12</td>\n",
       "    </tr>\n",
       "    <tr>\n",
       "      <th>5</th>\n",
       "      <td>26</td>\n",
       "      <td>6</td>\n",
       "    </tr>\n",
       "    <tr>\n",
       "      <th>6</th>\n",
       "      <td>27</td>\n",
       "      <td>5</td>\n",
       "    </tr>\n",
       "    <tr>\n",
       "      <th>7</th>\n",
       "      <td>28</td>\n",
       "      <td>10</td>\n",
       "    </tr>\n",
       "    <tr>\n",
       "      <th>8</th>\n",
       "      <td>29</td>\n",
       "      <td>13</td>\n",
       "    </tr>\n",
       "    <tr>\n",
       "      <th>9</th>\n",
       "      <td>30</td>\n",
       "      <td>5</td>\n",
       "    </tr>\n",
       "    <tr>\n",
       "      <th>10</th>\n",
       "      <td>31</td>\n",
       "      <td>10</td>\n",
       "    </tr>\n",
       "    <tr>\n",
       "      <th>11</th>\n",
       "      <td>32</td>\n",
       "      <td>8</td>\n",
       "    </tr>\n",
       "    <tr>\n",
       "      <th>12</th>\n",
       "      <td>33</td>\n",
       "      <td>9</td>\n",
       "    </tr>\n",
       "    <tr>\n",
       "      <th>13</th>\n",
       "      <td>34</td>\n",
       "      <td>1</td>\n",
       "    </tr>\n",
       "    <tr>\n",
       "      <th>14</th>\n",
       "      <td>35</td>\n",
       "      <td>5</td>\n",
       "    </tr>\n",
       "    <tr>\n",
       "      <th>15</th>\n",
       "      <td>36</td>\n",
       "      <td>7</td>\n",
       "    </tr>\n",
       "    <tr>\n",
       "      <th>16</th>\n",
       "      <td>37</td>\n",
       "      <td>5</td>\n",
       "    </tr>\n",
       "    <tr>\n",
       "      <th>17</th>\n",
       "      <td>38</td>\n",
       "      <td>8</td>\n",
       "    </tr>\n",
       "    <tr>\n",
       "      <th>18</th>\n",
       "      <td>39</td>\n",
       "      <td>3</td>\n",
       "    </tr>\n",
       "    <tr>\n",
       "      <th>19</th>\n",
       "      <td>40</td>\n",
       "      <td>2</td>\n",
       "    </tr>\n",
       "    <tr>\n",
       "      <th>20</th>\n",
       "      <td>41</td>\n",
       "      <td>13</td>\n",
       "    </tr>\n",
       "    <tr>\n",
       "      <th>21</th>\n",
       "      <td>42</td>\n",
       "      <td>4</td>\n",
       "    </tr>\n",
       "    <tr>\n",
       "      <th>22</th>\n",
       "      <td>43</td>\n",
       "      <td>7</td>\n",
       "    </tr>\n",
       "    <tr>\n",
       "      <th>23</th>\n",
       "      <td>44</td>\n",
       "      <td>4</td>\n",
       "    </tr>\n",
       "    <tr>\n",
       "      <th>24</th>\n",
       "      <td>45</td>\n",
       "      <td>5</td>\n",
       "    </tr>\n",
       "    <tr>\n",
       "      <th>25</th>\n",
       "      <td>46</td>\n",
       "      <td>6</td>\n",
       "    </tr>\n",
       "    <tr>\n",
       "      <th>26</th>\n",
       "      <td>47</td>\n",
       "      <td>3</td>\n",
       "    </tr>\n",
       "    <tr>\n",
       "      <th>27</th>\n",
       "      <td>49</td>\n",
       "      <td>2</td>\n",
       "    </tr>\n",
       "    <tr>\n",
       "      <th>28</th>\n",
       "      <td>50</td>\n",
       "      <td>1</td>\n",
       "    </tr>\n",
       "    <tr>\n",
       "      <th>29</th>\n",
       "      <td>51</td>\n",
       "      <td>5</td>\n",
       "    </tr>\n",
       "    <tr>\n",
       "      <th>30</th>\n",
       "      <td>52</td>\n",
       "      <td>4</td>\n",
       "    </tr>\n",
       "    <tr>\n",
       "      <th>31</th>\n",
       "      <td>53</td>\n",
       "      <td>3</td>\n",
       "    </tr>\n",
       "    <tr>\n",
       "      <th>32</th>\n",
       "      <td>54</td>\n",
       "      <td>3</td>\n",
       "    </tr>\n",
       "    <tr>\n",
       "      <th>33</th>\n",
       "      <td>55</td>\n",
       "      <td>1</td>\n",
       "    </tr>\n",
       "    <tr>\n",
       "      <th>34</th>\n",
       "      <td>56</td>\n",
       "      <td>2</td>\n",
       "    </tr>\n",
       "    <tr>\n",
       "      <th>35</th>\n",
       "      <td>57</td>\n",
       "      <td>1</td>\n",
       "    </tr>\n",
       "    <tr>\n",
       "      <th>36</th>\n",
       "      <td>58</td>\n",
       "      <td>3</td>\n",
       "    </tr>\n",
       "    <tr>\n",
       "      <th>37</th>\n",
       "      <td>59</td>\n",
       "      <td>2</td>\n",
       "    </tr>\n",
       "    <tr>\n",
       "      <th>38</th>\n",
       "      <td>60</td>\n",
       "      <td>2</td>\n",
       "    </tr>\n",
       "    <tr>\n",
       "      <th>39</th>\n",
       "      <td>61</td>\n",
       "      <td>1</td>\n",
       "    </tr>\n",
       "    <tr>\n",
       "      <th>40</th>\n",
       "      <td>62</td>\n",
       "      <td>2</td>\n",
       "    </tr>\n",
       "    <tr>\n",
       "      <th>41</th>\n",
       "      <td>66</td>\n",
       "      <td>1</td>\n",
       "    </tr>\n",
       "    <tr>\n",
       "      <th>42</th>\n",
       "      <td>67</td>\n",
       "      <td>1</td>\n",
       "    </tr>\n",
       "  </tbody>\n",
       "</table>\n",
       "</div>"
      ],
      "text/plain": [
       "    Age  ID\n",
       "0    21   5\n",
       "1    22   6\n",
       "2    23   6\n",
       "3    24   6\n",
       "4    25  12\n",
       "5    26   6\n",
       "6    27   5\n",
       "7    28  10\n",
       "8    29  13\n",
       "9    30   5\n",
       "10   31  10\n",
       "11   32   8\n",
       "12   33   9\n",
       "13   34   1\n",
       "14   35   5\n",
       "15   36   7\n",
       "16   37   5\n",
       "17   38   8\n",
       "18   39   3\n",
       "19   40   2\n",
       "20   41  13\n",
       "21   42   4\n",
       "22   43   7\n",
       "23   44   4\n",
       "24   45   5\n",
       "25   46   6\n",
       "26   47   3\n",
       "27   49   2\n",
       "28   50   1\n",
       "29   51   5\n",
       "30   52   4\n",
       "31   53   3\n",
       "32   54   3\n",
       "33   55   1\n",
       "34   56   2\n",
       "35   57   1\n",
       "36   58   3\n",
       "37   59   2\n",
       "38   60   2\n",
       "39   61   1\n",
       "40   62   2\n",
       "41   66   1\n",
       "42   67   1"
      ]
     },
     "execution_count": 33,
     "metadata": {},
     "output_type": "execute_result"
    }
   ],
   "source": [
    "#age group count of patients with sepsis\n",
    "\n",
    "age_group = df_train[df_train.Sepssis == 'Positive'].groupby('Age', as_index=False)['ID'].count()\n",
    "age_group"
   ]
  },
  {
   "cell_type": "code",
   "execution_count": 34,
   "id": "47c655b4",
   "metadata": {},
   "outputs": [
    {
     "data": {
      "text/plain": [
       "Text(0.5, 1.0, 'Age group of patients with sepsis')"
      ]
     },
     "execution_count": 34,
     "metadata": {},
     "output_type": "execute_result"
    },
    {
     "data": {
      "image/png": "[encoded data removed]",
      "text/plain": [
       "<Figure size 432x288 with 1 Axes>"
      ]
     },
     "metadata": {
      "needs_background": "light"
     },
     "output_type": "display_data"
    }
   ],
   "source": [
    "sns.histplot(data=age_group, x=\"Age\", bins=5)\n",
    "plt.title('Age group of patients with sepsis')"
   ]
  },
  {
   "cell_type": "markdown",
   "id": "751e71f9",
   "metadata": {},
   "source": [
    ">- The age group with the highest number od sepsis was the ages between 20 - 30, followed by 48 - 57"
   ]
  },
  {
   "cell_type": "code",
   "execution_count": 35,
   "id": "ba348fe8",
   "metadata": {
    "scrolled": true
   },
   "outputs": [
    {
     "data": {
      "text/plain": [
       "<AxesSubplot:xlabel='Age', ylabel='count'>"
      ]
     },
     "execution_count": 35,
     "metadata": {},
     "output_type": "execute_result"
    },
    {
     "data": {
      "image/png": "[encoded data removed]",
      "text/plain": [
       "<Figure size 1080x360 with 1 Axes>"
      ]
     },
     "metadata": {
      "needs_background": "light"
     },
     "output_type": "display_data"
    }
   ],
   "source": [
    "plt.figure(figsize=(15, 5))\n",
    "sns.countplot(x='Age', data=df_train, hue='Sepssis')"
   ]
  },
  {
   "cell_type": "markdown",
   "id": "5cc1645e",
   "metadata": {},
   "source": [
    "### 5. How many of the patients with insurance had sepsis?"
   ]
  },
  {
   "cell_type": "code",
   "execution_count": 36,
   "id": "edf67814",
   "metadata": {
    "scrolled": true
   },
   "outputs": [
    {
     "data": {
      "image/png": "[encoded data removed]",
      "text/plain": [
       "<Figure size 576x360 with 1 Axes>"
      ]
     },
     "metadata": {
      "needs_background": "light"
     },
     "output_type": "display_data"
    }
   ],
   "source": [
    "grouped = df_train.groupby(['Sepssis', 'Insurance'], as_index=False)['ID'].count()\n",
    "# Pivot the data to have Sepsis as columns and Insurance as index\n",
    "pivot = grouped.pivot(index='Insurance', columns='Sepssis', values='ID')\n",
    "# Plotting\n",
    "pivot.plot(kind='bar', stacked=True, figsize=(8, 5))\n",
    "# Setting labels and title\n",
    "plt.xlabel('Insurance')\n",
    "plt.ylabel('Count')\n",
    "plt.title('Sepsis and Insurance Counts')\n",
    "plt.show()\n"
   ]
  },
  {
   "cell_type": "markdown",
   "id": "17a6c3f4",
   "metadata": {},
   "source": [
    ">- From the graph number of patients with insurance were more than those without insurance. More than half of the insured patients were sepsis negative and this was also the same for patients without insurance."
   ]
  },
  {
   "cell_type": "markdown",
   "id": "c996dfeb",
   "metadata": {},
   "source": [
    "### 6. Is body mass directly correlated with a patients tendency to get sepsis? "
   ]
  },
  {
   "cell_type": "code",
   "execution_count": 37,
   "id": "1512e620",
   "metadata": {},
   "outputs": [
    {
     "data": {
      "text/html": [
       "<div>\n",
       "<style scoped>\n",
       "    .dataframe tbody tr th:only-of-type {\n",
       "        vertical-align: middle;\n",
       "    }\n",
       "\n",
       "    .dataframe tbody tr th {\n",
       "        vertical-align: top;\n",
       "    }\n",
       "\n",
       "    .dataframe thead th {\n",
       "        text-align: right;\n",
       "    }\n",
       "</style>\n",
       "<table border=\"1\" class=\"dataframe\">\n",
       "  <thead>\n",
       "    <tr style=\"text-align: right;\">\n",
       "      <th></th>\n",
       "      <th>Sepssis</th>\n",
       "      <th>BMI Ranges</th>\n",
       "      <th>ID</th>\n",
       "    </tr>\n",
       "  </thead>\n",
       "  <tbody>\n",
       "    <tr>\n",
       "      <th>0</th>\n",
       "      <td>Negative</td>\n",
       "      <td>Healthy Weight</td>\n",
       "      <td>75</td>\n",
       "    </tr>\n",
       "    <tr>\n",
       "      <th>1</th>\n",
       "      <td>Negative</td>\n",
       "      <td>Obesity</td>\n",
       "      <td>159</td>\n",
       "    </tr>\n",
       "    <tr>\n",
       "      <th>2</th>\n",
       "      <td>Negative</td>\n",
       "      <td>Over Weight</td>\n",
       "      <td>110</td>\n",
       "    </tr>\n",
       "    <tr>\n",
       "      <th>3</th>\n",
       "      <td>Negative</td>\n",
       "      <td>Severe Obesity</td>\n",
       "      <td>35</td>\n",
       "    </tr>\n",
       "    <tr>\n",
       "      <th>4</th>\n",
       "      <td>Negative</td>\n",
       "      <td>Under Weight</td>\n",
       "      <td>12</td>\n",
       "    </tr>\n",
       "    <tr>\n",
       "      <th>5</th>\n",
       "      <td>Positive</td>\n",
       "      <td>Healthy Weight</td>\n",
       "      <td>4</td>\n",
       "    </tr>\n",
       "    <tr>\n",
       "      <th>6</th>\n",
       "      <td>Positive</td>\n",
       "      <td>Obesity</td>\n",
       "      <td>131</td>\n",
       "    </tr>\n",
       "    <tr>\n",
       "      <th>7</th>\n",
       "      <td>Positive</td>\n",
       "      <td>Over Weight</td>\n",
       "      <td>29</td>\n",
       "    </tr>\n",
       "    <tr>\n",
       "      <th>8</th>\n",
       "      <td>Positive</td>\n",
       "      <td>Severe Obesity</td>\n",
       "      <td>43</td>\n",
       "    </tr>\n",
       "    <tr>\n",
       "      <th>9</th>\n",
       "      <td>Positive</td>\n",
       "      <td>Under Weight</td>\n",
       "      <td>1</td>\n",
       "    </tr>\n",
       "  </tbody>\n",
       "</table>\n",
       "</div>"
      ],
      "text/plain": [
       "    Sepssis      BMI Ranges   ID\n",
       "0  Negative  Healthy Weight   75\n",
       "1  Negative         Obesity  159\n",
       "2  Negative     Over Weight  110\n",
       "3  Negative  Severe Obesity   35\n",
       "4  Negative    Under Weight   12\n",
       "5  Positive  Healthy Weight    4\n",
       "6  Positive         Obesity  131\n",
       "7  Positive     Over Weight   29\n",
       "8  Positive  Severe Obesity   43\n",
       "9  Positive    Under Weight    1"
      ]
     },
     "execution_count": 37,
     "metadata": {},
     "output_type": "execute_result"
    }
   ],
   "source": [
    "body_mass = df_train.groupby(['Sepssis', 'BMI Ranges'], as_index=False)['ID'].count()\n",
    "body_mass"
   ]
  },
  {
   "cell_type": "code",
   "execution_count": 38,
   "id": "c59ebae2",
   "metadata": {},
   "outputs": [
    {
     "data": {
      "image/png": "[encoded data removed]",
      "text/plain": [
       "<Figure size 576x432 with 1 Axes>"
      ]
     },
     "metadata": {
      "needs_background": "light"
     },
     "output_type": "display_data"
    }
   ],
   "source": [
    "# Pivot the data to have Sepsis as columns and Insurance as index\n",
    "bmi_pivot = body_mass.pivot(index='BMI Ranges', columns='Sepssis', values='ID')\n",
    "# Plotting\n",
    "bmi_pivot.plot(kind='bar', stacked=True, figsize=(8, 6))\n",
    "# Setting labels and title\n",
    "plt.xlabel('Body Mass Index Groups')\n",
    "plt.ylabel('Count')\n",
    "plt.title('Sepsis vs Body Mass Index Groups')\n",
    "plt.show();"
   ]
  },
  {
   "cell_type": "markdown",
   "id": "202cb04e",
   "metadata": {},
   "source": [
    ">- From the graph above, half of patients with obesity and severe obesity had sepsis. Less patients within healthy weight and under weight category had sepsis.  Could body mass ranges coupled with another feature affect the chances of a patients getting sepsis or not?"
   ]
  },
  {
   "cell_type": "code",
   "execution_count": 39,
   "id": "43b1ebc3",
   "metadata": {},
   "outputs": [
    {
     "data": {
      "text/plain": [
       "Index(['ID', 'Plasma Glucose', 'Blood Work Result-1', 'Blood Pressure',\n",
       "       'Blood Work Result-2', 'Blood Work Result-3', 'Body Mass Index',\n",
       "       'Blood Work Result-4', 'Age', 'Insurance', 'Sepssis', 'BMI Ranges',\n",
       "       'Blood pressure category'],\n",
       "      dtype='object')"
      ]
     },
     "execution_count": 39,
     "metadata": {},
     "output_type": "execute_result"
    }
   ],
   "source": [
    "df_train.columns"
   ]
  },
  {
   "cell_type": "code",
   "execution_count": 40,
   "id": "d77ab442",
   "metadata": {},
   "outputs": [],
   "source": [
    "### 4. Is body mass directly correlated with a patients tendency to get sepsis? "
   ]
  },
  {
   "cell_type": "code",
   "execution_count": 41,
   "id": "f4d88cfb",
   "metadata": {},
   "outputs": [
    {
     "data": {
      "image/png": "[encoded data removed]",
      "text/plain": [
       "<Figure size 576x432 with 1 Axes>"
      ]
     },
     "metadata": {
      "needs_background": "light"
     },
     "output_type": "display_data"
    }
   ],
   "source": [
    "\n",
    "blood_pressure = df_train.groupby(['Sepssis', 'Blood pressure category'], as_index=False)['ID'].count()\n",
    "blood_pressure\n",
    "\n",
    "# Pivot the data to have Sepsis as columns and Insurance as index\n",
    "bp_pivot = blood_pressure.pivot(index='Blood pressure category', columns='Sepssis', values='ID')\n",
    "# Plotting\n",
    "bp_pivot.plot(kind='bar', stacked=True, figsize=(8, 6))\n",
    "# Setting labels and title\n",
    "plt.xlabel('Body Mass Index Groups')\n",
    "plt.ylabel('Count')\n",
    "plt.title('Sepsis vs Body Mass Index Groups')\n",
    "plt.show();\n",
    "\n"
   ]
  },
  {
   "cell_type": "markdown",
   "id": "00a32fb1",
   "metadata": {},
   "source": [
    "<!-- >- From the graph above, half of patients with obesity and severe obesity had sepsis. Less patients within healthy weight and under weight category had sepsis. Could body mass be affected the chances of a patients getting sepsis or not? -->"
   ]
  },
  {
   "cell_type": "markdown",
   "id": "f85da780",
   "metadata": {},
   "source": [
    "### 7. Is Body Mass Index affected by Age?"
   ]
  },
  {
   "cell_type": "code",
   "execution_count": 42,
   "id": "5f355eb2",
   "metadata": {},
   "outputs": [
    {
     "data": {
      "image/png": "[encoded data removed]",
      "text/plain": [
       "<Figure size 576x360 with 1 Axes>"
      ]
     },
     "metadata": {
      "needs_background": "light"
     },
     "output_type": "display_data"
    }
   ],
   "source": [
    "plt.figure(figsize=(8, 5))\n",
    "sns.regplot(x='Body Mass Index', y='Age', data=df_train)\n",
    "plt.title('The correlation between the Age and BMI')\n",
    "plt.show()"
   ]
  },
  {
   "cell_type": "code",
   "execution_count": 43,
   "id": "668f3df9",
   "metadata": {},
   "outputs": [
    {
     "data": {
      "text/plain": [
       "0.046117"
      ]
     },
     "execution_count": 43,
     "metadata": {},
     "output_type": "execute_result"
    }
   ],
   "source": [
    "corr = df_train['Body Mass Index'].corr(df_train['Age'])\n",
    "round(corr, 6)"
   ]
  },
  {
   "cell_type": "markdown",
   "id": "f023700b",
   "metadata": {},
   "source": [
    ">- The correlation between ages and BMI values is very low. This means it is  very small. The correlation was 0.011801."
   ]
  },
  {
   "cell_type": "markdown",
   "id": "96fc72cb",
   "metadata": {},
   "source": [
    "### 5. Is Blood Pressure affected by Age?"
   ]
  },
  {
   "cell_type": "code",
   "execution_count": 44,
   "id": "c55386cb",
   "metadata": {},
   "outputs": [
    {
     "data": {
      "image/png": "[encoded data removed]",
      "text/plain": [
       "<Figure size 576x360 with 1 Axes>"
      ]
     },
     "metadata": {
      "needs_background": "light"
     },
     "output_type": "display_data"
    }
   ],
   "source": [
    "plt.figure(figsize=(8, 5))\n",
    "sns.regplot(x='Age', y='Blood Pressure', data=df_train)\n",
    "plt.title('The correlation between Ages and Blood Pressure')\n",
    "plt.ylabel('Blood Pressure')\n",
    "plt.show();"
   ]
  },
  {
   "cell_type": "code",
   "execution_count": 45,
   "id": "b960ed6e",
   "metadata": {},
   "outputs": [
    {
     "data": {
      "text/plain": [
       "0.225625"
      ]
     },
     "execution_count": 45,
     "metadata": {},
     "output_type": "execute_result"
    }
   ],
   "source": [
    "corr_ = df_train['Blood Pressure'].corr(df_train['Age'])\n",
    "round(corr_, 6)"
   ]
  },
  {
   "cell_type": "markdown",
   "id": "044c8438",
   "metadata": {},
   "source": [
    ">- From the graph there is a slight correlation between blood pressure and ages. The correaltion value is 0.225625"
   ]
  },
  {
   "cell_type": "markdown",
   "id": "c22e0b18",
   "metadata": {
    "id": "TP-DiZvsWs0F"
   },
   "source": [
    "## Multivariate Analysis\n",
    "\n",
    "Multivariate analysis’ is the analysis of more than one variable and aims to study the relationships among them. This analysis might be done by computing some statistical indicators like the `correlation` and by plotting some charts.\n",
    "\n",
    "Please, read [this article](https://towardsdatascience.com/10-must-know-seaborn-functions-for-multivariate-data-analysis-in-python-7ba94847b117) to know more about the charts."
   ]
  },
  {
   "cell_type": "markdown",
   "id": "7b82eafe",
   "metadata": {},
   "source": [
    "### 6. What is the relationship between Age and Body Mass Index Ranges and Sepsis?"
   ]
  },
  {
   "cell_type": "code",
   "execution_count": 46,
   "id": "7124be56",
   "metadata": {
    "id": "NbYppWX8cfds"
   },
   "outputs": [
    {
     "data": {
      "image/png": "[encoded data removed]",
      "text/plain": [
       "<Figure size 720x360 with 1 Axes>"
      ]
     },
     "metadata": {
      "needs_background": "light"
     },
     "output_type": "display_data"
    }
   ],
   "source": [
    "plt.figure(figsize=(10, 5))\n",
    "sns.boxplot(data=df_train, y='Age', x='BMI Ranges', hue='Sepssis');\n",
    "# plt.ylim(-10, 3500);\n",
    "plt.legend();"
   ]
  },
  {
   "cell_type": "markdown",
   "id": "e3e28ba7",
   "metadata": {},
   "source": [
    ">- From the graph above,  most people that tested positive for sepsis had healthy weights and fell between the ages of  25 to 60 but concentrated between ages of 30 and 59. The Obesity category which had more number of patients had patients between the ages of 28 - 44 who tested positive for sepsis."
   ]
  },
  {
   "cell_type": "markdown",
   "id": "ebeb2026",
   "metadata": {},
   "source": [
    "### How does Blood Pressure and Plasma glucose affect the Sepssis "
   ]
  },
  {
   "cell_type": "code",
   "execution_count": 47,
   "id": "7ef014f0",
   "metadata": {},
   "outputs": [],
   "source": [
    "# create function to plot facet grids\n",
    "def plot_facet_grid(data, x, y, z, title, xlabel, ylabel):\n",
    "    facet = sns.FacetGrid(data = data, col = z, col_wrap = 2, height = 5,\n",
    "                     xlim = [10, 80], ylim = [-500, 9000])\n",
    "    facet.map(plt.scatter, x, y, alpha= 1)\n",
    "    facet.set_xlabels(xlabel)\n",
    "    facet.set_ylabels(ylabel)\n",
    "    facet.set(xlim=(0, 20))\n",
    "    facet.set(ylim=(0, 200))\n",
    "    facet.fig.suptitle(title, fontsize=14, fontweight='bold', y=1.05)\n",
    "\n",
    "#     facet.fig.suptitle(title, )\n",
    "    plt.show()"
   ]
  },
  {
   "cell_type": "code",
   "execution_count": 48,
   "id": "ceac5a93",
   "metadata": {},
   "outputs": [
    {
     "data": {
      "image/png": "[encoded data removed]",
      "text/plain": [
       "<Figure size 720x360 with 2 Axes>"
      ]
     },
     "metadata": {
      "needs_background": "light"
     },
     "output_type": "display_data"
    }
   ],
   "source": [
    "facet_sepssis = plot_facet_grid(df_train, 'Plasma Glucose', 'Blood Pressure', 'Sepssis', \n",
    "                                  'Facetgrid for Sepsis against Plasma Glucose and Blood Pressure', \\\n",
    "                                  'Plasma Glucose', 'Blood Pressure')\n",
    "facet_sepssis"
   ]
  },
  {
   "cell_type": "markdown",
   "id": "6ca63493",
   "metadata": {},
   "source": [
    ">- In both Positive and Negative Sepsis there is almost no correlation between Plasma and Blood Pressure"
   ]
  },
  {
   "cell_type": "markdown",
   "id": "d937e4cb",
   "metadata": {
    "id": "2pfMjvtNhlfB"
   },
   "source": [
    "# Feature processing\n",
    "Here is the section to **clean** and **process** the features of the dataset."
   ]
  },
  {
   "cell_type": "code",
   "execution_count": 49,
   "id": "1a6e3a55",
   "metadata": {},
   "outputs": [
    {
     "data": {
      "text/plain": [
       "Index(['ID', 'Plasma Glucose', 'Blood Work Result-1', 'Blood Pressure',\n",
       "       'Blood Work Result-2', 'Blood Work Result-3', 'Body Mass Index',\n",
       "       'Blood Work Result-4', 'Age', 'Insurance', 'Sepssis'],\n",
       "      dtype='object')"
      ]
     },
     "execution_count": 49,
     "metadata": {},
     "output_type": "execute_result"
    }
   ],
   "source": [
    "# display columns in dataframe\n",
    "df.columns"
   ]
  },
  {
   "cell_type": "code",
   "execution_count": 50,
   "id": "dca8775a",
   "metadata": {
    "scrolled": true
   },
   "outputs": [],
   "source": [
    "# # Replace zeros in the dataset\n",
    "# # get columns to replace \n",
    "# non_zero_columns = df.drop(columns=['Insurance']).columns\n",
    "\n",
    "# # print columns to confirm\n",
    "# print(non_zero_columns)\n",
    "# # replace the zeros\n",
    "# df[non_zero_columns] = df[non_zero_columns].replace(0, df[non_zero_columns].mean())\n"
   ]
  },
  {
   "cell_type": "code",
   "execution_count": 51,
   "id": "c313423a",
   "metadata": {},
   "outputs": [],
   "source": [
    "# number_of_zeros(df)"
   ]
  },
  {
   "cell_type": "code",
   "execution_count": 52,
   "id": "8100cd0e",
   "metadata": {},
   "outputs": [
    {
     "data": {
      "text/html": [
       "<div>\n",
       "<style scoped>\n",
       "    .dataframe tbody tr th:only-of-type {\n",
       "        vertical-align: middle;\n",
       "    }\n",
       "\n",
       "    .dataframe tbody tr th {\n",
       "        vertical-align: top;\n",
       "    }\n",
       "\n",
       "    .dataframe thead th {\n",
       "        text-align: right;\n",
       "    }\n",
       "</style>\n",
       "<table border=\"1\" class=\"dataframe\">\n",
       "  <thead>\n",
       "    <tr style=\"text-align: right;\">\n",
       "      <th></th>\n",
       "      <th>ID</th>\n",
       "      <th>Plasma Glucose</th>\n",
       "      <th>Blood Work Result-1</th>\n",
       "      <th>Blood Pressure</th>\n",
       "      <th>Blood Work Result-2</th>\n",
       "      <th>Blood Work Result-3</th>\n",
       "      <th>Body Mass Index</th>\n",
       "      <th>Blood Work Result-4</th>\n",
       "      <th>Age</th>\n",
       "      <th>Insurance</th>\n",
       "      <th>Sepssis</th>\n",
       "    </tr>\n",
       "  </thead>\n",
       "  <tbody>\n",
       "    <tr>\n",
       "      <th>0</th>\n",
       "      <td>ICU200010</td>\n",
       "      <td>6</td>\n",
       "      <td>148</td>\n",
       "      <td>72</td>\n",
       "      <td>35</td>\n",
       "      <td>0</td>\n",
       "      <td>33.6</td>\n",
       "      <td>0.627</td>\n",
       "      <td>50</td>\n",
       "      <td>0</td>\n",
       "      <td>Positive</td>\n",
       "    </tr>\n",
       "    <tr>\n",
       "      <th>1</th>\n",
       "      <td>ICU200011</td>\n",
       "      <td>1</td>\n",
       "      <td>85</td>\n",
       "      <td>66</td>\n",
       "      <td>29</td>\n",
       "      <td>0</td>\n",
       "      <td>26.6</td>\n",
       "      <td>0.351</td>\n",
       "      <td>31</td>\n",
       "      <td>0</td>\n",
       "      <td>Negative</td>\n",
       "    </tr>\n",
       "    <tr>\n",
       "      <th>2</th>\n",
       "      <td>ICU200012</td>\n",
       "      <td>8</td>\n",
       "      <td>183</td>\n",
       "      <td>64</td>\n",
       "      <td>0</td>\n",
       "      <td>0</td>\n",
       "      <td>23.3</td>\n",
       "      <td>0.672</td>\n",
       "      <td>32</td>\n",
       "      <td>1</td>\n",
       "      <td>Positive</td>\n",
       "    </tr>\n",
       "    <tr>\n",
       "      <th>3</th>\n",
       "      <td>ICU200013</td>\n",
       "      <td>1</td>\n",
       "      <td>89</td>\n",
       "      <td>66</td>\n",
       "      <td>23</td>\n",
       "      <td>94</td>\n",
       "      <td>28.1</td>\n",
       "      <td>0.167</td>\n",
       "      <td>21</td>\n",
       "      <td>1</td>\n",
       "      <td>Negative</td>\n",
       "    </tr>\n",
       "    <tr>\n",
       "      <th>4</th>\n",
       "      <td>ICU200014</td>\n",
       "      <td>0</td>\n",
       "      <td>137</td>\n",
       "      <td>40</td>\n",
       "      <td>35</td>\n",
       "      <td>168</td>\n",
       "      <td>43.1</td>\n",
       "      <td>2.288</td>\n",
       "      <td>33</td>\n",
       "      <td>1</td>\n",
       "      <td>Positive</td>\n",
       "    </tr>\n",
       "  </tbody>\n",
       "</table>\n",
       "</div>"
      ],
      "text/plain": [
       "          ID  Plasma Glucose  Blood Work Result-1  Blood Pressure  \\\n",
       "0  ICU200010               6                  148              72   \n",
       "1  ICU200011               1                   85              66   \n",
       "2  ICU200012               8                  183              64   \n",
       "3  ICU200013               1                   89              66   \n",
       "4  ICU200014               0                  137              40   \n",
       "\n",
       "   Blood Work Result-2  Blood Work Result-3  Body Mass Index  \\\n",
       "0                   35                    0             33.6   \n",
       "1                   29                    0             26.6   \n",
       "2                    0                    0             23.3   \n",
       "3                   23                   94             28.1   \n",
       "4                   35                  168             43.1   \n",
       "\n",
       "   Blood Work Result-4  Age  Insurance   Sepssis  \n",
       "0                0.627   50          0  Positive  \n",
       "1                0.351   31          0  Negative  \n",
       "2                0.672   32          1  Positive  \n",
       "3                0.167   21          1  Negative  \n",
       "4                2.288   33          1  Positive  "
      ]
     },
     "execution_count": 52,
     "metadata": {},
     "output_type": "execute_result"
    }
   ],
   "source": [
    "df.head(5)"
   ]
  },
  {
   "cell_type": "markdown",
   "id": "1f6acf4e",
   "metadata": {
    "id": "wxYGw6zug8lI"
   },
   "source": [
    "## Dataset Splitting"
   ]
  },
  {
   "cell_type": "code",
   "execution_count": 53,
   "id": "3fca1d45",
   "metadata": {},
   "outputs": [],
   "source": [
    "# Drop the ID column\n",
    "df_ = df.drop(columns=['ID'])\n",
    "df_['Insurance'] = df['Insurance'].astype('category')\n",
    "# df_.head(2)"
   ]
  },
  {
   "cell_type": "code",
   "execution_count": 54,
   "id": "6823585b",
   "metadata": {},
   "outputs": [
    {
     "data": {
      "text/plain": [
       "Plasma Glucose            int64\n",
       "Blood Work Result-1       int64\n",
       "Blood Pressure            int64\n",
       "Blood Work Result-2       int64\n",
       "Blood Work Result-3       int64\n",
       "Body Mass Index         float64\n",
       "Blood Work Result-4     float64\n",
       "Age                       int64\n",
       "Insurance              category\n",
       "Sepssis                  object\n",
       "dtype: object"
      ]
     },
     "execution_count": 54,
     "metadata": {},
     "output_type": "execute_result"
    }
   ],
   "source": [
    "df_.dtypes"
   ]
  },
  {
   "cell_type": "code",
   "execution_count": 55,
   "id": "2c95fd12",
   "metadata": {},
   "outputs": [
    {
     "data": {
      "text/plain": [
       "array([1, 0])"
      ]
     },
     "execution_count": 55,
     "metadata": {},
     "output_type": "execute_result"
    }
   ],
   "source": [
    "#  change values in Sepsis column into numerical data\n",
    "df_['Sepssis'] = (df_['Sepssis'] == 'Positive').astype(bool).astype(int)\n",
    "df_['Sepssis'].unique()"
   ]
  },
  {
   "cell_type": "code",
   "execution_count": 56,
   "id": "a529c914",
   "metadata": {},
   "outputs": [
    {
     "data": {
      "text/html": [
       "<div>\n",
       "<style scoped>\n",
       "    .dataframe tbody tr th:only-of-type {\n",
       "        vertical-align: middle;\n",
       "    }\n",
       "\n",
       "    .dataframe tbody tr th {\n",
       "        vertical-align: top;\n",
       "    }\n",
       "\n",
       "    .dataframe thead th {\n",
       "        text-align: right;\n",
       "    }\n",
       "</style>\n",
       "<table border=\"1\" class=\"dataframe\">\n",
       "  <thead>\n",
       "    <tr style=\"text-align: right;\">\n",
       "      <th></th>\n",
       "      <th>Plasma Glucose</th>\n",
       "      <th>Blood Work Result-1</th>\n",
       "      <th>Blood Pressure</th>\n",
       "      <th>Blood Work Result-2</th>\n",
       "      <th>Blood Work Result-3</th>\n",
       "      <th>Body Mass Index</th>\n",
       "      <th>Blood Work Result-4</th>\n",
       "      <th>Age</th>\n",
       "      <th>Insurance</th>\n",
       "      <th>Sepssis</th>\n",
       "    </tr>\n",
       "  </thead>\n",
       "  <tbody>\n",
       "    <tr>\n",
       "      <th>0</th>\n",
       "      <td>6</td>\n",
       "      <td>148</td>\n",
       "      <td>72</td>\n",
       "      <td>35</td>\n",
       "      <td>0</td>\n",
       "      <td>33.6</td>\n",
       "      <td>0.627</td>\n",
       "      <td>50</td>\n",
       "      <td>0</td>\n",
       "      <td>1</td>\n",
       "    </tr>\n",
       "    <tr>\n",
       "      <th>1</th>\n",
       "      <td>1</td>\n",
       "      <td>85</td>\n",
       "      <td>66</td>\n",
       "      <td>29</td>\n",
       "      <td>0</td>\n",
       "      <td>26.6</td>\n",
       "      <td>0.351</td>\n",
       "      <td>31</td>\n",
       "      <td>0</td>\n",
       "      <td>0</td>\n",
       "    </tr>\n",
       "    <tr>\n",
       "      <th>2</th>\n",
       "      <td>8</td>\n",
       "      <td>183</td>\n",
       "      <td>64</td>\n",
       "      <td>0</td>\n",
       "      <td>0</td>\n",
       "      <td>23.3</td>\n",
       "      <td>0.672</td>\n",
       "      <td>32</td>\n",
       "      <td>1</td>\n",
       "      <td>1</td>\n",
       "    </tr>\n",
       "  </tbody>\n",
       "</table>\n",
       "</div>"
      ],
      "text/plain": [
       "   Plasma Glucose  Blood Work Result-1  Blood Pressure  Blood Work Result-2  \\\n",
       "0               6                  148              72                   35   \n",
       "1               1                   85              66                   29   \n",
       "2               8                  183              64                    0   \n",
       "\n",
       "   Blood Work Result-3  Body Mass Index  Blood Work Result-4  Age Insurance  \\\n",
       "0                    0             33.6                0.627   50         0   \n",
       "1                    0             26.6                0.351   31         0   \n",
       "2                    0             23.3                0.672   32         1   \n",
       "\n",
       "   Sepssis  \n",
       "0        1  \n",
       "1        0  \n",
       "2        1  "
      ]
     },
     "execution_count": 56,
     "metadata": {},
     "output_type": "execute_result"
    }
   ],
   "source": [
    "# display data\n",
    "df_.head(3)"
   ]
  },
  {
   "cell_type": "code",
   "execution_count": 57,
   "id": "1a6fdeae",
   "metadata": {},
   "outputs": [
    {
     "data": {
      "text/plain": [
       "Sepssis                1.000000\n",
       "Blood Work Result-1    0.449719\n",
       "Body Mass Index        0.315894\n",
       "Age                    0.210234\n",
       "Plasma Glucose         0.207115\n",
       "Blood Work Result-4    0.181561\n",
       "Blood Work Result-3    0.145892\n",
       "Blood Work Result-2    0.075585\n",
       "Blood Pressure         0.061086\n",
       "Name: Sepssis, dtype: float64"
      ]
     },
     "execution_count": 57,
     "metadata": {},
     "output_type": "execute_result"
    }
   ],
   "source": [
    "df_corr = df_.corr()\n",
    "df_corr['Sepssis'].sort_values(ascending=False)"
   ]
  },
  {
   "cell_type": "markdown",
   "id": "3dd5fbde",
   "metadata": {},
   "source": [
    "#### Use train_test_split with a random_state, and add stratify for Classification"
   ]
  },
  {
   "cell_type": "code",
   "execution_count": 58,
   "id": "c74d0a17",
   "metadata": {
    "id": "cbsbMbs1hDzo"
   },
   "outputs": [],
   "source": [
    "# Use train_test_split with a random_state, and add stratify for Classification\n",
    "\n",
    "#spliting data into  80% train and  20% test\n",
    "train, test = train_test_split(df_, test_size=0.2, random_state=42)"
   ]
  },
  {
   "cell_type": "code",
   "execution_count": 59,
   "id": "3191d3a9",
   "metadata": {},
   "outputs": [],
   "source": [
    "# create features and targets from the train data\n",
    "X_train = train.drop(columns=['Sepssis'])\n",
    "y_train = train['Sepssis'].copy()\n",
    "\n",
    "# create features and targets from test data\n",
    "X_test = test.drop(columns=['Sepssis'])\n",
    "y_test = test['Sepssis'].copy()\n"
   ]
  },
  {
   "cell_type": "code",
   "execution_count": 60,
   "id": "581d9d20",
   "metadata": {},
   "outputs": [
    {
     "data": {
      "text/html": [
       "<div>\n",
       "<style scoped>\n",
       "    .dataframe tbody tr th:only-of-type {\n",
       "        vertical-align: middle;\n",
       "    }\n",
       "\n",
       "    .dataframe tbody tr th {\n",
       "        vertical-align: top;\n",
       "    }\n",
       "\n",
       "    .dataframe thead th {\n",
       "        text-align: right;\n",
       "    }\n",
       "</style>\n",
       "<table border=\"1\" class=\"dataframe\">\n",
       "  <thead>\n",
       "    <tr style=\"text-align: right;\">\n",
       "      <th></th>\n",
       "      <th>Plasma Glucose</th>\n",
       "      <th>Blood Work Result-1</th>\n",
       "      <th>Blood Pressure</th>\n",
       "      <th>Blood Work Result-2</th>\n",
       "      <th>Blood Work Result-3</th>\n",
       "      <th>Body Mass Index</th>\n",
       "      <th>Blood Work Result-4</th>\n",
       "      <th>Age</th>\n",
       "      <th>Insurance</th>\n",
       "    </tr>\n",
       "  </thead>\n",
       "  <tbody>\n",
       "    <tr>\n",
       "      <th>145</th>\n",
       "      <td>0</td>\n",
       "      <td>102</td>\n",
       "      <td>75</td>\n",
       "      <td>23</td>\n",
       "      <td>0</td>\n",
       "      <td>0.0</td>\n",
       "      <td>0.572</td>\n",
       "      <td>21</td>\n",
       "      <td>1</td>\n",
       "    </tr>\n",
       "    <tr>\n",
       "      <th>9</th>\n",
       "      <td>8</td>\n",
       "      <td>125</td>\n",
       "      <td>96</td>\n",
       "      <td>0</td>\n",
       "      <td>0</td>\n",
       "      <td>0.0</td>\n",
       "      <td>0.232</td>\n",
       "      <td>54</td>\n",
       "      <td>1</td>\n",
       "    </tr>\n",
       "    <tr>\n",
       "      <th>375</th>\n",
       "      <td>12</td>\n",
       "      <td>140</td>\n",
       "      <td>82</td>\n",
       "      <td>43</td>\n",
       "      <td>325</td>\n",
       "      <td>39.2</td>\n",
       "      <td>0.528</td>\n",
       "      <td>58</td>\n",
       "      <td>1</td>\n",
       "    </tr>\n",
       "    <tr>\n",
       "      <th>522</th>\n",
       "      <td>6</td>\n",
       "      <td>114</td>\n",
       "      <td>0</td>\n",
       "      <td>0</td>\n",
       "      <td>0</td>\n",
       "      <td>0.0</td>\n",
       "      <td>0.189</td>\n",
       "      <td>26</td>\n",
       "      <td>1</td>\n",
       "    </tr>\n",
       "    <tr>\n",
       "      <th>188</th>\n",
       "      <td>8</td>\n",
       "      <td>109</td>\n",
       "      <td>76</td>\n",
       "      <td>39</td>\n",
       "      <td>114</td>\n",
       "      <td>27.9</td>\n",
       "      <td>0.640</td>\n",
       "      <td>31</td>\n",
       "      <td>0</td>\n",
       "    </tr>\n",
       "  </tbody>\n",
       "</table>\n",
       "</div>"
      ],
      "text/plain": [
       "     Plasma Glucose  Blood Work Result-1  Blood Pressure  Blood Work Result-2  \\\n",
       "145               0                  102              75                   23   \n",
       "9                 8                  125              96                    0   \n",
       "375              12                  140              82                   43   \n",
       "522               6                  114               0                    0   \n",
       "188               8                  109              76                   39   \n",
       "\n",
       "     Blood Work Result-3  Body Mass Index  Blood Work Result-4  Age Insurance  \n",
       "145                    0              0.0                0.572   21         1  \n",
       "9                      0              0.0                0.232   54         1  \n",
       "375                  325             39.2                0.528   58         1  \n",
       "522                    0              0.0                0.189   26         1  \n",
       "188                  114             27.9                0.640   31         0  "
      ]
     },
     "execution_count": 60,
     "metadata": {},
     "output_type": "execute_result"
    }
   ],
   "source": [
    "# display head fo the train features dataframe\n",
    "X_train.head()"
   ]
  },
  {
   "cell_type": "code",
   "execution_count": 61,
   "id": "ac77acb9",
   "metadata": {},
   "outputs": [
    {
     "data": {
      "text/html": [
       "<div>\n",
       "<style scoped>\n",
       "    .dataframe tbody tr th:only-of-type {\n",
       "        vertical-align: middle;\n",
       "    }\n",
       "\n",
       "    .dataframe tbody tr th {\n",
       "        vertical-align: top;\n",
       "    }\n",
       "\n",
       "    .dataframe thead th {\n",
       "        text-align: right;\n",
       "    }\n",
       "</style>\n",
       "<table border=\"1\" class=\"dataframe\">\n",
       "  <thead>\n",
       "    <tr style=\"text-align: right;\">\n",
       "      <th></th>\n",
       "      <th>Plasma Glucose</th>\n",
       "      <th>Blood Work Result-1</th>\n",
       "      <th>Blood Pressure</th>\n",
       "      <th>Blood Work Result-2</th>\n",
       "      <th>Blood Work Result-3</th>\n",
       "      <th>Body Mass Index</th>\n",
       "      <th>Blood Work Result-4</th>\n",
       "      <th>Age</th>\n",
       "      <th>Insurance</th>\n",
       "    </tr>\n",
       "  </thead>\n",
       "  <tbody>\n",
       "    <tr>\n",
       "      <th>110</th>\n",
       "      <td>3</td>\n",
       "      <td>171</td>\n",
       "      <td>72</td>\n",
       "      <td>33</td>\n",
       "      <td>135</td>\n",
       "      <td>33.3</td>\n",
       "      <td>0.199</td>\n",
       "      <td>24</td>\n",
       "      <td>1</td>\n",
       "    </tr>\n",
       "    <tr>\n",
       "      <th>419</th>\n",
       "      <td>3</td>\n",
       "      <td>129</td>\n",
       "      <td>64</td>\n",
       "      <td>29</td>\n",
       "      <td>115</td>\n",
       "      <td>26.4</td>\n",
       "      <td>0.219</td>\n",
       "      <td>28</td>\n",
       "      <td>1</td>\n",
       "    </tr>\n",
       "    <tr>\n",
       "      <th>564</th>\n",
       "      <td>0</td>\n",
       "      <td>91</td>\n",
       "      <td>80</td>\n",
       "      <td>0</td>\n",
       "      <td>0</td>\n",
       "      <td>32.4</td>\n",
       "      <td>0.601</td>\n",
       "      <td>27</td>\n",
       "      <td>0</td>\n",
       "    </tr>\n",
       "    <tr>\n",
       "      <th>77</th>\n",
       "      <td>5</td>\n",
       "      <td>95</td>\n",
       "      <td>72</td>\n",
       "      <td>33</td>\n",
       "      <td>0</td>\n",
       "      <td>37.7</td>\n",
       "      <td>0.370</td>\n",
       "      <td>27</td>\n",
       "      <td>1</td>\n",
       "    </tr>\n",
       "    <tr>\n",
       "      <th>181</th>\n",
       "      <td>0</td>\n",
       "      <td>119</td>\n",
       "      <td>64</td>\n",
       "      <td>18</td>\n",
       "      <td>92</td>\n",
       "      <td>34.9</td>\n",
       "      <td>0.725</td>\n",
       "      <td>23</td>\n",
       "      <td>0</td>\n",
       "    </tr>\n",
       "  </tbody>\n",
       "</table>\n",
       "</div>"
      ],
      "text/plain": [
       "     Plasma Glucose  Blood Work Result-1  Blood Pressure  Blood Work Result-2  \\\n",
       "110               3                  171              72                   33   \n",
       "419               3                  129              64                   29   \n",
       "564               0                   91              80                    0   \n",
       "77                5                   95              72                   33   \n",
       "181               0                  119              64                   18   \n",
       "\n",
       "     Blood Work Result-3  Body Mass Index  Blood Work Result-4  Age Insurance  \n",
       "110                  135             33.3                0.199   24         1  \n",
       "419                  115             26.4                0.219   28         1  \n",
       "564                    0             32.4                0.601   27         0  \n",
       "77                     0             37.7                0.370   27         1  \n",
       "181                   92             34.9                0.725   23         0  "
      ]
     },
     "execution_count": 61,
     "metadata": {},
     "output_type": "execute_result"
    }
   ],
   "source": [
    "# displayhead for the test features dataframe\n",
    "\n",
    "X_test.head()"
   ]
  },
  {
   "cell_type": "markdown",
   "id": "9de6a8fa",
   "metadata": {},
   "source": [
    "## New Features Creation"
   ]
  },
  {
   "cell_type": "markdown",
   "id": "05849816",
   "metadata": {},
   "source": [
    "#### create features"
   ]
  },
  {
   "cell_type": "code",
   "execution_count": 62,
   "id": "028a8d4b",
   "metadata": {},
   "outputs": [],
   "source": [
    "# get the products of the all the numerical columns\n",
    "\n",
    "X_train['All-Product']  = X_train['Blood Work Result-4'] * X_train['Blood Work Result-1']*\\\n",
    "X_train['Blood Work Result-2']* X_train['Blood Work Result-3'] * X_train['Plasma Glucose']\\\n",
    "*X_train['Blood Pressure'] * X_train['Age']* X_train['Body Mass Index']"
   ]
  },
  {
   "cell_type": "code",
   "execution_count": 63,
   "id": "ead3bc23",
   "metadata": {
    "scrolled": true
   },
   "outputs": [
    {
     "data": {
      "text/html": [
       "<div>\n",
       "<style scoped>\n",
       "    .dataframe tbody tr th:only-of-type {\n",
       "        vertical-align: middle;\n",
       "    }\n",
       "\n",
       "    .dataframe tbody tr th {\n",
       "        vertical-align: top;\n",
       "    }\n",
       "\n",
       "    .dataframe thead th {\n",
       "        text-align: right;\n",
       "    }\n",
       "</style>\n",
       "<table border=\"1\" class=\"dataframe\">\n",
       "  <thead>\n",
       "    <tr style=\"text-align: right;\">\n",
       "      <th></th>\n",
       "      <th>Plasma Glucose</th>\n",
       "      <th>Blood Work Result-1</th>\n",
       "      <th>Blood Pressure</th>\n",
       "      <th>Blood Work Result-2</th>\n",
       "      <th>Blood Work Result-3</th>\n",
       "      <th>Body Mass Index</th>\n",
       "      <th>Blood Work Result-4</th>\n",
       "      <th>Age</th>\n",
       "      <th>Insurance</th>\n",
       "      <th>All-Product</th>\n",
       "    </tr>\n",
       "  </thead>\n",
       "  <tbody>\n",
       "    <tr>\n",
       "      <th>145</th>\n",
       "      <td>0</td>\n",
       "      <td>102</td>\n",
       "      <td>75</td>\n",
       "      <td>23</td>\n",
       "      <td>0</td>\n",
       "      <td>0.0</td>\n",
       "      <td>0.572</td>\n",
       "      <td>21</td>\n",
       "      <td>1</td>\n",
       "      <td>0.000000e+00</td>\n",
       "    </tr>\n",
       "    <tr>\n",
       "      <th>9</th>\n",
       "      <td>8</td>\n",
       "      <td>125</td>\n",
       "      <td>96</td>\n",
       "      <td>0</td>\n",
       "      <td>0</td>\n",
       "      <td>0.0</td>\n",
       "      <td>0.232</td>\n",
       "      <td>54</td>\n",
       "      <td>1</td>\n",
       "      <td>0.000000e+00</td>\n",
       "    </tr>\n",
       "    <tr>\n",
       "      <th>375</th>\n",
       "      <td>12</td>\n",
       "      <td>140</td>\n",
       "      <td>82</td>\n",
       "      <td>43</td>\n",
       "      <td>325</td>\n",
       "      <td>39.2</td>\n",
       "      <td>0.528</td>\n",
       "      <td>58</td>\n",
       "      <td>1</td>\n",
       "      <td>2.311122e+12</td>\n",
       "    </tr>\n",
       "  </tbody>\n",
       "</table>\n",
       "</div>"
      ],
      "text/plain": [
       "     Plasma Glucose  Blood Work Result-1  Blood Pressure  Blood Work Result-2  \\\n",
       "145               0                  102              75                   23   \n",
       "9                 8                  125              96                    0   \n",
       "375              12                  140              82                   43   \n",
       "\n",
       "     Blood Work Result-3  Body Mass Index  Blood Work Result-4  Age Insurance  \\\n",
       "145                    0              0.0                0.572   21         1   \n",
       "9                      0              0.0                0.232   54         1   \n",
       "375                  325             39.2                0.528   58         1   \n",
       "\n",
       "      All-Product  \n",
       "145  0.000000e+00  \n",
       "9    0.000000e+00  \n",
       "375  2.311122e+12  "
      ]
     },
     "execution_count": 63,
     "metadata": {},
     "output_type": "execute_result"
    }
   ],
   "source": [
    "X_train.head(3)"
   ]
  },
  {
   "cell_type": "code",
   "execution_count": 64,
   "id": "8e6e261a",
   "metadata": {},
   "outputs": [],
   "source": [
    "\n",
    "X_test['All-Product']  = X_test['Blood Work Result-4'] * X_test['Blood Work Result-1']*\\\n",
    "X_test['Blood Work Result-2']* X_test['Blood Work Result-3'] * X_test['Plasma Glucose']\\\n",
    "*X_test['Blood Pressure'] * X_test['Age']* X_test['Body Mass Index']"
   ]
  },
  {
   "cell_type": "code",
   "execution_count": null,
   "id": "cd41624e",
   "metadata": {},
   "outputs": [],
   "source": []
  },
  {
   "cell_type": "code",
   "execution_count": 65,
   "id": "41855134",
   "metadata": {
    "scrolled": true
   },
   "outputs": [
    {
     "data": {
      "text/html": [
       "<div>\n",
       "<style scoped>\n",
       "    .dataframe tbody tr th:only-of-type {\n",
       "        vertical-align: middle;\n",
       "    }\n",
       "\n",
       "    .dataframe tbody tr th {\n",
       "        vertical-align: top;\n",
       "    }\n",
       "\n",
       "    .dataframe thead th {\n",
       "        text-align: right;\n",
       "    }\n",
       "</style>\n",
       "<table border=\"1\" class=\"dataframe\">\n",
       "  <thead>\n",
       "    <tr style=\"text-align: right;\">\n",
       "      <th></th>\n",
       "      <th>Plasma Glucose</th>\n",
       "      <th>Blood Work Result-1</th>\n",
       "      <th>Blood Pressure</th>\n",
       "      <th>Blood Work Result-2</th>\n",
       "      <th>Blood Work Result-3</th>\n",
       "      <th>Body Mass Index</th>\n",
       "      <th>Blood Work Result-4</th>\n",
       "      <th>Age</th>\n",
       "      <th>Insurance</th>\n",
       "      <th>All-Product</th>\n",
       "    </tr>\n",
       "  </thead>\n",
       "  <tbody>\n",
       "    <tr>\n",
       "      <th>110</th>\n",
       "      <td>3</td>\n",
       "      <td>171</td>\n",
       "      <td>72</td>\n",
       "      <td>33</td>\n",
       "      <td>135</td>\n",
       "      <td>33.3</td>\n",
       "      <td>0.199</td>\n",
       "      <td>24</td>\n",
       "      <td>1</td>\n",
       "      <td>2.617014e+10</td>\n",
       "    </tr>\n",
       "    <tr>\n",
       "      <th>419</th>\n",
       "      <td>3</td>\n",
       "      <td>129</td>\n",
       "      <td>64</td>\n",
       "      <td>29</td>\n",
       "      <td>115</td>\n",
       "      <td>26.4</td>\n",
       "      <td>0.219</td>\n",
       "      <td>28</td>\n",
       "      <td>1</td>\n",
       "      <td>1.337189e+10</td>\n",
       "    </tr>\n",
       "    <tr>\n",
       "      <th>564</th>\n",
       "      <td>0</td>\n",
       "      <td>91</td>\n",
       "      <td>80</td>\n",
       "      <td>0</td>\n",
       "      <td>0</td>\n",
       "      <td>32.4</td>\n",
       "      <td>0.601</td>\n",
       "      <td>27</td>\n",
       "      <td>0</td>\n",
       "      <td>0.000000e+00</td>\n",
       "    </tr>\n",
       "  </tbody>\n",
       "</table>\n",
       "</div>"
      ],
      "text/plain": [
       "     Plasma Glucose  Blood Work Result-1  Blood Pressure  Blood Work Result-2  \\\n",
       "110               3                  171              72                   33   \n",
       "419               3                  129              64                   29   \n",
       "564               0                   91              80                    0   \n",
       "\n",
       "     Blood Work Result-3  Body Mass Index  Blood Work Result-4  Age Insurance  \\\n",
       "110                  135             33.3                0.199   24         1   \n",
       "419                  115             26.4                0.219   28         1   \n",
       "564                    0             32.4                0.601   27         0   \n",
       "\n",
       "      All-Product  \n",
       "110  2.617014e+10  \n",
       "419  1.337189e+10  \n",
       "564  0.000000e+00  "
      ]
     },
     "execution_count": 65,
     "metadata": {},
     "output_type": "execute_result"
    }
   ],
   "source": [
    "X_test.head(3)"
   ]
  },
  {
   "cell_type": "code",
   "execution_count": 66,
   "id": "6e43a46e",
   "metadata": {
    "scrolled": false
   },
   "outputs": [
    {
     "name": "stdout",
     "output_type": "stream",
     "text": [
      "['0-500000000000', '500000000000-1000000000000', '1000000000000-1500000000000', '1500000000000-2000000000000', '2000000000000-2500000000000', '2500000000000-3000000000000']\n",
      "2714705253292.0312\n"
     ]
    }
   ],
   "source": [
    "# get the categories from the products of all numerical feature\n",
    "blood_max = X_train['All-Product'].max()\n",
    "bin_max = 3500000000000\n",
    "# create a new column 'Age Group'\n",
    "all_labels =['{0}-{1}'.format(i, i+500000000000) for i in range(0, round(blood_max),500000000000)]\n",
    "X_train['All-Product_range'] = pd.cut(X_train['All-Product'], bins=(range(0, bin_max, 500000000000)), right=False, labels=all_labels)\n",
    "X_test['All-Product_range'] = pd.cut(X_test['All-Product'], bins=(range(0, bin_max, 500000000000)), right=False, labels=all_labels)\n",
    "\n",
    "print(all_labels)\n",
    "print(blood_max)"
   ]
  },
  {
   "cell_type": "code",
   "execution_count": null,
   "id": "5f35d4b3",
   "metadata": {},
   "outputs": [],
   "source": []
  },
  {
   "cell_type": "code",
   "execution_count": null,
   "id": "408cdb6e",
   "metadata": {},
   "outputs": [],
   "source": []
  },
  {
   "cell_type": "code",
   "execution_count": 67,
   "id": "07cb30ea",
   "metadata": {},
   "outputs": [
    {
     "name": "stdout",
     "output_type": "stream",
     "text": [
      "['0-20', '20-40', '40-60', '60-80', '80-100']\n"
     ]
    }
   ],
   "source": [
    "# get the min and max o fthe ages\n",
    "age_min = df['Age'].min()\n",
    "age_max = df['Age'].max()\n",
    "\n",
    "# create a new column 'Age Group'\n",
    "age_labels =['{0}-{1}'.format(i, i+20) for i in range(0, age_max,20)]\n",
    "X_train['Age Group'] = pd.cut(X_train['Age'], bins=(range(0, 120, 20)), right=False, labels=age_labels)\n",
    "X_test['Age Group'] = pd.cut(X_test['Age'], bins=(range(0, 120, 20)), right=False, labels=age_labels)\n",
    "\n",
    "print(age_labels)"
   ]
  },
  {
   "cell_type": "code",
   "execution_count": 68,
   "id": "23ac0673",
   "metadata": {},
   "outputs": [],
   "source": [
    "def print_min_max(data):\n",
    "    for col in data.columns:\n",
    "        print(f'min: {data[col].min()}, max: {data[col].max()}')"
   ]
  },
  {
   "cell_type": "code",
   "execution_count": 69,
   "id": "953dac1a",
   "metadata": {
    "scrolled": true
   },
   "outputs": [
    {
     "name": "stdout",
     "output_type": "stream",
     "text": [
      "min: 0.0, max: 67.1\n",
      "min: 0, max: 122\n",
      "min: 0, max: 17\n"
     ]
    }
   ],
   "source": [
    "print_min_max(df[['Body Mass Index', 'Blood Pressure', 'Plasma Glucose']])"
   ]
  },
  {
   "cell_type": "code",
   "execution_count": null,
   "id": "b4479631",
   "metadata": {},
   "outputs": [],
   "source": []
  },
  {
   "cell_type": "code",
   "execution_count": 70,
   "id": "25114cbe",
   "metadata": {},
   "outputs": [
    {
     "name": "stdout",
     "output_type": "stream",
     "text": [
      "['0-30', '30-60', '60-90']\n",
      "67.1\n"
     ]
    }
   ],
   "source": [
    "# get the max of the bmi\n",
    "bmi_max = df['Body Mass Index'].max()\n",
    "# create a new column 'Age Group'\n",
    "labels =['{0}-{1}'.format(i, i+30) for i in range(0, round(bmi_max),30)]\n",
    "X_train['BMI_range'] = pd.cut(X_train['Body Mass Index'], bins=(range(0, 120, 30)), right=False, labels=labels)\n",
    "X_test['BMI_range'] = pd.cut(X_test['Body Mass Index'], bins=(range(0, 120, 30)), right=False, labels=labels)\n",
    "\n",
    "print(labels)\n",
    "print(bmi_max)"
   ]
  },
  {
   "cell_type": "code",
   "execution_count": null,
   "id": "998e25d8",
   "metadata": {},
   "outputs": [],
   "source": []
  },
  {
   "cell_type": "code",
   "execution_count": 71,
   "id": "4ba3c854",
   "metadata": {},
   "outputs": [
    {
     "name": "stdout",
     "output_type": "stream",
     "text": [
      "['0-50', '50-100', '100-150']\n"
     ]
    }
   ],
   "source": [
    "\n",
    "# get the max of blood pressure\n",
    "bp_max = df['Blood Pressure'].max()\n",
    "# create a new column 'Age Group'\n",
    "labels =['{0}-{1}'.format(i, i+50) for i in range(0, round(bp_max),50)]\n",
    "X_train['BP_range'] = pd.cut(X_train['Blood Pressure'], bins=(range(0, 200, 50)), right=False, labels=labels)\n",
    "X_test['BP_range'] = pd.cut(X_test['Blood Pressure'], bins=(range(0, 200, 50)), right=False, labels=labels)\n",
    "\n",
    "print(labels)\n"
   ]
  },
  {
   "cell_type": "code",
   "execution_count": 72,
   "id": "7f87b6f7",
   "metadata": {},
   "outputs": [
    {
     "name": "stdout",
     "output_type": "stream",
     "text": [
      "['0-7', '7-14', '14-21']\n"
     ]
    }
   ],
   "source": [
    "# get max of plasma glucose\n",
    "# age_min = df['Age'].min()\n",
    "pg_max = df['Plasma Glucose'].max()\n",
    "# create a new column 'Age Group'\n",
    "labels =['{0}-{1}'.format(i, i+7) for i in range(0, round(pg_max),7)]\n",
    "X_train['PG_range'] = pd.cut(X_train['Plasma Glucose'], bins=(range(0, 28, 7)), right=False, labels=labels)\n",
    "X_test['PG_range'] = pd.cut(X_test['Plasma Glucose'], bins=(range(0, 28, 7)), right=False, labels=labels)\n",
    "\n",
    "print(labels)\n",
    "# print(blood_max)"
   ]
  },
  {
   "cell_type": "code",
   "execution_count": 73,
   "id": "8b08035d",
   "metadata": {},
   "outputs": [],
   "source": [
    "# drop columns \n",
    "X_train = X_train.drop(columns=['Blood Pressure', 'Age', 'Body Mass Index','Plasma Glucose', 'All-Product', 'Blood Work Result-3', 'Blood Work Result-2'])\n",
    "X_test = X_test.drop(columns=['Blood Pressure', 'Age', 'Body Mass Index', 'Plasma Glucose', 'All-Product', 'Blood Work Result-3', 'Blood Work Result-2'])"
   ]
  },
  {
   "cell_type": "code",
   "execution_count": 74,
   "id": "99b5e5e2",
   "metadata": {},
   "outputs": [
    {
     "data": {
      "text/html": [
       "<div>\n",
       "<style scoped>\n",
       "    .dataframe tbody tr th:only-of-type {\n",
       "        vertical-align: middle;\n",
       "    }\n",
       "\n",
       "    .dataframe tbody tr th {\n",
       "        vertical-align: top;\n",
       "    }\n",
       "\n",
       "    .dataframe thead th {\n",
       "        text-align: right;\n",
       "    }\n",
       "</style>\n",
       "<table border=\"1\" class=\"dataframe\">\n",
       "  <thead>\n",
       "    <tr style=\"text-align: right;\">\n",
       "      <th></th>\n",
       "      <th>Blood Work Result-1</th>\n",
       "      <th>Blood Work Result-4</th>\n",
       "      <th>Insurance</th>\n",
       "      <th>All-Product_range</th>\n",
       "      <th>Age Group</th>\n",
       "      <th>BMI_range</th>\n",
       "      <th>BP_range</th>\n",
       "      <th>PG_range</th>\n",
       "    </tr>\n",
       "  </thead>\n",
       "  <tbody>\n",
       "    <tr>\n",
       "      <th>110</th>\n",
       "      <td>171</td>\n",
       "      <td>0.199</td>\n",
       "      <td>1</td>\n",
       "      <td>0-500000000000</td>\n",
       "      <td>20-40</td>\n",
       "      <td>30-60</td>\n",
       "      <td>50-100</td>\n",
       "      <td>0-7</td>\n",
       "    </tr>\n",
       "    <tr>\n",
       "      <th>419</th>\n",
       "      <td>129</td>\n",
       "      <td>0.219</td>\n",
       "      <td>1</td>\n",
       "      <td>0-500000000000</td>\n",
       "      <td>20-40</td>\n",
       "      <td>0-30</td>\n",
       "      <td>50-100</td>\n",
       "      <td>0-7</td>\n",
       "    </tr>\n",
       "    <tr>\n",
       "      <th>564</th>\n",
       "      <td>91</td>\n",
       "      <td>0.601</td>\n",
       "      <td>0</td>\n",
       "      <td>0-500000000000</td>\n",
       "      <td>20-40</td>\n",
       "      <td>30-60</td>\n",
       "      <td>50-100</td>\n",
       "      <td>0-7</td>\n",
       "    </tr>\n",
       "  </tbody>\n",
       "</table>\n",
       "</div>"
      ],
      "text/plain": [
       "     Blood Work Result-1  Blood Work Result-4 Insurance All-Product_range  \\\n",
       "110                  171                0.199         1    0-500000000000   \n",
       "419                  129                0.219         1    0-500000000000   \n",
       "564                   91                0.601         0    0-500000000000   \n",
       "\n",
       "    Age Group BMI_range BP_range PG_range  \n",
       "110     20-40     30-60   50-100      0-7  \n",
       "419     20-40      0-30   50-100      0-7  \n",
       "564     20-40     30-60   50-100      0-7  "
      ]
     },
     "execution_count": 74,
     "metadata": {},
     "output_type": "execute_result"
    }
   ],
   "source": [
    "X_test.head(3)"
   ]
  },
  {
   "cell_type": "code",
   "execution_count": 75,
   "id": "42ee31a7",
   "metadata": {},
   "outputs": [
    {
     "data": {
      "text/html": [
       "<div>\n",
       "<style scoped>\n",
       "    .dataframe tbody tr th:only-of-type {\n",
       "        vertical-align: middle;\n",
       "    }\n",
       "\n",
       "    .dataframe tbody tr th {\n",
       "        vertical-align: top;\n",
       "    }\n",
       "\n",
       "    .dataframe thead th {\n",
       "        text-align: right;\n",
       "    }\n",
       "</style>\n",
       "<table border=\"1\" class=\"dataframe\">\n",
       "  <thead>\n",
       "    <tr style=\"text-align: right;\">\n",
       "      <th></th>\n",
       "      <th>Blood Work Result-1</th>\n",
       "      <th>Blood Work Result-4</th>\n",
       "      <th>Insurance</th>\n",
       "      <th>All-Product_range</th>\n",
       "      <th>Age Group</th>\n",
       "      <th>BMI_range</th>\n",
       "      <th>BP_range</th>\n",
       "      <th>PG_range</th>\n",
       "    </tr>\n",
       "  </thead>\n",
       "  <tbody>\n",
       "    <tr>\n",
       "      <th>145</th>\n",
       "      <td>102</td>\n",
       "      <td>0.572</td>\n",
       "      <td>1</td>\n",
       "      <td>0-500000000000</td>\n",
       "      <td>20-40</td>\n",
       "      <td>0-30</td>\n",
       "      <td>50-100</td>\n",
       "      <td>0-7</td>\n",
       "    </tr>\n",
       "    <tr>\n",
       "      <th>9</th>\n",
       "      <td>125</td>\n",
       "      <td>0.232</td>\n",
       "      <td>1</td>\n",
       "      <td>0-500000000000</td>\n",
       "      <td>40-60</td>\n",
       "      <td>0-30</td>\n",
       "      <td>50-100</td>\n",
       "      <td>7-14</td>\n",
       "    </tr>\n",
       "    <tr>\n",
       "      <th>375</th>\n",
       "      <td>140</td>\n",
       "      <td>0.528</td>\n",
       "      <td>1</td>\n",
       "      <td>2000000000000-2500000000000</td>\n",
       "      <td>40-60</td>\n",
       "      <td>30-60</td>\n",
       "      <td>50-100</td>\n",
       "      <td>7-14</td>\n",
       "    </tr>\n",
       "  </tbody>\n",
       "</table>\n",
       "</div>"
      ],
      "text/plain": [
       "     Blood Work Result-1  Blood Work Result-4 Insurance  \\\n",
       "145                  102                0.572         1   \n",
       "9                    125                0.232         1   \n",
       "375                  140                0.528         1   \n",
       "\n",
       "               All-Product_range Age Group BMI_range BP_range PG_range  \n",
       "145               0-500000000000     20-40      0-30   50-100      0-7  \n",
       "9                 0-500000000000     40-60      0-30   50-100     7-14  \n",
       "375  2000000000000-2500000000000     40-60     30-60   50-100     7-14  "
      ]
     },
     "execution_count": 75,
     "metadata": {},
     "output_type": "execute_result"
    }
   ],
   "source": [
    "X_train.head(3)"
   ]
  },
  {
   "cell_type": "markdown",
   "id": "aa7723dd",
   "metadata": {
    "id": "dLJuYG_JgBH8"
   },
   "source": [
    "## Create Pipeline to Impute Missing Values, Encode columns and Scale Columns"
   ]
  },
  {
   "cell_type": "code",
   "execution_count": 76,
   "id": "7b2248bd",
   "metadata": {},
   "outputs": [
    {
     "data": {
      "text/plain": [
       "((479, 10), (120, 10))"
      ]
     },
     "execution_count": 76,
     "metadata": {},
     "output_type": "execute_result"
    }
   ],
   "source": [
    "# check and confirm the shape of the train and test data\n",
    "train.shape, test.shape"
   ]
  },
  {
   "cell_type": "code",
   "execution_count": 77,
   "id": "ee7c87c9",
   "metadata": {},
   "outputs": [
    {
     "data": {
      "text/plain": [
       "array([ True,  True,  True,  True,  True,  True])"
      ]
     },
     "execution_count": 77,
     "metadata": {},
     "output_type": "execute_result"
    }
   ],
   "source": [
    "# select the categorical columns from train and test data for encoding\n",
    "train_cat_cols = X_train.select_dtypes(include=['object', 'category']).columns\n",
    "test_cat_cols = X_test.select_dtypes(include=['object', 'category']).columns\n",
    "train_cat_cols == test_cat_cols"
   ]
  },
  {
   "cell_type": "code",
   "execution_count": 78,
   "id": "eead7b62",
   "metadata": {},
   "outputs": [
    {
     "data": {
      "text/plain": [
       "array([ True,  True])"
      ]
     },
     "execution_count": 78,
     "metadata": {},
     "output_type": "execute_result"
    }
   ],
   "source": [
    "# select numerical columns from the train and test dataset\n",
    "train_num_cols=X_train.select_dtypes(exclude=['object', 'category']).columns\n",
    "test_num_cols=X_test.select_dtypes(exclude=['object', 'category']).columns\n",
    "\n",
    "# # confirm if numerical columns are same for test and train data\n",
    "test_num_cols == train_num_cols"
   ]
  },
  {
   "cell_type": "code",
   "execution_count": 79,
   "id": "e443f99e",
   "metadata": {},
   "outputs": [
    {
     "data": {
      "text/plain": [
       "Index(['Blood Work Result-1', 'Blood Work Result-4', 'Insurance',\n",
       "       'All-Product_range', 'Age Group', 'BMI_range', 'BP_range', 'PG_range'],\n",
       "      dtype='object')"
      ]
     },
     "execution_count": 79,
     "metadata": {},
     "output_type": "execute_result"
    }
   ],
   "source": [
    "X_train.columns"
   ]
  },
  {
   "cell_type": "code",
   "execution_count": 80,
   "id": "185297e3",
   "metadata": {},
   "outputs": [
    {
     "name": "stdout",
     "output_type": "stream",
     "text": [
      "['Blood Work Result-1', 'Blood Work Result-4'] ['Insurance', 'All-Product_range', 'Age Group', 'BMI_range', 'BP_range', 'PG_range']\n"
     ]
    }
   ],
   "source": [
    "# create variables to hold numerical and categorical columns \n",
    "num_attribs = list(train_num_cols)\n",
    "cat_attribs = list(train_cat_cols)\n",
    "print(num_attribs, cat_attribs)"
   ]
  },
  {
   "cell_type": "markdown",
   "id": "b72207f8",
   "metadata": {},
   "source": [
    "#### create a pipeline"
   ]
  },
  {
   "cell_type": "code",
   "execution_count": 81,
   "id": "b280ff0a",
   "metadata": {},
   "outputs": [],
   "source": [
    "#create a numerical pipeline to standardize and impute the missinf in the numerical columns\n",
    "num_pipeline = Pipeline([('imputer',SimpleImputer(strategy=\"most_frequent\")),('std_scaler', StandardScaler())])\n",
    "\n",
    "#create a categorical pipeline to encode and impute the missing in the numerical columns\n",
    "cat_pipeline = Pipeline([('imputer',SimpleImputer(strategy=\"most_frequent\")),('cat_encoder', OneHotEncoder(handle_unknown='ignore'))])"
   ]
  },
  {
   "cell_type": "code",
   "execution_count": 82,
   "id": "3abbc9bc",
   "metadata": {},
   "outputs": [],
   "source": [
    "# Create a fullpipeline by combining numerical and catagorical pioeline\n",
    "full_pipeline = ColumnTransformer([(\"numerical\",num_pipeline, num_attribs), (\"categorical\",cat_pipeline, cat_attribs)], )"
   ]
  },
  {
   "cell_type": "code",
   "execution_count": null,
   "id": "27221a0b",
   "metadata": {},
   "outputs": [],
   "source": []
  },
  {
   "cell_type": "code",
   "execution_count": 83,
   "id": "52bfeb2c",
   "metadata": {},
   "outputs": [],
   "source": [
    "# use create pipeline to transform train and test features\n",
    "X_train_prepared = full_pipeline.fit_transform(X_train)\n",
    "X_test_prepared = full_pipeline.transform(X_test)"
   ]
  },
  {
   "cell_type": "code",
   "execution_count": 84,
   "id": "e7749bb7",
   "metadata": {},
   "outputs": [
    {
     "data": {
      "text/plain": [
       "array([[-0.5620614 ,  0.29869943,  0.        , ...,  1.        ,\n",
       "         0.        ,  0.        ],\n",
       "       [ 0.16592243, -0.76048427,  0.        , ...,  0.        ,\n",
       "         0.        ,  1.        ],\n",
       "       [ 0.64069449,  0.1616286 ,  0.        , ...,  0.        ,\n",
       "         0.        ,  1.        ],\n",
       "       ...,\n",
       "       [-0.59371287,  2.05569826,  1.        , ...,  0.        ,\n",
       "         0.        ,  1.        ],\n",
       "       [ 0.67234596, -0.84459591,  0.        , ...,  1.        ,\n",
       "         0.        ,  0.        ],\n",
       "       [ 0.16592243, -0.66702688,  0.        , ...,  1.        ,\n",
       "         0.        ,  0.        ]])"
      ]
     },
     "execution_count": 84,
     "metadata": {},
     "output_type": "execute_result"
    }
   ],
   "source": [
    "X_train_prepared"
   ]
  },
  {
   "cell_type": "markdown",
   "id": "8a65b8c2",
   "metadata": {},
   "source": [
    "#### creat dataframes from transformer output"
   ]
  },
  {
   "cell_type": "code",
   "execution_count": 85,
   "id": "d555ce76",
   "metadata": {},
   "outputs": [
    {
     "data": {
      "text/plain": [
       "array(['x0_0', 'x0_1', 'x1_0-500000000000',\n",
       "       'x1_1000000000000-1500000000000', 'x1_1500000000000-2000000000000',\n",
       "       'x1_2000000000000-2500000000000', 'x1_2500000000000-3000000000000',\n",
       "       'x1_500000000000-1000000000000', 'x2_20-40', 'x2_40-60',\n",
       "       'x2_60-80', 'x2_80-100', 'x3_0-30', 'x3_30-60', 'x3_60-90',\n",
       "       'x4_0-50', 'x4_100-150', 'x4_50-100', 'x5_0-7', 'x5_14-21',\n",
       "       'x5_7-14'], dtype=object)"
      ]
     },
     "execution_count": 85,
     "metadata": {},
     "output_type": "execute_result"
    }
   ],
   "source": [
    "# get categorical columns after transformation\n",
    "cat_features = full_pipeline.named_transformers_['categorical']['cat_encoder'].get_feature_names()\n",
    "cat_features"
   ]
  },
  {
   "cell_type": "code",
   "execution_count": 86,
   "id": "2b04b70b",
   "metadata": {},
   "outputs": [],
   "source": [
    "# combine numerical and categorical columns\n",
    "columns_ = np.concatenate([train_num_cols, cat_features])"
   ]
  },
  {
   "cell_type": "code",
   "execution_count": 87,
   "id": "9854a179",
   "metadata": {
    "scrolled": false
   },
   "outputs": [
    {
     "data": {
      "text/html": [
       "<div>\n",
       "<style scoped>\n",
       "    .dataframe tbody tr th:only-of-type {\n",
       "        vertical-align: middle;\n",
       "    }\n",
       "\n",
       "    .dataframe tbody tr th {\n",
       "        vertical-align: top;\n",
       "    }\n",
       "\n",
       "    .dataframe thead th {\n",
       "        text-align: right;\n",
       "    }\n",
       "</style>\n",
       "<table border=\"1\" class=\"dataframe\">\n",
       "  <thead>\n",
       "    <tr style=\"text-align: right;\">\n",
       "      <th></th>\n",
       "      <th>Blood Work Result-1</th>\n",
       "      <th>Blood Work Result-4</th>\n",
       "      <th>Insurance_0</th>\n",
       "      <th>Insurance_1</th>\n",
       "      <th>x1_0-500000000000</th>\n",
       "      <th>x1_1000000000000-1500000000000</th>\n",
       "      <th>x1_1500000000000-2000000000000</th>\n",
       "      <th>x1_2000000000000-2500000000000</th>\n",
       "      <th>x1_2500000000000-3000000000000</th>\n",
       "      <th>x1_500000000000-1000000000000</th>\n",
       "      <th>...</th>\n",
       "      <th>x2_80-100</th>\n",
       "      <th>x3_0-30</th>\n",
       "      <th>x3_30-60</th>\n",
       "      <th>x3_60-90</th>\n",
       "      <th>x4_0-50</th>\n",
       "      <th>x4_100-150</th>\n",
       "      <th>x4_50-100</th>\n",
       "      <th>x5_0-7</th>\n",
       "      <th>x5_14-21</th>\n",
       "      <th>x5_7-14</th>\n",
       "    </tr>\n",
       "  </thead>\n",
       "  <tbody>\n",
       "    <tr>\n",
       "      <th>0</th>\n",
       "      <td>-0.562061</td>\n",
       "      <td>0.298699</td>\n",
       "      <td>0.0</td>\n",
       "      <td>1.0</td>\n",
       "      <td>1.0</td>\n",
       "      <td>0.0</td>\n",
       "      <td>0.0</td>\n",
       "      <td>0.0</td>\n",
       "      <td>0.0</td>\n",
       "      <td>0.0</td>\n",
       "      <td>...</td>\n",
       "      <td>0.0</td>\n",
       "      <td>1.0</td>\n",
       "      <td>0.0</td>\n",
       "      <td>0.0</td>\n",
       "      <td>0.0</td>\n",
       "      <td>0.0</td>\n",
       "      <td>1.0</td>\n",
       "      <td>1.0</td>\n",
       "      <td>0.0</td>\n",
       "      <td>0.0</td>\n",
       "    </tr>\n",
       "    <tr>\n",
       "      <th>1</th>\n",
       "      <td>0.165922</td>\n",
       "      <td>-0.760484</td>\n",
       "      <td>0.0</td>\n",
       "      <td>1.0</td>\n",
       "      <td>1.0</td>\n",
       "      <td>0.0</td>\n",
       "      <td>0.0</td>\n",
       "      <td>0.0</td>\n",
       "      <td>0.0</td>\n",
       "      <td>0.0</td>\n",
       "      <td>...</td>\n",
       "      <td>0.0</td>\n",
       "      <td>1.0</td>\n",
       "      <td>0.0</td>\n",
       "      <td>0.0</td>\n",
       "      <td>0.0</td>\n",
       "      <td>0.0</td>\n",
       "      <td>1.0</td>\n",
       "      <td>0.0</td>\n",
       "      <td>0.0</td>\n",
       "      <td>1.0</td>\n",
       "    </tr>\n",
       "    <tr>\n",
       "      <th>2</th>\n",
       "      <td>0.640694</td>\n",
       "      <td>0.161629</td>\n",
       "      <td>0.0</td>\n",
       "      <td>1.0</td>\n",
       "      <td>0.0</td>\n",
       "      <td>0.0</td>\n",
       "      <td>0.0</td>\n",
       "      <td>1.0</td>\n",
       "      <td>0.0</td>\n",
       "      <td>0.0</td>\n",
       "      <td>...</td>\n",
       "      <td>0.0</td>\n",
       "      <td>0.0</td>\n",
       "      <td>1.0</td>\n",
       "      <td>0.0</td>\n",
       "      <td>0.0</td>\n",
       "      <td>0.0</td>\n",
       "      <td>1.0</td>\n",
       "      <td>0.0</td>\n",
       "      <td>0.0</td>\n",
       "      <td>1.0</td>\n",
       "    </tr>\n",
       "    <tr>\n",
       "      <th>3</th>\n",
       "      <td>-0.182244</td>\n",
       "      <td>-0.894440</td>\n",
       "      <td>0.0</td>\n",
       "      <td>1.0</td>\n",
       "      <td>1.0</td>\n",
       "      <td>0.0</td>\n",
       "      <td>0.0</td>\n",
       "      <td>0.0</td>\n",
       "      <td>0.0</td>\n",
       "      <td>0.0</td>\n",
       "      <td>...</td>\n",
       "      <td>0.0</td>\n",
       "      <td>1.0</td>\n",
       "      <td>0.0</td>\n",
       "      <td>0.0</td>\n",
       "      <td>1.0</td>\n",
       "      <td>0.0</td>\n",
       "      <td>0.0</td>\n",
       "      <td>1.0</td>\n",
       "      <td>0.0</td>\n",
       "      <td>0.0</td>\n",
       "    </tr>\n",
       "    <tr>\n",
       "      <th>4</th>\n",
       "      <td>-0.340501</td>\n",
       "      <td>0.510536</td>\n",
       "      <td>1.0</td>\n",
       "      <td>0.0</td>\n",
       "      <td>1.0</td>\n",
       "      <td>0.0</td>\n",
       "      <td>0.0</td>\n",
       "      <td>0.0</td>\n",
       "      <td>0.0</td>\n",
       "      <td>0.0</td>\n",
       "      <td>...</td>\n",
       "      <td>0.0</td>\n",
       "      <td>1.0</td>\n",
       "      <td>0.0</td>\n",
       "      <td>0.0</td>\n",
       "      <td>0.0</td>\n",
       "      <td>0.0</td>\n",
       "      <td>1.0</td>\n",
       "      <td>0.0</td>\n",
       "      <td>0.0</td>\n",
       "      <td>1.0</td>\n",
       "    </tr>\n",
       "  </tbody>\n",
       "</table>\n",
       "<p>5 rows × 23 columns</p>\n",
       "</div>"
      ],
      "text/plain": [
       "   Blood Work Result-1  Blood Work Result-4  Insurance_0  Insurance_1  \\\n",
       "0            -0.562061             0.298699          0.0          1.0   \n",
       "1             0.165922            -0.760484          0.0          1.0   \n",
       "2             0.640694             0.161629          0.0          1.0   \n",
       "3            -0.182244            -0.894440          0.0          1.0   \n",
       "4            -0.340501             0.510536          1.0          0.0   \n",
       "\n",
       "   x1_0-500000000000  x1_1000000000000-1500000000000  \\\n",
       "0                1.0                             0.0   \n",
       "1                1.0                             0.0   \n",
       "2                0.0                             0.0   \n",
       "3                1.0                             0.0   \n",
       "4                1.0                             0.0   \n",
       "\n",
       "   x1_1500000000000-2000000000000  x1_2000000000000-2500000000000  \\\n",
       "0                             0.0                             0.0   \n",
       "1                             0.0                             0.0   \n",
       "2                             0.0                             1.0   \n",
       "3                             0.0                             0.0   \n",
       "4                             0.0                             0.0   \n",
       "\n",
       "   x1_2500000000000-3000000000000  x1_500000000000-1000000000000  ...  \\\n",
       "0                             0.0                            0.0  ...   \n",
       "1                             0.0                            0.0  ...   \n",
       "2                             0.0                            0.0  ...   \n",
       "3                             0.0                            0.0  ...   \n",
       "4                             0.0                            0.0  ...   \n",
       "\n",
       "   x2_80-100  x3_0-30  x3_30-60  x3_60-90  x4_0-50  x4_100-150  x4_50-100  \\\n",
       "0        0.0      1.0       0.0       0.0      0.0         0.0        1.0   \n",
       "1        0.0      1.0       0.0       0.0      0.0         0.0        1.0   \n",
       "2        0.0      0.0       1.0       0.0      0.0         0.0        1.0   \n",
       "3        0.0      1.0       0.0       0.0      1.0         0.0        0.0   \n",
       "4        0.0      1.0       0.0       0.0      0.0         0.0        1.0   \n",
       "\n",
       "   x5_0-7  x5_14-21  x5_7-14  \n",
       "0     1.0       0.0      0.0  \n",
       "1     0.0       0.0      1.0  \n",
       "2     0.0       0.0      1.0  \n",
       "3     1.0       0.0      0.0  \n",
       "4     0.0       0.0      1.0  \n",
       "\n",
       "[5 rows x 23 columns]"
      ]
     },
     "execution_count": 87,
     "metadata": {},
     "output_type": "execute_result"
    }
   ],
   "source": [
    "X_train_df = pd.DataFrame(X_train_prepared, columns=columns_)\n",
    "X_train_df = X_train_df.rename(columns={'x0_0':'Insurance_0', 'x0_1': 'Insurance_1'})\n",
    "X_train_df.head()"
   ]
  },
  {
   "cell_type": "code",
   "execution_count": 88,
   "id": "f6fbadcf",
   "metadata": {},
   "outputs": [
    {
     "data": {
      "text/plain": [
       "(479, 23)"
      ]
     },
     "execution_count": 88,
     "metadata": {},
     "output_type": "execute_result"
    }
   ],
   "source": [
    "X_train_df.shape"
   ]
  },
  {
   "cell_type": "code",
   "execution_count": 89,
   "id": "6cb2ea48",
   "metadata": {},
   "outputs": [
    {
     "data": {
      "text/html": [
       "<div>\n",
       "<style scoped>\n",
       "    .dataframe tbody tr th:only-of-type {\n",
       "        vertical-align: middle;\n",
       "    }\n",
       "\n",
       "    .dataframe tbody tr th {\n",
       "        vertical-align: top;\n",
       "    }\n",
       "\n",
       "    .dataframe thead th {\n",
       "        text-align: right;\n",
       "    }\n",
       "</style>\n",
       "<table border=\"1\" class=\"dataframe\">\n",
       "  <thead>\n",
       "    <tr style=\"text-align: right;\">\n",
       "      <th></th>\n",
       "      <th>Blood Work Result-1</th>\n",
       "      <th>Blood Work Result-4</th>\n",
       "      <th>Insurance_0</th>\n",
       "      <th>Insurance_1</th>\n",
       "      <th>x1_0-500000000000</th>\n",
       "      <th>x1_1000000000000-1500000000000</th>\n",
       "      <th>x1_1500000000000-2000000000000</th>\n",
       "      <th>x1_2000000000000-2500000000000</th>\n",
       "      <th>x1_2500000000000-3000000000000</th>\n",
       "      <th>x1_500000000000-1000000000000</th>\n",
       "      <th>...</th>\n",
       "      <th>x2_80-100</th>\n",
       "      <th>x3_0-30</th>\n",
       "      <th>x3_30-60</th>\n",
       "      <th>x3_60-90</th>\n",
       "      <th>x4_0-50</th>\n",
       "      <th>x4_100-150</th>\n",
       "      <th>x4_50-100</th>\n",
       "      <th>x5_0-7</th>\n",
       "      <th>x5_14-21</th>\n",
       "      <th>x5_7-14</th>\n",
       "    </tr>\n",
       "  </thead>\n",
       "  <tbody>\n",
       "    <tr>\n",
       "      <th>0</th>\n",
       "      <td>1.621890</td>\n",
       "      <td>-0.863287</td>\n",
       "      <td>0.0</td>\n",
       "      <td>1.0</td>\n",
       "      <td>1.0</td>\n",
       "      <td>0.0</td>\n",
       "      <td>0.0</td>\n",
       "      <td>0.0</td>\n",
       "      <td>0.0</td>\n",
       "      <td>0.0</td>\n",
       "      <td>...</td>\n",
       "      <td>0.0</td>\n",
       "      <td>0.0</td>\n",
       "      <td>1.0</td>\n",
       "      <td>0.0</td>\n",
       "      <td>0.0</td>\n",
       "      <td>0.0</td>\n",
       "      <td>1.0</td>\n",
       "      <td>1.0</td>\n",
       "      <td>0.0</td>\n",
       "      <td>0.0</td>\n",
       "    </tr>\n",
       "    <tr>\n",
       "      <th>1</th>\n",
       "      <td>0.292528</td>\n",
       "      <td>-0.800982</td>\n",
       "      <td>0.0</td>\n",
       "      <td>1.0</td>\n",
       "      <td>1.0</td>\n",
       "      <td>0.0</td>\n",
       "      <td>0.0</td>\n",
       "      <td>0.0</td>\n",
       "      <td>0.0</td>\n",
       "      <td>0.0</td>\n",
       "      <td>...</td>\n",
       "      <td>0.0</td>\n",
       "      <td>1.0</td>\n",
       "      <td>0.0</td>\n",
       "      <td>0.0</td>\n",
       "      <td>0.0</td>\n",
       "      <td>0.0</td>\n",
       "      <td>1.0</td>\n",
       "      <td>1.0</td>\n",
       "      <td>0.0</td>\n",
       "      <td>0.0</td>\n",
       "    </tr>\n",
       "    <tr>\n",
       "      <th>2</th>\n",
       "      <td>-0.910228</td>\n",
       "      <td>0.389042</td>\n",
       "      <td>1.0</td>\n",
       "      <td>0.0</td>\n",
       "      <td>1.0</td>\n",
       "      <td>0.0</td>\n",
       "      <td>0.0</td>\n",
       "      <td>0.0</td>\n",
       "      <td>0.0</td>\n",
       "      <td>0.0</td>\n",
       "      <td>...</td>\n",
       "      <td>0.0</td>\n",
       "      <td>0.0</td>\n",
       "      <td>1.0</td>\n",
       "      <td>0.0</td>\n",
       "      <td>0.0</td>\n",
       "      <td>0.0</td>\n",
       "      <td>1.0</td>\n",
       "      <td>1.0</td>\n",
       "      <td>0.0</td>\n",
       "      <td>0.0</td>\n",
       "    </tr>\n",
       "    <tr>\n",
       "      <th>3</th>\n",
       "      <td>-0.783622</td>\n",
       "      <td>-0.330580</td>\n",
       "      <td>0.0</td>\n",
       "      <td>1.0</td>\n",
       "      <td>1.0</td>\n",
       "      <td>0.0</td>\n",
       "      <td>0.0</td>\n",
       "      <td>0.0</td>\n",
       "      <td>0.0</td>\n",
       "      <td>0.0</td>\n",
       "      <td>...</td>\n",
       "      <td>0.0</td>\n",
       "      <td>0.0</td>\n",
       "      <td>1.0</td>\n",
       "      <td>0.0</td>\n",
       "      <td>0.0</td>\n",
       "      <td>0.0</td>\n",
       "      <td>1.0</td>\n",
       "      <td>1.0</td>\n",
       "      <td>0.0</td>\n",
       "      <td>0.0</td>\n",
       "    </tr>\n",
       "    <tr>\n",
       "      <th>4</th>\n",
       "      <td>-0.023986</td>\n",
       "      <td>0.775332</td>\n",
       "      <td>1.0</td>\n",
       "      <td>0.0</td>\n",
       "      <td>1.0</td>\n",
       "      <td>0.0</td>\n",
       "      <td>0.0</td>\n",
       "      <td>0.0</td>\n",
       "      <td>0.0</td>\n",
       "      <td>0.0</td>\n",
       "      <td>...</td>\n",
       "      <td>0.0</td>\n",
       "      <td>0.0</td>\n",
       "      <td>1.0</td>\n",
       "      <td>0.0</td>\n",
       "      <td>0.0</td>\n",
       "      <td>0.0</td>\n",
       "      <td>1.0</td>\n",
       "      <td>1.0</td>\n",
       "      <td>0.0</td>\n",
       "      <td>0.0</td>\n",
       "    </tr>\n",
       "  </tbody>\n",
       "</table>\n",
       "<p>5 rows × 23 columns</p>\n",
       "</div>"
      ],
      "text/plain": [
       "   Blood Work Result-1  Blood Work Result-4  Insurance_0  Insurance_1  \\\n",
       "0             1.621890            -0.863287          0.0          1.0   \n",
       "1             0.292528            -0.800982          0.0          1.0   \n",
       "2            -0.910228             0.389042          1.0          0.0   \n",
       "3            -0.783622            -0.330580          0.0          1.0   \n",
       "4            -0.023986             0.775332          1.0          0.0   \n",
       "\n",
       "   x1_0-500000000000  x1_1000000000000-1500000000000  \\\n",
       "0                1.0                             0.0   \n",
       "1                1.0                             0.0   \n",
       "2                1.0                             0.0   \n",
       "3                1.0                             0.0   \n",
       "4                1.0                             0.0   \n",
       "\n",
       "   x1_1500000000000-2000000000000  x1_2000000000000-2500000000000  \\\n",
       "0                             0.0                             0.0   \n",
       "1                             0.0                             0.0   \n",
       "2                             0.0                             0.0   \n",
       "3                             0.0                             0.0   \n",
       "4                             0.0                             0.0   \n",
       "\n",
       "   x1_2500000000000-3000000000000  x1_500000000000-1000000000000  ...  \\\n",
       "0                             0.0                            0.0  ...   \n",
       "1                             0.0                            0.0  ...   \n",
       "2                             0.0                            0.0  ...   \n",
       "3                             0.0                            0.0  ...   \n",
       "4                             0.0                            0.0  ...   \n",
       "\n",
       "   x2_80-100  x3_0-30  x3_30-60  x3_60-90  x4_0-50  x4_100-150  x4_50-100  \\\n",
       "0        0.0      0.0       1.0       0.0      0.0         0.0        1.0   \n",
       "1        0.0      1.0       0.0       0.0      0.0         0.0        1.0   \n",
       "2        0.0      0.0       1.0       0.0      0.0         0.0        1.0   \n",
       "3        0.0      0.0       1.0       0.0      0.0         0.0        1.0   \n",
       "4        0.0      0.0       1.0       0.0      0.0         0.0        1.0   \n",
       "\n",
       "   x5_0-7  x5_14-21  x5_7-14  \n",
       "0     1.0       0.0      0.0  \n",
       "1     1.0       0.0      0.0  \n",
       "2     1.0       0.0      0.0  \n",
       "3     1.0       0.0      0.0  \n",
       "4     1.0       0.0      0.0  \n",
       "\n",
       "[5 rows x 23 columns]"
      ]
     },
     "execution_count": 89,
     "metadata": {},
     "output_type": "execute_result"
    }
   ],
   "source": [
    "# create test dataframe\n",
    "X_test_df = pd.DataFrame(X_test_prepared, columns=columns_)\n",
    "X_test_df = X_test_df.rename(columns={'x0_0':'Insurance_0', 'x0_1': 'Insurance_1'})\n",
    "X_test_df.head()"
   ]
  },
  {
   "cell_type": "code",
   "execution_count": 90,
   "id": "3611b0d9",
   "metadata": {
    "id": "aI7jM-rZMYCG"
   },
   "outputs": [
    {
     "data": {
      "text/plain": [
       "120"
      ]
     },
     "execution_count": 90,
     "metadata": {},
     "output_type": "execute_result"
    }
   ],
   "source": [
    "# Code here\n",
    "len(X_test_df)"
   ]
  },
  {
   "cell_type": "code",
   "execution_count": null,
   "id": "f16c638e",
   "metadata": {},
   "outputs": [],
   "source": []
  },
  {
   "cell_type": "markdown",
   "id": "d73147e3",
   "metadata": {
    "id": "4-UlAVv4iYz8"
   },
   "source": [
    "## Optional: Train Dataset Balancing "
   ]
  },
  {
   "cell_type": "markdown",
   "id": "4c16bfa4",
   "metadata": {
    "id": "WloQgMqqf6bT"
   },
   "source": [
    "# Machine Learning Modeling \n",
    "Here is the section to **build**, **train**, **evaluate** and **compare** the models to each others."
   ]
  },
  {
   "cell_type": "markdown",
   "id": "0e0ab606",
   "metadata": {
    "id": "tTiiqCnG1FA2"
   },
   "source": [
    "## Logistic Regression\n",
    "\n",
    "Please, keep the following structure to try all the model you want."
   ]
  },
  {
   "cell_type": "markdown",
   "id": "5745f458",
   "metadata": {
    "id": "46li5Z2z1ME7"
   },
   "source": [
    "### Create the Model"
   ]
  },
  {
   "cell_type": "code",
   "execution_count": 91,
   "id": "7799e63d",
   "metadata": {
    "id": "1Fjv6pJt1uoV"
   },
   "outputs": [],
   "source": [
    "lgr_model = LogisticRegression()"
   ]
  },
  {
   "cell_type": "markdown",
   "id": "85bb0835",
   "metadata": {
    "id": "XwHqTKk11U5f"
   },
   "source": [
    "### Train the Model"
   ]
  },
  {
   "cell_type": "code",
   "execution_count": 92,
   "id": "8723bca0",
   "metadata": {
    "id": "fgsct6LH1v9e"
   },
   "outputs": [
    {
     "data": {
      "text/plain": [
       "LogisticRegression()"
      ]
     },
     "execution_count": 92,
     "metadata": {},
     "output_type": "execute_result"
    }
   ],
   "source": [
    "# Use the .fit method to train the model\n",
    "lgr_model.fit(X_train_df, y_train)"
   ]
  },
  {
   "cell_type": "markdown",
   "id": "17c6e32c",
   "metadata": {
    "id": "M6aXGMEf1Yra"
   },
   "source": [
    "### Evaluate the Model on the Evaluation dataset (Evalset)"
   ]
  },
  {
   "cell_type": "code",
   "execution_count": 93,
   "id": "99360e08",
   "metadata": {},
   "outputs": [],
   "source": [
    "def evaluate_model(model, x_test, y_test):\n",
    "    pred = model.predict(x_test)\n",
    "    auc_score = roc_auc_score(y_test, model.predict_proba(X_test_df)[:, 1])\n",
    "    accuracy = accuracy_score(y_test, pred)\n",
    "    f1 = f1_score(y_test, pred)\n",
    "    precision = precision_score(y_test, pred)\n",
    "    recall = recall_score(y_test, pred)\n",
    "    return accuracy, f1, precision, recall, auc_score\n"
   ]
  },
  {
   "cell_type": "code",
   "execution_count": 94,
   "id": "ea6d840e",
   "metadata": {},
   "outputs": [
    {
     "data": {
      "text/plain": [
       "(0.825, 0.7469879518072289, 0.775, 0.7209302325581395, 0.8091211114466929)"
      ]
     },
     "execution_count": 94,
     "metadata": {},
     "output_type": "execute_result"
    }
   ],
   "source": [
    "accuracy, f1, precision, recall, auc_score = evaluate_model(lgr_model, X_test_df, y_test)\n",
    "accuracy, f1, precision, recall, auc_score"
   ]
  },
  {
   "cell_type": "code",
   "execution_count": null,
   "id": "61c04f53",
   "metadata": {},
   "outputs": [],
   "source": []
  },
  {
   "cell_type": "code",
   "execution_count": 95,
   "id": "65deec24",
   "metadata": {},
   "outputs": [
    {
     "data": {
      "text/html": [
       "<div>\n",
       "<style scoped>\n",
       "    .dataframe tbody tr th:only-of-type {\n",
       "        vertical-align: middle;\n",
       "    }\n",
       "\n",
       "    .dataframe tbody tr th {\n",
       "        vertical-align: top;\n",
       "    }\n",
       "\n",
       "    .dataframe thead th {\n",
       "        text-align: right;\n",
       "    }\n",
       "</style>\n",
       "<table border=\"1\" class=\"dataframe\">\n",
       "  <thead>\n",
       "    <tr style=\"text-align: right;\">\n",
       "      <th></th>\n",
       "      <th>Model</th>\n",
       "      <th>Accuracy</th>\n",
       "      <th>F1_score</th>\n",
       "      <th>Precision</th>\n",
       "      <th>Recall</th>\n",
       "      <th>AUC_score</th>\n",
       "    </tr>\n",
       "  </thead>\n",
       "  <tbody>\n",
       "    <tr>\n",
       "      <th>0</th>\n",
       "      <td>Logistic Regression Classifier</td>\n",
       "      <td>0.825</td>\n",
       "      <td>0.746988</td>\n",
       "      <td>0.775</td>\n",
       "      <td>0.72093</td>\n",
       "      <td>0.809121</td>\n",
       "    </tr>\n",
       "  </tbody>\n",
       "</table>\n",
       "</div>"
      ],
      "text/plain": [
       "                            Model  Accuracy  F1_score  Precision   Recall  \\\n",
       "0  Logistic Regression Classifier     0.825  0.746988      0.775  0.72093   \n",
       "\n",
       "   AUC_score  \n",
       "0   0.809121  "
      ]
     },
     "execution_count": 95,
     "metadata": {},
     "output_type": "execute_result"
    }
   ],
   "source": [
    "results = pd.DataFrame([['Logistic Regression Classifier', accuracy, f1, precision, recall, auc_score]], columns = ['Model', 'Accuracy', 'F1_score', 'Precision', 'Recall', 'AUC_score'])\n",
    "results"
   ]
  },
  {
   "cell_type": "markdown",
   "id": "34fa9839",
   "metadata": {},
   "source": [
    ">- "
   ]
  },
  {
   "cell_type": "code",
   "execution_count": null,
   "id": "aec980c1",
   "metadata": {},
   "outputs": [],
   "source": []
  },
  {
   "cell_type": "code",
   "execution_count": 96,
   "id": "445815a2",
   "metadata": {},
   "outputs": [
    {
     "data": {
      "text/plain": [
       "0.8091211114466929"
      ]
     },
     "execution_count": 96,
     "metadata": {},
     "output_type": "execute_result"
    }
   ],
   "source": [
    "roc_auc_score(y_test, lgr_model.predict_proba(X_test_df)[:, 1])"
   ]
  },
  {
   "cell_type": "code",
   "execution_count": 97,
   "id": "e9e3b6f5",
   "metadata": {},
   "outputs": [],
   "source": [
    "log_prob = lgr_model.predict_proba(X_test_df)[:, 1]"
   ]
  },
  {
   "cell_type": "code",
   "execution_count": 98,
   "id": "0297ac62",
   "metadata": {},
   "outputs": [
    {
     "name": "stdout",
     "output_type": "stream",
     "text": [
      "0.813953488372093\n"
     ]
    }
   ],
   "source": [
    "threshold=0.3\n",
    "y_pred = np.where(log_prob >= threshold, 1, 0)\n",
    "recall = recall_score(y_true=y_test, y_pred=y_pred)\n",
    "\n",
    "print(recall)"
   ]
  },
  {
   "cell_type": "code",
   "execution_count": 99,
   "id": "485d72f1",
   "metadata": {},
   "outputs": [
    {
     "data": {
      "text/plain": [
       "0.725"
      ]
     },
     "execution_count": 99,
     "metadata": {},
     "output_type": "execute_result"
    }
   ],
   "source": [
    "accuracy_score(y_test, y_pred)"
   ]
  },
  {
   "cell_type": "code",
   "execution_count": 100,
   "id": "e8f9fd4c",
   "metadata": {},
   "outputs": [
    {
     "data": {
      "text/plain": [
       "0.5833333333333334"
      ]
     },
     "execution_count": 100,
     "metadata": {},
     "output_type": "execute_result"
    }
   ],
   "source": [
    "precision_score(y_test, y_pred)"
   ]
  },
  {
   "cell_type": "code",
   "execution_count": null,
   "id": "f289886a",
   "metadata": {},
   "outputs": [],
   "source": []
  },
  {
   "cell_type": "markdown",
   "id": "c141f20e",
   "metadata": {
    "id": "tTiiqCnG1FA2"
   },
   "source": [
    "## XBoost\n",
    "\n",
    "Please, keep the following structure to try all the model you want."
   ]
  },
  {
   "cell_type": "markdown",
   "id": "bdc5eb59",
   "metadata": {
    "id": "46li5Z2z1ME7"
   },
   "source": [
    "### Create the Model"
   ]
  },
  {
   "cell_type": "code",
   "execution_count": 101,
   "id": "26b0d0b8",
   "metadata": {
    "id": "1Fjv6pJt1uoV"
   },
   "outputs": [],
   "source": [
    "xgb_model = XGBClassifier()"
   ]
  },
  {
   "cell_type": "markdown",
   "id": "8b5e5500",
   "metadata": {
    "id": "XwHqTKk11U5f"
   },
   "source": [
    "### Train the Model"
   ]
  },
  {
   "cell_type": "code",
   "execution_count": 102,
   "id": "06607b4b",
   "metadata": {
    "id": "fgsct6LH1v9e"
   },
   "outputs": [
    {
     "data": {
      "text/plain": [
       "XGBClassifier(base_score=None, booster=None, callbacks=None,\n",
       "              colsample_bylevel=None, colsample_bynode=None,\n",
       "              colsample_bytree=None, early_stopping_rounds=None,\n",
       "              enable_categorical=False, eval_metric=None, feature_types=None,\n",
       "              gamma=None, gpu_id=None, grow_policy=None, importance_type=None,\n",
       "              interaction_constraints=None, learning_rate=None, max_bin=None,\n",
       "              max_cat_threshold=None, max_cat_to_onehot=None,\n",
       "              max_delta_step=None, max_depth=None, max_leaves=None,\n",
       "              min_child_weight=None, missing=nan, monotone_constraints=None,\n",
       "              n_estimators=100, n_jobs=None, num_parallel_tree=None,\n",
       "              predictor=None, random_state=None, ...)"
      ]
     },
     "execution_count": 102,
     "metadata": {},
     "output_type": "execute_result"
    }
   ],
   "source": [
    "# Use the .fit method\n",
    "xgb_model.fit(X_train_df, y_train)"
   ]
  },
  {
   "cell_type": "markdown",
   "id": "3996ba02",
   "metadata": {
    "id": "M6aXGMEf1Yra"
   },
   "source": [
    "### Evaluate the Model on the Evaluation dataset (Evalset)"
   ]
  },
  {
   "cell_type": "code",
   "execution_count": 103,
   "id": "4cde56cc",
   "metadata": {},
   "outputs": [
    {
     "data": {
      "text/plain": [
       "(0.6666666666666666,\n",
       " 0.5121951219512196,\n",
       " 0.5384615384615384,\n",
       " 0.4883720930232558,\n",
       " 0.707641196013289)"
      ]
     },
     "execution_count": 103,
     "metadata": {},
     "output_type": "execute_result"
    }
   ],
   "source": [
    "accuracy, f1, precision, recall, auc_score = evaluate_model(xgb_model, X_test_df, y_test)\n",
    "accuracy, f1, precision, recall, auc_score"
   ]
  },
  {
   "cell_type": "code",
   "execution_count": 104,
   "id": "e075d075",
   "metadata": {},
   "outputs": [
    {
     "data": {
      "text/html": [
       "<div>\n",
       "<style scoped>\n",
       "    .dataframe tbody tr th:only-of-type {\n",
       "        vertical-align: middle;\n",
       "    }\n",
       "\n",
       "    .dataframe tbody tr th {\n",
       "        vertical-align: top;\n",
       "    }\n",
       "\n",
       "    .dataframe thead th {\n",
       "        text-align: right;\n",
       "    }\n",
       "</style>\n",
       "<table border=\"1\" class=\"dataframe\">\n",
       "  <thead>\n",
       "    <tr style=\"text-align: right;\">\n",
       "      <th></th>\n",
       "      <th>Model</th>\n",
       "      <th>Accuracy</th>\n",
       "      <th>F1_score</th>\n",
       "      <th>Precision</th>\n",
       "      <th>Recall</th>\n",
       "      <th>AUC_score</th>\n",
       "    </tr>\n",
       "  </thead>\n",
       "  <tbody>\n",
       "    <tr>\n",
       "      <th>0</th>\n",
       "      <td>Logistic Regression Classifier</td>\n",
       "      <td>0.825000</td>\n",
       "      <td>0.746988</td>\n",
       "      <td>0.775000</td>\n",
       "      <td>0.720930</td>\n",
       "      <td>0.809121</td>\n",
       "    </tr>\n",
       "    <tr>\n",
       "      <th>0</th>\n",
       "      <td>XGBoost Classifier</td>\n",
       "      <td>0.666667</td>\n",
       "      <td>0.512195</td>\n",
       "      <td>0.538462</td>\n",
       "      <td>0.488372</td>\n",
       "      <td>0.707641</td>\n",
       "    </tr>\n",
       "  </tbody>\n",
       "</table>\n",
       "</div>"
      ],
      "text/plain": [
       "                            Model  Accuracy  F1_score  Precision    Recall  \\\n",
       "0  Logistic Regression Classifier  0.825000  0.746988   0.775000  0.720930   \n",
       "0              XGBoost Classifier  0.666667  0.512195   0.538462  0.488372   \n",
       "\n",
       "   AUC_score  \n",
       "0   0.809121  \n",
       "0   0.707641  "
      ]
     },
     "execution_count": 104,
     "metadata": {},
     "output_type": "execute_result"
    }
   ],
   "source": [
    "model_result = pd.DataFrame([['XGBoost Classifier', accuracy, f1, precision, recall, auc_score]], columns = ['Model', 'Accuracy', 'F1_score', 'Precision', 'Recall', 'AUC_score'])\n",
    "results = results.append(model_result)\n",
    "results"
   ]
  },
  {
   "cell_type": "markdown",
   "id": "db1a7fb1",
   "metadata": {},
   "source": [
    ">-"
   ]
  },
  {
   "cell_type": "markdown",
   "id": "a70cda93",
   "metadata": {
    "id": "A54gPujOmqaV"
   },
   "source": [
    "## Support Vector Machine"
   ]
  },
  {
   "cell_type": "markdown",
   "id": "991d77c4",
   "metadata": {
    "id": "MC6WaxZUmqaW"
   },
   "source": [
    "### Create the Model"
   ]
  },
  {
   "cell_type": "code",
   "execution_count": 105,
   "id": "c62e0794",
   "metadata": {
    "id": "THTw7OjhmqaW"
   },
   "outputs": [],
   "source": [
    "# Create the svm  model\n",
    "from sklearn.svm import SVC\n",
    "svm_model = SVC(probability=True)"
   ]
  },
  {
   "cell_type": "markdown",
   "id": "6f69682a",
   "metadata": {
    "id": "n7CV9W0DmqaW"
   },
   "source": [
    "### Train the Model"
   ]
  },
  {
   "cell_type": "code",
   "execution_count": 106,
   "id": "0f1ff84a",
   "metadata": {
    "id": "uQMdz0JPmqaW"
   },
   "outputs": [
    {
     "data": {
      "text/plain": [
       "SVC(probability=True)"
      ]
     },
     "execution_count": 106,
     "metadata": {},
     "output_type": "execute_result"
    }
   ],
   "source": [
    "# Use the .fit method\n",
    "svm_model.fit(X_train_df, y_train, )"
   ]
  },
  {
   "cell_type": "markdown",
   "id": "9661a857",
   "metadata": {
    "id": "f1Fb-2_PmqaW"
   },
   "source": [
    "### Evaluate the Model on the Evaluation dataset (Evalset)"
   ]
  },
  {
   "cell_type": "code",
   "execution_count": 107,
   "id": "d4b51524",
   "metadata": {},
   "outputs": [
    {
     "data": {
      "text/plain": [
       "(0.7833333333333333,\n",
       " 0.6829268292682927,\n",
       " 0.717948717948718,\n",
       " 0.6511627906976745,\n",
       " 0.7979462398067049)"
      ]
     },
     "execution_count": 107,
     "metadata": {},
     "output_type": "execute_result"
    }
   ],
   "source": [
    "accuracy, f1, precision, recall, auc_score = evaluate_model(svm_model, X_test_df, y_test)\n",
    "accuracy, f1, precision, recall, auc_score"
   ]
  },
  {
   "cell_type": "code",
   "execution_count": 108,
   "id": "d786f80e",
   "metadata": {},
   "outputs": [
    {
     "data": {
      "text/html": [
       "<div>\n",
       "<style scoped>\n",
       "    .dataframe tbody tr th:only-of-type {\n",
       "        vertical-align: middle;\n",
       "    }\n",
       "\n",
       "    .dataframe tbody tr th {\n",
       "        vertical-align: top;\n",
       "    }\n",
       "\n",
       "    .dataframe thead th {\n",
       "        text-align: right;\n",
       "    }\n",
       "</style>\n",
       "<table border=\"1\" class=\"dataframe\">\n",
       "  <thead>\n",
       "    <tr style=\"text-align: right;\">\n",
       "      <th></th>\n",
       "      <th>Model</th>\n",
       "      <th>Accuracy</th>\n",
       "      <th>F1_score</th>\n",
       "      <th>Precision</th>\n",
       "      <th>Recall</th>\n",
       "      <th>AUC_score</th>\n",
       "    </tr>\n",
       "  </thead>\n",
       "  <tbody>\n",
       "    <tr>\n",
       "      <th>0</th>\n",
       "      <td>Logistic Regression Classifier</td>\n",
       "      <td>0.825000</td>\n",
       "      <td>0.746988</td>\n",
       "      <td>0.775000</td>\n",
       "      <td>0.720930</td>\n",
       "      <td>0.809121</td>\n",
       "    </tr>\n",
       "    <tr>\n",
       "      <th>0</th>\n",
       "      <td>XGBoost Classifier</td>\n",
       "      <td>0.666667</td>\n",
       "      <td>0.512195</td>\n",
       "      <td>0.538462</td>\n",
       "      <td>0.488372</td>\n",
       "      <td>0.707641</td>\n",
       "    </tr>\n",
       "    <tr>\n",
       "      <th>0</th>\n",
       "      <td>Support Vector Machine</td>\n",
       "      <td>0.783333</td>\n",
       "      <td>0.682927</td>\n",
       "      <td>0.717949</td>\n",
       "      <td>0.651163</td>\n",
       "      <td>0.797946</td>\n",
       "    </tr>\n",
       "  </tbody>\n",
       "</table>\n",
       "</div>"
      ],
      "text/plain": [
       "                            Model  Accuracy  F1_score  Precision    Recall  \\\n",
       "0  Logistic Regression Classifier  0.825000  0.746988   0.775000  0.720930   \n",
       "0              XGBoost Classifier  0.666667  0.512195   0.538462  0.488372   \n",
       "0          Support Vector Machine  0.783333  0.682927   0.717949  0.651163   \n",
       "\n",
       "   AUC_score  \n",
       "0   0.809121  \n",
       "0   0.707641  \n",
       "0   0.797946  "
      ]
     },
     "execution_count": 108,
     "metadata": {},
     "output_type": "execute_result"
    }
   ],
   "source": [
    "model_result = pd.DataFrame([['Support Vector Machine', accuracy, f1, precision, recall, auc_score]], columns = ['Model', 'Accuracy', 'F1_score', 'Precision', 'Recall', 'AUC_score'])\n",
    "results = results.append(model_result)\n",
    "results"
   ]
  },
  {
   "cell_type": "markdown",
   "id": "9fac3b8c",
   "metadata": {},
   "source": [
    ">- "
   ]
  },
  {
   "cell_type": "markdown",
   "id": "c1d7f05d",
   "metadata": {
    "id": "tTiiqCnG1FA2"
   },
   "source": [
    "## Gradient Boosting \n",
    "\n",
    "Please, keep the following structure to try all the model you want."
   ]
  },
  {
   "cell_type": "markdown",
   "id": "642c35a3",
   "metadata": {
    "id": "46li5Z2z1ME7"
   },
   "source": [
    "### Create the Model"
   ]
  },
  {
   "cell_type": "code",
   "execution_count": 109,
   "id": "f1477a40",
   "metadata": {
    "id": "1Fjv6pJt1uoV"
   },
   "outputs": [],
   "source": [
    "from sklearn.ensemble import GradientBoostingClassifier\n",
    "gb_model = GradientBoostingClassifier()"
   ]
  },
  {
   "cell_type": "markdown",
   "id": "a57e3126",
   "metadata": {
    "id": "XwHqTKk11U5f"
   },
   "source": [
    "### Train the Model"
   ]
  },
  {
   "cell_type": "code",
   "execution_count": 110,
   "id": "73195cad",
   "metadata": {
    "id": "fgsct6LH1v9e"
   },
   "outputs": [
    {
     "data": {
      "text/plain": [
       "GradientBoostingClassifier()"
      ]
     },
     "execution_count": 110,
     "metadata": {},
     "output_type": "execute_result"
    }
   ],
   "source": [
    "# Use the .fit method\n",
    "gb_model.fit(X_train_df, y_train)"
   ]
  },
  {
   "cell_type": "code",
   "execution_count": 111,
   "id": "802b280d",
   "metadata": {
    "scrolled": true
   },
   "outputs": [
    {
     "data": {
      "text/plain": [
       "(0.725,\n",
       " 0.611764705882353,\n",
       " 0.6190476190476191,\n",
       " 0.6046511627906976,\n",
       " 0.7601932950770159)"
      ]
     },
     "execution_count": 111,
     "metadata": {},
     "output_type": "execute_result"
    }
   ],
   "source": [
    "accuracy, f1, precision, recall, auc_score = evaluate_model(gb_model, X_test_df, y_test)\n",
    "accuracy, f1, precision, recall, auc_score"
   ]
  },
  {
   "cell_type": "code",
   "execution_count": 112,
   "id": "3de86a17",
   "metadata": {},
   "outputs": [
    {
     "data": {
      "text/html": [
       "<div>\n",
       "<style scoped>\n",
       "    .dataframe tbody tr th:only-of-type {\n",
       "        vertical-align: middle;\n",
       "    }\n",
       "\n",
       "    .dataframe tbody tr th {\n",
       "        vertical-align: top;\n",
       "    }\n",
       "\n",
       "    .dataframe thead th {\n",
       "        text-align: right;\n",
       "    }\n",
       "</style>\n",
       "<table border=\"1\" class=\"dataframe\">\n",
       "  <thead>\n",
       "    <tr style=\"text-align: right;\">\n",
       "      <th></th>\n",
       "      <th>Model</th>\n",
       "      <th>Accuracy</th>\n",
       "      <th>F1_score</th>\n",
       "      <th>Precision</th>\n",
       "      <th>Recall</th>\n",
       "      <th>AUC_score</th>\n",
       "    </tr>\n",
       "  </thead>\n",
       "  <tbody>\n",
       "    <tr>\n",
       "      <th>0</th>\n",
       "      <td>Logistic Regression Classifier</td>\n",
       "      <td>0.825000</td>\n",
       "      <td>0.746988</td>\n",
       "      <td>0.775000</td>\n",
       "      <td>0.720930</td>\n",
       "      <td>0.809121</td>\n",
       "    </tr>\n",
       "    <tr>\n",
       "      <th>0</th>\n",
       "      <td>XGBoost Classifier</td>\n",
       "      <td>0.666667</td>\n",
       "      <td>0.512195</td>\n",
       "      <td>0.538462</td>\n",
       "      <td>0.488372</td>\n",
       "      <td>0.707641</td>\n",
       "    </tr>\n",
       "    <tr>\n",
       "      <th>0</th>\n",
       "      <td>Support Vector Machine</td>\n",
       "      <td>0.783333</td>\n",
       "      <td>0.682927</td>\n",
       "      <td>0.717949</td>\n",
       "      <td>0.651163</td>\n",
       "      <td>0.797946</td>\n",
       "    </tr>\n",
       "    <tr>\n",
       "      <th>0</th>\n",
       "      <td>Gradient Boosting Classifier</td>\n",
       "      <td>0.725000</td>\n",
       "      <td>0.611765</td>\n",
       "      <td>0.619048</td>\n",
       "      <td>0.604651</td>\n",
       "      <td>0.760193</td>\n",
       "    </tr>\n",
       "  </tbody>\n",
       "</table>\n",
       "</div>"
      ],
      "text/plain": [
       "                            Model  Accuracy  F1_score  Precision    Recall  \\\n",
       "0  Logistic Regression Classifier  0.825000  0.746988   0.775000  0.720930   \n",
       "0              XGBoost Classifier  0.666667  0.512195   0.538462  0.488372   \n",
       "0          Support Vector Machine  0.783333  0.682927   0.717949  0.651163   \n",
       "0    Gradient Boosting Classifier  0.725000  0.611765   0.619048  0.604651   \n",
       "\n",
       "   AUC_score  \n",
       "0   0.809121  \n",
       "0   0.707641  \n",
       "0   0.797946  \n",
       "0   0.760193  "
      ]
     },
     "execution_count": 112,
     "metadata": {},
     "output_type": "execute_result"
    }
   ],
   "source": [
    "model_result = pd.DataFrame([['Gradient Boosting Classifier', accuracy, f1, precision, recall, auc_score]], columns = ['Model', 'Accuracy', 'F1_score', 'Precision', 'Recall', 'AUC_score'])\n",
    "results = results.append(model_result)\n",
    "results"
   ]
  },
  {
   "cell_type": "markdown",
   "id": "1c9a4d15",
   "metadata": {
    "id": "A54gPujOmqaV"
   },
   "source": [
    "## Decision tree"
   ]
  },
  {
   "cell_type": "markdown",
   "id": "6e7fc6b9",
   "metadata": {
    "id": "MC6WaxZUmqaW"
   },
   "source": [
    "### Create the Model"
   ]
  },
  {
   "cell_type": "code",
   "execution_count": 113,
   "id": "bde98308",
   "metadata": {
    "id": "THTw7OjhmqaW"
   },
   "outputs": [],
   "source": [
    "# Code here\n",
    "dtc = DecisionTreeClassifier()"
   ]
  },
  {
   "cell_type": "markdown",
   "id": "f1c60655",
   "metadata": {
    "id": "n7CV9W0DmqaW"
   },
   "source": [
    "### Train the Model"
   ]
  },
  {
   "cell_type": "code",
   "execution_count": 114,
   "id": "f778f439",
   "metadata": {
    "id": "uQMdz0JPmqaW"
   },
   "outputs": [
    {
     "data": {
      "text/plain": [
       "DecisionTreeClassifier()"
      ]
     },
     "execution_count": 114,
     "metadata": {},
     "output_type": "execute_result"
    }
   ],
   "source": [
    "# Use the .fit method\n",
    "dtc.fit(X_train_df, y_train)"
   ]
  },
  {
   "cell_type": "markdown",
   "id": "fea2094a",
   "metadata": {
    "id": "f1Fb-2_PmqaW"
   },
   "source": [
    "### Evaluate the Model on the Evaluation dataset (Evalset)"
   ]
  },
  {
   "cell_type": "code",
   "execution_count": 115,
   "id": "f9392145",
   "metadata": {},
   "outputs": [
    {
     "data": {
      "text/plain": [
       "(0.6333333333333333,\n",
       " 0.4761904761904762,\n",
       " 0.4878048780487805,\n",
       " 0.46511627906976744,\n",
       " 0.5961945031712474)"
      ]
     },
     "execution_count": 115,
     "metadata": {},
     "output_type": "execute_result"
    }
   ],
   "source": [
    "accuracy, f1, precision, recall, auc_score = evaluate_model(dtc, X_test_df, y_test)\n",
    "accuracy, f1, precision, recall, auc_score"
   ]
  },
  {
   "cell_type": "code",
   "execution_count": 116,
   "id": "c742b0ef",
   "metadata": {},
   "outputs": [
    {
     "data": {
      "text/html": [
       "<div>\n",
       "<style scoped>\n",
       "    .dataframe tbody tr th:only-of-type {\n",
       "        vertical-align: middle;\n",
       "    }\n",
       "\n",
       "    .dataframe tbody tr th {\n",
       "        vertical-align: top;\n",
       "    }\n",
       "\n",
       "    .dataframe thead th {\n",
       "        text-align: right;\n",
       "    }\n",
       "</style>\n",
       "<table border=\"1\" class=\"dataframe\">\n",
       "  <thead>\n",
       "    <tr style=\"text-align: right;\">\n",
       "      <th></th>\n",
       "      <th>Model</th>\n",
       "      <th>Accuracy</th>\n",
       "      <th>F1_score</th>\n",
       "      <th>Precision</th>\n",
       "      <th>Recall</th>\n",
       "      <th>AUC_score</th>\n",
       "    </tr>\n",
       "  </thead>\n",
       "  <tbody>\n",
       "    <tr>\n",
       "      <th>0</th>\n",
       "      <td>Logistic Regression Classifier</td>\n",
       "      <td>0.825000</td>\n",
       "      <td>0.746988</td>\n",
       "      <td>0.775000</td>\n",
       "      <td>0.720930</td>\n",
       "      <td>0.809121</td>\n",
       "    </tr>\n",
       "    <tr>\n",
       "      <th>0</th>\n",
       "      <td>XGBoost Classifier</td>\n",
       "      <td>0.666667</td>\n",
       "      <td>0.512195</td>\n",
       "      <td>0.538462</td>\n",
       "      <td>0.488372</td>\n",
       "      <td>0.707641</td>\n",
       "    </tr>\n",
       "    <tr>\n",
       "      <th>0</th>\n",
       "      <td>Support Vector Machine</td>\n",
       "      <td>0.783333</td>\n",
       "      <td>0.682927</td>\n",
       "      <td>0.717949</td>\n",
       "      <td>0.651163</td>\n",
       "      <td>0.797946</td>\n",
       "    </tr>\n",
       "    <tr>\n",
       "      <th>0</th>\n",
       "      <td>Gradient Boosting Classifier</td>\n",
       "      <td>0.725000</td>\n",
       "      <td>0.611765</td>\n",
       "      <td>0.619048</td>\n",
       "      <td>0.604651</td>\n",
       "      <td>0.760193</td>\n",
       "    </tr>\n",
       "    <tr>\n",
       "      <th>0</th>\n",
       "      <td>Decision Tree Classifier</td>\n",
       "      <td>0.633333</td>\n",
       "      <td>0.476190</td>\n",
       "      <td>0.487805</td>\n",
       "      <td>0.465116</td>\n",
       "      <td>0.596195</td>\n",
       "    </tr>\n",
       "  </tbody>\n",
       "</table>\n",
       "</div>"
      ],
      "text/plain": [
       "                            Model  Accuracy  F1_score  Precision    Recall  \\\n",
       "0  Logistic Regression Classifier  0.825000  0.746988   0.775000  0.720930   \n",
       "0              XGBoost Classifier  0.666667  0.512195   0.538462  0.488372   \n",
       "0          Support Vector Machine  0.783333  0.682927   0.717949  0.651163   \n",
       "0    Gradient Boosting Classifier  0.725000  0.611765   0.619048  0.604651   \n",
       "0        Decision Tree Classifier  0.633333  0.476190   0.487805  0.465116   \n",
       "\n",
       "   AUC_score  \n",
       "0   0.809121  \n",
       "0   0.707641  \n",
       "0   0.797946  \n",
       "0   0.760193  \n",
       "0   0.596195  "
      ]
     },
     "execution_count": 116,
     "metadata": {},
     "output_type": "execute_result"
    }
   ],
   "source": [
    "model_result = pd.DataFrame([['Decision Tree Classifier', accuracy, f1, precision, recall, auc_score]], columns = ['Model', 'Accuracy', 'F1_score', 'Precision', 'Recall', 'AUC_score'])\n",
    "results = results.append(model_result)\n",
    "results"
   ]
  },
  {
   "cell_type": "code",
   "execution_count": null,
   "id": "df4a3a73",
   "metadata": {},
   "outputs": [],
   "source": []
  },
  {
   "cell_type": "markdown",
   "id": "3e259ace",
   "metadata": {
    "id": "A54gPujOmqaV"
   },
   "source": [
    "## Random Forest"
   ]
  },
  {
   "cell_type": "markdown",
   "id": "f481910e",
   "metadata": {
    "id": "MC6WaxZUmqaW"
   },
   "source": [
    "### Create the Model"
   ]
  },
  {
   "cell_type": "code",
   "execution_count": 117,
   "id": "5d246c41",
   "metadata": {
    "id": "THTw7OjhmqaW"
   },
   "outputs": [],
   "source": [
    "# Code here\n",
    "rfc = RandomForestClassifier()"
   ]
  },
  {
   "cell_type": "markdown",
   "id": "0c394767",
   "metadata": {
    "id": "n7CV9W0DmqaW"
   },
   "source": [
    "### Train the Model"
   ]
  },
  {
   "cell_type": "code",
   "execution_count": 118,
   "id": "adc11eb0",
   "metadata": {
    "id": "uQMdz0JPmqaW"
   },
   "outputs": [
    {
     "data": {
      "text/plain": [
       "RandomForestClassifier()"
      ]
     },
     "execution_count": 118,
     "metadata": {},
     "output_type": "execute_result"
    }
   ],
   "source": [
    "# Use the .fit method\n",
    "rfc.fit(X_train_df, y_train)"
   ]
  },
  {
   "cell_type": "markdown",
   "id": "88faa90d",
   "metadata": {
    "id": "f1Fb-2_PmqaW"
   },
   "source": [
    "### Evaluate the Model on the Evaluation dataset (Evalset)"
   ]
  },
  {
   "cell_type": "code",
   "execution_count": 119,
   "id": "d08d3a91",
   "metadata": {},
   "outputs": [
    {
     "data": {
      "text/plain": [
       "(0.7083333333333334,\n",
       " 0.6153846153846155,\n",
       " 0.5833333333333334,\n",
       " 0.6511627906976745,\n",
       " 0.7680459075807913)"
      ]
     },
     "execution_count": 119,
     "metadata": {},
     "output_type": "execute_result"
    }
   ],
   "source": [
    "accuracy, f1, precision, recall, auc_score = evaluate_model(rfc, X_test_df, y_test)\n",
    "accuracy, f1, precision, recall, auc_score"
   ]
  },
  {
   "cell_type": "code",
   "execution_count": 120,
   "id": "8fa6a3d1",
   "metadata": {
    "scrolled": true
   },
   "outputs": [
    {
     "data": {
      "text/html": [
       "<div>\n",
       "<style scoped>\n",
       "    .dataframe tbody tr th:only-of-type {\n",
       "        vertical-align: middle;\n",
       "    }\n",
       "\n",
       "    .dataframe tbody tr th {\n",
       "        vertical-align: top;\n",
       "    }\n",
       "\n",
       "    .dataframe thead th {\n",
       "        text-align: right;\n",
       "    }\n",
       "</style>\n",
       "<table border=\"1\" class=\"dataframe\">\n",
       "  <thead>\n",
       "    <tr style=\"text-align: right;\">\n",
       "      <th></th>\n",
       "      <th>Model</th>\n",
       "      <th>Accuracy</th>\n",
       "      <th>F1_score</th>\n",
       "      <th>Precision</th>\n",
       "      <th>Recall</th>\n",
       "      <th>AUC_score</th>\n",
       "    </tr>\n",
       "  </thead>\n",
       "  <tbody>\n",
       "    <tr>\n",
       "      <th>0</th>\n",
       "      <td>Logistic Regression Classifier</td>\n",
       "      <td>0.825000</td>\n",
       "      <td>0.746988</td>\n",
       "      <td>0.775000</td>\n",
       "      <td>0.720930</td>\n",
       "      <td>0.809121</td>\n",
       "    </tr>\n",
       "    <tr>\n",
       "      <th>0</th>\n",
       "      <td>XGBoost Classifier</td>\n",
       "      <td>0.666667</td>\n",
       "      <td>0.512195</td>\n",
       "      <td>0.538462</td>\n",
       "      <td>0.488372</td>\n",
       "      <td>0.707641</td>\n",
       "    </tr>\n",
       "    <tr>\n",
       "      <th>0</th>\n",
       "      <td>Support Vector Machine</td>\n",
       "      <td>0.783333</td>\n",
       "      <td>0.682927</td>\n",
       "      <td>0.717949</td>\n",
       "      <td>0.651163</td>\n",
       "      <td>0.797946</td>\n",
       "    </tr>\n",
       "    <tr>\n",
       "      <th>0</th>\n",
       "      <td>Gradient Boosting Classifier</td>\n",
       "      <td>0.725000</td>\n",
       "      <td>0.611765</td>\n",
       "      <td>0.619048</td>\n",
       "      <td>0.604651</td>\n",
       "      <td>0.760193</td>\n",
       "    </tr>\n",
       "    <tr>\n",
       "      <th>0</th>\n",
       "      <td>Decision Tree Classifier</td>\n",
       "      <td>0.633333</td>\n",
       "      <td>0.476190</td>\n",
       "      <td>0.487805</td>\n",
       "      <td>0.465116</td>\n",
       "      <td>0.596195</td>\n",
       "    </tr>\n",
       "    <tr>\n",
       "      <th>0</th>\n",
       "      <td>Random Forest Classifier</td>\n",
       "      <td>0.708333</td>\n",
       "      <td>0.615385</td>\n",
       "      <td>0.583333</td>\n",
       "      <td>0.651163</td>\n",
       "      <td>0.768046</td>\n",
       "    </tr>\n",
       "  </tbody>\n",
       "</table>\n",
       "</div>"
      ],
      "text/plain": [
       "                            Model  Accuracy  F1_score  Precision    Recall  \\\n",
       "0  Logistic Regression Classifier  0.825000  0.746988   0.775000  0.720930   \n",
       "0              XGBoost Classifier  0.666667  0.512195   0.538462  0.488372   \n",
       "0          Support Vector Machine  0.783333  0.682927   0.717949  0.651163   \n",
       "0    Gradient Boosting Classifier  0.725000  0.611765   0.619048  0.604651   \n",
       "0        Decision Tree Classifier  0.633333  0.476190   0.487805  0.465116   \n",
       "0        Random Forest Classifier  0.708333  0.615385   0.583333  0.651163   \n",
       "\n",
       "   AUC_score  \n",
       "0   0.809121  \n",
       "0   0.707641  \n",
       "0   0.797946  \n",
       "0   0.760193  \n",
       "0   0.596195  \n",
       "0   0.768046  "
      ]
     },
     "execution_count": 120,
     "metadata": {},
     "output_type": "execute_result"
    }
   ],
   "source": [
    "model_result = pd.DataFrame([['Random Forest Classifier', accuracy, f1, precision, recall, auc_score]], columns = ['Model', 'Accuracy', 'F1_score', 'Precision', 'Recall', 'AUC_score'])\n",
    "results = results.append(model_result)\n",
    "results"
   ]
  },
  {
   "cell_type": "markdown",
   "id": "f95361a9",
   "metadata": {},
   "source": [
    ">- "
   ]
  },
  {
   "cell_type": "code",
   "execution_count": 121,
   "id": "a04dfe96",
   "metadata": {},
   "outputs": [
    {
     "ename": "SyntaxError",
     "evalue": "invalid syntax (<ipython-input-121-4071a1fba099>, line 1)",
     "output_type": "error",
     "traceback": [
      "\u001b[1;36m  File \u001b[1;32m\"<ipython-input-121-4071a1fba099>\"\u001b[1;36m, line \u001b[1;32m1\u001b[0m\n\u001b[1;33m    --\u001b[0m\n\u001b[1;37m      ^\u001b[0m\n\u001b[1;31mSyntaxError\u001b[0m\u001b[1;31m:\u001b[0m invalid syntax\n"
     ]
    }
   ],
   "source": [
    "--"
   ]
  },
  {
   "cell_type": "markdown",
   "id": "3061757f",
   "metadata": {
    "id": "ezmrABneph31"
   },
   "source": [
    "## Hyperparameters tuning \n",
    "\n",
    "Fine-tune the Top-k models (3 < k < 5) using a ` GridSearchCV`  (that is in sklearn.model_selection\n",
    ") to find the best hyperparameters and achieve the maximum performance of each of the Top-k models, then compare them again to select the best one."
   ]
  },
  {
   "cell_type": "code",
   "execution_count": null,
   "id": "0db66fd3",
   "metadata": {},
   "outputs": [],
   "source": [
    "# # make f2 a scorer\n",
    "f2_scorer_ = make_scorer(fbeta_score, beta=2)\n",
    "accuracy_score_ = make_scorer(accuracy_score)\n",
    "f1_score_ = make_scorer(f1_score)\n",
    "precision_score_ = make_scorer(precision_score)\n",
    "recall_ = make_scorer(recall_score)\n",
    "\n",
    "scoring = {\n",
    "    'accuracy': accuracy_score_,\n",
    "    'f1_score': f1_score_,\n",
    "    'precision': precision_score_,\n",
    "    'f2_score': f2_scorer_,\n",
    "    'recall': recall_\n",
    "}"
   ]
  },
  {
   "cell_type": "markdown",
   "id": "8a533644",
   "metadata": {},
   "source": [
    "### Model Tuning for Logistic Rgression Classifier"
   ]
  },
  {
   "cell_type": "code",
   "execution_count": null,
   "id": "b5168d9a",
   "metadata": {
    "id": "FpTEDK9RrlRl",
    "scrolled": true
   },
   "outputs": [],
   "source": [
    "\n",
    "weights = class_weight.compute_class_weight('balanced', classes=np.unique(y_train), y=y_train)\n",
    "unique_labels = np.unique(y_train)\n",
    "class_weights = dict(zip(unique_labels, weights))\n",
    "class_weights\n",
    "# Code here\n",
    "\n",
    "\n",
    "param_grid= [{'penalty': ['l1', 'l2'],\\\n",
    "             'C': [0.001, 0.01, 0.1, 1, 10, 100], 'intercept_scaling':[1, 0.1, 5, 10],\n",
    "              'max_iter': [100, 500, 1000], 'class_weight':[class_weights],\n",
    "              'solver':['saga', 'liblinear', 'newton-cholesky'], \n",
    "              'l1_ratio': np.arange(0, 1, 0.5) , 'random_state':[126]}]"
   ]
  },
  {
   "cell_type": "code",
   "execution_count": null,
   "id": "a1f49600",
   "metadata": {},
   "outputs": [],
   "source": []
  },
  {
   "cell_type": "code",
   "execution_count": null,
   "id": "2a6c68b9",
   "metadata": {},
   "outputs": [],
   "source": [
    "# create a bayessearchcv to finetune the logistic regression model\n",
    "logistic_grid_search = GridSearchCV(lgr_model,param_grid, scoring=scoring, cv=10, return_train_score=True, refit='accuracy')"
   ]
  },
  {
   "cell_type": "code",
   "execution_count": null,
   "id": "d93c2c7d",
   "metadata": {},
   "outputs": [],
   "source": [
    "# train the model\n",
    "logistic_grid_search.fit(X_train_oversampled, y_train_oversampled)"
   ]
  },
  {
   "cell_type": "code",
   "execution_count": null,
   "id": "edcbf27d",
   "metadata": {},
   "outputs": [],
   "source": [
    "# get the best parameter from the bayesearch\n",
    "best_lgr = logistic_grid_search.best_estimator_\n",
    "best_lgr"
   ]
  },
  {
   "cell_type": "code",
   "execution_count": null,
   "id": "b146e22a",
   "metadata": {},
   "outputs": [],
   "source": [
    "X_test_df"
   ]
  },
  {
   "cell_type": "code",
   "execution_count": null,
   "id": "4e38f11f",
   "metadata": {
    "scrolled": true
   },
   "outputs": [],
   "source": [
    "type([y_test])"
   ]
  },
  {
   "cell_type": "code",
   "execution_count": null,
   "id": "6e3da329",
   "metadata": {},
   "outputs": [],
   "source": [
    "pred = best_lgr.predict(X_test_df)"
   ]
  },
  {
   "cell_type": "code",
   "execution_count": null,
   "id": "b31919eb",
   "metadata": {
    "scrolled": true
   },
   "outputs": [],
   "source": [
    "accuracy, f1, precision, recall = evaluate_model(best_lgr, X_test_df, y_test)"
   ]
  },
  {
   "cell_type": "code",
   "execution_count": null,
   "id": "6800a7c1",
   "metadata": {},
   "outputs": [],
   "source": [
    "accuracy, f1, precision, recall"
   ]
  },
  {
   "cell_type": "code",
   "execution_count": null,
   "id": "ef0372e5",
   "metadata": {},
   "outputs": [],
   "source": [
    "f2_scorer_(best_lgr, X_test_df, y_true=y_test)"
   ]
  },
  {
   "cell_type": "code",
   "execution_count": null,
   "id": "c32b898f",
   "metadata": {},
   "outputs": [],
   "source": [
    "tuned_results_bcv = pd.DataFrame([['Logistic Regression Classifier-finetuned', accuracy, f1, precision, recall\n",
    "]], columns = ['Model', 'Accuracy', 'F1_score', 'Precision', 'Recall'])"
   ]
  },
  {
   "cell_type": "code",
   "execution_count": null,
   "id": "0604bc61",
   "metadata": {},
   "outputs": [],
   "source": [
    "tuned_results_bcv"
   ]
  },
  {
   "cell_type": "code",
   "execution_count": null,
   "id": "f39ef6ff",
   "metadata": {},
   "outputs": [],
   "source": [
    "//"
   ]
  },
  {
   "cell_type": "markdown",
   "id": "8a9ad8a8",
   "metadata": {},
   "source": [
    "### Model Tuning for Random Forest Classifier"
   ]
  },
  {
   "cell_type": "code",
   "execution_count": null,
   "id": "e42d126b",
   "metadata": {},
   "outputs": [],
   "source": [
    "# Create the parameter bayes search \n",
    "param_grid_rfc = {\n",
    "    'bootstrap': [True], \n",
    "    'max_features': [2, 3, 9], \n",
    "    'min_samples_split': [8, 10, 12], \n",
    "    'n_estimators': [100, 200, 300, 500], \n",
    "    'random_state':[100,  120, 150], \n",
    "    'min_samples_leaf':[8, 6, 10, 7],\n",
    "    'max_depth': [6, 8, 9, 80, 90, 100],\n",
    "    'random_state': [126, 156]\n",
    "}"
   ]
  },
  {
   "cell_type": "code",
   "execution_count": null,
   "id": "fe16b879",
   "metadata": {},
   "outputs": [],
   "source": [
    "import gc\n",
    "gc.collect()"
   ]
  },
  {
   "cell_type": "code",
   "execution_count": null,
   "id": "3d0bcab6",
   "metadata": {},
   "outputs": [],
   "source": [
    "# create a bayessearchcv to finetune the Support Vectors Machines regression model\n",
    "\n",
    "rfc_grid_search = GridSearchCV(rfc, param_grid_rfc, scoring=scoring, cv=5, return_train_score=True, refit='recall')"
   ]
  },
  {
   "cell_type": "code",
   "execution_count": null,
   "id": "96036c5f",
   "metadata": {},
   "outputs": [],
   "source": [
    "# train the model\n",
    "rfc_grid_search.fit(X_train_df, y_train)"
   ]
  },
  {
   "cell_type": "code",
   "execution_count": null,
   "id": "b5609c82",
   "metadata": {},
   "outputs": [],
   "source": [
    "# # get the bbest eestimator\n",
    "best_rfc = rfc_grid_search.best_estimator_\n",
    "best_rfc"
   ]
  },
  {
   "cell_type": "code",
   "execution_count": null,
   "id": "fba54d7f",
   "metadata": {},
   "outputs": [],
   "source": [
    "rfc_pred  = best_rfc.predict(X_test_df)"
   ]
  },
  {
   "cell_type": "code",
   "execution_count": null,
   "id": "f0a47498",
   "metadata": {},
   "outputs": [],
   "source": [
    "accuracy, f1, precision, recall = evaluate_model(best_rfc, X_test_df, y_test)\n",
    "accuracy, f1, precision, recall"
   ]
  },
  {
   "cell_type": "code",
   "execution_count": null,
   "id": "99c9d309",
   "metadata": {
    "scrolled": false
   },
   "outputs": [],
   "source": [
    "# rfc_results_bcv = pd.DataFrame([['Random Forest Classifier-finetuned', accuracy, f1, precision, recall\n",
    "# ]], columns = ['Model', 'Accuracy', 'F1_score', 'Precision', 'Recall'])\n",
    "# tuned_results_bcv.append(rfc_results_bcv)"
   ]
  },
  {
   "cell_type": "markdown",
   "id": "baa17e5b",
   "metadata": {},
   "source": [
    "### Model Tuning for Random Forest Classifier"
   ]
  },
  {
   "cell_type": "code",
   "execution_count": null,
   "id": "4bab22ab",
   "metadata": {},
   "outputs": [],
   "source": [
    "# Create the parameter bayes search \n",
    "param_grid_dtc = { \n",
    "    'min_samples_split': [8, 10], \n",
    "    'min_samples_leaf':[8, 6, 10, 7],\n",
    "    'max_depth': [6, 8, 9, 80, 90, 100],\n",
    "    'random_state': [126, 156]\n",
    "}\n",
    "# 'ccp_alpha', 'class_weight', 'criterion', 'max_depth', 'max_features', 'max_leaf_nodes', 'min_impurity_decrease', 'min_impurity_split', 'min_samples_leaf', 'min_samples_split', 'min_weight_fraction_leaf', 'random_state', 'splitter'"
   ]
  },
  {
   "cell_type": "code",
   "execution_count": null,
   "id": "bc7e5ce5",
   "metadata": {},
   "outputs": [],
   "source": [
    "import gc\n",
    "gc.collect()"
   ]
  },
  {
   "cell_type": "code",
   "execution_count": null,
   "id": "b15dd882",
   "metadata": {},
   "outputs": [],
   "source": [
    "# create a bayessearchcv to finetune the Support Vectors Machines regression model\n",
    "\n",
    "dtc_grid_search = BayesSearchCV(dtc, param_grid_dtc, scoring=f2_scorer_, cv=5, return_train_score=True)"
   ]
  },
  {
   "cell_type": "code",
   "execution_count": null,
   "id": "306cce13",
   "metadata": {},
   "outputs": [],
   "source": [
    "dtc.get_params().keys()"
   ]
  },
  {
   "cell_type": "code",
   "execution_count": null,
   "id": "c4317fc6",
   "metadata": {},
   "outputs": [],
   "source": [
    "# train the model\n",
    "dtc_grid_search.fit(X_train_df, y_train)"
   ]
  },
  {
   "cell_type": "code",
   "execution_count": null,
   "id": "1a87bcea",
   "metadata": {},
   "outputs": [],
   "source": [
    "# # get the bbest eestimator\n",
    "best_dtc = dtc_grid_search.best_estimator_\n",
    "best_dtc"
   ]
  },
  {
   "cell_type": "code",
   "execution_count": null,
   "id": "4e623d0c",
   "metadata": {},
   "outputs": [],
   "source": [
    "rfc_pred  = best_rfc.predict(X_test_df)"
   ]
  },
  {
   "cell_type": "code",
   "execution_count": null,
   "id": "394ec071",
   "metadata": {},
   "outputs": [],
   "source": [
    "accuracy, f1, precision, recall = evaluate_model(best_dtc, X_test_df, y_test)\n",
    "accuracy, f1, precision, recall"
   ]
  },
  {
   "cell_type": "code",
   "execution_count": null,
   "id": "6552c84e",
   "metadata": {},
   "outputs": [],
   "source": []
  },
  {
   "cell_type": "markdown",
   "id": "68d7fd1d",
   "metadata": {},
   "source": [
    "# Export key components\n",
    "Here is the section to **export** the important ML objects that will be use to develop an app: *Encoder, Scaler, ColumnTransformer, Model, Pipeline, etc*.\n",
    "\n",
    "# Use pickle : put all your key components in a python dictionary and save it as a file that will be loaded in an app"
   ]
  },
  {
   "cell_type": "code",
   "execution_count": null,
   "id": "66381048",
   "metadata": {},
   "outputs": [],
   "source": []
  },
  {
   "cell_type": "code",
   "execution_count": null,
   "id": "6617af8c",
   "metadata": {},
   "outputs": [],
   "source": [
    "# Save the model and the columntransformer\n",
    "\n",
    "\n",
    "# Navigate to the desired directory\n",
    "directory = os.path.abspath(os.path.join(os.getcwd(), '..', '..', 'src', 'app', 'assets'))\n",
    "\n",
    "# Save the model as a pickle file\n",
    "filename = os.path.join(directory, 'model.pkl')\n",
    "pickle.dump(lgr_model, open(filename, 'wb'))\n",
    "\n"
   ]
  },
  {
   "cell_type": "code",
   "execution_count": null,
   "id": "713630a2",
   "metadata": {},
   "outputs": [],
   "source": [
    "filename2 = os.path.join(directory, 'full_pipeline.pkl')\n",
    "pickle.dump(full_pipeline, open(filename2, 'wb') )"
   ]
  },
  {
   "cell_type": "code",
   "execution_count": null,
   "id": "f94dd06f",
   "metadata": {},
   "outputs": [],
   "source": [
    "properties = {}\n",
    "\n",
    "properties['train features'] = {\n",
    "    'numerical features': ['Plasma Glucose', 'Blood Work Result-1', 'Blood Work Result-2',\n",
    "                        'Blood Work Result-3', 'Blood Work Result-4'],\n",
    "    'categorical feature': ['BMI Healthy Weight', 'BMI Obesity', 'BMI Over Weight',\n",
    "                           'BMI Severe Obesity', 'BMI Under Weight', 'Blood Pressure elevated',\n",
    "                           'Blood Pressure elevated', ' Blood Pressure normal', 'Age 20-50',\n",
    "                           'Age 40-70', 'Age 60-90', 'Age 80-110']\n",
    "}\n",
    "\n",
    "\n",
    "filename2 = os.path.join(directory, 'properties.pkl')\n",
    "pickle.dump(properties, open(filename2, 'wb') )"
   ]
  },
  {
   "cell_type": "code",
   "execution_count": null,
   "id": "0966e54b",
   "metadata": {},
   "outputs": [],
   "source": [
    "%ls"
   ]
  },
  {
   "cell_type": "code",
   "execution_count": null,
   "id": "8ab3256b",
   "metadata": {},
   "outputs": [],
   "source": [
    "import session_info\n",
    "\n",
    "session_info.show()"
   ]
  },
  {
   "cell_type": "code",
   "execution_count": null,
   "id": "a1dc6f5e",
   "metadata": {},
   "outputs": [],
   "source": [
    "columns = X_train_df.columns"
   ]
  },
  {
   "cell_type": "code",
   "execution_count": null,
   "id": "4d850f22",
   "metadata": {},
   "outputs": [],
   "source": [
    "columns"
   ]
  },
  {
   "cell_type": "code",
   "execution_count": null,
   "id": "d4186b2d",
   "metadata": {},
   "outputs": [],
   "source": [
    "new_X = X_train_df.copy()\n",
    "new_X = new_X.rename(columns={'x1_Healthy Weight': 'BMI Healthy Weight', 'x1_Obesity': 'BMI Obesity', 'x1_Over Weight': 'BMI Over Weight',\n",
    "       'x1_Severe Obesity': 'BMI Severe Obesity', 'x1_Under Weight': 'BMI Under Weight', 'x2_elevated': 'Blood Pressure elevated', 'x2_high': 'Blood Pressure elevated',\n",
    "       'x2_normal': ' Blood Pressure normal', 'x3_20-50': 'Age 20-50', 'x3_40-70': 'Age 40-70', 'x3_60-90': 'Age 60-90', 'x3_80-110': 'Age 80-110'})"
   ]
  },
  {
   "cell_type": "markdown",
   "id": "015fce8f",
   "metadata": {},
   "source": [
    "e43"
   ]
  }
 ],
 "metadata": {
  "kernelspec": {
   "display_name": "Python 3",
   "language": "python",
   "name": "python3"
  },
  "language_info": {
   "codemirror_mode": {
    "name": "ipython",
    "version": 3
   },
   "file_extension": ".py",
   "mimetype": "text/x-python",
   "name": "python",
   "nbconvert_exporter": "python",
   "pygments_lexer": "ipython3",
   "version": "3.8.8"
  }
 },
 "nbformat": 4,
 "nbformat_minor": 5
}
