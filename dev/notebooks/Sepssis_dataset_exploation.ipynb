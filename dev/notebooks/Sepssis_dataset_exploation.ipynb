{
 "cells": [
  {
   "cell_type": "markdown",
   "metadata": {
    "colab_type": "text",
    "id": "view-in-github"
   },
   "source": [
    "<a href=\"https://colab.research.google.com/github/eaedk/Machine-Learning-Tutorials/blob/main/DataAnalysis_Step_By_Step_Guide.ipynb\" target=\"_parent\"><img src=\"https://colab.research.google.com/assets/colab-badge.svg\" alt=\"Open In Colab\"/></a>"
   ]
  },
  {
   "cell_type": "markdown",
   "metadata": {
    "id": "wW3v1-2n3CzK"
   },
   "source": [
    "# Intro\n",
    "## General\n",
    "\"Data analysis is a process of inspecting, cleansing, transforming, and modeling data with the goal of discovering useful information, informing conclusions, and supporting decision-making.\" ([Wikipedia](https://en.wikipedia.org/wiki/Data_analysis)).\n",
    "\n",
    "In Data Analysis, there are some analysis paradigms : **Univariate, Bivariate, Multivariate**. We apply these paradigms to analyze the features (or statistical variables, or columns of the dataframe) of the dataset and to have a better understanding.\n",
    "\n",
    "**Numeric features** are features with numbers that you can perform mathematical operations on. They are further divided into discrete (countable integers with clear boundaries) and continuous (can take any value, even decimals, within a range).\n",
    "\n",
    "**Categorical features** are columns with a limited number of possible values. Examples are `sex, country, or age group`.\n",
    "\n",
    "\n",
    "#### Project Title: The Sepsis Illness Classification Analysis\n",
    "\n",
    "#### Project Description: This project seeks to create a classification model to classify patients Sepsis positive or negative \n",
    "\n",
    "#### Hypothesis: \n",
    "#### Null Hypothesis: \n",
    "#### Alternate Hypothesis: \n",
    "####\n",
    "#### Assumptions:\n",
    "1. It assumed that no patient can have any of the attributes as 0\n",
    "2. It was assumed that the blood pressure used was the diastolic type.\n",
    "\n",
    "\n",
    "#### Questions\n",
    "\n",
    "1. How many patients are under weight, have healthy weight, over weight, obesed and severe obesed?\n",
    "2. What is the distribution of ages for patients captured in the data?\n",
    "3. How many of the patients fall under the Normal, Elevated and High Blood Pressure?\n",
    "4. Is Body Mass Index affected by Age?\n",
    "5. Is Blood Pressure affected by Age?\n",
    "6. What is the relationship between Age and Body In\n",
    "\n",
    "\n",
    "\n",
    "## Notebook overview\n",
    "\n",
    "This notebook is a guide to start practicing Data Analysis."
   ]
  },
  {
   "cell_type": "markdown",
   "metadata": {
    "id": "n4VFUnkuexCE"
   },
   "source": [
    "# Setup"
   ]
  },
  {
   "cell_type": "markdown",
   "metadata": {
    "id": "qdFpRxPje1gw"
   },
   "source": [
    "## Installation\n",
    "Here is the section to install all the packages/libraries that will be needed to tackle the challlenge."
   ]
  },
  {
   "cell_type": "code",
   "execution_count": 1,
   "metadata": {
    "id": "W-d-roFQe6yi"
   },
   "outputs": [],
   "source": [
    "# !pip install -q <lib_001> <lib_002> ..."
   ]
  },
  {
   "cell_type": "markdown",
   "metadata": {
    "id": "0HmLxlQre7HW"
   },
   "source": [
    "## Importation\n",
    "Here is the section to import all the packages/libraries that will be used through this notebook."
   ]
  },
  {
   "cell_type": "code",
   "execution_count": 2,
   "metadata": {
    "id": "MP62JaiKfCnS"
   },
   "outputs": [],
   "source": [
    "# Data handling\n",
    "import pandas as pd\n",
    "import numpy as np\n",
    "import matplotlib.pyplot as plt\n",
    "import os\n",
    "import seaborn as sns"
   ]
  },
  {
   "cell_type": "markdown",
   "metadata": {
    "id": "UfOADQf0e9i1"
   },
   "source": [
    "# Data Loading\n",
    "Here is the section to load the datasets (train, eval, test) and the additional files"
   ]
  },
  {
   "cell_type": "code",
   "execution_count": 3,
   "metadata": {
    "id": "KIQyG5EcfQlU"
   },
   "outputs": [
    {
     "data": {
      "text/html": [
       "<div>\n",
       "<style scoped>\n",
       "    .dataframe tbody tr th:only-of-type {\n",
       "        vertical-align: middle;\n",
       "    }\n",
       "\n",
       "    .dataframe tbody tr th {\n",
       "        vertical-align: top;\n",
       "    }\n",
       "\n",
       "    .dataframe thead th {\n",
       "        text-align: right;\n",
       "    }\n",
       "</style>\n",
       "<table border=\"1\" class=\"dataframe\">\n",
       "  <thead>\n",
       "    <tr style=\"text-align: right;\">\n",
       "      <th></th>\n",
       "      <th>ID</th>\n",
       "      <th>PRG</th>\n",
       "      <th>PL</th>\n",
       "      <th>PR</th>\n",
       "      <th>SK</th>\n",
       "      <th>TS</th>\n",
       "      <th>M11</th>\n",
       "      <th>BD2</th>\n",
       "      <th>Age</th>\n",
       "      <th>Insurance</th>\n",
       "      <th>Sepssis</th>\n",
       "    </tr>\n",
       "  </thead>\n",
       "  <tbody>\n",
       "    <tr>\n",
       "      <th>0</th>\n",
       "      <td>ICU200010</td>\n",
       "      <td>6</td>\n",
       "      <td>148</td>\n",
       "      <td>72</td>\n",
       "      <td>35</td>\n",
       "      <td>0</td>\n",
       "      <td>33.6</td>\n",
       "      <td>0.627</td>\n",
       "      <td>50</td>\n",
       "      <td>0</td>\n",
       "      <td>Positive</td>\n",
       "    </tr>\n",
       "    <tr>\n",
       "      <th>1</th>\n",
       "      <td>ICU200011</td>\n",
       "      <td>1</td>\n",
       "      <td>85</td>\n",
       "      <td>66</td>\n",
       "      <td>29</td>\n",
       "      <td>0</td>\n",
       "      <td>26.6</td>\n",
       "      <td>0.351</td>\n",
       "      <td>31</td>\n",
       "      <td>0</td>\n",
       "      <td>Negative</td>\n",
       "    </tr>\n",
       "    <tr>\n",
       "      <th>2</th>\n",
       "      <td>ICU200012</td>\n",
       "      <td>8</td>\n",
       "      <td>183</td>\n",
       "      <td>64</td>\n",
       "      <td>0</td>\n",
       "      <td>0</td>\n",
       "      <td>23.3</td>\n",
       "      <td>0.672</td>\n",
       "      <td>32</td>\n",
       "      <td>1</td>\n",
       "      <td>Positive</td>\n",
       "    </tr>\n",
       "    <tr>\n",
       "      <th>3</th>\n",
       "      <td>ICU200013</td>\n",
       "      <td>1</td>\n",
       "      <td>89</td>\n",
       "      <td>66</td>\n",
       "      <td>23</td>\n",
       "      <td>94</td>\n",
       "      <td>28.1</td>\n",
       "      <td>0.167</td>\n",
       "      <td>21</td>\n",
       "      <td>1</td>\n",
       "      <td>Negative</td>\n",
       "    </tr>\n",
       "    <tr>\n",
       "      <th>4</th>\n",
       "      <td>ICU200014</td>\n",
       "      <td>0</td>\n",
       "      <td>137</td>\n",
       "      <td>40</td>\n",
       "      <td>35</td>\n",
       "      <td>168</td>\n",
       "      <td>43.1</td>\n",
       "      <td>2.288</td>\n",
       "      <td>33</td>\n",
       "      <td>1</td>\n",
       "      <td>Positive</td>\n",
       "    </tr>\n",
       "  </tbody>\n",
       "</table>\n",
       "</div>"
      ],
      "text/plain": [
       "          ID  PRG   PL  PR  SK   TS   M11    BD2  Age  Insurance   Sepssis\n",
       "0  ICU200010    6  148  72  35    0  33.6  0.627   50          0  Positive\n",
       "1  ICU200011    1   85  66  29    0  26.6  0.351   31          0  Negative\n",
       "2  ICU200012    8  183  64   0    0  23.3  0.672   32          1  Positive\n",
       "3  ICU200013    1   89  66  23   94  28.1  0.167   21          1  Negative\n",
       "4  ICU200014    0  137  40  35  168  43.1  2.288   33          1  Positive"
      ]
     },
     "execution_count": 3,
     "metadata": {},
     "output_type": "execute_result"
    }
   ],
   "source": [
    "# For CSV, use pandas.read_csv\n",
    "df = pd.read_csv('../datasets/Paitients_Files_Train.csv')\n",
    "df.head(5)"
   ]
  },
  {
   "cell_type": "markdown",
   "metadata": {
    "id": "okaZxnc3fRId"
   },
   "source": [
    "# Exploratory Data Analysis: EDA\n",
    "Here is the section to **inspect** the datasets in depth, **present** it, make **hypotheses** and **think** the *cleaning, processing and features creation*."
   ]
  },
  {
   "cell_type": "markdown",
   "metadata": {
    "id": "kTvnZQUlD6vf"
   },
   "source": [
    "## Dataset overview\n",
    "\n",
    "Have a look at the loaded datsets using the following methods: `.head(), .info()`"
   ]
  },
  {
   "cell_type": "code",
   "execution_count": 4,
   "metadata": {
    "scrolled": true
   },
   "outputs": [
    {
     "data": {
      "text/plain": [
       "ID            object\n",
       "PRG            int64\n",
       "PL             int64\n",
       "PR             int64\n",
       "SK             int64\n",
       "TS             int64\n",
       "M11          float64\n",
       "BD2          float64\n",
       "Age            int64\n",
       "Insurance      int64\n",
       "Sepssis       object\n",
       "dtype: object"
      ]
     },
     "execution_count": 4,
     "metadata": {},
     "output_type": "execute_result"
    }
   ],
   "source": [
    "# display the datatypes\n",
    "df.dtypes"
   ]
  },
  {
   "cell_type": "markdown",
   "metadata": {},
   "source": [
    "**All the data types are of numeric data types**"
   ]
  },
  {
   "cell_type": "code",
   "execution_count": 5,
   "metadata": {
    "id": "0VNR9LfZfbGe"
   },
   "outputs": [
    {
     "data": {
      "text/plain": [
       "(599, 11)"
      ]
     },
     "execution_count": 5,
     "metadata": {},
     "output_type": "execute_result"
    }
   ],
   "source": [
    "# check the shape of the data\n",
    "df.shape"
   ]
  },
  {
   "cell_type": "markdown",
   "metadata": {},
   "source": [
    "**The dataset has 11 columns and 599 rows**"
   ]
  },
  {
   "cell_type": "code",
   "execution_count": 6,
   "metadata": {
    "id": "3oUlBJbRFa2t"
   },
   "outputs": [
    {
     "data": {
      "text/plain": [
       "ID           0\n",
       "PRG          0\n",
       "PL           0\n",
       "PR           0\n",
       "SK           0\n",
       "TS           0\n",
       "M11          0\n",
       "BD2          0\n",
       "Age          0\n",
       "Insurance    0\n",
       "Sepssis      0\n",
       "dtype: int64"
      ]
     },
     "execution_count": 6,
     "metadata": {},
     "output_type": "execute_result"
    }
   ],
   "source": [
    "# check for null values\n",
    "df.isnull().sum()"
   ]
  },
  {
   "cell_type": "code",
   "execution_count": 7,
   "metadata": {
    "scrolled": true
   },
   "outputs": [
    {
     "data": {
      "text/plain": [
       "Index(['ID', 'PRG', 'PL', 'PR', 'SK', 'TS', 'M11', 'BD2', 'Age', 'Insurance',\n",
       "       'Sepssis'],\n",
       "      dtype='object')"
      ]
     },
     "execution_count": 7,
     "metadata": {},
     "output_type": "execute_result"
    }
   ],
   "source": [
    "df.columns"
   ]
  },
  {
   "cell_type": "markdown",
   "metadata": {},
   "source": [
    "**All rows had values**"
   ]
  },
  {
   "cell_type": "code",
   "execution_count": 8,
   "metadata": {
    "scrolled": true
   },
   "outputs": [
    {
     "name": "stdout",
     "output_type": "stream",
     "text": [
      "The maximum age is 81 and minimum age 21.\n"
     ]
    },
    {
     "data": {
      "text/plain": [
       "21    52\n",
       "22    52\n",
       "25    40\n",
       "24    37\n",
       "23    27\n",
       "29    27\n",
       "28    26\n",
       "26    25\n",
       "27    21\n",
       "41    20\n",
       "31    19\n",
       "37    18\n",
       "30    16\n",
       "33    15\n",
       "42    13\n",
       "36    13\n",
       "32    13\n",
       "38    13\n",
       "46    11\n",
       "35    10\n",
       "39    10\n",
       "34     9\n",
       "40     8\n",
       "43     8\n",
       "45     8\n",
       "44     7\n",
       "58     7\n",
       "51     7\n",
       "60     5\n",
       "57     5\n",
       "52     5\n",
       "54     4\n",
       "62     4\n",
       "55     4\n",
       "50     4\n",
       "47     4\n",
       "53     3\n",
       "49     3\n",
       "59     3\n",
       "48     3\n",
       "63     3\n",
       "65     3\n",
       "66     3\n",
       "67     3\n",
       "56     2\n",
       "61     2\n",
       "64     1\n",
       "69     1\n",
       "72     1\n",
       "81     1\n",
       "Name: Age, dtype: int64"
      ]
     },
     "execution_count": 8,
     "metadata": {},
     "output_type": "execute_result"
    }
   ],
   "source": [
    "print(f\"The maximum age is {df['Age'].max()} and minimum age {df['Age'].min()}.\")\n",
    "df['Age'].value_counts()"
   ]
  },
  {
   "cell_type": "markdown",
   "metadata": {},
   "source": [
    "**52 of the patients were 22 years old, that was the hisghest number of times an age occured**"
   ]
  },
  {
   "cell_type": "code",
   "execution_count": 9,
   "metadata": {},
   "outputs": [],
   "source": [
    "# create a function to print the number of unique values\n",
    "def print_unique_values(data):\n",
    "    values = {}\n",
    "    for col in data.columns:\n",
    "        number = data[col].nunique()\n",
    "        print(f'{col}: has {number} of unique values')   "
   ]
  },
  {
   "cell_type": "code",
   "execution_count": 10,
   "metadata": {},
   "outputs": [
    {
     "name": "stdout",
     "output_type": "stream",
     "text": [
      "ID: has 599 of unique values\n",
      "PRG: has 17 of unique values\n",
      "PL: has 129 of unique values\n",
      "PR: has 44 of unique values\n",
      "SK: has 51 of unique values\n",
      "TS: has 164 of unique values\n",
      "M11: has 233 of unique values\n",
      "BD2: has 437 of unique values\n",
      "Age: has 50 of unique values\n",
      "Insurance: has 2 of unique values\n",
      "Sepssis: has 2 of unique values\n"
     ]
    }
   ],
   "source": [
    "print_unique_values(df)"
   ]
  },
  {
   "cell_type": "code",
   "execution_count": 11,
   "metadata": {},
   "outputs": [],
   "source": [
    "def number_of_zeros(data):\n",
    "    for col in data.columns:\n",
    "        if col != 'Sepssis':\n",
    "            count = (data[col] == 0).sum()\n",
    "            print(f'Count of zeros in Column  {col} : {count}')"
   ]
  },
  {
   "cell_type": "code",
   "execution_count": 12,
   "metadata": {},
   "outputs": [
    {
     "name": "stdout",
     "output_type": "stream",
     "text": [
      "Count of zeros in Column  ID : 0\n",
      "Count of zeros in Column  PRG : 93\n",
      "Count of zeros in Column  PL : 5\n",
      "Count of zeros in Column  PR : 28\n",
      "Count of zeros in Column  SK : 175\n",
      "Count of zeros in Column  TS : 289\n",
      "Count of zeros in Column  M11 : 9\n",
      "Count of zeros in Column  BD2 : 0\n",
      "Count of zeros in Column  Age : 0\n",
      "Count of zeros in Column  Insurance : 188\n"
     ]
    }
   ],
   "source": [
    "number_of_zeros(df)"
   ]
  },
  {
   "cell_type": "markdown",
   "metadata": {},
   "source": [
    "**Although there were no null values in the columns, some of the columns had 0's in the them**"
   ]
  },
  {
   "cell_type": "code",
   "execution_count": 14,
   "metadata": {},
   "outputs": [
    {
     "data": {
      "text/html": [
       "<div>\n",
       "<style scoped>\n",
       "    .dataframe tbody tr th:only-of-type {\n",
       "        vertical-align: middle;\n",
       "    }\n",
       "\n",
       "    .dataframe tbody tr th {\n",
       "        vertical-align: top;\n",
       "    }\n",
       "\n",
       "    .dataframe thead th {\n",
       "        text-align: right;\n",
       "    }\n",
       "</style>\n",
       "<table border=\"1\" class=\"dataframe\">\n",
       "  <thead>\n",
       "    <tr style=\"text-align: right;\">\n",
       "      <th></th>\n",
       "      <th>PRG</th>\n",
       "      <th>PL</th>\n",
       "      <th>PR</th>\n",
       "      <th>SK</th>\n",
       "      <th>TS</th>\n",
       "      <th>M11</th>\n",
       "      <th>BD2</th>\n",
       "      <th>Age</th>\n",
       "      <th>Insurance</th>\n",
       "    </tr>\n",
       "  </thead>\n",
       "  <tbody>\n",
       "    <tr>\n",
       "      <th>count</th>\n",
       "      <td>599.000000</td>\n",
       "      <td>599.000000</td>\n",
       "      <td>599.000000</td>\n",
       "      <td>599.000000</td>\n",
       "      <td>599.000000</td>\n",
       "      <td>599.000000</td>\n",
       "      <td>599.000000</td>\n",
       "      <td>599.000000</td>\n",
       "      <td>599.000000</td>\n",
       "    </tr>\n",
       "    <tr>\n",
       "      <th>mean</th>\n",
       "      <td>3.824708</td>\n",
       "      <td>120.153589</td>\n",
       "      <td>68.732888</td>\n",
       "      <td>20.562604</td>\n",
       "      <td>79.460768</td>\n",
       "      <td>31.920033</td>\n",
       "      <td>0.481187</td>\n",
       "      <td>33.290484</td>\n",
       "      <td>0.686144</td>\n",
       "    </tr>\n",
       "    <tr>\n",
       "      <th>std</th>\n",
       "      <td>3.362839</td>\n",
       "      <td>32.682364</td>\n",
       "      <td>19.335675</td>\n",
       "      <td>16.017622</td>\n",
       "      <td>116.576176</td>\n",
       "      <td>8.008227</td>\n",
       "      <td>0.337552</td>\n",
       "      <td>11.828446</td>\n",
       "      <td>0.464447</td>\n",
       "    </tr>\n",
       "    <tr>\n",
       "      <th>min</th>\n",
       "      <td>0.000000</td>\n",
       "      <td>0.000000</td>\n",
       "      <td>0.000000</td>\n",
       "      <td>0.000000</td>\n",
       "      <td>0.000000</td>\n",
       "      <td>0.000000</td>\n",
       "      <td>0.078000</td>\n",
       "      <td>21.000000</td>\n",
       "      <td>0.000000</td>\n",
       "    </tr>\n",
       "    <tr>\n",
       "      <th>25%</th>\n",
       "      <td>1.000000</td>\n",
       "      <td>99.000000</td>\n",
       "      <td>64.000000</td>\n",
       "      <td>0.000000</td>\n",
       "      <td>0.000000</td>\n",
       "      <td>27.100000</td>\n",
       "      <td>0.248000</td>\n",
       "      <td>24.000000</td>\n",
       "      <td>0.000000</td>\n",
       "    </tr>\n",
       "    <tr>\n",
       "      <th>50%</th>\n",
       "      <td>3.000000</td>\n",
       "      <td>116.000000</td>\n",
       "      <td>70.000000</td>\n",
       "      <td>23.000000</td>\n",
       "      <td>36.000000</td>\n",
       "      <td>32.000000</td>\n",
       "      <td>0.383000</td>\n",
       "      <td>29.000000</td>\n",
       "      <td>1.000000</td>\n",
       "    </tr>\n",
       "    <tr>\n",
       "      <th>75%</th>\n",
       "      <td>6.000000</td>\n",
       "      <td>140.000000</td>\n",
       "      <td>80.000000</td>\n",
       "      <td>32.000000</td>\n",
       "      <td>123.500000</td>\n",
       "      <td>36.550000</td>\n",
       "      <td>0.647000</td>\n",
       "      <td>40.000000</td>\n",
       "      <td>1.000000</td>\n",
       "    </tr>\n",
       "    <tr>\n",
       "      <th>max</th>\n",
       "      <td>17.000000</td>\n",
       "      <td>198.000000</td>\n",
       "      <td>122.000000</td>\n",
       "      <td>99.000000</td>\n",
       "      <td>846.000000</td>\n",
       "      <td>67.100000</td>\n",
       "      <td>2.420000</td>\n",
       "      <td>81.000000</td>\n",
       "      <td>1.000000</td>\n",
       "    </tr>\n",
       "  </tbody>\n",
       "</table>\n",
       "</div>"
      ],
      "text/plain": [
       "              PRG          PL          PR          SK          TS         M11  \\\n",
       "count  599.000000  599.000000  599.000000  599.000000  599.000000  599.000000   \n",
       "mean     3.824708  120.153589   68.732888   20.562604   79.460768   31.920033   \n",
       "std      3.362839   32.682364   19.335675   16.017622  116.576176    8.008227   \n",
       "min      0.000000    0.000000    0.000000    0.000000    0.000000    0.000000   \n",
       "25%      1.000000   99.000000   64.000000    0.000000    0.000000   27.100000   \n",
       "50%      3.000000  116.000000   70.000000   23.000000   36.000000   32.000000   \n",
       "75%      6.000000  140.000000   80.000000   32.000000  123.500000   36.550000   \n",
       "max     17.000000  198.000000  122.000000   99.000000  846.000000   67.100000   \n",
       "\n",
       "              BD2         Age   Insurance  \n",
       "count  599.000000  599.000000  599.000000  \n",
       "mean     0.481187   33.290484    0.686144  \n",
       "std      0.337552   11.828446    0.464447  \n",
       "min      0.078000   21.000000    0.000000  \n",
       "25%      0.248000   24.000000    0.000000  \n",
       "50%      0.383000   29.000000    1.000000  \n",
       "75%      0.647000   40.000000    1.000000  \n",
       "max      2.420000   81.000000    1.000000  "
      ]
     },
     "execution_count": 14,
     "metadata": {},
     "output_type": "execute_result"
    }
   ],
   "source": [
    "df.describe()"
   ]
  },
  {
   "cell_type": "markdown",
   "metadata": {},
   "source": [
    "**The mean age for the patients captured is 33.29. The mean blood pressure is 68.732 mm hg which is lower than 80 mm hg, hence indicates that thepatients had averagely a normal pressure**"
   ]
  },
  {
   "cell_type": "code",
   "execution_count": 51,
   "metadata": {},
   "outputs": [
    {
     "data": {
      "text/html": [
       "<div>\n",
       "<style scoped>\n",
       "    .dataframe tbody tr th:only-of-type {\n",
       "        vertical-align: middle;\n",
       "    }\n",
       "\n",
       "    .dataframe tbody tr th {\n",
       "        vertical-align: top;\n",
       "    }\n",
       "\n",
       "    .dataframe thead th {\n",
       "        text-align: right;\n",
       "    }\n",
       "</style>\n",
       "<table border=\"1\" class=\"dataframe\">\n",
       "  <thead>\n",
       "    <tr style=\"text-align: right;\">\n",
       "      <th></th>\n",
       "      <th>PRG</th>\n",
       "      <th>PL</th>\n",
       "      <th>PR</th>\n",
       "      <th>SK</th>\n",
       "      <th>TS</th>\n",
       "      <th>M11</th>\n",
       "      <th>BD2</th>\n",
       "      <th>Age</th>\n",
       "      <th>Insurance</th>\n",
       "    </tr>\n",
       "  </thead>\n",
       "  <tbody>\n",
       "    <tr>\n",
       "      <th>PRG</th>\n",
       "      <td>1.000000</td>\n",
       "      <td>0.139541</td>\n",
       "      <td>0.116680</td>\n",
       "      <td>-0.080902</td>\n",
       "      <td>-0.054812</td>\n",
       "      <td>0.033482</td>\n",
       "      <td>-0.052230</td>\n",
       "      <td>0.532545</td>\n",
       "      <td>0.084631</td>\n",
       "    </tr>\n",
       "    <tr>\n",
       "      <th>PL</th>\n",
       "      <td>0.139541</td>\n",
       "      <td>1.000000</td>\n",
       "      <td>0.143064</td>\n",
       "      <td>0.054430</td>\n",
       "      <td>0.339818</td>\n",
       "      <td>0.215949</td>\n",
       "      <td>0.144665</td>\n",
       "      <td>0.274057</td>\n",
       "      <td>0.050993</td>\n",
       "    </tr>\n",
       "    <tr>\n",
       "      <th>PR</th>\n",
       "      <td>0.116680</td>\n",
       "      <td>0.143064</td>\n",
       "      <td>1.000000</td>\n",
       "      <td>0.197535</td>\n",
       "      <td>0.095281</td>\n",
       "      <td>0.269482</td>\n",
       "      <td>0.008318</td>\n",
       "      <td>0.225625</td>\n",
       "      <td>-0.025365</td>\n",
       "    </tr>\n",
       "    <tr>\n",
       "      <th>SK</th>\n",
       "      <td>-0.080902</td>\n",
       "      <td>0.054430</td>\n",
       "      <td>0.197535</td>\n",
       "      <td>1.000000</td>\n",
       "      <td>0.429068</td>\n",
       "      <td>0.377950</td>\n",
       "      <td>0.176592</td>\n",
       "      <td>-0.121553</td>\n",
       "      <td>-0.017360</td>\n",
       "    </tr>\n",
       "    <tr>\n",
       "      <th>TS</th>\n",
       "      <td>-0.054812</td>\n",
       "      <td>0.339818</td>\n",
       "      <td>0.095281</td>\n",
       "      <td>0.429068</td>\n",
       "      <td>1.000000</td>\n",
       "      <td>0.184747</td>\n",
       "      <td>0.218313</td>\n",
       "      <td>-0.011523</td>\n",
       "      <td>0.041560</td>\n",
       "    </tr>\n",
       "    <tr>\n",
       "      <th>M11</th>\n",
       "      <td>0.033482</td>\n",
       "      <td>0.215949</td>\n",
       "      <td>0.269482</td>\n",
       "      <td>0.377950</td>\n",
       "      <td>0.184747</td>\n",
       "      <td>1.000000</td>\n",
       "      <td>0.127675</td>\n",
       "      <td>0.046117</td>\n",
       "      <td>0.026826</td>\n",
       "    </tr>\n",
       "    <tr>\n",
       "      <th>BD2</th>\n",
       "      <td>-0.052230</td>\n",
       "      <td>0.144665</td>\n",
       "      <td>0.008318</td>\n",
       "      <td>0.176592</td>\n",
       "      <td>0.218313</td>\n",
       "      <td>0.127675</td>\n",
       "      <td>1.000000</td>\n",
       "      <td>0.033567</td>\n",
       "      <td>0.006114</td>\n",
       "    </tr>\n",
       "    <tr>\n",
       "      <th>Age</th>\n",
       "      <td>0.532545</td>\n",
       "      <td>0.274057</td>\n",
       "      <td>0.225625</td>\n",
       "      <td>-0.121553</td>\n",
       "      <td>-0.011523</td>\n",
       "      <td>0.046117</td>\n",
       "      <td>0.033567</td>\n",
       "      <td>1.000000</td>\n",
       "      <td>0.054368</td>\n",
       "    </tr>\n",
       "    <tr>\n",
       "      <th>Insurance</th>\n",
       "      <td>0.084631</td>\n",
       "      <td>0.050993</td>\n",
       "      <td>-0.025365</td>\n",
       "      <td>-0.017360</td>\n",
       "      <td>0.041560</td>\n",
       "      <td>0.026826</td>\n",
       "      <td>0.006114</td>\n",
       "      <td>0.054368</td>\n",
       "      <td>1.000000</td>\n",
       "    </tr>\n",
       "  </tbody>\n",
       "</table>\n",
       "</div>"
      ],
      "text/plain": [
       "                PRG        PL        PR        SK        TS       M11  \\\n",
       "PRG        1.000000  0.139541  0.116680 -0.080902 -0.054812  0.033482   \n",
       "PL         0.139541  1.000000  0.143064  0.054430  0.339818  0.215949   \n",
       "PR         0.116680  0.143064  1.000000  0.197535  0.095281  0.269482   \n",
       "SK        -0.080902  0.054430  0.197535  1.000000  0.429068  0.377950   \n",
       "TS        -0.054812  0.339818  0.095281  0.429068  1.000000  0.184747   \n",
       "M11        0.033482  0.215949  0.269482  0.377950  0.184747  1.000000   \n",
       "BD2       -0.052230  0.144665  0.008318  0.176592  0.218313  0.127675   \n",
       "Age        0.532545  0.274057  0.225625 -0.121553 -0.011523  0.046117   \n",
       "Insurance  0.084631  0.050993 -0.025365 -0.017360  0.041560  0.026826   \n",
       "\n",
       "                BD2       Age  Insurance  \n",
       "PRG       -0.052230  0.532545   0.084631  \n",
       "PL         0.144665  0.274057   0.050993  \n",
       "PR         0.008318  0.225625  -0.025365  \n",
       "SK         0.176592 -0.121553  -0.017360  \n",
       "TS         0.218313 -0.011523   0.041560  \n",
       "M11        0.127675  0.046117   0.026826  \n",
       "BD2        1.000000  0.033567   0.006114  \n",
       "Age        0.033567  1.000000   0.054368  \n",
       "Insurance  0.006114  0.054368   1.000000  "
      ]
     },
     "execution_count": 51,
     "metadata": {},
     "output_type": "execute_result"
    }
   ],
   "source": [
    "# find the correlation between the columns\n",
    "corr_matrix = df.corr()\n",
    "corr_matrix"
   ]
  },
  {
   "cell_type": "code",
   "execution_count": 52,
   "metadata": {},
   "outputs": [
    {
     "data": {
      "image/png": "[encoded data removed]",
      "text/plain": [
       "<Figure size 576x360 with 2 Axes>"
      ]
     },
     "metadata": {
      "needs_background": "light"
     },
     "output_type": "display_data"
    }
   ],
   "source": [
    "# lowest correlations\n",
    "plt.figure(figsize=(8, 5))\n",
    "sns.heatmap(corr_matrix, annot=True)\n",
    "plt.show();\n"
   ]
  },
  {
   "cell_type": "code",
   "execution_count": 54,
   "metadata": {},
   "outputs": [
    {
     "name": "stdout",
     "output_type": "stream",
     "text": [
      "The minimum correlation was: -0.12155329275228288\n",
      "The columns involved are: ('SK', 'Age')\n"
     ]
    }
   ],
   "source": [
    "# get the minimum value\n",
    "min_corr = corr_matrix.min().min()  \n",
    "# get the columns involved\n",
    "min_corr_cols = corr_matrix.unstack().idxmin()\n",
    "\n",
    "print('The minimum correlation was:', min_corr)\n",
    "print('The columns involved are:', min_corr_cols)"
   ]
  },
  {
   "cell_type": "code",
   "execution_count": 60,
   "metadata": {},
   "outputs": [
    {
     "name": "stdout",
     "output_type": "stream",
     "text": [
      "The maximun correlation was: 0.5325446086908504\n",
      "The columns involved are: ('PRG', 'Age')\n"
     ]
    }
   ],
   "source": [
    "# get the minimum value\n",
    "max_corr = (corr_matrix.where(np.triu(np.ones(corr_matrix.shape), k=1).astype(np.bool_))\n",
    "            .max().max())  \n",
    "# get the maximum value (excluding same columns)\n",
    "# get the columns involved\n",
    "max_corr_cols = (corr_matrix.where(np.triu(np.ones(corr_matrix.shape), k=1).astype(np.bool_))\n",
    "                 .stack().idxmax()) \n",
    "\n",
    "print('The maximun correlation was:', max_corr)\n",
    "print('The columns involved are:', max_corr_cols)"
   ]
  },
  {
   "cell_type": "markdown",
   "metadata": {},
   "source": [
    "**The lowest correlation is -0.12155329275228288 between Sk and Age.** \n",
    "\n",
    "**The highest correlation is 0.5325446086908504 between PRG and Age**"
   ]
  },
  {
   "cell_type": "code",
   "execution_count": 16,
   "metadata": {},
   "outputs": [
    {
     "data": {
      "text/plain": [
       "0"
      ]
     },
     "execution_count": 16,
     "metadata": {},
     "output_type": "execute_result"
    }
   ],
   "source": [
    "# check the number of duplicates\n",
    "df.duplicated().sum()"
   ]
  },
  {
   "cell_type": "markdown",
   "metadata": {},
   "source": [
    "The follwing are the bmi ranges\n",
    "\n",
    ">- under 18.5 – This is described as underweight.\n",
    ">- between 18.5 and 24.9 – This is described as the 'healthy range'.\n",
    ">- between 25 and 29.9 – This is described as overweight.\n",
    ">- between 30 and 39.9 – This is described as obesity.\n",
    ">- 40 or over – This is described as severe obesity."
   ]
  },
  {
   "cell_type": "code",
   "execution_count": 17,
   "metadata": {},
   "outputs": [
    {
     "data": {
      "text/plain": [
       "Negative    391\n",
       "Positive    208\n",
       "Name: Sepssis, dtype: int64"
      ]
     },
     "execution_count": 17,
     "metadata": {},
     "output_type": "execute_result"
    }
   ],
   "source": [
    "# value count for values in Sepssis\n",
    "\n",
    "df['Sepssis'].value_counts()"
   ]
  },
  {
   "cell_type": "markdown",
   "metadata": {},
   "source": [
    "**The number of patients who tested negative were almost twice as many as the ones that tested positve. Clearly the data is slightly unbalanced**"
   ]
  },
  {
   "cell_type": "markdown",
   "metadata": {},
   "source": [
    "### Replace the zero values with the mean of the each column\n"
   ]
  },
  {
   "cell_type": "code",
   "execution_count": 18,
   "metadata": {},
   "outputs": [],
   "source": [
    "# Make a copy of the dataframe\n",
    "data = df.copy()"
   ]
  },
  {
   "cell_type": "code",
   "execution_count": 61,
   "metadata": {},
   "outputs": [
    {
     "data": {
      "text/html": [
       "<div>\n",
       "<style scoped>\n",
       "    .dataframe tbody tr th:only-of-type {\n",
       "        vertical-align: middle;\n",
       "    }\n",
       "\n",
       "    .dataframe tbody tr th {\n",
       "        vertical-align: top;\n",
       "    }\n",
       "\n",
       "    .dataframe thead th {\n",
       "        text-align: right;\n",
       "    }\n",
       "</style>\n",
       "<table border=\"1\" class=\"dataframe\">\n",
       "  <thead>\n",
       "    <tr style=\"text-align: right;\">\n",
       "      <th></th>\n",
       "      <th>ID</th>\n",
       "      <th>PRG</th>\n",
       "      <th>PL</th>\n",
       "      <th>PR</th>\n",
       "      <th>SK</th>\n",
       "      <th>TS</th>\n",
       "      <th>M11</th>\n",
       "      <th>BD2</th>\n",
       "      <th>Age</th>\n",
       "      <th>Insurance</th>\n",
       "      <th>Sepssis</th>\n",
       "      <th>BMI Ranges</th>\n",
       "      <th>Blood pressure category</th>\n",
       "    </tr>\n",
       "  </thead>\n",
       "  <tbody>\n",
       "    <tr>\n",
       "      <th>0</th>\n",
       "      <td>ICU200010</td>\n",
       "      <td>6.000000</td>\n",
       "      <td>148.0</td>\n",
       "      <td>72.0</td>\n",
       "      <td>35.000000</td>\n",
       "      <td>79.460768</td>\n",
       "      <td>33.6</td>\n",
       "      <td>0.627</td>\n",
       "      <td>50</td>\n",
       "      <td>0.686144</td>\n",
       "      <td>Positive</td>\n",
       "      <td>Obesity</td>\n",
       "      <td>normal</td>\n",
       "    </tr>\n",
       "    <tr>\n",
       "      <th>1</th>\n",
       "      <td>ICU200011</td>\n",
       "      <td>1.000000</td>\n",
       "      <td>85.0</td>\n",
       "      <td>66.0</td>\n",
       "      <td>29.000000</td>\n",
       "      <td>79.460768</td>\n",
       "      <td>26.6</td>\n",
       "      <td>0.351</td>\n",
       "      <td>31</td>\n",
       "      <td>0.686144</td>\n",
       "      <td>Negative</td>\n",
       "      <td>Over Weight</td>\n",
       "      <td>normal</td>\n",
       "    </tr>\n",
       "    <tr>\n",
       "      <th>2</th>\n",
       "      <td>ICU200012</td>\n",
       "      <td>8.000000</td>\n",
       "      <td>183.0</td>\n",
       "      <td>64.0</td>\n",
       "      <td>20.562604</td>\n",
       "      <td>79.460768</td>\n",
       "      <td>23.3</td>\n",
       "      <td>0.672</td>\n",
       "      <td>32</td>\n",
       "      <td>1.000000</td>\n",
       "      <td>Positive</td>\n",
       "      <td>Healthy Weight</td>\n",
       "      <td>normal</td>\n",
       "    </tr>\n",
       "    <tr>\n",
       "      <th>3</th>\n",
       "      <td>ICU200013</td>\n",
       "      <td>1.000000</td>\n",
       "      <td>89.0</td>\n",
       "      <td>66.0</td>\n",
       "      <td>23.000000</td>\n",
       "      <td>94.000000</td>\n",
       "      <td>28.1</td>\n",
       "      <td>0.167</td>\n",
       "      <td>21</td>\n",
       "      <td>1.000000</td>\n",
       "      <td>Negative</td>\n",
       "      <td>Over Weight</td>\n",
       "      <td>normal</td>\n",
       "    </tr>\n",
       "    <tr>\n",
       "      <th>4</th>\n",
       "      <td>ICU200014</td>\n",
       "      <td>3.824708</td>\n",
       "      <td>137.0</td>\n",
       "      <td>40.0</td>\n",
       "      <td>35.000000</td>\n",
       "      <td>168.000000</td>\n",
       "      <td>43.1</td>\n",
       "      <td>2.288</td>\n",
       "      <td>33</td>\n",
       "      <td>1.000000</td>\n",
       "      <td>Positive</td>\n",
       "      <td>Severe Obesity</td>\n",
       "      <td>normal</td>\n",
       "    </tr>\n",
       "  </tbody>\n",
       "</table>\n",
       "</div>"
      ],
      "text/plain": [
       "          ID       PRG     PL    PR         SK          TS   M11    BD2  Age  \\\n",
       "0  ICU200010  6.000000  148.0  72.0  35.000000   79.460768  33.6  0.627   50   \n",
       "1  ICU200011  1.000000   85.0  66.0  29.000000   79.460768  26.6  0.351   31   \n",
       "2  ICU200012  8.000000  183.0  64.0  20.562604   79.460768  23.3  0.672   32   \n",
       "3  ICU200013  1.000000   89.0  66.0  23.000000   94.000000  28.1  0.167   21   \n",
       "4  ICU200014  3.824708  137.0  40.0  35.000000  168.000000  43.1  2.288   33   \n",
       "\n",
       "   Insurance   Sepssis      BMI Ranges Blood pressure category  \n",
       "0   0.686144  Positive         Obesity                  normal  \n",
       "1   0.686144  Negative     Over Weight                  normal  \n",
       "2   1.000000  Positive  Healthy Weight                  normal  \n",
       "3   1.000000  Negative     Over Weight                  normal  \n",
       "4   1.000000  Positive  Severe Obesity                  normal  "
      ]
     },
     "execution_count": 61,
     "metadata": {},
     "output_type": "execute_result"
    }
   ],
   "source": [
    "# replace the zeros\n",
    "data = data.replace(0, data.mean())\n",
    "\n",
    "# display the head \n",
    "data.head()"
   ]
  },
  {
   "cell_type": "code",
   "execution_count": 20,
   "metadata": {},
   "outputs": [
    {
     "name": "stdout",
     "output_type": "stream",
     "text": [
      "Count of zeros in Column  ID : 0\n",
      "Count of zeros in Column  PRG : 0\n",
      "Count of zeros in Column  PL : 0\n",
      "Count of zeros in Column  PR : 0\n",
      "Count of zeros in Column  SK : 0\n",
      "Count of zeros in Column  TS : 0\n",
      "Count of zeros in Column  M11 : 0\n",
      "Count of zeros in Column  BD2 : 0\n",
      "Count of zeros in Column  Age : 0\n",
      "Count of zeros in Column  Insurance : 0\n"
     ]
    }
   ],
   "source": [
    "# confirm that zeros  have been replaced\n",
    "number_of_zeros(data)"
   ]
  },
  {
   "cell_type": "markdown",
   "metadata": {
    "id": "1jp5LfsvF72x"
   },
   "source": [
    "## Univariate Analysis\n",
    "\n",
    "‘Univariate analysis’ is the analysis of one variable at a time. This analysis might be done by computing some statistical indicators and by plotting some charts respectively using the pandas dataframe's method `.describe()` and one of the plotting libraries like  [Seaborn](https://seaborn.pydata.org/), [Matplotlib](https://matplotlib.org/), [Plotly](https://seaborn.pydata.org/), etc.\n",
    "\n",
    "Please, read [this article](https://towardsdatascience.com/8-seaborn-plots-for-univariate-exploratory-data-analysis-eda-in-python-9d280b6fe67f) to know more about the charts."
   ]
  },
  {
   "cell_type": "markdown",
   "metadata": {},
   "source": [
    "### 1. How many patients are under weight, have healthy weight, over weight, obesed and severe obesed?\n"
   ]
  },
  {
   "cell_type": "code",
   "execution_count": 21,
   "metadata": {
    "id": "z2MH6TKPFbBA",
    "scrolled": true
   },
   "outputs": [],
   "source": [
    "# function to create a new column 'Bmi'\n",
    "def create_bmi_range(row):\n",
    "    if (row['M11'] <= 18.5):\n",
    "        return 'Under Weight'\n",
    "    elif (row['M11'] > 18.5) and (row['M11'] <= 24.9):\n",
    "        return 'Healthy Weight'\n",
    "    elif (row['M11'] > 24.9) and (row['M11'] <= 29.9):\n",
    "        return 'Over Weight'\n",
    "    elif (row['M11'] > 29.9) and (row['M11'] < 40):\n",
    "        return 'Obesity'\n",
    "    elif row['M11'] >= 40:\n",
    "        return 'Severe Obesity'"
   ]
  },
  {
   "cell_type": "code",
   "execution_count": 22,
   "metadata": {},
   "outputs": [],
   "source": [
    "data['BMI Ranges'] = data.apply(create_bmi_range, axis=1)\n",
    "range_count = data['BMI Ranges'].value_counts()"
   ]
  },
  {
   "cell_type": "code",
   "execution_count": 23,
   "metadata": {},
   "outputs": [
    {
     "data": {
      "image/png": "[encoded data removed]",
      "text/plain": [
       "<Figure size 576x360 with 1 Axes>"
      ]
     },
     "metadata": {
      "needs_background": "light"
     },
     "output_type": "display_data"
    }
   ],
   "source": [
    "# plot graph\n",
    "plt.figure(figsize=(8, 5))\n",
    "range_count.plot.bar()\n",
    "plt.title('The number of patients in each BMI range')\n",
    "plt.xlabel('The BMI Ranges')\n",
    "plt.ylabel('BMI Score')\n",
    "plt.show()"
   ]
  },
  {
   "cell_type": "markdown",
   "metadata": {},
   "source": [
    ">- Based on the graph above, most of the of the patients fall under the obesity category. The next category with a higher number of patients was the over weight category. The least was Under Weight category"
   ]
  },
  {
   "cell_type": "code",
   "execution_count": null,
   "metadata": {},
   "outputs": [],
   "source": []
  },
  {
   "cell_type": "markdown",
   "metadata": {},
   "source": [
    "### 2. What is the distribution of ages for patients captured in the data?"
   ]
  },
  {
   "cell_type": "code",
   "execution_count": 24,
   "metadata": {},
   "outputs": [
    {
     "data": {
      "image/png": "[encoded data removed]",
      "text/plain": [
       "<Figure size 576x360 with 1 Axes>"
      ]
     },
     "metadata": {
      "needs_background": "light"
     },
     "output_type": "display_data"
    }
   ],
   "source": [
    "\n",
    "age_bins = np.arange(0, data['Age'].max()+1, 1)\n",
    "plt.figure(figsize=[8, 5])\n",
    "plt.hist(data = data, x = 'Age', bins=age_bins);\n",
    "plt.xlim(0, 80);"
   ]
  },
  {
   "cell_type": "markdown",
   "metadata": {},
   "source": [
    ">-  From the distribution of ages most of the patients fell within the range 20 years to 40 years."
   ]
  },
  {
   "cell_type": "markdown",
   "metadata": {},
   "source": [
    "### 3. How many of the patients fall under the Normal, Elevated and High Blood Pressure?"
   ]
  },
  {
   "cell_type": "code",
   "execution_count": 25,
   "metadata": {},
   "outputs": [],
   "source": [
    "# create a function to create a new column called blood pressure ranges\n",
    "def blood_pressure_ranges(row):\n",
    "    if row.PR < 80:\n",
    "        return 'normal'\n",
    "    elif row.PR >= 80 and row.PR <= 89:\n",
    "        return 'elevated'\n",
    "    elif row.PR >= 90:\n",
    "        return 'high'\n"
   ]
  },
  {
   "cell_type": "code",
   "execution_count": 26,
   "metadata": {},
   "outputs": [
    {
     "data": {
      "text/plain": [
       "0    normal\n",
       "1    normal\n",
       "2    normal\n",
       "3    normal\n",
       "4    normal\n",
       "Name: Blood pressure category, dtype: object"
      ]
     },
     "execution_count": 26,
     "metadata": {},
     "output_type": "execute_result"
    }
   ],
   "source": [
    "# create new column\n",
    "data['Blood pressure category'] = data.apply(blood_pressure_ranges, axis=1)\n",
    "data['Blood pressure category'].head()"
   ]
  },
  {
   "cell_type": "code",
   "execution_count": 27,
   "metadata": {},
   "outputs": [],
   "source": [
    "BP_range = data['Blood pressure category'].value_counts()"
   ]
  },
  {
   "cell_type": "code",
   "execution_count": 28,
   "metadata": {},
   "outputs": [
    {
     "data": {
      "image/png": "[encoded data removed]",
      "text/plain": [
       "<Figure size 576x360 with 1 Axes>"
      ]
     },
     "metadata": {
      "needs_background": "light"
     },
     "output_type": "display_data"
    }
   ],
   "source": [
    "plt.figure(figsize=(8, 5))\n",
    "BP_range.plot.bar()\n",
    "plt.title('The number of patients in each BMI range')\n",
    "plt.xlabel('The BMI Ranges')\n",
    "plt.ylabel('BMI Score')\n",
    "plt.show()"
   ]
  },
  {
   "cell_type": "markdown",
   "metadata": {},
   "source": [
    ">- From the graph above more than 400 patients fell under the normal blood pressure category, followed by the elevated then high."
   ]
  },
  {
   "cell_type": "markdown",
   "metadata": {},
   "source": [
    "## Bivariate Analysis"
   ]
  },
  {
   "cell_type": "markdown",
   "metadata": {},
   "source": [
    "### 4. Is Body Mass Index affected by Age?"
   ]
  },
  {
   "cell_type": "code",
   "execution_count": 29,
   "metadata": {},
   "outputs": [
    {
     "data": {
      "image/png": "[encoded data removed]",
      "text/plain": [
       "<Figure size 576x360 with 1 Axes>"
      ]
     },
     "metadata": {
      "needs_background": "light"
     },
     "output_type": "display_data"
    }
   ],
   "source": [
    "plt.figure(figsize=(8, 5))\n",
    "sns.regplot(x='M11', y='Age', data=data)\n",
    "plt.title('The correlation between the Age and BMI')\n",
    "plt.show()"
   ]
  },
  {
   "cell_type": "code",
   "execution_count": 48,
   "metadata": {},
   "outputs": [
    {
     "data": {
      "text/plain": [
       "0.011801"
      ]
     },
     "execution_count": 48,
     "metadata": {},
     "output_type": "execute_result"
    }
   ],
   "source": [
    "corr = data['M11'].corr(data['Age'])\n",
    "round(corr, 6)"
   ]
  },
  {
   "cell_type": "markdown",
   "metadata": {},
   "source": [
    ">- The correlation between ages and M11(bmi) is alsmot a straight line. This means it is  very small. The correlation was 0.011801."
   ]
  },
  {
   "cell_type": "markdown",
   "metadata": {},
   "source": [
    "### 5. Is Blood Pressure affected by Age?"
   ]
  },
  {
   "cell_type": "code",
   "execution_count": 31,
   "metadata": {},
   "outputs": [
    {
     "data": {
      "image/png": "[encoded data removed]",
      "text/plain": [
       "<Figure size 576x360 with 1 Axes>"
      ]
     },
     "metadata": {
      "needs_background": "light"
     },
     "output_type": "display_data"
    }
   ],
   "source": [
    "plt.figure(figsize=(8, 5))\n",
    "sns.regplot(x='Age', y='PR', data=data)\n",
    "plt.title('The correlation between Ages and Blood Pressure')\n",
    "plt.ylabel('Blood Pressure')\n",
    "plt.show();"
   ]
  },
  {
   "cell_type": "code",
   "execution_count": 49,
   "metadata": {},
   "outputs": [
    {
     "data": {
      "text/plain": [
       "0.30937"
      ]
     },
     "execution_count": 49,
     "metadata": {},
     "output_type": "execute_result"
    }
   ],
   "source": [
    "corr_ = data['PR'].corr(data['Age'])\n",
    "round(corr_, 6)"
   ]
  },
  {
   "cell_type": "markdown",
   "metadata": {},
   "source": [
    ">- From the graph there is slightly a strong correlation between blood pressure and ages. The values was 0.30937"
   ]
  },
  {
   "cell_type": "markdown",
   "metadata": {
    "id": "TP-DiZvsWs0F"
   },
   "source": [
    "## Multivariate Analysis\n",
    "\n",
    "Multivariate analysis’ is the analysis of more than one variable and aims to study the relationships among them. This analysis might be done by computing some statistical indicators like the `correlation` and by plotting some charts.\n",
    "\n",
    "Please, read [this article](https://towardsdatascience.com/10-must-know-seaborn-functions-for-multivariate-data-analysis-in-python-7ba94847b117) to know more about the charts."
   ]
  },
  {
   "cell_type": "markdown",
   "metadata": {},
   "source": [
    "### 6. What is the relationship between Age and Body Ma Index Ranges and Sepsis?"
   ]
  },
  {
   "cell_type": "code",
   "execution_count": 33,
   "metadata": {
    "id": "NbYppWX8cfds"
   },
   "outputs": [
    {
     "data": {
      "image/png": "[encoded data removed]",
      "text/plain": [
       "<Figure size 720x360 with 1 Axes>"
      ]
     },
     "metadata": {
      "needs_background": "light"
     },
     "output_type": "display_data"
    }
   ],
   "source": [
    "plt.figure(figsize=(10, 5))\n",
    "sns.boxplot(data=data, y='Age', x='BMI Ranges', hue='Sepssis');\n",
    "# plt.ylim(-10, 3500);\n",
    "plt.legend();"
   ]
  },
  {
   "cell_type": "markdown",
   "metadata": {},
   "source": [
    ">- From the graph above,  most people that tested positive for sepsis had healthy weights and fell between the ages of  25 to 60. The Obesity category which had more number of patient recorded less patients who tested positive for sepsis."
   ]
  },
  {
   "cell_type": "markdown",
   "metadata": {},
   "source": [
    "### How does Blood Pressure and Plasma glucose affect the Sepssis "
   ]
  },
  {
   "cell_type": "code",
   "execution_count": 78,
   "metadata": {},
   "outputs": [],
   "source": [
    "# create function to plot facet grids\n",
    "def plot_facet_grid(data, x, y, z, title, xlabel, ylabel):\n",
    "    facet = sns.FacetGrid(data = data, col = z, col_wrap = 2, height = 5,\n",
    "                     xlim = [10, 80], ylim = [-500, 9000])\n",
    "    facet.map(plt.scatter, x, y, alpha= 1)\n",
    "    facet.set_xlabels(xlabel)\n",
    "    facet.set_ylabels(ylabel)\n",
    "    facet.set(xlim=(0, 20))\n",
    "    facet.set(ylim=(0, 200))\n",
    "    facet.fig.suptitle(title, fontsize=14, fontweight='bold', y=1.05)\n",
    "\n",
    "#     facet.fig.suptitle(title, )\n",
    "    plt.show()"
   ]
  },
  {
   "cell_type": "code",
   "execution_count": 79,
   "metadata": {},
   "outputs": [
    {
     "data": {
      "image/png": "[encoded data removed]",
      "text/plain": [
       "<Figure size 720x360 with 2 Axes>"
      ]
     },
     "metadata": {
      "needs_background": "light"
     },
     "output_type": "display_data"
    }
   ],
   "source": [
    "facet_sepssis = plot_facet_grid(data, 'PRG', 'PR', 'Sepssis', \n",
    "                                  'Facetgrid for Sepsis against Plasma Glucose and Blood Pressure', \\\n",
    "                                  'Plasma Glucose', 'Blood Pressure')\n",
    "facet_sepssis"
   ]
  },
  {
   "cell_type": "markdown",
   "metadata": {},
   "source": [
    ">- In both Positive and Negative Sepsis there is almost no correlation btween Plasma and Blood Pressure"
   ]
  },
  {
   "cell_type": "markdown",
   "metadata": {
    "id": "2pfMjvtNhlfB"
   },
   "source": [
    "# Feature processing\n",
    "Here is the section to **clean** and **process** the features of the dataset."
   ]
  },
  {
   "cell_type": "markdown",
   "metadata": {
    "id": "RR_0P-SJiPx_"
   },
   "source": [
    "## Missing/NaN Values\n",
    "Handle the missing/NaN values using the Scikif-learn SimpleImputer"
   ]
  },
  {
   "cell_type": "code",
   "execution_count": 34,
   "metadata": {
    "id": "0YgaX0jfLcaK"
   },
   "outputs": [],
   "source": [
    "# Code Here"
   ]
  },
  {
   "cell_type": "markdown",
   "metadata": {
    "id": "YipqthozL2kt"
   },
   "source": [
    "## Scaling\n",
    "Scale the numeric features using the Scikif-learn StandardScaler, MinMaxScaler, or another Scaler."
   ]
  },
  {
   "cell_type": "code",
   "execution_count": 35,
   "metadata": {
    "id": "aI7jM-rZMYCG"
   },
   "outputs": [],
   "source": [
    "# Code here"
   ]
  },
  {
   "cell_type": "markdown",
   "metadata": {
    "id": "XdFcGOxHMalr"
   },
   "source": [
    "## Encoding\n",
    "Encode the categorical features using the Scikif-learn OneHotEncoder."
   ]
  },
  {
   "cell_type": "code",
   "execution_count": 36,
   "metadata": {
    "id": "sAMvupuRMs-P"
   },
   "outputs": [],
   "source": [
    "# Code here"
   ]
  }
 ],
 "metadata": {
  "colab": {
   "authorship_tag": "ABX9TyOzUQiPquW+CDMlvXbDiABY",
   "include_colab_link": true,
   "provenance": [],
   "toc_visible": true
  },
  "kernelspec": {
   "display_name": "Python 3",
   "language": "python",
   "name": "python3"
  },
  "language_info": {
   "codemirror_mode": {
    "name": "ipython",
    "version": 3
   },
   "file_extension": ".py",
   "mimetype": "text/x-python",
   "name": "python",
   "nbconvert_exporter": "python",
   "pygments_lexer": "ipython3",
   "version": "3.8.8"
  }
 },
 "nbformat": 4,
 "nbformat_minor": 1
}
