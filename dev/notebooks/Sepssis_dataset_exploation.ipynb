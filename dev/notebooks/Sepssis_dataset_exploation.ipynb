{
 "cells": [
  {
   "cell_type": "markdown",
   "id": "a7fa3d04",
   "metadata": {
    "colab_type": "text",
    "id": "view-in-github"
   },
   "source": [
    "<a href=\"https://colab.research.google.com/github/eaedk/Machine-Learning-Tutorials/blob/main/DataAnalysis_Step_By_Step_Guide.ipynb\" target=\"_parent\"><img src=\"https://colab.research.google.com/assets/colab-badge.svg\" alt=\"Open In Colab\"/></a>"
   ]
  },
  {
   "cell_type": "markdown",
   "id": "1c1a70eb",
   "metadata": {
    "id": "wW3v1-2n3CzK"
   },
   "source": [
    "# Intro\n",
    "## General\n",
    "\"Data analysis is a process of inspecting, cleansing, transforming, and modeling data with the goal of discovering useful information, informing conclusions, and supporting decision-making.\" ([Wikipedia](https://en.wikipedia.org/wiki/Data_analysis)).\n",
    "\n",
    "In Data Analysis, there are some analysis paradigms : **Univariate, Bivariate, Multivariate**. We apply these paradigms to analyze the features (or statistical variables, or columns of the dataframe) of the dataset and to have a better understanding.\n",
    "\n",
    "**Numeric features** are features with numbers that you can perform mathematical operations on. They are further divided into discrete (countable integers with clear boundaries) and continuous (can take any value, even decimals, within a range).\n",
    "\n",
    "**Categorical features** are columns with a limited number of possible values. Examples are `sex, country, or age group`.\n",
    "\n",
    "\n",
    "#### Project Title: The Sepsis Illness Classification Analysis\n",
    "\n",
    "#### Project Description: This project seeks to create a classification model to classify patients Sepsis positive or negative \n",
    "\n",
    "#### Hypothesis: \n",
    "#### Null Hypothesis: \n",
    "#### Alternate Hypothesis: \n",
    "####\n",
    "#### Assumptions:\n",
    "1. It assumed that no patient can have any of the attributes as 0\n",
    "2. It was assumed that the blood pressure used was the diastolic type.\n",
    "\n",
    "\n",
    "#### Questions\n",
    "\n",
    "1. How many patients are under weight, have healthy weight, over weight, obesed and severe obesed?\n",
    "2. What is the distribution of ages for patients captured in the data?\n",
    "3. How many of the patients fall under the Normal, Elevated and High Blood Pressure?\n",
    "4. Is Body Mass Index affected by Age?\n",
    "5. Is Blood Pressure affected by Age?\n",
    "6. What is the relationship between Age and Body In\n",
    "\n",
    "\n",
    "\n",
    "## Notebook overview\n",
    "\n",
    "This notebook is a guide to start practicing Data Analysis."
   ]
  },
  {
   "cell_type": "markdown",
   "id": "f34b4289",
   "metadata": {
    "id": "n4VFUnkuexCE"
   },
   "source": [
    "# Setup"
   ]
  },
  {
   "cell_type": "markdown",
   "id": "eaa61fbd",
   "metadata": {
    "id": "qdFpRxPje1gw"
   },
   "source": [
    "## Installation\n",
    "Here is the section to install all the packages/libraries that will be needed to tackle the challlenge."
   ]
  },
  {
   "cell_type": "code",
   "execution_count": 1,
   "id": "1a9aa1c9",
   "metadata": {
    "id": "W-d-roFQe6yi"
   },
   "outputs": [],
   "source": [
    "# !pip install -q <lib_001> <lib_002> ..."
   ]
  },
  {
   "cell_type": "markdown",
   "id": "f27e483a",
   "metadata": {
    "id": "0HmLxlQre7HW"
   },
   "source": [
    "## Importation\n",
    "Here is the section to import all the packages/libraries that will be used through this notebook."
   ]
  },
  {
   "cell_type": "code",
   "execution_count": 2,
   "id": "daf9f6fe",
   "metadata": {
    "id": "MP62JaiKfCnS"
   },
   "outputs": [],
   "source": [
    "# Data handling\n",
    "# Data handling\n",
    "import pandas as pd\n",
    "import numpy as np\n",
    "\n",
    "# Vizualisation (Matplotlib, Plotly, Seaborn, etc. )\n",
    "%matplotlib inline\n",
    "import matplotlib.pyplot as plt\n",
    "import seaborn as sns\n",
    "import plotly.graph_objects as go\n",
    "import plotly.express as px\n",
    "\n",
    "# Feature Processing (Scikit-learn processing, etc. )\n",
    "from sklearn.impute import SimpleImputer\n",
    "from sklearn.preprocessing import StandardScaler, MinMaxScaler\n",
    "from sklearn.preprocessing import OneHotEncoder\n",
    "from sklearn.pipeline import Pipeline\n",
    "from sklearn.compose import ColumnTransformer\n",
    "from sklearn.metrics import confusion_matrix , classification_report, f1_score, accuracy_score,\\\n",
    "precision_score, recall_score, fbeta_score, make_scorer\n",
    "from sklearn.model_selection import train_test_split\n",
    "\n",
    "import warnings\n",
    "warnings.filterwarnings(\"ignore\")"
   ]
  },
  {
   "cell_type": "markdown",
   "id": "ee573051",
   "metadata": {
    "id": "UfOADQf0e9i1"
   },
   "source": [
    "# Data Loading\n",
    "Here is the section to load the datasets (train, eval, test) and the additional files"
   ]
  },
  {
   "cell_type": "code",
   "execution_count": 3,
   "id": "af447a24",
   "metadata": {
    "id": "KIQyG5EcfQlU"
   },
   "outputs": [
    {
     "data": {
      "text/html": [
       "<div>\n",
       "<style scoped>\n",
       "    .dataframe tbody tr th:only-of-type {\n",
       "        vertical-align: middle;\n",
       "    }\n",
       "\n",
       "    .dataframe tbody tr th {\n",
       "        vertical-align: top;\n",
       "    }\n",
       "\n",
       "    .dataframe thead th {\n",
       "        text-align: right;\n",
       "    }\n",
       "</style>\n",
       "<table border=\"1\" class=\"dataframe\">\n",
       "  <thead>\n",
       "    <tr style=\"text-align: right;\">\n",
       "      <th></th>\n",
       "      <th>ID</th>\n",
       "      <th>PRG</th>\n",
       "      <th>PL</th>\n",
       "      <th>PR</th>\n",
       "      <th>SK</th>\n",
       "      <th>TS</th>\n",
       "      <th>M11</th>\n",
       "      <th>BD2</th>\n",
       "      <th>Age</th>\n",
       "      <th>Insurance</th>\n",
       "      <th>Sepssis</th>\n",
       "    </tr>\n",
       "  </thead>\n",
       "  <tbody>\n",
       "    <tr>\n",
       "      <th>0</th>\n",
       "      <td>ICU200010</td>\n",
       "      <td>6</td>\n",
       "      <td>148</td>\n",
       "      <td>72</td>\n",
       "      <td>35</td>\n",
       "      <td>0</td>\n",
       "      <td>33.6</td>\n",
       "      <td>0.627</td>\n",
       "      <td>50</td>\n",
       "      <td>0</td>\n",
       "      <td>Positive</td>\n",
       "    </tr>\n",
       "    <tr>\n",
       "      <th>1</th>\n",
       "      <td>ICU200011</td>\n",
       "      <td>1</td>\n",
       "      <td>85</td>\n",
       "      <td>66</td>\n",
       "      <td>29</td>\n",
       "      <td>0</td>\n",
       "      <td>26.6</td>\n",
       "      <td>0.351</td>\n",
       "      <td>31</td>\n",
       "      <td>0</td>\n",
       "      <td>Negative</td>\n",
       "    </tr>\n",
       "    <tr>\n",
       "      <th>2</th>\n",
       "      <td>ICU200012</td>\n",
       "      <td>8</td>\n",
       "      <td>183</td>\n",
       "      <td>64</td>\n",
       "      <td>0</td>\n",
       "      <td>0</td>\n",
       "      <td>23.3</td>\n",
       "      <td>0.672</td>\n",
       "      <td>32</td>\n",
       "      <td>1</td>\n",
       "      <td>Positive</td>\n",
       "    </tr>\n",
       "    <tr>\n",
       "      <th>3</th>\n",
       "      <td>ICU200013</td>\n",
       "      <td>1</td>\n",
       "      <td>89</td>\n",
       "      <td>66</td>\n",
       "      <td>23</td>\n",
       "      <td>94</td>\n",
       "      <td>28.1</td>\n",
       "      <td>0.167</td>\n",
       "      <td>21</td>\n",
       "      <td>1</td>\n",
       "      <td>Negative</td>\n",
       "    </tr>\n",
       "    <tr>\n",
       "      <th>4</th>\n",
       "      <td>ICU200014</td>\n",
       "      <td>0</td>\n",
       "      <td>137</td>\n",
       "      <td>40</td>\n",
       "      <td>35</td>\n",
       "      <td>168</td>\n",
       "      <td>43.1</td>\n",
       "      <td>2.288</td>\n",
       "      <td>33</td>\n",
       "      <td>1</td>\n",
       "      <td>Positive</td>\n",
       "    </tr>\n",
       "  </tbody>\n",
       "</table>\n",
       "</div>"
      ],
      "text/plain": [
       "          ID  PRG   PL  PR  SK   TS   M11    BD2  Age  Insurance   Sepssis\n",
       "0  ICU200010    6  148  72  35    0  33.6  0.627   50          0  Positive\n",
       "1  ICU200011    1   85  66  29    0  26.6  0.351   31          0  Negative\n",
       "2  ICU200012    8  183  64   0    0  23.3  0.672   32          1  Positive\n",
       "3  ICU200013    1   89  66  23   94  28.1  0.167   21          1  Negative\n",
       "4  ICU200014    0  137  40  35  168  43.1  2.288   33          1  Positive"
      ]
     },
     "execution_count": 3,
     "metadata": {},
     "output_type": "execute_result"
    }
   ],
   "source": [
    "# For CSV, use pandas.read_csv\n",
    "df = pd.read_csv('../datasets/Paitients_Files_Train.csv')\n",
    "df.head(5)"
   ]
  },
  {
   "cell_type": "markdown",
   "id": "e55d15b7",
   "metadata": {
    "id": "okaZxnc3fRId"
   },
   "source": [
    "# Exploratory Data Analysis: EDA\n",
    "Here is the section to **inspect** the datasets in depth, **present** it, make **hypotheses** and **think** the *cleaning, processing and features creation*."
   ]
  },
  {
   "cell_type": "markdown",
   "id": "f0af6464",
   "metadata": {
    "id": "kTvnZQUlD6vf"
   },
   "source": [
    "## Dataset overview\n",
    "\n",
    "Have a look at the loaded datsets using the following methods: `.head(), .info()`"
   ]
  },
  {
   "cell_type": "code",
   "execution_count": 4,
   "id": "e34c68ad",
   "metadata": {
    "scrolled": true
   },
   "outputs": [
    {
     "data": {
      "text/plain": [
       "ID            object\n",
       "PRG            int64\n",
       "PL             int64\n",
       "PR             int64\n",
       "SK             int64\n",
       "TS             int64\n",
       "M11          float64\n",
       "BD2          float64\n",
       "Age            int64\n",
       "Insurance      int64\n",
       "Sepssis       object\n",
       "dtype: object"
      ]
     },
     "execution_count": 4,
     "metadata": {},
     "output_type": "execute_result"
    }
   ],
   "source": [
    "# display the datatypes\n",
    "df.dtypes"
   ]
  },
  {
   "cell_type": "markdown",
   "id": "e663a87f",
   "metadata": {},
   "source": [
    ">- **All the data types are of numeric data types**"
   ]
  },
  {
   "cell_type": "code",
   "execution_count": 5,
   "id": "2f3f2ab4",
   "metadata": {
    "id": "0VNR9LfZfbGe"
   },
   "outputs": [
    {
     "data": {
      "text/plain": [
       "(599, 11)"
      ]
     },
     "execution_count": 5,
     "metadata": {},
     "output_type": "execute_result"
    }
   ],
   "source": [
    "# check the shape of the data\n",
    "df.shape"
   ]
  },
  {
   "cell_type": "markdown",
   "id": "3be54215",
   "metadata": {},
   "source": [
    ">- **The dataset has 11 columns and 599 rows**"
   ]
  },
  {
   "cell_type": "code",
   "execution_count": 6,
   "id": "026ecf9e",
   "metadata": {
    "id": "3oUlBJbRFa2t"
   },
   "outputs": [
    {
     "data": {
      "text/plain": [
       "ID           0\n",
       "PRG          0\n",
       "PL           0\n",
       "PR           0\n",
       "SK           0\n",
       "TS           0\n",
       "M11          0\n",
       "BD2          0\n",
       "Age          0\n",
       "Insurance    0\n",
       "Sepssis      0\n",
       "dtype: int64"
      ]
     },
     "execution_count": 6,
     "metadata": {},
     "output_type": "execute_result"
    }
   ],
   "source": [
    "# check for null values\n",
    "df.isnull().sum()"
   ]
  },
  {
   "cell_type": "markdown",
   "id": "e69de5db",
   "metadata": {},
   "source": [
    ">- **All rows had values**"
   ]
  },
  {
   "cell_type": "code",
   "execution_count": 7,
   "id": "f6825612",
   "metadata": {
    "scrolled": true
   },
   "outputs": [
    {
     "data": {
      "text/plain": [
       "Index(['ID', 'PRG', 'PL', 'PR', 'SK', 'TS', 'M11', 'BD2', 'Age', 'Insurance',\n",
       "       'Sepssis'],\n",
       "      dtype='object')"
      ]
     },
     "execution_count": 7,
     "metadata": {},
     "output_type": "execute_result"
    }
   ],
   "source": [
    "df.columns"
   ]
  },
  {
   "cell_type": "markdown",
   "id": "28d01495",
   "metadata": {},
   "source": [
    ">- **The columns are not descriptive**"
   ]
  },
  {
   "cell_type": "code",
   "execution_count": 8,
   "id": "f22697ac",
   "metadata": {},
   "outputs": [
    {
     "data": {
      "text/plain": [
       "0"
      ]
     },
     "execution_count": 8,
     "metadata": {},
     "output_type": "execute_result"
    }
   ],
   "source": [
    "# check the number of duplicates\n",
    "df.duplicated().sum()"
   ]
  },
  {
   "cell_type": "markdown",
   "id": "e886c622",
   "metadata": {},
   "source": [
    ">- **There are no duplicates**"
   ]
  },
  {
   "cell_type": "code",
   "execution_count": 9,
   "id": "4e784fc3",
   "metadata": {},
   "outputs": [],
   "source": [
    "# create a function to print the number of unique values\n",
    "def print_unique_values(data):\n",
    "    values = {}\n",
    "    for col in data.columns:\n",
    "        number = data[col].nunique()\n",
    "        print(f'{col}: has {number} of unique values')   "
   ]
  },
  {
   "cell_type": "code",
   "execution_count": 10,
   "id": "58e555a9",
   "metadata": {},
   "outputs": [
    {
     "name": "stdout",
     "output_type": "stream",
     "text": [
      "ID: has 599 of unique values\n",
      "PRG: has 17 of unique values\n",
      "PL: has 129 of unique values\n",
      "PR: has 44 of unique values\n",
      "SK: has 51 of unique values\n",
      "TS: has 164 of unique values\n",
      "M11: has 233 of unique values\n",
      "BD2: has 437 of unique values\n",
      "Age: has 50 of unique values\n",
      "Insurance: has 2 of unique values\n",
      "Sepssis: has 2 of unique values\n"
     ]
    }
   ],
   "source": [
    "print_unique_values(df)"
   ]
  },
  {
   "cell_type": "code",
   "execution_count": 11,
   "id": "ded886c3",
   "metadata": {},
   "outputs": [],
   "source": [
    "def number_of_zeros(data):\n",
    "    for col in data.columns:\n",
    "        if col != 'Sepssis':\n",
    "            count = (data[col] == 0).sum()\n",
    "            print(f'Count of zeros in Column  {col} : {count}')"
   ]
  },
  {
   "cell_type": "code",
   "execution_count": 12,
   "id": "ec32ece8",
   "metadata": {},
   "outputs": [
    {
     "name": "stdout",
     "output_type": "stream",
     "text": [
      "Count of zeros in Column  ID : 0\n",
      "Count of zeros in Column  PRG : 93\n",
      "Count of zeros in Column  PL : 5\n",
      "Count of zeros in Column  PR : 28\n",
      "Count of zeros in Column  SK : 175\n",
      "Count of zeros in Column  TS : 289\n",
      "Count of zeros in Column  M11 : 9\n",
      "Count of zeros in Column  BD2 : 0\n",
      "Count of zeros in Column  Age : 0\n",
      "Count of zeros in Column  Insurance : 188\n"
     ]
    }
   ],
   "source": [
    "number_of_zeros(df)"
   ]
  },
  {
   "cell_type": "markdown",
   "id": "65bded1f",
   "metadata": {},
   "source": [
    ">- **Although there were no null values in the columns, some of the columns had 0's in the them**"
   ]
  },
  {
   "cell_type": "markdown",
   "id": "71646826",
   "metadata": {},
   "source": [
    "Observations from the data:\n",
    "\n",
    "Quality Issues\n",
    "\n",
    ">- The column names are not descripive\n",
    ">- Columns can't have a value of zero"
   ]
  },
  {
   "cell_type": "markdown",
   "id": "91e65278",
   "metadata": {},
   "source": [
    "#### Rename the columns"
   ]
  },
  {
   "cell_type": "code",
   "execution_count": 13,
   "id": "3113558f",
   "metadata": {},
   "outputs": [],
   "source": [
    "df = df.rename(columns={'PRG': 'Plasma Glucose', 'PL': 'Blood Work Result-1',\n",
    "                        'PR': 'Blood Pressure','SK': 'Blood Work Result-2',\n",
    "                        'TS': 'Blood Work Result-3', 'M11': 'Body Mass Index',\n",
    "                        'BD2': 'Blood Work Result-4'})"
   ]
  },
  {
   "cell_type": "code",
   "execution_count": 14,
   "id": "91c75585",
   "metadata": {},
   "outputs": [
    {
     "data": {
      "text/html": [
       "<div>\n",
       "<style scoped>\n",
       "    .dataframe tbody tr th:only-of-type {\n",
       "        vertical-align: middle;\n",
       "    }\n",
       "\n",
       "    .dataframe tbody tr th {\n",
       "        vertical-align: top;\n",
       "    }\n",
       "\n",
       "    .dataframe thead th {\n",
       "        text-align: right;\n",
       "    }\n",
       "</style>\n",
       "<table border=\"1\" class=\"dataframe\">\n",
       "  <thead>\n",
       "    <tr style=\"text-align: right;\">\n",
       "      <th></th>\n",
       "      <th>ID</th>\n",
       "      <th>Plasma Glucose</th>\n",
       "      <th>Blood Work Result-1</th>\n",
       "      <th>Blood Pressure</th>\n",
       "      <th>Blood Work Result-2</th>\n",
       "      <th>Blood Work Result-3</th>\n",
       "      <th>Body Mass Index</th>\n",
       "      <th>Blood Work Result-4</th>\n",
       "      <th>Age</th>\n",
       "      <th>Insurance</th>\n",
       "      <th>Sepssis</th>\n",
       "    </tr>\n",
       "  </thead>\n",
       "  <tbody>\n",
       "    <tr>\n",
       "      <th>0</th>\n",
       "      <td>ICU200010</td>\n",
       "      <td>6</td>\n",
       "      <td>148</td>\n",
       "      <td>72</td>\n",
       "      <td>35</td>\n",
       "      <td>0</td>\n",
       "      <td>33.6</td>\n",
       "      <td>0.627</td>\n",
       "      <td>50</td>\n",
       "      <td>0</td>\n",
       "      <td>Positive</td>\n",
       "    </tr>\n",
       "    <tr>\n",
       "      <th>1</th>\n",
       "      <td>ICU200011</td>\n",
       "      <td>1</td>\n",
       "      <td>85</td>\n",
       "      <td>66</td>\n",
       "      <td>29</td>\n",
       "      <td>0</td>\n",
       "      <td>26.6</td>\n",
       "      <td>0.351</td>\n",
       "      <td>31</td>\n",
       "      <td>0</td>\n",
       "      <td>Negative</td>\n",
       "    </tr>\n",
       "    <tr>\n",
       "      <th>2</th>\n",
       "      <td>ICU200012</td>\n",
       "      <td>8</td>\n",
       "      <td>183</td>\n",
       "      <td>64</td>\n",
       "      <td>0</td>\n",
       "      <td>0</td>\n",
       "      <td>23.3</td>\n",
       "      <td>0.672</td>\n",
       "      <td>32</td>\n",
       "      <td>1</td>\n",
       "      <td>Positive</td>\n",
       "    </tr>\n",
       "    <tr>\n",
       "      <th>3</th>\n",
       "      <td>ICU200013</td>\n",
       "      <td>1</td>\n",
       "      <td>89</td>\n",
       "      <td>66</td>\n",
       "      <td>23</td>\n",
       "      <td>94</td>\n",
       "      <td>28.1</td>\n",
       "      <td>0.167</td>\n",
       "      <td>21</td>\n",
       "      <td>1</td>\n",
       "      <td>Negative</td>\n",
       "    </tr>\n",
       "    <tr>\n",
       "      <th>4</th>\n",
       "      <td>ICU200014</td>\n",
       "      <td>0</td>\n",
       "      <td>137</td>\n",
       "      <td>40</td>\n",
       "      <td>35</td>\n",
       "      <td>168</td>\n",
       "      <td>43.1</td>\n",
       "      <td>2.288</td>\n",
       "      <td>33</td>\n",
       "      <td>1</td>\n",
       "      <td>Positive</td>\n",
       "    </tr>\n",
       "  </tbody>\n",
       "</table>\n",
       "</div>"
      ],
      "text/plain": [
       "          ID  Plasma Glucose  Blood Work Result-1  Blood Pressure  \\\n",
       "0  ICU200010               6                  148              72   \n",
       "1  ICU200011               1                   85              66   \n",
       "2  ICU200012               8                  183              64   \n",
       "3  ICU200013               1                   89              66   \n",
       "4  ICU200014               0                  137              40   \n",
       "\n",
       "   Blood Work Result-2  Blood Work Result-3  Body Mass Index  \\\n",
       "0                   35                    0             33.6   \n",
       "1                   29                    0             26.6   \n",
       "2                    0                    0             23.3   \n",
       "3                   23                   94             28.1   \n",
       "4                   35                  168             43.1   \n",
       "\n",
       "   Blood Work Result-4  Age  Insurance   Sepssis  \n",
       "0                0.627   50          0  Positive  \n",
       "1                0.351   31          0  Negative  \n",
       "2                0.672   32          1  Positive  \n",
       "3                0.167   21          1  Negative  \n",
       "4                2.288   33          1  Positive  "
      ]
     },
     "execution_count": 14,
     "metadata": {},
     "output_type": "execute_result"
    }
   ],
   "source": [
    "# Confirm the rename of columns\n",
    "df.head()"
   ]
  },
  {
   "cell_type": "markdown",
   "id": "d7cdb224",
   "metadata": {},
   "source": [
    "#### Replace the zero values with the mean of the each column\n"
   ]
  },
  {
   "cell_type": "code",
   "execution_count": 15,
   "id": "351947ec",
   "metadata": {},
   "outputs": [],
   "source": [
    "# Make a copy of the dataframe\n",
    "data = df.copy()"
   ]
  },
  {
   "cell_type": "code",
   "execution_count": 16,
   "id": "20a7fb72",
   "metadata": {},
   "outputs": [
    {
     "name": "stdout",
     "output_type": "stream",
     "text": [
      "1.0\n",
      "Index(['ID', 'Plasma Glucose', 'Blood Work Result-1', 'Blood Pressure',\n",
      "       'Blood Work Result-2', 'Blood Work Result-3', 'Body Mass Index',\n",
      "       'Blood Work Result-4', 'Age', 'Sepssis'],\n",
      "      dtype='object')\n"
     ]
    },
    {
     "data": {
      "text/html": [
       "<div>\n",
       "<style scoped>\n",
       "    .dataframe tbody tr th:only-of-type {\n",
       "        vertical-align: middle;\n",
       "    }\n",
       "\n",
       "    .dataframe tbody tr th {\n",
       "        vertical-align: top;\n",
       "    }\n",
       "\n",
       "    .dataframe thead th {\n",
       "        text-align: right;\n",
       "    }\n",
       "</style>\n",
       "<table border=\"1\" class=\"dataframe\">\n",
       "  <thead>\n",
       "    <tr style=\"text-align: right;\">\n",
       "      <th></th>\n",
       "      <th>ID</th>\n",
       "      <th>Plasma Glucose</th>\n",
       "      <th>Blood Work Result-1</th>\n",
       "      <th>Blood Pressure</th>\n",
       "      <th>Blood Work Result-2</th>\n",
       "      <th>Blood Work Result-3</th>\n",
       "      <th>Body Mass Index</th>\n",
       "      <th>Blood Work Result-4</th>\n",
       "      <th>Age</th>\n",
       "      <th>Insurance</th>\n",
       "      <th>Sepssis</th>\n",
       "    </tr>\n",
       "  </thead>\n",
       "  <tbody>\n",
       "    <tr>\n",
       "      <th>0</th>\n",
       "      <td>ICU200010</td>\n",
       "      <td>6</td>\n",
       "      <td>148</td>\n",
       "      <td>72</td>\n",
       "      <td>35</td>\n",
       "      <td>36</td>\n",
       "      <td>33.6</td>\n",
       "      <td>0.627</td>\n",
       "      <td>50</td>\n",
       "      <td>0</td>\n",
       "      <td>Positive</td>\n",
       "    </tr>\n",
       "    <tr>\n",
       "      <th>1</th>\n",
       "      <td>ICU200011</td>\n",
       "      <td>1</td>\n",
       "      <td>85</td>\n",
       "      <td>66</td>\n",
       "      <td>29</td>\n",
       "      <td>36</td>\n",
       "      <td>26.6</td>\n",
       "      <td>0.351</td>\n",
       "      <td>31</td>\n",
       "      <td>0</td>\n",
       "      <td>Negative</td>\n",
       "    </tr>\n",
       "    <tr>\n",
       "      <th>2</th>\n",
       "      <td>ICU200012</td>\n",
       "      <td>8</td>\n",
       "      <td>183</td>\n",
       "      <td>64</td>\n",
       "      <td>23</td>\n",
       "      <td>36</td>\n",
       "      <td>23.3</td>\n",
       "      <td>0.672</td>\n",
       "      <td>32</td>\n",
       "      <td>1</td>\n",
       "      <td>Positive</td>\n",
       "    </tr>\n",
       "    <tr>\n",
       "      <th>3</th>\n",
       "      <td>ICU200013</td>\n",
       "      <td>1</td>\n",
       "      <td>89</td>\n",
       "      <td>66</td>\n",
       "      <td>23</td>\n",
       "      <td>94</td>\n",
       "      <td>28.1</td>\n",
       "      <td>0.167</td>\n",
       "      <td>21</td>\n",
       "      <td>1</td>\n",
       "      <td>Negative</td>\n",
       "    </tr>\n",
       "    <tr>\n",
       "      <th>4</th>\n",
       "      <td>ICU200014</td>\n",
       "      <td>3</td>\n",
       "      <td>137</td>\n",
       "      <td>40</td>\n",
       "      <td>35</td>\n",
       "      <td>168</td>\n",
       "      <td>43.1</td>\n",
       "      <td>2.288</td>\n",
       "      <td>33</td>\n",
       "      <td>1</td>\n",
       "      <td>Positive</td>\n",
       "    </tr>\n",
       "  </tbody>\n",
       "</table>\n",
       "</div>"
      ],
      "text/plain": [
       "          ID  Plasma Glucose  Blood Work Result-1  Blood Pressure  \\\n",
       "0  ICU200010               6                  148              72   \n",
       "1  ICU200011               1                   85              66   \n",
       "2  ICU200012               8                  183              64   \n",
       "3  ICU200013               1                   89              66   \n",
       "4  ICU200014               3                  137              40   \n",
       "\n",
       "   Blood Work Result-2  Blood Work Result-3  Body Mass Index  \\\n",
       "0                   35                   36             33.6   \n",
       "1                   29                   36             26.6   \n",
       "2                   23                   36             23.3   \n",
       "3                   23                   94             28.1   \n",
       "4                   35                  168             43.1   \n",
       "\n",
       "   Blood Work Result-4  Age  Insurance   Sepssis  \n",
       "0                0.627   50          0  Positive  \n",
       "1                0.351   31          0  Negative  \n",
       "2                0.672   32          1  Positive  \n",
       "3                0.167   21          1  Negative  \n",
       "4                2.288   33          1  Positive  "
      ]
     },
     "execution_count": 16,
     "metadata": {},
     "output_type": "execute_result"
    }
   ],
   "source": [
    "non_zero_columns = data.drop(columns=['Insurance']).columns\n",
    "print(data['Insurance'].median())\n",
    "print(non_zero_columns)\n",
    "# replace the zeros\n",
    "data[non_zero_columns] = data[non_zero_columns].replace(0, data.median())\n",
    "\n",
    "# display the head \n",
    "data.head()"
   ]
  },
  {
   "cell_type": "code",
   "execution_count": 17,
   "id": "47da3502",
   "metadata": {},
   "outputs": [
    {
     "name": "stdout",
     "output_type": "stream",
     "text": [
      "Count of zeros in Column  ID : 0\n",
      "Count of zeros in Column  Plasma Glucose : 0\n",
      "Count of zeros in Column  Blood Work Result-1 : 0\n",
      "Count of zeros in Column  Blood Pressure : 0\n",
      "Count of zeros in Column  Blood Work Result-2 : 0\n",
      "Count of zeros in Column  Blood Work Result-3 : 0\n",
      "Count of zeros in Column  Body Mass Index : 0\n",
      "Count of zeros in Column  Blood Work Result-4 : 0\n",
      "Count of zeros in Column  Age : 0\n",
      "Count of zeros in Column  Insurance : 188\n"
     ]
    }
   ],
   "source": [
    "# confirm that zeros  have been replaced\n",
    "number_of_zeros(data)"
   ]
  },
  {
   "cell_type": "markdown",
   "id": "88643a22",
   "metadata": {},
   "source": [
    "#### Check statistics of the data using the describe() method"
   ]
  },
  {
   "cell_type": "code",
   "execution_count": 18,
   "id": "60826a6e",
   "metadata": {},
   "outputs": [
    {
     "data": {
      "text/html": [
       "<div>\n",
       "<style scoped>\n",
       "    .dataframe tbody tr th:only-of-type {\n",
       "        vertical-align: middle;\n",
       "    }\n",
       "\n",
       "    .dataframe tbody tr th {\n",
       "        vertical-align: top;\n",
       "    }\n",
       "\n",
       "    .dataframe thead th {\n",
       "        text-align: right;\n",
       "    }\n",
       "</style>\n",
       "<table border=\"1\" class=\"dataframe\">\n",
       "  <thead>\n",
       "    <tr style=\"text-align: right;\">\n",
       "      <th></th>\n",
       "      <th>Plasma Glucose</th>\n",
       "      <th>Blood Work Result-1</th>\n",
       "      <th>Blood Pressure</th>\n",
       "      <th>Blood Work Result-2</th>\n",
       "      <th>Blood Work Result-3</th>\n",
       "      <th>Body Mass Index</th>\n",
       "      <th>Blood Work Result-4</th>\n",
       "      <th>Age</th>\n",
       "      <th>Insurance</th>\n",
       "    </tr>\n",
       "  </thead>\n",
       "  <tbody>\n",
       "    <tr>\n",
       "      <th>count</th>\n",
       "      <td>599.000000</td>\n",
       "      <td>599.00000</td>\n",
       "      <td>599.000000</td>\n",
       "      <td>599.000000</td>\n",
       "      <td>599.000000</td>\n",
       "      <td>599.000000</td>\n",
       "      <td>599.000000</td>\n",
       "      <td>599.000000</td>\n",
       "      <td>599.000000</td>\n",
       "    </tr>\n",
       "    <tr>\n",
       "      <th>mean</th>\n",
       "      <td>4.290484</td>\n",
       "      <td>121.12187</td>\n",
       "      <td>72.005008</td>\n",
       "      <td>27.282137</td>\n",
       "      <td>96.829716</td>\n",
       "      <td>32.400835</td>\n",
       "      <td>0.481187</td>\n",
       "      <td>33.290484</td>\n",
       "      <td>0.686144</td>\n",
       "    </tr>\n",
       "    <tr>\n",
       "      <th>std</th>\n",
       "      <td>2.987000</td>\n",
       "      <td>30.76739</td>\n",
       "      <td>11.917146</td>\n",
       "      <td>9.451984</td>\n",
       "      <td>105.589923</td>\n",
       "      <td>6.968917</td>\n",
       "      <td>0.337552</td>\n",
       "      <td>11.828446</td>\n",
       "      <td>0.464447</td>\n",
       "    </tr>\n",
       "    <tr>\n",
       "      <th>min</th>\n",
       "      <td>1.000000</td>\n",
       "      <td>44.00000</td>\n",
       "      <td>24.000000</td>\n",
       "      <td>7.000000</td>\n",
       "      <td>14.000000</td>\n",
       "      <td>18.200000</td>\n",
       "      <td>0.078000</td>\n",
       "      <td>21.000000</td>\n",
       "      <td>0.000000</td>\n",
       "    </tr>\n",
       "    <tr>\n",
       "      <th>25%</th>\n",
       "      <td>2.000000</td>\n",
       "      <td>99.00000</td>\n",
       "      <td>64.000000</td>\n",
       "      <td>23.000000</td>\n",
       "      <td>36.000000</td>\n",
       "      <td>27.400000</td>\n",
       "      <td>0.248000</td>\n",
       "      <td>24.000000</td>\n",
       "      <td>0.000000</td>\n",
       "    </tr>\n",
       "    <tr>\n",
       "      <th>50%</th>\n",
       "      <td>3.000000</td>\n",
       "      <td>116.00000</td>\n",
       "      <td>70.000000</td>\n",
       "      <td>23.000000</td>\n",
       "      <td>36.000000</td>\n",
       "      <td>32.000000</td>\n",
       "      <td>0.383000</td>\n",
       "      <td>29.000000</td>\n",
       "      <td>1.000000</td>\n",
       "    </tr>\n",
       "    <tr>\n",
       "      <th>75%</th>\n",
       "      <td>6.000000</td>\n",
       "      <td>140.00000</td>\n",
       "      <td>80.000000</td>\n",
       "      <td>32.000000</td>\n",
       "      <td>123.500000</td>\n",
       "      <td>36.550000</td>\n",
       "      <td>0.647000</td>\n",
       "      <td>40.000000</td>\n",
       "      <td>1.000000</td>\n",
       "    </tr>\n",
       "    <tr>\n",
       "      <th>max</th>\n",
       "      <td>17.000000</td>\n",
       "      <td>198.00000</td>\n",
       "      <td>122.000000</td>\n",
       "      <td>99.000000</td>\n",
       "      <td>846.000000</td>\n",
       "      <td>67.100000</td>\n",
       "      <td>2.420000</td>\n",
       "      <td>81.000000</td>\n",
       "      <td>1.000000</td>\n",
       "    </tr>\n",
       "  </tbody>\n",
       "</table>\n",
       "</div>"
      ],
      "text/plain": [
       "       Plasma Glucose  Blood Work Result-1  Blood Pressure  \\\n",
       "count      599.000000            599.00000      599.000000   \n",
       "mean         4.290484            121.12187       72.005008   \n",
       "std          2.987000             30.76739       11.917146   \n",
       "min          1.000000             44.00000       24.000000   \n",
       "25%          2.000000             99.00000       64.000000   \n",
       "50%          3.000000            116.00000       70.000000   \n",
       "75%          6.000000            140.00000       80.000000   \n",
       "max         17.000000            198.00000      122.000000   \n",
       "\n",
       "       Blood Work Result-2  Blood Work Result-3  Body Mass Index  \\\n",
       "count           599.000000           599.000000       599.000000   \n",
       "mean             27.282137            96.829716        32.400835   \n",
       "std               9.451984           105.589923         6.968917   \n",
       "min               7.000000            14.000000        18.200000   \n",
       "25%              23.000000            36.000000        27.400000   \n",
       "50%              23.000000            36.000000        32.000000   \n",
       "75%              32.000000           123.500000        36.550000   \n",
       "max              99.000000           846.000000        67.100000   \n",
       "\n",
       "       Blood Work Result-4         Age   Insurance  \n",
       "count           599.000000  599.000000  599.000000  \n",
       "mean              0.481187   33.290484    0.686144  \n",
       "std               0.337552   11.828446    0.464447  \n",
       "min               0.078000   21.000000    0.000000  \n",
       "25%               0.248000   24.000000    0.000000  \n",
       "50%               0.383000   29.000000    1.000000  \n",
       "75%               0.647000   40.000000    1.000000  \n",
       "max               2.420000   81.000000    1.000000  "
      ]
     },
     "execution_count": 18,
     "metadata": {},
     "output_type": "execute_result"
    }
   ],
   "source": [
    "data.describe()"
   ]
  },
  {
   "cell_type": "markdown",
   "id": "73175955",
   "metadata": {},
   "source": [
    ">- **The mean age for the patients captured is 33.29. The mean blood pressure is 72.005008 mm hg which is lower than 80 mm hg, hence indicates that the patients had averagely a normal pressure**"
   ]
  },
  {
   "cell_type": "markdown",
   "id": "3a017a16",
   "metadata": {},
   "source": [
    "#### Check the correlation between the various columns"
   ]
  },
  {
   "cell_type": "code",
   "execution_count": 19,
   "id": "03811b0b",
   "metadata": {
    "scrolled": true
   },
   "outputs": [
    {
     "data": {
      "text/html": [
       "<div>\n",
       "<style scoped>\n",
       "    .dataframe tbody tr th:only-of-type {\n",
       "        vertical-align: middle;\n",
       "    }\n",
       "\n",
       "    .dataframe tbody tr th {\n",
       "        vertical-align: top;\n",
       "    }\n",
       "\n",
       "    .dataframe thead th {\n",
       "        text-align: right;\n",
       "    }\n",
       "</style>\n",
       "<table border=\"1\" class=\"dataframe\">\n",
       "  <thead>\n",
       "    <tr style=\"text-align: right;\">\n",
       "      <th></th>\n",
       "      <th>Plasma Glucose</th>\n",
       "      <th>Blood Work Result-1</th>\n",
       "      <th>Blood Pressure</th>\n",
       "      <th>Blood Work Result-2</th>\n",
       "      <th>Blood Work Result-3</th>\n",
       "      <th>Body Mass Index</th>\n",
       "      <th>Blood Work Result-4</th>\n",
       "      <th>Age</th>\n",
       "      <th>Insurance</th>\n",
       "    </tr>\n",
       "  </thead>\n",
       "  <tbody>\n",
       "    <tr>\n",
       "      <th>Plasma Glucose</th>\n",
       "      <td>1.000000</td>\n",
       "      <td>0.162758</td>\n",
       "      <td>0.215305</td>\n",
       "      <td>0.059698</td>\n",
       "      <td>-0.037116</td>\n",
       "      <td>0.090942</td>\n",
       "      <td>-0.023184</td>\n",
       "      <td>0.531537</td>\n",
       "      <td>0.092346</td>\n",
       "    </tr>\n",
       "    <tr>\n",
       "      <th>Blood Work Result-1</th>\n",
       "      <td>0.162758</td>\n",
       "      <td>1.000000</td>\n",
       "      <td>0.211836</td>\n",
       "      <td>0.171060</td>\n",
       "      <td>0.370484</td>\n",
       "      <td>0.219501</td>\n",
       "      <td>0.144238</td>\n",
       "      <td>0.278614</td>\n",
       "      <td>0.048320</td>\n",
       "    </tr>\n",
       "    <tr>\n",
       "      <th>Blood Pressure</th>\n",
       "      <td>0.215305</td>\n",
       "      <td>0.211836</td>\n",
       "      <td>1.000000</td>\n",
       "      <td>0.132071</td>\n",
       "      <td>-0.009141</td>\n",
       "      <td>0.267228</td>\n",
       "      <td>-0.040316</td>\n",
       "      <td>0.308668</td>\n",
       "      <td>-0.045639</td>\n",
       "    </tr>\n",
       "    <tr>\n",
       "      <th>Blood Work Result-2</th>\n",
       "      <td>0.059698</td>\n",
       "      <td>0.171060</td>\n",
       "      <td>0.132071</td>\n",
       "      <td>1.000000</td>\n",
       "      <td>0.236868</td>\n",
       "      <td>0.541551</td>\n",
       "      <td>0.137004</td>\n",
       "      <td>0.053799</td>\n",
       "      <td>0.004968</td>\n",
       "    </tr>\n",
       "    <tr>\n",
       "      <th>Blood Work Result-3</th>\n",
       "      <td>-0.037116</td>\n",
       "      <td>0.370484</td>\n",
       "      <td>-0.009141</td>\n",
       "      <td>0.236868</td>\n",
       "      <td>1.000000</td>\n",
       "      <td>0.176072</td>\n",
       "      <td>0.210755</td>\n",
       "      <td>0.023575</td>\n",
       "      <td>0.046749</td>\n",
       "    </tr>\n",
       "    <tr>\n",
       "      <th>Body Mass Index</th>\n",
       "      <td>0.090942</td>\n",
       "      <td>0.219501</td>\n",
       "      <td>0.267228</td>\n",
       "      <td>0.541551</td>\n",
       "      <td>0.176072</td>\n",
       "      <td>1.000000</td>\n",
       "      <td>0.136123</td>\n",
       "      <td>0.011698</td>\n",
       "      <td>0.027929</td>\n",
       "    </tr>\n",
       "    <tr>\n",
       "      <th>Blood Work Result-4</th>\n",
       "      <td>-0.023184</td>\n",
       "      <td>0.144238</td>\n",
       "      <td>-0.040316</td>\n",
       "      <td>0.137004</td>\n",
       "      <td>0.210755</td>\n",
       "      <td>0.136123</td>\n",
       "      <td>1.000000</td>\n",
       "      <td>0.033567</td>\n",
       "      <td>0.006114</td>\n",
       "    </tr>\n",
       "    <tr>\n",
       "      <th>Age</th>\n",
       "      <td>0.531537</td>\n",
       "      <td>0.278614</td>\n",
       "      <td>0.308668</td>\n",
       "      <td>0.053799</td>\n",
       "      <td>0.023575</td>\n",
       "      <td>0.011698</td>\n",
       "      <td>0.033567</td>\n",
       "      <td>1.000000</td>\n",
       "      <td>0.054368</td>\n",
       "    </tr>\n",
       "    <tr>\n",
       "      <th>Insurance</th>\n",
       "      <td>0.092346</td>\n",
       "      <td>0.048320</td>\n",
       "      <td>-0.045639</td>\n",
       "      <td>0.004968</td>\n",
       "      <td>0.046749</td>\n",
       "      <td>0.027929</td>\n",
       "      <td>0.006114</td>\n",
       "      <td>0.054368</td>\n",
       "      <td>1.000000</td>\n",
       "    </tr>\n",
       "  </tbody>\n",
       "</table>\n",
       "</div>"
      ],
      "text/plain": [
       "                     Plasma Glucose  Blood Work Result-1  Blood Pressure  \\\n",
       "Plasma Glucose             1.000000             0.162758        0.215305   \n",
       "Blood Work Result-1        0.162758             1.000000        0.211836   \n",
       "Blood Pressure             0.215305             0.211836        1.000000   \n",
       "Blood Work Result-2        0.059698             0.171060        0.132071   \n",
       "Blood Work Result-3       -0.037116             0.370484       -0.009141   \n",
       "Body Mass Index            0.090942             0.219501        0.267228   \n",
       "Blood Work Result-4       -0.023184             0.144238       -0.040316   \n",
       "Age                        0.531537             0.278614        0.308668   \n",
       "Insurance                  0.092346             0.048320       -0.045639   \n",
       "\n",
       "                     Blood Work Result-2  Blood Work Result-3  \\\n",
       "Plasma Glucose                  0.059698            -0.037116   \n",
       "Blood Work Result-1             0.171060             0.370484   \n",
       "Blood Pressure                  0.132071            -0.009141   \n",
       "Blood Work Result-2             1.000000             0.236868   \n",
       "Blood Work Result-3             0.236868             1.000000   \n",
       "Body Mass Index                 0.541551             0.176072   \n",
       "Blood Work Result-4             0.137004             0.210755   \n",
       "Age                             0.053799             0.023575   \n",
       "Insurance                       0.004968             0.046749   \n",
       "\n",
       "                     Body Mass Index  Blood Work Result-4       Age  Insurance  \n",
       "Plasma Glucose              0.090942            -0.023184  0.531537   0.092346  \n",
       "Blood Work Result-1         0.219501             0.144238  0.278614   0.048320  \n",
       "Blood Pressure              0.267228            -0.040316  0.308668  -0.045639  \n",
       "Blood Work Result-2         0.541551             0.137004  0.053799   0.004968  \n",
       "Blood Work Result-3         0.176072             0.210755  0.023575   0.046749  \n",
       "Body Mass Index             1.000000             0.136123  0.011698   0.027929  \n",
       "Blood Work Result-4         0.136123             1.000000  0.033567   0.006114  \n",
       "Age                         0.011698             0.033567  1.000000   0.054368  \n",
       "Insurance                   0.027929             0.006114  0.054368   1.000000  "
      ]
     },
     "execution_count": 19,
     "metadata": {},
     "output_type": "execute_result"
    }
   ],
   "source": [
    "# find the correlation between the columns\n",
    "corr_matrix = data.corr()\n",
    "corr_matrix"
   ]
  },
  {
   "cell_type": "code",
   "execution_count": 20,
   "id": "cc5cfb09",
   "metadata": {},
   "outputs": [
    {
     "data": {
      "image/png": "[encoded data removed]",
      "text/plain": [
       "<Figure size 576x360 with 2 Axes>"
      ]
     },
     "metadata": {
      "needs_background": "light"
     },
     "output_type": "display_data"
    }
   ],
   "source": [
    "# Plot a heatmap for the correlations\n",
    "plt.figure(figsize=(8, 5))\n",
    "sns.heatmap(corr_matrix, annot=True)\n",
    "plt.show();"
   ]
  },
  {
   "cell_type": "code",
   "execution_count": 21,
   "id": "48432388",
   "metadata": {},
   "outputs": [
    {
     "name": "stdout",
     "output_type": "stream",
     "text": [
      "The minimum correlation was: -0.04563895493502899\n",
      "The columns involved are: ('Blood Pressure', 'Insurance')\n"
     ]
    }
   ],
   "source": [
    "# get the minimum value\n",
    "min_corr = corr_matrix.min().min()  \n",
    "# get the columns involved\n",
    "min_corr_cols = corr_matrix.unstack().idxmin()\n",
    "\n",
    "print('The minimum correlation was:', min_corr)\n",
    "print('The columns involved are:', min_corr_cols)"
   ]
  },
  {
   "cell_type": "code",
   "execution_count": 22,
   "id": "24118305",
   "metadata": {},
   "outputs": [
    {
     "name": "stdout",
     "output_type": "stream",
     "text": [
      "The maximun correlation was: 0.5415508816494893\n",
      "The columns involved are: ('Blood Work Result-2', 'Body Mass Index')\n"
     ]
    }
   ],
   "source": [
    "# get the minimum value\n",
    "max_corr = (corr_matrix.where(np.triu(np.ones(corr_matrix.shape), k=1).astype(np.bool_))\n",
    "            .max().max())  \n",
    "# get the maximum value (excluding same columns)\n",
    "# get the columns involved\n",
    "max_corr_cols = (corr_matrix.where(np.triu(np.ones(corr_matrix.shape), k=1).astype(np.bool_))\n",
    "                 .stack().idxmax()) \n",
    "\n",
    "print('The maximun correlation was:', max_corr)\n",
    "print('The columns involved are:', max_corr_cols)"
   ]
  },
  {
   "cell_type": "markdown",
   "id": "9c498389",
   "metadata": {},
   "source": [
    ">- **The lowest correlation is -0.12155329275228288 between Blood Work Result-2 and Age.** \n",
    "\n",
    ">- **The highest correlation is 0.5325446086908504 between Plasma Glucose and Age**"
   ]
  },
  {
   "cell_type": "markdown",
   "id": "568edb38",
   "metadata": {},
   "source": [
    "#### Verify label balance"
   ]
  },
  {
   "cell_type": "code",
   "execution_count": 23,
   "id": "6a1ea639",
   "metadata": {},
   "outputs": [
    {
     "data": {
      "text/plain": [
       "Negative    391\n",
       "Positive    208\n",
       "Name: Sepssis, dtype: int64"
      ]
     },
     "execution_count": 23,
     "metadata": {},
     "output_type": "execute_result"
    }
   ],
   "source": [
    "# value count for values in Sepssis\n",
    "\n",
    "label_counts = df['Sepssis'].value_counts()\n",
    "label_counts"
   ]
  },
  {
   "cell_type": "code",
   "execution_count": 24,
   "id": "6e9147f9",
   "metadata": {},
   "outputs": [
    {
     "data": {
      "image/png": "[encoded data removed]",
      "text/plain": [
       "<Figure size 576x360 with 1 Axes>"
      ]
     },
     "metadata": {
      "needs_background": "light"
     },
     "output_type": "display_data"
    }
   ],
   "source": [
    "plt.figure(figsize=(8, 5))\n",
    "label_counts.plot.bar()\n",
    "plt.title('Label counts')\n",
    "plt.xlabel('Labels')\n",
    "plt.ylabel('Count');"
   ]
  },
  {
   "cell_type": "markdown",
   "id": "3c94fc66",
   "metadata": {},
   "source": [
    ">- **The number of patients who tested negative were almost twice as many as the ones that tested positve. Clearly the data is slightly unbalanced**"
   ]
  },
  {
   "cell_type": "code",
   "execution_count": 25,
   "id": "3379bd1e",
   "metadata": {
    "scrolled": true
   },
   "outputs": [
    {
     "name": "stdout",
     "output_type": "stream",
     "text": [
      "The maximum age is 81 and minimum age 21.\n"
     ]
    },
    {
     "data": {
      "text/plain": [
       "21    52\n",
       "22    52\n",
       "25    40\n",
       "24    37\n",
       "23    27\n",
       "29    27\n",
       "28    26\n",
       "26    25\n",
       "27    21\n",
       "41    20\n",
       "31    19\n",
       "37    18\n",
       "30    16\n",
       "33    15\n",
       "42    13\n",
       "36    13\n",
       "32    13\n",
       "38    13\n",
       "46    11\n",
       "35    10\n",
       "39    10\n",
       "34     9\n",
       "40     8\n",
       "43     8\n",
       "45     8\n",
       "44     7\n",
       "58     7\n",
       "51     7\n",
       "60     5\n",
       "57     5\n",
       "52     5\n",
       "54     4\n",
       "62     4\n",
       "55     4\n",
       "50     4\n",
       "47     4\n",
       "53     3\n",
       "49     3\n",
       "59     3\n",
       "48     3\n",
       "63     3\n",
       "65     3\n",
       "66     3\n",
       "67     3\n",
       "56     2\n",
       "61     2\n",
       "64     1\n",
       "69     1\n",
       "72     1\n",
       "81     1\n",
       "Name: Age, dtype: int64"
      ]
     },
     "execution_count": 25,
     "metadata": {},
     "output_type": "execute_result"
    }
   ],
   "source": [
    "print(f\"The maximum age is {df['Age'].max()} and minimum age {df['Age'].min()}.\")\n",
    "age_count = df['Age'].value_counts()\n",
    "age_count"
   ]
  },
  {
   "cell_type": "code",
   "execution_count": 26,
   "id": "2f882e0a",
   "metadata": {},
   "outputs": [
    {
     "data": {
      "image/png": "[encoded data removed]",
      "text/plain": [
       "<Figure size 720x720 with 1 Axes>"
      ]
     },
     "metadata": {
      "needs_background": "light"
     },
     "output_type": "display_data"
    }
   ],
   "source": [
    "plt.figure(figsize=(10, 10))\n",
    "age_count.sort_values(ascending=True).plot(kind='barh')\n",
    "plt.title('Age Count')\n",
    "plt.xlabel('Age')\n",
    "plt.ylabel('Count');"
   ]
  },
  {
   "cell_type": "markdown",
   "id": "841e4155",
   "metadata": {},
   "source": [
    ">- **52 of the patients were 22 years old, that was the hisghest number of times an age occured**"
   ]
  },
  {
   "cell_type": "markdown",
   "id": "ac414090",
   "metadata": {
    "id": "1jp5LfsvF72x"
   },
   "source": [
    "## Univariate Analysis\n",
    "\n",
    "‘Univariate analysis’ is the analysis of one variable at a time. This analysis might be done by computing some statistical indicators and by plotting some charts respectively using the pandas dataframe's method `.describe()` and one of the plotting libraries like  [Seaborn](https://seaborn.pydata.org/), [Matplotlib](https://matplotlib.org/), [Plotly](https://seaborn.pydata.org/), etc.\n",
    "\n",
    "Please, read [this article](https://towardsdatascience.com/8-seaborn-plots-for-univariate-exploratory-data-analysis-eda-in-python-9d280b6fe67f) to know more about the charts."
   ]
  },
  {
   "cell_type": "markdown",
   "id": "630a11e7",
   "metadata": {},
   "source": [
    "### 1. How many patients are under weight, have healthy weight, over weight, obesed and severe obesed?\n"
   ]
  },
  {
   "cell_type": "markdown",
   "id": "9e29983b",
   "metadata": {},
   "source": [
    "The follwing are the bmi ranges\n",
    "\n",
    ">- under 18.5 – This is described as underweight.\n",
    ">- between 18.5 and 24.9 – This is described as the 'healthy range'.\n",
    ">- between 25 and 29.9 – This is described as overweight.\n",
    ">- between 30 and 39.9 – This is described as obesity.\n",
    ">- 40 or over – This is described as severe obesity."
   ]
  },
  {
   "cell_type": "code",
   "execution_count": 27,
   "id": "bcc535d8",
   "metadata": {
    "id": "z2MH6TKPFbBA",
    "scrolled": true
   },
   "outputs": [],
   "source": [
    "# function to create a new column 'Bmi'\n",
    "def create_bmi_range(row):\n",
    "    if (row['Body Mass Index'] <= 18.5):\n",
    "        return 'Under Weight'\n",
    "    elif (row['Body Mass Index'] > 18.5) and (row['Body Mass Index'] <= 24.9):\n",
    "        return 'Healthy Weight'\n",
    "    elif (row['Body Mass Index'] > 24.9) and (row['Body Mass Index'] <= 29.9):\n",
    "        return 'Over Weight'\n",
    "    elif (row['Body Mass Index'] > 29.9) and (row['Body Mass Index'] < 40):\n",
    "        return 'Obesity'\n",
    "    elif row['Body Mass Index'] >= 40:\n",
    "        return 'Severe Obesity'"
   ]
  },
  {
   "cell_type": "code",
   "execution_count": 28,
   "id": "d6891166",
   "metadata": {},
   "outputs": [],
   "source": [
    "data['BMI Ranges'] = data.apply(create_bmi_range, axis=1)\n",
    "range_count = data['BMI Ranges'].value_counts()"
   ]
  },
  {
   "cell_type": "code",
   "execution_count": 29,
   "id": "3b5625fc",
   "metadata": {},
   "outputs": [
    {
     "data": {
      "image/png": "[encoded data removed]",
      "text/plain": [
       "<Figure size 576x360 with 1 Axes>"
      ]
     },
     "metadata": {
      "needs_background": "light"
     },
     "output_type": "display_data"
    }
   ],
   "source": [
    "# plot graph\n",
    "plt.figure(figsize=(8, 5))\n",
    "range_count.plot.bar()\n",
    "plt.title('The number of patients in each BMI range')\n",
    "plt.xlabel('The BMI Ranges')\n",
    "plt.ylabel('BMI Score')\n",
    "plt.show()"
   ]
  },
  {
   "cell_type": "markdown",
   "id": "c09ac4da",
   "metadata": {},
   "source": [
    ">- Based on the graph above, most of the of the patients fall under the obesity category. The next category with a higher number of patients was the over weight category. The least was Under Weight category"
   ]
  },
  {
   "cell_type": "code",
   "execution_count": null,
   "id": "fda43e3b",
   "metadata": {},
   "outputs": [],
   "source": []
  },
  {
   "cell_type": "markdown",
   "id": "e8e28057",
   "metadata": {},
   "source": [
    "### 2. What is the distribution of ages for patients captured in the data?"
   ]
  },
  {
   "cell_type": "code",
   "execution_count": 30,
   "id": "b61e7473",
   "metadata": {},
   "outputs": [
    {
     "data": {
      "image/png": "[encoded data removed]",
      "text/plain": [
       "<Figure size 576x360 with 1 Axes>"
      ]
     },
     "metadata": {
      "needs_background": "light"
     },
     "output_type": "display_data"
    }
   ],
   "source": [
    "\n",
    "age_bins = np.arange(0, data['Age'].max()+1, 1)\n",
    "plt.figure(figsize=[8, 5])\n",
    "plt.hist(data = data, x = 'Age', bins=age_bins);\n",
    "plt.xlim(0, 80);"
   ]
  },
  {
   "cell_type": "markdown",
   "id": "63f038c2",
   "metadata": {},
   "source": [
    ">-  From the distribution of ages most of the patients fell within the range 20 years to 40 years."
   ]
  },
  {
   "cell_type": "markdown",
   "id": "daed9ad4",
   "metadata": {},
   "source": [
    "### 3. How many of the patients fall under the Normal, Elevated and High Blood Pressure?"
   ]
  },
  {
   "cell_type": "code",
   "execution_count": 31,
   "id": "71d94fc3",
   "metadata": {},
   "outputs": [],
   "source": [
    "# create a function to create a new column called blood pressure ranges\n",
    "def blood_pressure_ranges(row):\n",
    "    if row['Blood Pressure'] < 80:\n",
    "        return 'normal'\n",
    "    elif row['Blood Pressure'] >= 80 and row['Blood Pressure'] <= 89:\n",
    "        return 'elevated'\n",
    "    elif row['Blood Pressure'] >= 90:\n",
    "        return 'high'\n"
   ]
  },
  {
   "cell_type": "code",
   "execution_count": 32,
   "id": "227ab679",
   "metadata": {},
   "outputs": [
    {
     "data": {
      "text/plain": [
       "0    normal\n",
       "1    normal\n",
       "2    normal\n",
       "3    normal\n",
       "4    normal\n",
       "Name: Blood pressure category, dtype: object"
      ]
     },
     "execution_count": 32,
     "metadata": {},
     "output_type": "execute_result"
    }
   ],
   "source": [
    "# create new column\n",
    "data['Blood pressure category'] = data.apply(blood_pressure_ranges, axis=1)\n",
    "data['Blood pressure category'].head()"
   ]
  },
  {
   "cell_type": "code",
   "execution_count": 33,
   "id": "e385addd",
   "metadata": {},
   "outputs": [],
   "source": [
    "BP_range = data['Blood pressure category'].value_counts()"
   ]
  },
  {
   "cell_type": "code",
   "execution_count": 34,
   "id": "af9192b9",
   "metadata": {},
   "outputs": [
    {
     "data": {
      "image/png": "[encoded data removed]",
      "text/plain": [
       "<Figure size 576x360 with 1 Axes>"
      ]
     },
     "metadata": {
      "needs_background": "light"
     },
     "output_type": "display_data"
    }
   ],
   "source": [
    "plt.figure(figsize=(8, 5))\n",
    "BP_range.plot.bar()\n",
    "plt.title('The number of patients in each BMI range')\n",
    "plt.xlabel('The BMI Ranges')\n",
    "plt.ylabel('BMI Score')\n",
    "plt.show()"
   ]
  },
  {
   "cell_type": "markdown",
   "id": "f6f0af4a",
   "metadata": {},
   "source": [
    ">- From the graph above more than 400 patients fell under the normal blood pressure category, followed by the elevated then high."
   ]
  },
  {
   "cell_type": "code",
   "execution_count": null,
   "id": "e9fca9a1",
   "metadata": {},
   "outputs": [],
   "source": []
  },
  {
   "cell_type": "markdown",
   "id": "02acdd44",
   "metadata": {},
   "source": [
    "## Bivariate Analysis"
   ]
  },
  {
   "cell_type": "markdown",
   "id": "43dd56ee",
   "metadata": {},
   "source": [
    "### 4. Is Body Mass Index affected by Age?"
   ]
  },
  {
   "cell_type": "code",
   "execution_count": 35,
   "id": "d6b02fe6",
   "metadata": {},
   "outputs": [
    {
     "data": {
      "image/png": "[encoded data removed]",
      "text/plain": [
       "<Figure size 576x360 with 1 Axes>"
      ]
     },
     "metadata": {
      "needs_background": "light"
     },
     "output_type": "display_data"
    }
   ],
   "source": [
    "plt.figure(figsize=(8, 5))\n",
    "sns.regplot(x='Body Mass Index', y='Age', data=data)\n",
    "plt.title('The correlation between the Age and BMI')\n",
    "plt.show()"
   ]
  },
  {
   "cell_type": "code",
   "execution_count": 36,
   "id": "5707e724",
   "metadata": {},
   "outputs": [
    {
     "data": {
      "text/plain": [
       "0.011698"
      ]
     },
     "execution_count": 36,
     "metadata": {},
     "output_type": "execute_result"
    }
   ],
   "source": [
    "corr = data['Body Mass Index'].corr(data['Age'])\n",
    "round(corr, 6)"
   ]
  },
  {
   "cell_type": "markdown",
   "id": "6e11355e",
   "metadata": {},
   "source": [
    ">- The correlation between ages and M11(bmi) is alsmot a straight line. This means it is  very small. The correlation was 0.011801."
   ]
  },
  {
   "cell_type": "markdown",
   "id": "1f53f341",
   "metadata": {},
   "source": [
    "### 5. Is Blood Pressure affected by Age?"
   ]
  },
  {
   "cell_type": "code",
   "execution_count": 37,
   "id": "819cfc8f",
   "metadata": {},
   "outputs": [
    {
     "data": {
      "image/png": "[encoded data removed]",
      "text/plain": [
       "<Figure size 576x360 with 1 Axes>"
      ]
     },
     "metadata": {
      "needs_background": "light"
     },
     "output_type": "display_data"
    }
   ],
   "source": [
    "plt.figure(figsize=(8, 5))\n",
    "sns.regplot(x='Age', y='Blood Pressure', data=data)\n",
    "plt.title('The correlation between Ages and Blood Pressure')\n",
    "plt.ylabel('Blood Pressure')\n",
    "plt.show();"
   ]
  },
  {
   "cell_type": "code",
   "execution_count": 38,
   "id": "ca4b9ce1",
   "metadata": {},
   "outputs": [
    {
     "data": {
      "text/plain": [
       "0.308668"
      ]
     },
     "execution_count": 38,
     "metadata": {},
     "output_type": "execute_result"
    }
   ],
   "source": [
    "corr_ = data['Blood Pressure'].corr(data['Age'])\n",
    "round(corr_, 6)"
   ]
  },
  {
   "cell_type": "markdown",
   "id": "62126597",
   "metadata": {},
   "source": [
    ">- From the graph there is slightly a strong correlation between blood pressure and ages. The values was 0.30937"
   ]
  },
  {
   "cell_type": "markdown",
   "id": "06a5df3c",
   "metadata": {
    "id": "TP-DiZvsWs0F"
   },
   "source": [
    "## Multivariate Analysis\n",
    "\n",
    "Multivariate analysis’ is the analysis of more than one variable and aims to study the relationships among them. This analysis might be done by computing some statistical indicators like the `correlation` and by plotting some charts.\n",
    "\n",
    "Please, read [this article](https://towardsdatascience.com/10-must-know-seaborn-functions-for-multivariate-data-analysis-in-python-7ba94847b117) to know more about the charts."
   ]
  },
  {
   "cell_type": "markdown",
   "id": "e5796378",
   "metadata": {},
   "source": [
    "### 6. What is the relationship between Age and Body Mass Index Ranges and Sepsis?"
   ]
  },
  {
   "cell_type": "code",
   "execution_count": 39,
   "id": "b61e3988",
   "metadata": {
    "id": "NbYppWX8cfds"
   },
   "outputs": [
    {
     "data": {
      "image/png": "[encoded data removed]",
      "text/plain": [
       "<Figure size 720x360 with 1 Axes>"
      ]
     },
     "metadata": {
      "needs_background": "light"
     },
     "output_type": "display_data"
    }
   ],
   "source": [
    "plt.figure(figsize=(10, 5))\n",
    "sns.boxplot(data=data, y='Age', x='BMI Ranges', hue='Sepssis');\n",
    "# plt.ylim(-10, 3500);\n",
    "plt.legend();"
   ]
  },
  {
   "cell_type": "markdown",
   "id": "b69c7ca3",
   "metadata": {},
   "source": [
    ">- From the graph above,  most people that tested positive for sepsis had healthy weights and fell between the ages of  25 to 60. The Obesity category which had more number of patient recorded less patients who tested positive for sepsis."
   ]
  },
  {
   "cell_type": "markdown",
   "id": "7df291b8",
   "metadata": {},
   "source": [
    "### How does Blood Pressure and Plasma glucose affect the Sepssis "
   ]
  },
  {
   "cell_type": "code",
   "execution_count": 40,
   "id": "56e403f9",
   "metadata": {},
   "outputs": [],
   "source": [
    "# create function to plot facet grids\n",
    "def plot_facet_grid(data, x, y, z, title, xlabel, ylabel):\n",
    "    facet = sns.FacetGrid(data = data, col = z, col_wrap = 2, height = 5,\n",
    "                     xlim = [10, 80], ylim = [-500, 9000])\n",
    "    facet.map(plt.scatter, x, y, alpha= 1)\n",
    "    facet.set_xlabels(xlabel)\n",
    "    facet.set_ylabels(ylabel)\n",
    "    facet.set(xlim=(0, 20))\n",
    "    facet.set(ylim=(0, 200))\n",
    "    facet.fig.suptitle(title, fontsize=14, fontweight='bold', y=1.05)\n",
    "\n",
    "#     facet.fig.suptitle(title, )\n",
    "    plt.show()"
   ]
  },
  {
   "cell_type": "code",
   "execution_count": 41,
   "id": "bdd6656e",
   "metadata": {},
   "outputs": [
    {
     "data": {
      "image/png": "[encoded data removed]",
      "text/plain": [
       "<Figure size 720x360 with 2 Axes>"
      ]
     },
     "metadata": {
      "needs_background": "light"
     },
     "output_type": "display_data"
    }
   ],
   "source": [
    "facet_sepssis = plot_facet_grid(data, 'Plasma Glucose', 'Blood Pressure', 'Sepssis', \n",
    "                                  'Facetgrid for Sepsis against Plasma Glucose and Blood Pressure', \\\n",
    "                                  'Plasma Glucose', 'Blood Pressure')\n",
    "facet_sepssis"
   ]
  },
  {
   "cell_type": "markdown",
   "id": "86e7a7a3",
   "metadata": {},
   "source": [
    ">- In both Positive and Negative Sepsis there is almost no correlation btween Plasma and Blood Pressure"
   ]
  },
  {
   "cell_type": "code",
   "execution_count": 42,
   "id": "507f29c8",
   "metadata": {},
   "outputs": [
    {
     "data": {
      "text/plain": [
       "<AxesSubplot:xlabel='Age', ylabel='count'>"
      ]
     },
     "execution_count": 42,
     "metadata": {},
     "output_type": "execute_result"
    },
    {
     "data": {
      "image/png": "[encoded data removed]",
      "text/plain": [
       "<Figure size 1080x360 with 1 Axes>"
      ]
     },
     "metadata": {
      "needs_background": "light"
     },
     "output_type": "display_data"
    }
   ],
   "source": [
    "plt.figure(figsize=(15, 5))\n",
    "sns.countplot(x='Age', data=data, hue='Sepssis')"
   ]
  },
  {
   "cell_type": "markdown",
   "id": "878ee54d",
   "metadata": {
    "id": "2pfMjvtNhlfB"
   },
   "source": [
    "# Feature processing\n",
    "Here is the section to **clean** and **process** the features of the dataset."
   ]
  },
  {
   "cell_type": "code",
   "execution_count": 43,
   "id": "1584c855",
   "metadata": {},
   "outputs": [
    {
     "data": {
      "text/plain": [
       "Index(['ID', 'Plasma Glucose', 'Blood Work Result-1', 'Blood Pressure',\n",
       "       'Blood Work Result-2', 'Blood Work Result-3', 'Body Mass Index',\n",
       "       'Blood Work Result-4', 'Age', 'Insurance', 'Sepssis'],\n",
       "      dtype='object')"
      ]
     },
     "execution_count": 43,
     "metadata": {},
     "output_type": "execute_result"
    }
   ],
   "source": [
    "# display columns in dataframe\n",
    "df.columns"
   ]
  },
  {
   "cell_type": "code",
   "execution_count": 44,
   "id": "ab9e3170",
   "metadata": {
    "scrolled": true
   },
   "outputs": [],
   "source": [
    "# # Replace zeros in the dataset\n",
    "# # get columns to replace \n",
    "# non_zero_columns = df.drop(columns=['Insurance']).columns\n",
    "\n",
    "# # print columns to confirm\n",
    "# print(non_zero_columns)\n",
    "# # replace the zeros\n",
    "# df[non_zero_columns] = df[non_zero_columns].replace(0, df[non_zero_columns].mean())\n"
   ]
  },
  {
   "cell_type": "code",
   "execution_count": 45,
   "id": "daeee052",
   "metadata": {},
   "outputs": [
    {
     "name": "stdout",
     "output_type": "stream",
     "text": [
      "Count of zeros in Column  ID : 0\n",
      "Count of zeros in Column  Plasma Glucose : 93\n",
      "Count of zeros in Column  Blood Work Result-1 : 5\n",
      "Count of zeros in Column  Blood Pressure : 28\n",
      "Count of zeros in Column  Blood Work Result-2 : 175\n",
      "Count of zeros in Column  Blood Work Result-3 : 289\n",
      "Count of zeros in Column  Body Mass Index : 9\n",
      "Count of zeros in Column  Blood Work Result-4 : 0\n",
      "Count of zeros in Column  Age : 0\n",
      "Count of zeros in Column  Insurance : 188\n"
     ]
    }
   ],
   "source": [
    "number_of_zeros(df)"
   ]
  },
  {
   "cell_type": "code",
   "execution_count": 46,
   "id": "6173e8cb",
   "metadata": {},
   "outputs": [
    {
     "data": {
      "text/html": [
       "<div>\n",
       "<style scoped>\n",
       "    .dataframe tbody tr th:only-of-type {\n",
       "        vertical-align: middle;\n",
       "    }\n",
       "\n",
       "    .dataframe tbody tr th {\n",
       "        vertical-align: top;\n",
       "    }\n",
       "\n",
       "    .dataframe thead th {\n",
       "        text-align: right;\n",
       "    }\n",
       "</style>\n",
       "<table border=\"1\" class=\"dataframe\">\n",
       "  <thead>\n",
       "    <tr style=\"text-align: right;\">\n",
       "      <th></th>\n",
       "      <th>ID</th>\n",
       "      <th>Plasma Glucose</th>\n",
       "      <th>Blood Work Result-1</th>\n",
       "      <th>Blood Pressure</th>\n",
       "      <th>Blood Work Result-2</th>\n",
       "      <th>Blood Work Result-3</th>\n",
       "      <th>Body Mass Index</th>\n",
       "      <th>Blood Work Result-4</th>\n",
       "      <th>Age</th>\n",
       "      <th>Insurance</th>\n",
       "      <th>Sepssis</th>\n",
       "    </tr>\n",
       "  </thead>\n",
       "  <tbody>\n",
       "    <tr>\n",
       "      <th>0</th>\n",
       "      <td>ICU200010</td>\n",
       "      <td>6</td>\n",
       "      <td>148</td>\n",
       "      <td>72</td>\n",
       "      <td>35</td>\n",
       "      <td>0</td>\n",
       "      <td>33.6</td>\n",
       "      <td>0.627</td>\n",
       "      <td>50</td>\n",
       "      <td>0</td>\n",
       "      <td>Positive</td>\n",
       "    </tr>\n",
       "    <tr>\n",
       "      <th>1</th>\n",
       "      <td>ICU200011</td>\n",
       "      <td>1</td>\n",
       "      <td>85</td>\n",
       "      <td>66</td>\n",
       "      <td>29</td>\n",
       "      <td>0</td>\n",
       "      <td>26.6</td>\n",
       "      <td>0.351</td>\n",
       "      <td>31</td>\n",
       "      <td>0</td>\n",
       "      <td>Negative</td>\n",
       "    </tr>\n",
       "    <tr>\n",
       "      <th>2</th>\n",
       "      <td>ICU200012</td>\n",
       "      <td>8</td>\n",
       "      <td>183</td>\n",
       "      <td>64</td>\n",
       "      <td>0</td>\n",
       "      <td>0</td>\n",
       "      <td>23.3</td>\n",
       "      <td>0.672</td>\n",
       "      <td>32</td>\n",
       "      <td>1</td>\n",
       "      <td>Positive</td>\n",
       "    </tr>\n",
       "    <tr>\n",
       "      <th>3</th>\n",
       "      <td>ICU200013</td>\n",
       "      <td>1</td>\n",
       "      <td>89</td>\n",
       "      <td>66</td>\n",
       "      <td>23</td>\n",
       "      <td>94</td>\n",
       "      <td>28.1</td>\n",
       "      <td>0.167</td>\n",
       "      <td>21</td>\n",
       "      <td>1</td>\n",
       "      <td>Negative</td>\n",
       "    </tr>\n",
       "    <tr>\n",
       "      <th>4</th>\n",
       "      <td>ICU200014</td>\n",
       "      <td>0</td>\n",
       "      <td>137</td>\n",
       "      <td>40</td>\n",
       "      <td>35</td>\n",
       "      <td>168</td>\n",
       "      <td>43.1</td>\n",
       "      <td>2.288</td>\n",
       "      <td>33</td>\n",
       "      <td>1</td>\n",
       "      <td>Positive</td>\n",
       "    </tr>\n",
       "  </tbody>\n",
       "</table>\n",
       "</div>"
      ],
      "text/plain": [
       "          ID  Plasma Glucose  Blood Work Result-1  Blood Pressure  \\\n",
       "0  ICU200010               6                  148              72   \n",
       "1  ICU200011               1                   85              66   \n",
       "2  ICU200012               8                  183              64   \n",
       "3  ICU200013               1                   89              66   \n",
       "4  ICU200014               0                  137              40   \n",
       "\n",
       "   Blood Work Result-2  Blood Work Result-3  Body Mass Index  \\\n",
       "0                   35                    0             33.6   \n",
       "1                   29                    0             26.6   \n",
       "2                    0                    0             23.3   \n",
       "3                   23                   94             28.1   \n",
       "4                   35                  168             43.1   \n",
       "\n",
       "   Blood Work Result-4  Age  Insurance   Sepssis  \n",
       "0                0.627   50          0  Positive  \n",
       "1                0.351   31          0  Negative  \n",
       "2                0.672   32          1  Positive  \n",
       "3                0.167   21          1  Negative  \n",
       "4                2.288   33          1  Positive  "
      ]
     },
     "execution_count": 46,
     "metadata": {},
     "output_type": "execute_result"
    }
   ],
   "source": [
    "df.head(5)"
   ]
  },
  {
   "cell_type": "markdown",
   "id": "53b58c82",
   "metadata": {
    "id": "wxYGw6zug8lI"
   },
   "source": [
    "## Dataset Splitting"
   ]
  },
  {
   "cell_type": "code",
   "execution_count": 47,
   "id": "3b11bd89",
   "metadata": {},
   "outputs": [
    {
     "data": {
      "text/html": [
       "<div>\n",
       "<style scoped>\n",
       "    .dataframe tbody tr th:only-of-type {\n",
       "        vertical-align: middle;\n",
       "    }\n",
       "\n",
       "    .dataframe tbody tr th {\n",
       "        vertical-align: top;\n",
       "    }\n",
       "\n",
       "    .dataframe thead th {\n",
       "        text-align: right;\n",
       "    }\n",
       "</style>\n",
       "<table border=\"1\" class=\"dataframe\">\n",
       "  <thead>\n",
       "    <tr style=\"text-align: right;\">\n",
       "      <th></th>\n",
       "      <th>Plasma Glucose</th>\n",
       "      <th>Blood Work Result-1</th>\n",
       "      <th>Blood Pressure</th>\n",
       "      <th>Blood Work Result-2</th>\n",
       "      <th>Blood Work Result-3</th>\n",
       "      <th>Body Mass Index</th>\n",
       "      <th>Blood Work Result-4</th>\n",
       "      <th>Age</th>\n",
       "      <th>Insurance</th>\n",
       "      <th>Sepssis</th>\n",
       "    </tr>\n",
       "  </thead>\n",
       "  <tbody>\n",
       "    <tr>\n",
       "      <th>0</th>\n",
       "      <td>6</td>\n",
       "      <td>148</td>\n",
       "      <td>72</td>\n",
       "      <td>35</td>\n",
       "      <td>0</td>\n",
       "      <td>33.6</td>\n",
       "      <td>0.627</td>\n",
       "      <td>50</td>\n",
       "      <td>0</td>\n",
       "      <td>Positive</td>\n",
       "    </tr>\n",
       "    <tr>\n",
       "      <th>1</th>\n",
       "      <td>1</td>\n",
       "      <td>85</td>\n",
       "      <td>66</td>\n",
       "      <td>29</td>\n",
       "      <td>0</td>\n",
       "      <td>26.6</td>\n",
       "      <td>0.351</td>\n",
       "      <td>31</td>\n",
       "      <td>0</td>\n",
       "      <td>Negative</td>\n",
       "    </tr>\n",
       "  </tbody>\n",
       "</table>\n",
       "</div>"
      ],
      "text/plain": [
       "   Plasma Glucose  Blood Work Result-1  Blood Pressure  Blood Work Result-2  \\\n",
       "0               6                  148              72                   35   \n",
       "1               1                   85              66                   29   \n",
       "\n",
       "   Blood Work Result-3  Body Mass Index  Blood Work Result-4  Age Insurance  \\\n",
       "0                    0             33.6                0.627   50         0   \n",
       "1                    0             26.6                0.351   31         0   \n",
       "\n",
       "    Sepssis  \n",
       "0  Positive  \n",
       "1  Negative  "
      ]
     },
     "execution_count": 47,
     "metadata": {},
     "output_type": "execute_result"
    }
   ],
   "source": [
    "# Drop the ID column\n",
    "df_ = df.drop(columns=['ID'])\n",
    "df_['Insurance'] = df['Insurance'].astype('category')\n",
    "df_.head(2)"
   ]
  },
  {
   "cell_type": "code",
   "execution_count": 48,
   "id": "e7b043a7",
   "metadata": {},
   "outputs": [
    {
     "data": {
      "text/plain": [
       "Plasma Glucose            int64\n",
       "Blood Work Result-1       int64\n",
       "Blood Pressure            int64\n",
       "Blood Work Result-2       int64\n",
       "Blood Work Result-3       int64\n",
       "Body Mass Index         float64\n",
       "Blood Work Result-4     float64\n",
       "Age                       int64\n",
       "Insurance              category\n",
       "Sepssis                  object\n",
       "dtype: object"
      ]
     },
     "execution_count": 48,
     "metadata": {},
     "output_type": "execute_result"
    }
   ],
   "source": [
    "df_.dtypes"
   ]
  },
  {
   "cell_type": "code",
   "execution_count": 49,
   "id": "92afa6ce",
   "metadata": {},
   "outputs": [
    {
     "data": {
      "text/plain": [
       "array([1, 0])"
      ]
     },
     "execution_count": 49,
     "metadata": {},
     "output_type": "execute_result"
    }
   ],
   "source": [
    "#  change values in Sepsis column into numerical data\n",
    "df_['Sepssis'] = (df_['Sepssis'] == 'Positive').astype(bool).astype(int)\n",
    "df_['Sepssis'].unique()"
   ]
  },
  {
   "cell_type": "code",
   "execution_count": 50,
   "id": "27342055",
   "metadata": {},
   "outputs": [
    {
     "data": {
      "text/html": [
       "<div>\n",
       "<style scoped>\n",
       "    .dataframe tbody tr th:only-of-type {\n",
       "        vertical-align: middle;\n",
       "    }\n",
       "\n",
       "    .dataframe tbody tr th {\n",
       "        vertical-align: top;\n",
       "    }\n",
       "\n",
       "    .dataframe thead th {\n",
       "        text-align: right;\n",
       "    }\n",
       "</style>\n",
       "<table border=\"1\" class=\"dataframe\">\n",
       "  <thead>\n",
       "    <tr style=\"text-align: right;\">\n",
       "      <th></th>\n",
       "      <th>Plasma Glucose</th>\n",
       "      <th>Blood Work Result-1</th>\n",
       "      <th>Blood Pressure</th>\n",
       "      <th>Blood Work Result-2</th>\n",
       "      <th>Blood Work Result-3</th>\n",
       "      <th>Body Mass Index</th>\n",
       "      <th>Blood Work Result-4</th>\n",
       "      <th>Age</th>\n",
       "      <th>Insurance</th>\n",
       "      <th>Sepssis</th>\n",
       "    </tr>\n",
       "  </thead>\n",
       "  <tbody>\n",
       "    <tr>\n",
       "      <th>0</th>\n",
       "      <td>6</td>\n",
       "      <td>148</td>\n",
       "      <td>72</td>\n",
       "      <td>35</td>\n",
       "      <td>0</td>\n",
       "      <td>33.6</td>\n",
       "      <td>0.627</td>\n",
       "      <td>50</td>\n",
       "      <td>0</td>\n",
       "      <td>1</td>\n",
       "    </tr>\n",
       "    <tr>\n",
       "      <th>1</th>\n",
       "      <td>1</td>\n",
       "      <td>85</td>\n",
       "      <td>66</td>\n",
       "      <td>29</td>\n",
       "      <td>0</td>\n",
       "      <td>26.6</td>\n",
       "      <td>0.351</td>\n",
       "      <td>31</td>\n",
       "      <td>0</td>\n",
       "      <td>0</td>\n",
       "    </tr>\n",
       "    <tr>\n",
       "      <th>2</th>\n",
       "      <td>8</td>\n",
       "      <td>183</td>\n",
       "      <td>64</td>\n",
       "      <td>0</td>\n",
       "      <td>0</td>\n",
       "      <td>23.3</td>\n",
       "      <td>0.672</td>\n",
       "      <td>32</td>\n",
       "      <td>1</td>\n",
       "      <td>1</td>\n",
       "    </tr>\n",
       "  </tbody>\n",
       "</table>\n",
       "</div>"
      ],
      "text/plain": [
       "   Plasma Glucose  Blood Work Result-1  Blood Pressure  Blood Work Result-2  \\\n",
       "0               6                  148              72                   35   \n",
       "1               1                   85              66                   29   \n",
       "2               8                  183              64                    0   \n",
       "\n",
       "   Blood Work Result-3  Body Mass Index  Blood Work Result-4  Age Insurance  \\\n",
       "0                    0             33.6                0.627   50         0   \n",
       "1                    0             26.6                0.351   31         0   \n",
       "2                    0             23.3                0.672   32         1   \n",
       "\n",
       "   Sepssis  \n",
       "0        1  \n",
       "1        0  \n",
       "2        1  "
      ]
     },
     "execution_count": 50,
     "metadata": {},
     "output_type": "execute_result"
    }
   ],
   "source": [
    "# display data\n",
    "df_.head(3)"
   ]
  },
  {
   "cell_type": "code",
   "execution_count": 51,
   "id": "af892167",
   "metadata": {},
   "outputs": [
    {
     "data": {
      "text/plain": [
       "Sepssis                1.000000\n",
       "Blood Work Result-1    0.449719\n",
       "Body Mass Index        0.315894\n",
       "Age                    0.210234\n",
       "Plasma Glucose         0.207115\n",
       "Blood Work Result-4    0.181561\n",
       "Blood Work Result-3    0.145892\n",
       "Blood Work Result-2    0.075585\n",
       "Blood Pressure         0.061086\n",
       "Name: Sepssis, dtype: float64"
      ]
     },
     "execution_count": 51,
     "metadata": {},
     "output_type": "execute_result"
    }
   ],
   "source": [
    "df_corr = df_.corr()\n",
    "df_corr['Sepssis'].sort_values(ascending=False)"
   ]
  },
  {
   "cell_type": "code",
   "execution_count": 52,
   "id": "0b149165",
   "metadata": {
    "id": "cbsbMbs1hDzo"
   },
   "outputs": [],
   "source": [
    "# Use train_test_split with a random_state, and add stratify for Classification\n",
    "\n",
    "#spliting data into  80% train and  20% test\n",
    "\n",
    "train, test = train_test_split(df_, test_size=0.2, random_state=42)"
   ]
  },
  {
   "cell_type": "code",
   "execution_count": 53,
   "id": "81f2bd70",
   "metadata": {},
   "outputs": [],
   "source": [
    "# create features and targets from the train data\n",
    "X_train = train.drop(columns=['Sepssis'])\n",
    "y_train = train['Sepssis'].copy()\n",
    "\n",
    "# create features and targets from test data\n",
    "X_test = test.drop(columns=['Sepssis'])\n",
    "y_test = test['Sepssis'].copy()\n"
   ]
  },
  {
   "cell_type": "code",
   "execution_count": 54,
   "id": "b1a13cb1",
   "metadata": {},
   "outputs": [
    {
     "data": {
      "text/html": [
       "<div>\n",
       "<style scoped>\n",
       "    .dataframe tbody tr th:only-of-type {\n",
       "        vertical-align: middle;\n",
       "    }\n",
       "\n",
       "    .dataframe tbody tr th {\n",
       "        vertical-align: top;\n",
       "    }\n",
       "\n",
       "    .dataframe thead th {\n",
       "        text-align: right;\n",
       "    }\n",
       "</style>\n",
       "<table border=\"1\" class=\"dataframe\">\n",
       "  <thead>\n",
       "    <tr style=\"text-align: right;\">\n",
       "      <th></th>\n",
       "      <th>Plasma Glucose</th>\n",
       "      <th>Blood Work Result-1</th>\n",
       "      <th>Blood Pressure</th>\n",
       "      <th>Blood Work Result-2</th>\n",
       "      <th>Blood Work Result-3</th>\n",
       "      <th>Body Mass Index</th>\n",
       "      <th>Blood Work Result-4</th>\n",
       "      <th>Age</th>\n",
       "      <th>Insurance</th>\n",
       "    </tr>\n",
       "  </thead>\n",
       "  <tbody>\n",
       "    <tr>\n",
       "      <th>145</th>\n",
       "      <td>0</td>\n",
       "      <td>102</td>\n",
       "      <td>75</td>\n",
       "      <td>23</td>\n",
       "      <td>0</td>\n",
       "      <td>0.0</td>\n",
       "      <td>0.572</td>\n",
       "      <td>21</td>\n",
       "      <td>1</td>\n",
       "    </tr>\n",
       "    <tr>\n",
       "      <th>9</th>\n",
       "      <td>8</td>\n",
       "      <td>125</td>\n",
       "      <td>96</td>\n",
       "      <td>0</td>\n",
       "      <td>0</td>\n",
       "      <td>0.0</td>\n",
       "      <td>0.232</td>\n",
       "      <td>54</td>\n",
       "      <td>1</td>\n",
       "    </tr>\n",
       "    <tr>\n",
       "      <th>375</th>\n",
       "      <td>12</td>\n",
       "      <td>140</td>\n",
       "      <td>82</td>\n",
       "      <td>43</td>\n",
       "      <td>325</td>\n",
       "      <td>39.2</td>\n",
       "      <td>0.528</td>\n",
       "      <td>58</td>\n",
       "      <td>1</td>\n",
       "    </tr>\n",
       "    <tr>\n",
       "      <th>522</th>\n",
       "      <td>6</td>\n",
       "      <td>114</td>\n",
       "      <td>0</td>\n",
       "      <td>0</td>\n",
       "      <td>0</td>\n",
       "      <td>0.0</td>\n",
       "      <td>0.189</td>\n",
       "      <td>26</td>\n",
       "      <td>1</td>\n",
       "    </tr>\n",
       "    <tr>\n",
       "      <th>188</th>\n",
       "      <td>8</td>\n",
       "      <td>109</td>\n",
       "      <td>76</td>\n",
       "      <td>39</td>\n",
       "      <td>114</td>\n",
       "      <td>27.9</td>\n",
       "      <td>0.640</td>\n",
       "      <td>31</td>\n",
       "      <td>0</td>\n",
       "    </tr>\n",
       "  </tbody>\n",
       "</table>\n",
       "</div>"
      ],
      "text/plain": [
       "     Plasma Glucose  Blood Work Result-1  Blood Pressure  Blood Work Result-2  \\\n",
       "145               0                  102              75                   23   \n",
       "9                 8                  125              96                    0   \n",
       "375              12                  140              82                   43   \n",
       "522               6                  114               0                    0   \n",
       "188               8                  109              76                   39   \n",
       "\n",
       "     Blood Work Result-3  Body Mass Index  Blood Work Result-4  Age Insurance  \n",
       "145                    0              0.0                0.572   21         1  \n",
       "9                      0              0.0                0.232   54         1  \n",
       "375                  325             39.2                0.528   58         1  \n",
       "522                    0              0.0                0.189   26         1  \n",
       "188                  114             27.9                0.640   31         0  "
      ]
     },
     "execution_count": 54,
     "metadata": {},
     "output_type": "execute_result"
    }
   ],
   "source": [
    "# display head fo the train features dataframe\n",
    "X_train.head()"
   ]
  },
  {
   "cell_type": "code",
   "execution_count": 55,
   "id": "900515a5",
   "metadata": {},
   "outputs": [
    {
     "data": {
      "text/html": [
       "<div>\n",
       "<style scoped>\n",
       "    .dataframe tbody tr th:only-of-type {\n",
       "        vertical-align: middle;\n",
       "    }\n",
       "\n",
       "    .dataframe tbody tr th {\n",
       "        vertical-align: top;\n",
       "    }\n",
       "\n",
       "    .dataframe thead th {\n",
       "        text-align: right;\n",
       "    }\n",
       "</style>\n",
       "<table border=\"1\" class=\"dataframe\">\n",
       "  <thead>\n",
       "    <tr style=\"text-align: right;\">\n",
       "      <th></th>\n",
       "      <th>Plasma Glucose</th>\n",
       "      <th>Blood Work Result-1</th>\n",
       "      <th>Blood Pressure</th>\n",
       "      <th>Blood Work Result-2</th>\n",
       "      <th>Blood Work Result-3</th>\n",
       "      <th>Body Mass Index</th>\n",
       "      <th>Blood Work Result-4</th>\n",
       "      <th>Age</th>\n",
       "      <th>Insurance</th>\n",
       "    </tr>\n",
       "  </thead>\n",
       "  <tbody>\n",
       "    <tr>\n",
       "      <th>110</th>\n",
       "      <td>3</td>\n",
       "      <td>171</td>\n",
       "      <td>72</td>\n",
       "      <td>33</td>\n",
       "      <td>135</td>\n",
       "      <td>33.3</td>\n",
       "      <td>0.199</td>\n",
       "      <td>24</td>\n",
       "      <td>1</td>\n",
       "    </tr>\n",
       "    <tr>\n",
       "      <th>419</th>\n",
       "      <td>3</td>\n",
       "      <td>129</td>\n",
       "      <td>64</td>\n",
       "      <td>29</td>\n",
       "      <td>115</td>\n",
       "      <td>26.4</td>\n",
       "      <td>0.219</td>\n",
       "      <td>28</td>\n",
       "      <td>1</td>\n",
       "    </tr>\n",
       "    <tr>\n",
       "      <th>564</th>\n",
       "      <td>0</td>\n",
       "      <td>91</td>\n",
       "      <td>80</td>\n",
       "      <td>0</td>\n",
       "      <td>0</td>\n",
       "      <td>32.4</td>\n",
       "      <td>0.601</td>\n",
       "      <td>27</td>\n",
       "      <td>0</td>\n",
       "    </tr>\n",
       "    <tr>\n",
       "      <th>77</th>\n",
       "      <td>5</td>\n",
       "      <td>95</td>\n",
       "      <td>72</td>\n",
       "      <td>33</td>\n",
       "      <td>0</td>\n",
       "      <td>37.7</td>\n",
       "      <td>0.370</td>\n",
       "      <td>27</td>\n",
       "      <td>1</td>\n",
       "    </tr>\n",
       "    <tr>\n",
       "      <th>181</th>\n",
       "      <td>0</td>\n",
       "      <td>119</td>\n",
       "      <td>64</td>\n",
       "      <td>18</td>\n",
       "      <td>92</td>\n",
       "      <td>34.9</td>\n",
       "      <td>0.725</td>\n",
       "      <td>23</td>\n",
       "      <td>0</td>\n",
       "    </tr>\n",
       "  </tbody>\n",
       "</table>\n",
       "</div>"
      ],
      "text/plain": [
       "     Plasma Glucose  Blood Work Result-1  Blood Pressure  Blood Work Result-2  \\\n",
       "110               3                  171              72                   33   \n",
       "419               3                  129              64                   29   \n",
       "564               0                   91              80                    0   \n",
       "77                5                   95              72                   33   \n",
       "181               0                  119              64                   18   \n",
       "\n",
       "     Blood Work Result-3  Body Mass Index  Blood Work Result-4  Age Insurance  \n",
       "110                  135             33.3                0.199   24         1  \n",
       "419                  115             26.4                0.219   28         1  \n",
       "564                    0             32.4                0.601   27         0  \n",
       "77                     0             37.7                0.370   27         1  \n",
       "181                   92             34.9                0.725   23         0  "
      ]
     },
     "execution_count": 55,
     "metadata": {},
     "output_type": "execute_result"
    }
   ],
   "source": [
    "# displayhead for the test features dataframe\n",
    "\n",
    "X_test.head()"
   ]
  },
  {
   "cell_type": "markdown",
   "id": "0f1b52c5",
   "metadata": {},
   "source": [
    "## New Features Creation"
   ]
  },
  {
   "cell_type": "code",
   "execution_count": 56,
   "id": "7ae766ff",
   "metadata": {},
   "outputs": [],
   "source": [
    "# create features the BMI_Range and BP_Range for x_train\n",
    "X_train['BMI_Range'] = X_train.apply(create_bmi_range, axis=1)\n",
    "X_train['BP_range'] = X_train.apply(blood_pressure_ranges, axis=1)"
   ]
  },
  {
   "cell_type": "code",
   "execution_count": 57,
   "id": "bf79d9c9",
   "metadata": {
    "scrolled": true
   },
   "outputs": [
    {
     "data": {
      "text/html": [
       "<div>\n",
       "<style scoped>\n",
       "    .dataframe tbody tr th:only-of-type {\n",
       "        vertical-align: middle;\n",
       "    }\n",
       "\n",
       "    .dataframe tbody tr th {\n",
       "        vertical-align: top;\n",
       "    }\n",
       "\n",
       "    .dataframe thead th {\n",
       "        text-align: right;\n",
       "    }\n",
       "</style>\n",
       "<table border=\"1\" class=\"dataframe\">\n",
       "  <thead>\n",
       "    <tr style=\"text-align: right;\">\n",
       "      <th></th>\n",
       "      <th>Plasma Glucose</th>\n",
       "      <th>Blood Work Result-1</th>\n",
       "      <th>Blood Pressure</th>\n",
       "      <th>Blood Work Result-2</th>\n",
       "      <th>Blood Work Result-3</th>\n",
       "      <th>Body Mass Index</th>\n",
       "      <th>Blood Work Result-4</th>\n",
       "      <th>Age</th>\n",
       "      <th>Insurance</th>\n",
       "      <th>BMI_Range</th>\n",
       "      <th>BP_range</th>\n",
       "    </tr>\n",
       "  </thead>\n",
       "  <tbody>\n",
       "    <tr>\n",
       "      <th>145</th>\n",
       "      <td>0</td>\n",
       "      <td>102</td>\n",
       "      <td>75</td>\n",
       "      <td>23</td>\n",
       "      <td>0</td>\n",
       "      <td>0.0</td>\n",
       "      <td>0.572</td>\n",
       "      <td>21</td>\n",
       "      <td>1</td>\n",
       "      <td>Under Weight</td>\n",
       "      <td>normal</td>\n",
       "    </tr>\n",
       "    <tr>\n",
       "      <th>9</th>\n",
       "      <td>8</td>\n",
       "      <td>125</td>\n",
       "      <td>96</td>\n",
       "      <td>0</td>\n",
       "      <td>0</td>\n",
       "      <td>0.0</td>\n",
       "      <td>0.232</td>\n",
       "      <td>54</td>\n",
       "      <td>1</td>\n",
       "      <td>Under Weight</td>\n",
       "      <td>high</td>\n",
       "    </tr>\n",
       "    <tr>\n",
       "      <th>375</th>\n",
       "      <td>12</td>\n",
       "      <td>140</td>\n",
       "      <td>82</td>\n",
       "      <td>43</td>\n",
       "      <td>325</td>\n",
       "      <td>39.2</td>\n",
       "      <td>0.528</td>\n",
       "      <td>58</td>\n",
       "      <td>1</td>\n",
       "      <td>Obesity</td>\n",
       "      <td>elevated</td>\n",
       "    </tr>\n",
       "  </tbody>\n",
       "</table>\n",
       "</div>"
      ],
      "text/plain": [
       "     Plasma Glucose  Blood Work Result-1  Blood Pressure  Blood Work Result-2  \\\n",
       "145               0                  102              75                   23   \n",
       "9                 8                  125              96                    0   \n",
       "375              12                  140              82                   43   \n",
       "\n",
       "     Blood Work Result-3  Body Mass Index  Blood Work Result-4  Age Insurance  \\\n",
       "145                    0              0.0                0.572   21         1   \n",
       "9                      0              0.0                0.232   54         1   \n",
       "375                  325             39.2                0.528   58         1   \n",
       "\n",
       "        BMI_Range  BP_range  \n",
       "145  Under Weight    normal  \n",
       "9    Under Weight      high  \n",
       "375       Obesity  elevated  "
      ]
     },
     "execution_count": 57,
     "metadata": {},
     "output_type": "execute_result"
    }
   ],
   "source": [
    "X_train.head(3)"
   ]
  },
  {
   "cell_type": "code",
   "execution_count": null,
   "id": "c695662e",
   "metadata": {},
   "outputs": [],
   "source": []
  },
  {
   "cell_type": "code",
   "execution_count": 58,
   "id": "8ba48f7e",
   "metadata": {},
   "outputs": [],
   "source": [
    "# create features the BMI_Range and BP_Range for x_test\n",
    "X_test['BMI_Range'] = X_test.apply(create_bmi_range, axis=1)\n",
    "X_test['BP_range'] = X_test.apply(blood_pressure_ranges, axis=1)"
   ]
  },
  {
   "cell_type": "code",
   "execution_count": 59,
   "id": "3f367eb9",
   "metadata": {
    "scrolled": true
   },
   "outputs": [
    {
     "data": {
      "text/html": [
       "<div>\n",
       "<style scoped>\n",
       "    .dataframe tbody tr th:only-of-type {\n",
       "        vertical-align: middle;\n",
       "    }\n",
       "\n",
       "    .dataframe tbody tr th {\n",
       "        vertical-align: top;\n",
       "    }\n",
       "\n",
       "    .dataframe thead th {\n",
       "        text-align: right;\n",
       "    }\n",
       "</style>\n",
       "<table border=\"1\" class=\"dataframe\">\n",
       "  <thead>\n",
       "    <tr style=\"text-align: right;\">\n",
       "      <th></th>\n",
       "      <th>Plasma Glucose</th>\n",
       "      <th>Blood Work Result-1</th>\n",
       "      <th>Blood Pressure</th>\n",
       "      <th>Blood Work Result-2</th>\n",
       "      <th>Blood Work Result-3</th>\n",
       "      <th>Body Mass Index</th>\n",
       "      <th>Blood Work Result-4</th>\n",
       "      <th>Age</th>\n",
       "      <th>Insurance</th>\n",
       "      <th>BMI_Range</th>\n",
       "      <th>BP_range</th>\n",
       "    </tr>\n",
       "  </thead>\n",
       "  <tbody>\n",
       "    <tr>\n",
       "      <th>110</th>\n",
       "      <td>3</td>\n",
       "      <td>171</td>\n",
       "      <td>72</td>\n",
       "      <td>33</td>\n",
       "      <td>135</td>\n",
       "      <td>33.3</td>\n",
       "      <td>0.199</td>\n",
       "      <td>24</td>\n",
       "      <td>1</td>\n",
       "      <td>Obesity</td>\n",
       "      <td>normal</td>\n",
       "    </tr>\n",
       "    <tr>\n",
       "      <th>419</th>\n",
       "      <td>3</td>\n",
       "      <td>129</td>\n",
       "      <td>64</td>\n",
       "      <td>29</td>\n",
       "      <td>115</td>\n",
       "      <td>26.4</td>\n",
       "      <td>0.219</td>\n",
       "      <td>28</td>\n",
       "      <td>1</td>\n",
       "      <td>Over Weight</td>\n",
       "      <td>normal</td>\n",
       "    </tr>\n",
       "    <tr>\n",
       "      <th>564</th>\n",
       "      <td>0</td>\n",
       "      <td>91</td>\n",
       "      <td>80</td>\n",
       "      <td>0</td>\n",
       "      <td>0</td>\n",
       "      <td>32.4</td>\n",
       "      <td>0.601</td>\n",
       "      <td>27</td>\n",
       "      <td>0</td>\n",
       "      <td>Obesity</td>\n",
       "      <td>elevated</td>\n",
       "    </tr>\n",
       "  </tbody>\n",
       "</table>\n",
       "</div>"
      ],
      "text/plain": [
       "     Plasma Glucose  Blood Work Result-1  Blood Pressure  Blood Work Result-2  \\\n",
       "110               3                  171              72                   33   \n",
       "419               3                  129              64                   29   \n",
       "564               0                   91              80                    0   \n",
       "\n",
       "     Blood Work Result-3  Body Mass Index  Blood Work Result-4  Age Insurance  \\\n",
       "110                  135             33.3                0.199   24         1   \n",
       "419                  115             26.4                0.219   28         1   \n",
       "564                    0             32.4                0.601   27         0   \n",
       "\n",
       "       BMI_Range  BP_range  \n",
       "110      Obesity    normal  \n",
       "419  Over Weight    normal  \n",
       "564      Obesity  elevated  "
      ]
     },
     "execution_count": 59,
     "metadata": {},
     "output_type": "execute_result"
    }
   ],
   "source": [
    "X_test.head(3)"
   ]
  },
  {
   "cell_type": "code",
   "execution_count": null,
   "id": "a2a275ae",
   "metadata": {},
   "outputs": [],
   "source": []
  },
  {
   "cell_type": "code",
   "execution_count": 60,
   "id": "46df93aa",
   "metadata": {},
   "outputs": [
    {
     "name": "stdout",
     "output_type": "stream",
     "text": [
      "['0-30', '20-50', '40-70', '60-90', '80-110']\n"
     ]
    }
   ],
   "source": [
    "# get the min and max o fthe ages\n",
    "age_min = df['Age'].min()\n",
    "age_max = df['Age'].max()\n",
    "\n",
    "# create a new column 'Age Group'\n",
    "age_labels =['{0}-{1}'.format(i, i+30) for i in range(0, age_max,20)]\n",
    "X_train['Age Group'] = pd.cut(X_train['Age'], bins=(range(0, 120, 20)), right=False, labels=age_labels)\n",
    "X_test['Age Group'] = pd.cut(X_test['Age'], bins=(range(0, 120, 20)), right=False, labels=age_labels)\n",
    "\n",
    "print(age_labels)"
   ]
  },
  {
   "cell_type": "code",
   "execution_count": 61,
   "id": "185a54c7",
   "metadata": {},
   "outputs": [
    {
     "data": {
      "text/plain": [
       "110    20-50\n",
       "419    20-50\n",
       "564    20-50\n",
       "77     20-50\n",
       "181    20-50\n",
       "       ...  \n",
       "399    20-50\n",
       "340    20-50\n",
       "148    60-90\n",
       "494    20-50\n",
       "439    20-50\n",
       "Name: Age Group, Length: 120, dtype: category\n",
       "Categories (5, object): ['0-30' < '20-50' < '40-70' < '60-90' < '80-110']"
      ]
     },
     "execution_count": 61,
     "metadata": {},
     "output_type": "execute_result"
    }
   ],
   "source": [
    "X_test['Age Group']"
   ]
  },
  {
   "cell_type": "code",
   "execution_count": 62,
   "id": "c75b4eb5",
   "metadata": {},
   "outputs": [],
   "source": [
    "X_train = X_train.drop(columns=['Blood Pressure', 'Age', 'Body Mass Index'])\n",
    "X_test = X_test.drop(columns=['Blood Pressure', 'Age', 'Body Mass Index'])\n",
    "\n",
    "# X_train = X_train.drop(columns=['Age'])\n",
    "# X_test = X_test.drop(columns=['Age'])"
   ]
  },
  {
   "cell_type": "code",
   "execution_count": 63,
   "id": "54a595ac",
   "metadata": {},
   "outputs": [],
   "source": [
    "# df[['Blood Work Result-1', 'Blood Work Result-2', 'Blood Work Result-3', 'Blood Work Result-4']] = \\\n",
    "#  df[['Blood Work Result-1', 'Blood Work Result-2', 'Blood Work Result-3', 'Blood Work Result-4']].astype(int)\n",
    "\n",
    "# bwr1_min = df['Blood Work Result-1'].min()\n",
    "# bwr1_max = df['Blood Work Result-1'].max()\n",
    "\n",
    "# bwr1_labels =['{0}-{1}'.format(i, i+20) for i in range(bwr1_min, bwr1_max, 20)]\n",
    "# # X_train['BRW1 Group'] = pd.cut(X_train['Blood Work Result-1'], bins=(range(0, 105, 15)), right=False, labels=bwr1_labels)\n",
    "# # X_test['BRW1 Group'] = pd.cut(X_test['Blood Work Result-1'], bins=(range(0, 105, 15)), right=False, labels=bwr_labels)\n",
    "# print(bwr1_labels)"
   ]
  },
  {
   "cell_type": "code",
   "execution_count": 64,
   "id": "ebdce49d",
   "metadata": {},
   "outputs": [],
   "source": [
    "# bwr2_min = df['Blood Work Result-2'].min()\n",
    "# bwr2_max = df['Blood Work Result-2'].max()\n",
    "\n",
    "# bwr2_labels =['{0}-{1}'.format(i, i+20) for i in range(bwr2_min, bwr_max2, 20)]\n",
    "# # X_train['BRW2 Group'] = pd.cut(X_train['Blood Work Result-2'], bins=(range(0, 105, 15)), right=False, labels=labels)\n",
    "# # X_test['BRW2 Group'] = pd.cut(X_test['Blood Work Result-2'], bins=(range(0, 105, 15)), right=False, labels=labels)\n",
    "# print(bwr2_labels)"
   ]
  },
  {
   "cell_type": "code",
   "execution_count": 65,
   "id": "923e999d",
   "metadata": {},
   "outputs": [],
   "source": [
    "# bwr_min = df['Blood Work Result-2'].min()\n",
    "# bwr_max = df['Blood Work Result-2'].max()\n",
    "\n",
    "# labels =['{0}-{1}'.format(i, i+15) for i in range(bwr_min, bwr_max, 15)]\n",
    "# # X_train['BRW2 Group'] = pd.cut(X_train['Blood Work Result-2'], bins=(range(0, 105, 15)), right=False, labels=labels)\n",
    "# # X_test['BRW2 Group'] = pd.cut(X_test['Blood Work Result-2'], bins=(range(0, 105, 15)), right=False, labels=labels)\n",
    "# print(labels)"
   ]
  },
  {
   "cell_type": "code",
   "execution_count": 66,
   "id": "5dc2da89",
   "metadata": {},
   "outputs": [],
   "source": [
    "# bwr_min = df['Blood Work Result-2'].min()\n",
    "# bwr_max = df['Blood Work Result-2'].max()\n",
    "\n",
    "# labels =['{0}-{1}'.format(i, i+15) for i in range(bwr_min, bwr_max, 15)]\n",
    "# # X_train['BRW2 Group'] = pd.cut(X_train['Blood Work Result-2'], bins=(range(0, 105, 15)), right=False, labels=labels)\n",
    "# # X_test['BRW2 Group'] = pd.cut(X_test['Blood Work Result-2'], bins=(range(0, 105, 15)), right=False, labels=labels)\n",
    "# print(labels)"
   ]
  },
  {
   "cell_type": "code",
   "execution_count": 67,
   "id": "ffc7afb1",
   "metadata": {},
   "outputs": [],
   "source": [
    "# X_test.head(3)"
   ]
  },
  {
   "cell_type": "code",
   "execution_count": 68,
   "id": "03870093",
   "metadata": {},
   "outputs": [],
   "source": [
    "# X_train.head(3)"
   ]
  },
  {
   "cell_type": "markdown",
   "id": "2c69f0d1",
   "metadata": {
    "id": "dLJuYG_JgBH8"
   },
   "source": [
    "## Create Pipeline to Impute Missing Values, Encode columns and Scale Columns"
   ]
  },
  {
   "cell_type": "code",
   "execution_count": 69,
   "id": "58dd7977",
   "metadata": {},
   "outputs": [
    {
     "data": {
      "text/plain": [
       "((479, 10), (120, 10))"
      ]
     },
     "execution_count": 69,
     "metadata": {},
     "output_type": "execute_result"
    }
   ],
   "source": [
    "# check and confirm the shape of the train and test data\n",
    "train.shape, test.shape"
   ]
  },
  {
   "cell_type": "code",
   "execution_count": 70,
   "id": "effa9300",
   "metadata": {},
   "outputs": [
    {
     "data": {
      "text/plain": [
       "array([ True,  True,  True,  True])"
      ]
     },
     "execution_count": 70,
     "metadata": {},
     "output_type": "execute_result"
    }
   ],
   "source": [
    "# select the categorical columns from train and test data for encoding\n",
    "train_cat_cols = X_train.select_dtypes(include=['object', 'category']).columns\n",
    "test_cat_cols = X_test.select_dtypes(include=['object', 'category']).columns\n",
    "train_cat_cols == test_cat_cols"
   ]
  },
  {
   "cell_type": "code",
   "execution_count": 71,
   "id": "f625b8c7",
   "metadata": {},
   "outputs": [
    {
     "data": {
      "text/plain": [
       "array([ True,  True,  True,  True,  True])"
      ]
     },
     "execution_count": 71,
     "metadata": {},
     "output_type": "execute_result"
    }
   ],
   "source": [
    "# select numerical columns from the train and test dataset\n",
    "train_num_cols=X_train.select_dtypes(exclude=['object', 'category']).columns\n",
    "test_num_cols=X_test.select_dtypes(exclude=['object', 'category']).columns\n",
    "\n",
    "# # confirm if numerical columns are same for test and train data\n",
    "test_num_cols == train_num_cols"
   ]
  },
  {
   "cell_type": "code",
   "execution_count": 72,
   "id": "2ae3f7f5",
   "metadata": {},
   "outputs": [
    {
     "name": "stdout",
     "output_type": "stream",
     "text": [
      "['Plasma Glucose', 'Blood Work Result-1', 'Blood Work Result-2', 'Blood Work Result-3', 'Blood Work Result-4'] ['Insurance', 'BMI_Range', 'BP_range', 'Age Group']\n"
     ]
    }
   ],
   "source": [
    "# create variables to hold numerical and categorical columns \n",
    "num_attribs = list(train_num_cols)\n",
    "cat_attribs = list(train_cat_cols)\n",
    "print(num_attribs, cat_attribs)"
   ]
  },
  {
   "cell_type": "code",
   "execution_count": 73,
   "id": "7e4fd98b",
   "metadata": {},
   "outputs": [],
   "source": [
    "#create a numerical pipeline to standardize and impute the missinf in the numerical columns\n",
    "num_pipeline = Pipeline([('imputer',SimpleImputer(strategy=\"most_frequent\")),('std_scaler', StandardScaler())])\n",
    "\n",
    "#create a categorical pipeline to encode and impute the missing in the numerical columns\n",
    "cat_pipeline = Pipeline([('imputer',SimpleImputer(strategy=\"most_frequent\")),('cat_encoder', OneHotEncoder(handle_unknown='ignore'))])"
   ]
  },
  {
   "cell_type": "code",
   "execution_count": 74,
   "id": "2ebedef6",
   "metadata": {},
   "outputs": [],
   "source": [
    "# Create a fullpipeline by combining numerical and catagorical pioeline\n",
    "full_pipeline = ColumnTransformer([(\"numerical\",num_pipeline, num_attribs), (\"categorical\",cat_pipeline, cat_attribs)], )"
   ]
  },
  {
   "cell_type": "code",
   "execution_count": null,
   "id": "f3dbec92",
   "metadata": {},
   "outputs": [],
   "source": []
  },
  {
   "cell_type": "code",
   "execution_count": 75,
   "id": "f7830b00",
   "metadata": {},
   "outputs": [],
   "source": [
    "# use create pipeline to transform train and test features\n",
    "X_train_prepared = full_pipeline.fit_transform(X_train)\n",
    "X_test_prepared = full_pipeline.transform(X_test)"
   ]
  },
  {
   "cell_type": "code",
   "execution_count": 76,
   "id": "15984060",
   "metadata": {},
   "outputs": [],
   "source": [
    "# "
   ]
  },
  {
   "cell_type": "code",
   "execution_count": 77,
   "id": "ea04ba62",
   "metadata": {},
   "outputs": [
    {
     "data": {
      "text/plain": [
       "array(['x0_0', 'x0_1', 'x1_Healthy Weight', 'x1_Obesity',\n",
       "       'x1_Over Weight', 'x1_Severe Obesity', 'x1_Under Weight',\n",
       "       'x2_elevated', 'x2_high', 'x2_normal', 'x3_20-50', 'x3_40-70',\n",
       "       'x3_60-90', 'x3_80-110'], dtype=object)"
      ]
     },
     "execution_count": 77,
     "metadata": {},
     "output_type": "execute_result"
    }
   ],
   "source": [
    "# get categorical columns after transformation\n",
    "cat_features = full_pipeline.named_transformers_['categorical']['cat_encoder'].get_feature_names()\n",
    "cat_features"
   ]
  },
  {
   "cell_type": "code",
   "execution_count": 78,
   "id": "ca753225",
   "metadata": {},
   "outputs": [],
   "source": [
    "columns_ = np.concatenate([train_num_cols, cat_features])"
   ]
  },
  {
   "cell_type": "code",
   "execution_count": 79,
   "id": "0fb9b85e",
   "metadata": {
    "scrolled": false
   },
   "outputs": [
    {
     "data": {
      "text/html": [
       "<div>\n",
       "<style scoped>\n",
       "    .dataframe tbody tr th:only-of-type {\n",
       "        vertical-align: middle;\n",
       "    }\n",
       "\n",
       "    .dataframe tbody tr th {\n",
       "        vertical-align: top;\n",
       "    }\n",
       "\n",
       "    .dataframe thead th {\n",
       "        text-align: right;\n",
       "    }\n",
       "</style>\n",
       "<table border=\"1\" class=\"dataframe\">\n",
       "  <thead>\n",
       "    <tr style=\"text-align: right;\">\n",
       "      <th></th>\n",
       "      <th>Plasma Glucose</th>\n",
       "      <th>Blood Work Result-1</th>\n",
       "      <th>Blood Work Result-2</th>\n",
       "      <th>Blood Work Result-3</th>\n",
       "      <th>Blood Work Result-4</th>\n",
       "      <th>Insurance_0</th>\n",
       "      <th>Insurance_1</th>\n",
       "      <th>x1_Healthy Weight</th>\n",
       "      <th>x1_Obesity</th>\n",
       "      <th>x1_Over Weight</th>\n",
       "      <th>x1_Severe Obesity</th>\n",
       "      <th>x1_Under Weight</th>\n",
       "      <th>x2_elevated</th>\n",
       "      <th>x2_high</th>\n",
       "      <th>x2_normal</th>\n",
       "      <th>x3_20-50</th>\n",
       "      <th>x3_40-70</th>\n",
       "      <th>x3_60-90</th>\n",
       "      <th>x3_80-110</th>\n",
       "    </tr>\n",
       "  </thead>\n",
       "  <tbody>\n",
       "    <tr>\n",
       "      <th>0</th>\n",
       "      <td>-1.134318</td>\n",
       "      <td>-0.562061</td>\n",
       "      <td>0.129634</td>\n",
       "      <td>-0.686284</td>\n",
       "      <td>0.298699</td>\n",
       "      <td>0.0</td>\n",
       "      <td>1.0</td>\n",
       "      <td>0.0</td>\n",
       "      <td>0.0</td>\n",
       "      <td>0.0</td>\n",
       "      <td>0.0</td>\n",
       "      <td>1.0</td>\n",
       "      <td>0.0</td>\n",
       "      <td>0.0</td>\n",
       "      <td>1.0</td>\n",
       "      <td>1.0</td>\n",
       "      <td>0.0</td>\n",
       "      <td>0.0</td>\n",
       "      <td>0.0</td>\n",
       "    </tr>\n",
       "    <tr>\n",
       "      <th>1</th>\n",
       "      <td>1.222898</td>\n",
       "      <td>0.165922</td>\n",
       "      <td>-1.299975</td>\n",
       "      <td>-0.686284</td>\n",
       "      <td>-0.760484</td>\n",
       "      <td>0.0</td>\n",
       "      <td>1.0</td>\n",
       "      <td>0.0</td>\n",
       "      <td>0.0</td>\n",
       "      <td>0.0</td>\n",
       "      <td>0.0</td>\n",
       "      <td>1.0</td>\n",
       "      <td>0.0</td>\n",
       "      <td>1.0</td>\n",
       "      <td>0.0</td>\n",
       "      <td>0.0</td>\n",
       "      <td>1.0</td>\n",
       "      <td>0.0</td>\n",
       "      <td>0.0</td>\n",
       "    </tr>\n",
       "    <tr>\n",
       "      <th>2</th>\n",
       "      <td>2.401505</td>\n",
       "      <td>0.640694</td>\n",
       "      <td>1.372772</td>\n",
       "      <td>2.148272</td>\n",
       "      <td>0.161629</td>\n",
       "      <td>0.0</td>\n",
       "      <td>1.0</td>\n",
       "      <td>0.0</td>\n",
       "      <td>1.0</td>\n",
       "      <td>0.0</td>\n",
       "      <td>0.0</td>\n",
       "      <td>0.0</td>\n",
       "      <td>1.0</td>\n",
       "      <td>0.0</td>\n",
       "      <td>0.0</td>\n",
       "      <td>0.0</td>\n",
       "      <td>1.0</td>\n",
       "      <td>0.0</td>\n",
       "      <td>0.0</td>\n",
       "    </tr>\n",
       "    <tr>\n",
       "      <th>3</th>\n",
       "      <td>0.633594</td>\n",
       "      <td>-0.182244</td>\n",
       "      <td>-1.299975</td>\n",
       "      <td>-0.686284</td>\n",
       "      <td>-0.894440</td>\n",
       "      <td>0.0</td>\n",
       "      <td>1.0</td>\n",
       "      <td>0.0</td>\n",
       "      <td>0.0</td>\n",
       "      <td>0.0</td>\n",
       "      <td>0.0</td>\n",
       "      <td>1.0</td>\n",
       "      <td>0.0</td>\n",
       "      <td>0.0</td>\n",
       "      <td>1.0</td>\n",
       "      <td>1.0</td>\n",
       "      <td>0.0</td>\n",
       "      <td>0.0</td>\n",
       "      <td>0.0</td>\n",
       "    </tr>\n",
       "    <tr>\n",
       "      <th>4</th>\n",
       "      <td>1.222898</td>\n",
       "      <td>-0.340501</td>\n",
       "      <td>1.124144</td>\n",
       "      <td>0.307991</td>\n",
       "      <td>0.510536</td>\n",
       "      <td>1.0</td>\n",
       "      <td>0.0</td>\n",
       "      <td>0.0</td>\n",
       "      <td>0.0</td>\n",
       "      <td>1.0</td>\n",
       "      <td>0.0</td>\n",
       "      <td>0.0</td>\n",
       "      <td>0.0</td>\n",
       "      <td>0.0</td>\n",
       "      <td>1.0</td>\n",
       "      <td>1.0</td>\n",
       "      <td>0.0</td>\n",
       "      <td>0.0</td>\n",
       "      <td>0.0</td>\n",
       "    </tr>\n",
       "  </tbody>\n",
       "</table>\n",
       "</div>"
      ],
      "text/plain": [
       "   Plasma Glucose  Blood Work Result-1  Blood Work Result-2  \\\n",
       "0       -1.134318            -0.562061             0.129634   \n",
       "1        1.222898             0.165922            -1.299975   \n",
       "2        2.401505             0.640694             1.372772   \n",
       "3        0.633594            -0.182244            -1.299975   \n",
       "4        1.222898            -0.340501             1.124144   \n",
       "\n",
       "   Blood Work Result-3  Blood Work Result-4  Insurance_0  Insurance_1  \\\n",
       "0            -0.686284             0.298699          0.0          1.0   \n",
       "1            -0.686284            -0.760484          0.0          1.0   \n",
       "2             2.148272             0.161629          0.0          1.0   \n",
       "3            -0.686284            -0.894440          0.0          1.0   \n",
       "4             0.307991             0.510536          1.0          0.0   \n",
       "\n",
       "   x1_Healthy Weight  x1_Obesity  x1_Over Weight  x1_Severe Obesity  \\\n",
       "0                0.0         0.0             0.0                0.0   \n",
       "1                0.0         0.0             0.0                0.0   \n",
       "2                0.0         1.0             0.0                0.0   \n",
       "3                0.0         0.0             0.0                0.0   \n",
       "4                0.0         0.0             1.0                0.0   \n",
       "\n",
       "   x1_Under Weight  x2_elevated  x2_high  x2_normal  x3_20-50  x3_40-70  \\\n",
       "0              1.0          0.0      0.0        1.0       1.0       0.0   \n",
       "1              1.0          0.0      1.0        0.0       0.0       1.0   \n",
       "2              0.0          1.0      0.0        0.0       0.0       1.0   \n",
       "3              1.0          0.0      0.0        1.0       1.0       0.0   \n",
       "4              0.0          0.0      0.0        1.0       1.0       0.0   \n",
       "\n",
       "   x3_60-90  x3_80-110  \n",
       "0       0.0        0.0  \n",
       "1       0.0        0.0  \n",
       "2       0.0        0.0  \n",
       "3       0.0        0.0  \n",
       "4       0.0        0.0  "
      ]
     },
     "execution_count": 79,
     "metadata": {},
     "output_type": "execute_result"
    }
   ],
   "source": [
    "X_train_df = pd.DataFrame(X_train_prepared, columns=columns_)\n",
    "X_train_df = X_train_df.rename(columns={'x0_0':'Insurance_0', 'x0_1': 'Insurance_1'})\n",
    "X_train_df.head()"
   ]
  },
  {
   "cell_type": "code",
   "execution_count": 80,
   "id": "4b402e44",
   "metadata": {},
   "outputs": [
    {
     "data": {
      "text/plain": [
       "(479, 19)"
      ]
     },
     "execution_count": 80,
     "metadata": {},
     "output_type": "execute_result"
    }
   ],
   "source": [
    "X_train_df.shape"
   ]
  },
  {
   "cell_type": "code",
   "execution_count": 81,
   "id": "cfe02ca4",
   "metadata": {},
   "outputs": [
    {
     "data": {
      "text/html": [
       "<div>\n",
       "<style scoped>\n",
       "    .dataframe tbody tr th:only-of-type {\n",
       "        vertical-align: middle;\n",
       "    }\n",
       "\n",
       "    .dataframe tbody tr th {\n",
       "        vertical-align: top;\n",
       "    }\n",
       "\n",
       "    .dataframe thead th {\n",
       "        text-align: right;\n",
       "    }\n",
       "</style>\n",
       "<table border=\"1\" class=\"dataframe\">\n",
       "  <thead>\n",
       "    <tr style=\"text-align: right;\">\n",
       "      <th></th>\n",
       "      <th>Plasma Glucose</th>\n",
       "      <th>Blood Work Result-1</th>\n",
       "      <th>Blood Work Result-2</th>\n",
       "      <th>Blood Work Result-3</th>\n",
       "      <th>Blood Work Result-4</th>\n",
       "      <th>Insurance_0</th>\n",
       "      <th>Insurance_1</th>\n",
       "      <th>x1_Healthy Weight</th>\n",
       "      <th>x1_Obesity</th>\n",
       "      <th>x1_Over Weight</th>\n",
       "      <th>x1_Severe Obesity</th>\n",
       "      <th>x1_Under Weight</th>\n",
       "      <th>x2_elevated</th>\n",
       "      <th>x2_high</th>\n",
       "      <th>x2_normal</th>\n",
       "      <th>x3_20-50</th>\n",
       "      <th>x3_40-70</th>\n",
       "      <th>x3_60-90</th>\n",
       "      <th>x3_80-110</th>\n",
       "    </tr>\n",
       "  </thead>\n",
       "  <tbody>\n",
       "    <tr>\n",
       "      <th>0</th>\n",
       "      <td>-0.250362</td>\n",
       "      <td>1.621890</td>\n",
       "      <td>0.751203</td>\n",
       "      <td>0.491147</td>\n",
       "      <td>-0.863287</td>\n",
       "      <td>0.0</td>\n",
       "      <td>1.0</td>\n",
       "      <td>0.0</td>\n",
       "      <td>1.0</td>\n",
       "      <td>0.0</td>\n",
       "      <td>0.0</td>\n",
       "      <td>0.0</td>\n",
       "      <td>0.0</td>\n",
       "      <td>0.0</td>\n",
       "      <td>1.0</td>\n",
       "      <td>1.0</td>\n",
       "      <td>0.0</td>\n",
       "      <td>0.0</td>\n",
       "      <td>0.0</td>\n",
       "    </tr>\n",
       "    <tr>\n",
       "      <th>1</th>\n",
       "      <td>-0.250362</td>\n",
       "      <td>0.292528</td>\n",
       "      <td>0.502576</td>\n",
       "      <td>0.316713</td>\n",
       "      <td>-0.800982</td>\n",
       "      <td>0.0</td>\n",
       "      <td>1.0</td>\n",
       "      <td>0.0</td>\n",
       "      <td>0.0</td>\n",
       "      <td>1.0</td>\n",
       "      <td>0.0</td>\n",
       "      <td>0.0</td>\n",
       "      <td>0.0</td>\n",
       "      <td>0.0</td>\n",
       "      <td>1.0</td>\n",
       "      <td>1.0</td>\n",
       "      <td>0.0</td>\n",
       "      <td>0.0</td>\n",
       "      <td>0.0</td>\n",
       "    </tr>\n",
       "    <tr>\n",
       "      <th>2</th>\n",
       "      <td>-1.134318</td>\n",
       "      <td>-0.910228</td>\n",
       "      <td>-1.299975</td>\n",
       "      <td>-0.686284</td>\n",
       "      <td>0.389042</td>\n",
       "      <td>1.0</td>\n",
       "      <td>0.0</td>\n",
       "      <td>0.0</td>\n",
       "      <td>1.0</td>\n",
       "      <td>0.0</td>\n",
       "      <td>0.0</td>\n",
       "      <td>0.0</td>\n",
       "      <td>1.0</td>\n",
       "      <td>0.0</td>\n",
       "      <td>0.0</td>\n",
       "      <td>1.0</td>\n",
       "      <td>0.0</td>\n",
       "      <td>0.0</td>\n",
       "      <td>0.0</td>\n",
       "    </tr>\n",
       "    <tr>\n",
       "      <th>3</th>\n",
       "      <td>0.338942</td>\n",
       "      <td>-0.783622</td>\n",
       "      <td>0.751203</td>\n",
       "      <td>-0.686284</td>\n",
       "      <td>-0.330580</td>\n",
       "      <td>0.0</td>\n",
       "      <td>1.0</td>\n",
       "      <td>0.0</td>\n",
       "      <td>1.0</td>\n",
       "      <td>0.0</td>\n",
       "      <td>0.0</td>\n",
       "      <td>0.0</td>\n",
       "      <td>0.0</td>\n",
       "      <td>0.0</td>\n",
       "      <td>1.0</td>\n",
       "      <td>1.0</td>\n",
       "      <td>0.0</td>\n",
       "      <td>0.0</td>\n",
       "      <td>0.0</td>\n",
       "    </tr>\n",
       "    <tr>\n",
       "      <th>4</th>\n",
       "      <td>-1.134318</td>\n",
       "      <td>-0.023986</td>\n",
       "      <td>-0.181150</td>\n",
       "      <td>0.116113</td>\n",
       "      <td>0.775332</td>\n",
       "      <td>1.0</td>\n",
       "      <td>0.0</td>\n",
       "      <td>0.0</td>\n",
       "      <td>1.0</td>\n",
       "      <td>0.0</td>\n",
       "      <td>0.0</td>\n",
       "      <td>0.0</td>\n",
       "      <td>0.0</td>\n",
       "      <td>0.0</td>\n",
       "      <td>1.0</td>\n",
       "      <td>1.0</td>\n",
       "      <td>0.0</td>\n",
       "      <td>0.0</td>\n",
       "      <td>0.0</td>\n",
       "    </tr>\n",
       "  </tbody>\n",
       "</table>\n",
       "</div>"
      ],
      "text/plain": [
       "   Plasma Glucose  Blood Work Result-1  Blood Work Result-2  \\\n",
       "0       -0.250362             1.621890             0.751203   \n",
       "1       -0.250362             0.292528             0.502576   \n",
       "2       -1.134318            -0.910228            -1.299975   \n",
       "3        0.338942            -0.783622             0.751203   \n",
       "4       -1.134318            -0.023986            -0.181150   \n",
       "\n",
       "   Blood Work Result-3  Blood Work Result-4  Insurance_0  Insurance_1  \\\n",
       "0             0.491147            -0.863287          0.0          1.0   \n",
       "1             0.316713            -0.800982          0.0          1.0   \n",
       "2            -0.686284             0.389042          1.0          0.0   \n",
       "3            -0.686284            -0.330580          0.0          1.0   \n",
       "4             0.116113             0.775332          1.0          0.0   \n",
       "\n",
       "   x1_Healthy Weight  x1_Obesity  x1_Over Weight  x1_Severe Obesity  \\\n",
       "0                0.0         1.0             0.0                0.0   \n",
       "1                0.0         0.0             1.0                0.0   \n",
       "2                0.0         1.0             0.0                0.0   \n",
       "3                0.0         1.0             0.0                0.0   \n",
       "4                0.0         1.0             0.0                0.0   \n",
       "\n",
       "   x1_Under Weight  x2_elevated  x2_high  x2_normal  x3_20-50  x3_40-70  \\\n",
       "0              0.0          0.0      0.0        1.0       1.0       0.0   \n",
       "1              0.0          0.0      0.0        1.0       1.0       0.0   \n",
       "2              0.0          1.0      0.0        0.0       1.0       0.0   \n",
       "3              0.0          0.0      0.0        1.0       1.0       0.0   \n",
       "4              0.0          0.0      0.0        1.0       1.0       0.0   \n",
       "\n",
       "   x3_60-90  x3_80-110  \n",
       "0       0.0        0.0  \n",
       "1       0.0        0.0  \n",
       "2       0.0        0.0  \n",
       "3       0.0        0.0  \n",
       "4       0.0        0.0  "
      ]
     },
     "execution_count": 81,
     "metadata": {},
     "output_type": "execute_result"
    }
   ],
   "source": [
    "X_test_df = pd.DataFrame(X_test_prepared, columns=columns_)\n",
    "X_test_df = X_test_df.rename(columns={'x0_0':'Insurance_0', 'x0_1': 'Insurance_1'})\n",
    "\n",
    "X_test_df.head()"
   ]
  },
  {
   "cell_type": "code",
   "execution_count": 82,
   "id": "546c02f0",
   "metadata": {
    "id": "aI7jM-rZMYCG"
   },
   "outputs": [
    {
     "data": {
      "text/plain": [
       "120"
      ]
     },
     "execution_count": 82,
     "metadata": {},
     "output_type": "execute_result"
    }
   ],
   "source": [
    "# Code here\n",
    "len(X_test_df)"
   ]
  },
  {
   "cell_type": "markdown",
   "id": "3e36ce55",
   "metadata": {
    "id": "4-UlAVv4iYz8"
   },
   "source": [
    "## Optional: Train Dataset Balancing "
   ]
  },
  {
   "cell_type": "code",
   "execution_count": 83,
   "id": "cea02613",
   "metadata": {
    "scrolled": true
   },
   "outputs": [],
   "source": [
    "# # Count the number of unique values in the target\n",
    "# y_train.value_counts()"
   ]
  },
  {
   "cell_type": "code",
   "execution_count": 84,
   "id": "9e640cb1",
   "metadata": {},
   "outputs": [],
   "source": [
    "# y_test.value_counts()"
   ]
  },
  {
   "cell_type": "code",
   "execution_count": 85,
   "id": "0361571f",
   "metadata": {},
   "outputs": [],
   "source": [
    "# # import the SMOTE technique to oversample the minority\n",
    "# from imblearn.over_sampling import RandomOverSampler, SMOTE"
   ]
  },
  {
   "cell_type": "code",
   "execution_count": 86,
   "id": "e4d614fe",
   "metadata": {},
   "outputs": [],
   "source": [
    "# # Create an instance of SMOTE and fit it on the train feature and targets\n",
    "# sm = RandomOverSampler(sampling_strategy='minority')\n",
    "# X_train_df, y_train = sm.fit_resample(X_train_df, y_train)"
   ]
  },
  {
   "cell_type": "code",
   "execution_count": 87,
   "id": "b776ed7e",
   "metadata": {},
   "outputs": [],
   "source": [
    "# # # let's confirm the increase in rows after oversampling\n",
    "# len(X_train_df), len(y_train)"
   ]
  },
  {
   "cell_type": "code",
   "execution_count": 88,
   "id": "62b60656",
   "metadata": {},
   "outputs": [],
   "source": [
    "# # Confirm values counts for the targets\n",
    "# y_train.value_counts()"
   ]
  },
  {
   "cell_type": "code",
   "execution_count": null,
   "id": "76e22f65",
   "metadata": {},
   "outputs": [],
   "source": []
  },
  {
   "cell_type": "markdown",
   "id": "bb0130d8",
   "metadata": {
    "id": "WloQgMqqf6bT"
   },
   "source": [
    "# Machine Learning Modeling \n",
    "Here is the section to **build**, **train**, **evaluate** and **compare** the models to each others."
   ]
  },
  {
   "cell_type": "markdown",
   "id": "8296f8b3",
   "metadata": {
    "id": "tTiiqCnG1FA2"
   },
   "source": [
    "## Logistic Regression\n",
    "\n",
    "Please, keep the following structure to try all the model you want."
   ]
  },
  {
   "cell_type": "markdown",
   "id": "74be22cd",
   "metadata": {
    "id": "46li5Z2z1ME7"
   },
   "source": [
    "### Create the Model"
   ]
  },
  {
   "cell_type": "code",
   "execution_count": 89,
   "id": "84d5bf3a",
   "metadata": {
    "id": "1Fjv6pJt1uoV"
   },
   "outputs": [],
   "source": [
    "from sklearn.linear_model import LogisticRegression\n",
    "lgr_model = LogisticRegression()"
   ]
  },
  {
   "cell_type": "markdown",
   "id": "2077114d",
   "metadata": {
    "id": "XwHqTKk11U5f"
   },
   "source": [
    "### Train the Model"
   ]
  },
  {
   "cell_type": "code",
   "execution_count": 90,
   "id": "c5c710d3",
   "metadata": {
    "id": "fgsct6LH1v9e"
   },
   "outputs": [
    {
     "data": {
      "text/plain": [
       "LogisticRegression()"
      ]
     },
     "execution_count": 90,
     "metadata": {},
     "output_type": "execute_result"
    }
   ],
   "source": [
    "# Use the .fit method to train the model\n",
    "lgr_model.fit(X_train_df, y_train)"
   ]
  },
  {
   "cell_type": "markdown",
   "id": "4ebb6d91",
   "metadata": {
    "id": "M6aXGMEf1Yra"
   },
   "source": [
    "### Evaluate the Model on the Evaluation dataset (Evalset)"
   ]
  },
  {
   "cell_type": "code",
   "execution_count": 91,
   "id": "2c34fd83",
   "metadata": {},
   "outputs": [],
   "source": [
    "def evaluate_model(model, x_test, y_test):\n",
    "    pred = model.predict(x_test)\n",
    "    accuracy = accuracy_score(y_test, pred)\n",
    "    f1 = f1_score(y_test, pred)\n",
    "    precision = precision_score(y_test, pred)\n",
    "    recall = recall_score(y_test, pred)\n",
    "    return accuracy, f1, precision, recall\n"
   ]
  },
  {
   "cell_type": "code",
   "execution_count": 92,
   "id": "0749d164",
   "metadata": {},
   "outputs": [
    {
     "data": {
      "text/plain": [
       "(0.775, 0.6666666666666666, 0.7105263157894737, 0.627906976744186)"
      ]
     },
     "execution_count": 92,
     "metadata": {},
     "output_type": "execute_result"
    }
   ],
   "source": [
    "accuracy, f1, precision, recall = evaluate_model(lgr_model, X_test_df, y_test)\n",
    "accuracy, f1, precision, recall"
   ]
  },
  {
   "cell_type": "code",
   "execution_count": 93,
   "id": "47233f84",
   "metadata": {},
   "outputs": [
    {
     "data": {
      "text/html": [
       "<div>\n",
       "<style scoped>\n",
       "    .dataframe tbody tr th:only-of-type {\n",
       "        vertical-align: middle;\n",
       "    }\n",
       "\n",
       "    .dataframe tbody tr th {\n",
       "        vertical-align: top;\n",
       "    }\n",
       "\n",
       "    .dataframe thead th {\n",
       "        text-align: right;\n",
       "    }\n",
       "</style>\n",
       "<table border=\"1\" class=\"dataframe\">\n",
       "  <thead>\n",
       "    <tr style=\"text-align: right;\">\n",
       "      <th></th>\n",
       "      <th>Model</th>\n",
       "      <th>Accuracy</th>\n",
       "      <th>F1_score</th>\n",
       "      <th>Precision</th>\n",
       "      <th>Recall</th>\n",
       "    </tr>\n",
       "  </thead>\n",
       "  <tbody>\n",
       "    <tr>\n",
       "      <th>0</th>\n",
       "      <td>Logistic Regression</td>\n",
       "      <td>0.775</td>\n",
       "      <td>0.666667</td>\n",
       "      <td>0.710526</td>\n",
       "      <td>0.627907</td>\n",
       "    </tr>\n",
       "  </tbody>\n",
       "</table>\n",
       "</div>"
      ],
      "text/plain": [
       "                 Model  Accuracy  F1_score  Precision    Recall\n",
       "0  Logistic Regression     0.775  0.666667   0.710526  0.627907"
      ]
     },
     "execution_count": 93,
     "metadata": {},
     "output_type": "execute_result"
    }
   ],
   "source": [
    "results = pd.DataFrame([['Logistic Regression', accuracy, f1, precision, recall]], columns = ['Model', 'Accuracy', 'F1_score', 'Precision', 'Recall'])\n",
    "results"
   ]
  },
  {
   "cell_type": "markdown",
   "id": "0e10853a",
   "metadata": {},
   "source": [
    ">- "
   ]
  },
  {
   "cell_type": "code",
   "execution_count": null,
   "id": "2b473531",
   "metadata": {},
   "outputs": [],
   "source": []
  },
  {
   "cell_type": "markdown",
   "id": "43d0616c",
   "metadata": {
    "id": "tTiiqCnG1FA2"
   },
   "source": [
    "## XBoost\n",
    "\n",
    "Please, keep the following structure to try all the model you want."
   ]
  },
  {
   "cell_type": "markdown",
   "id": "4775866a",
   "metadata": {
    "id": "46li5Z2z1ME7"
   },
   "source": [
    "### Create the Model"
   ]
  },
  {
   "cell_type": "code",
   "execution_count": 94,
   "id": "966c1c81",
   "metadata": {
    "id": "1Fjv6pJt1uoV"
   },
   "outputs": [],
   "source": [
    "from xgboost import XGBClassifier\n",
    "xgb_model = XGBClassifier()"
   ]
  },
  {
   "cell_type": "markdown",
   "id": "0ca90bd3",
   "metadata": {
    "id": "XwHqTKk11U5f"
   },
   "source": [
    "### Train the Model"
   ]
  },
  {
   "cell_type": "code",
   "execution_count": 95,
   "id": "a34cd04c",
   "metadata": {
    "id": "fgsct6LH1v9e"
   },
   "outputs": [
    {
     "data": {
      "text/plain": [
       "XGBClassifier(base_score=None, booster=None, callbacks=None,\n",
       "              colsample_bylevel=None, colsample_bynode=None,\n",
       "              colsample_bytree=None, early_stopping_rounds=None,\n",
       "              enable_categorical=False, eval_metric=None, feature_types=None,\n",
       "              gamma=None, gpu_id=None, grow_policy=None, importance_type=None,\n",
       "              interaction_constraints=None, learning_rate=None, max_bin=None,\n",
       "              max_cat_threshold=None, max_cat_to_onehot=None,\n",
       "              max_delta_step=None, max_depth=None, max_leaves=None,\n",
       "              min_child_weight=None, missing=nan, monotone_constraints=None,\n",
       "              n_estimators=100, n_jobs=None, num_parallel_tree=None,\n",
       "              predictor=None, random_state=None, ...)"
      ]
     },
     "execution_count": 95,
     "metadata": {},
     "output_type": "execute_result"
    }
   ],
   "source": [
    "# Use the .fit method\n",
    "xgb_model.fit(X_train_df, y_train)"
   ]
  },
  {
   "cell_type": "markdown",
   "id": "b81004f3",
   "metadata": {
    "id": "M6aXGMEf1Yra"
   },
   "source": [
    "### Evaluate the Model on the Evaluation dataset (Evalset)"
   ]
  },
  {
   "cell_type": "code",
   "execution_count": 96,
   "id": "f0419fa6",
   "metadata": {},
   "outputs": [
    {
     "data": {
      "text/plain": [
       "(0.725, 0.6292134831460675, 0.6086956521739131, 0.6511627906976745)"
      ]
     },
     "execution_count": 96,
     "metadata": {},
     "output_type": "execute_result"
    }
   ],
   "source": [
    "accuracy, f1, precision, recall = evaluate_model(xgb_model, X_test_df, y_test)\n",
    "accuracy, f1, precision, recall"
   ]
  },
  {
   "cell_type": "code",
   "execution_count": 97,
   "id": "419ba857",
   "metadata": {},
   "outputs": [
    {
     "data": {
      "text/html": [
       "<div>\n",
       "<style scoped>\n",
       "    .dataframe tbody tr th:only-of-type {\n",
       "        vertical-align: middle;\n",
       "    }\n",
       "\n",
       "    .dataframe tbody tr th {\n",
       "        vertical-align: top;\n",
       "    }\n",
       "\n",
       "    .dataframe thead th {\n",
       "        text-align: right;\n",
       "    }\n",
       "</style>\n",
       "<table border=\"1\" class=\"dataframe\">\n",
       "  <thead>\n",
       "    <tr style=\"text-align: right;\">\n",
       "      <th></th>\n",
       "      <th>Model</th>\n",
       "      <th>Accuracy</th>\n",
       "      <th>F1_score</th>\n",
       "      <th>Precision</th>\n",
       "      <th>Recall</th>\n",
       "    </tr>\n",
       "  </thead>\n",
       "  <tbody>\n",
       "    <tr>\n",
       "      <th>0</th>\n",
       "      <td>Logistic Regression</td>\n",
       "      <td>0.775</td>\n",
       "      <td>0.666667</td>\n",
       "      <td>0.710526</td>\n",
       "      <td>0.627907</td>\n",
       "    </tr>\n",
       "    <tr>\n",
       "      <th>0</th>\n",
       "      <td>XGBoost</td>\n",
       "      <td>0.725</td>\n",
       "      <td>0.629213</td>\n",
       "      <td>0.608696</td>\n",
       "      <td>0.651163</td>\n",
       "    </tr>\n",
       "  </tbody>\n",
       "</table>\n",
       "</div>"
      ],
      "text/plain": [
       "                 Model  Accuracy  F1_score  Precision    Recall\n",
       "0  Logistic Regression     0.775  0.666667   0.710526  0.627907\n",
       "0              XGBoost     0.725  0.629213   0.608696  0.651163"
      ]
     },
     "execution_count": 97,
     "metadata": {},
     "output_type": "execute_result"
    }
   ],
   "source": [
    "model_result = pd.DataFrame([['XGBoost', accuracy, f1, precision, recall]], columns = ['Model', 'Accuracy', 'F1_score', 'Precision', 'Recall'])\n",
    "results = results.append(model_result)\n",
    "results"
   ]
  },
  {
   "cell_type": "markdown",
   "id": "b9f0b294",
   "metadata": {},
   "source": [
    ">-"
   ]
  },
  {
   "cell_type": "markdown",
   "id": "cd8fd56a",
   "metadata": {
    "id": "A54gPujOmqaV"
   },
   "source": [
    "## Support Vector Machine"
   ]
  },
  {
   "cell_type": "markdown",
   "id": "393a4b93",
   "metadata": {
    "id": "MC6WaxZUmqaW"
   },
   "source": [
    "### Create the Model"
   ]
  },
  {
   "cell_type": "code",
   "execution_count": 98,
   "id": "c243ce88",
   "metadata": {
    "id": "THTw7OjhmqaW"
   },
   "outputs": [],
   "source": [
    "# Create the svm  model\n",
    "from sklearn import svm\n",
    "svm = svm.SVC()"
   ]
  },
  {
   "cell_type": "markdown",
   "id": "e325fddf",
   "metadata": {
    "id": "n7CV9W0DmqaW"
   },
   "source": [
    "### Train the Model"
   ]
  },
  {
   "cell_type": "code",
   "execution_count": 99,
   "id": "9e5cf5c1",
   "metadata": {
    "id": "uQMdz0JPmqaW"
   },
   "outputs": [
    {
     "data": {
      "text/plain": [
       "SVC()"
      ]
     },
     "execution_count": 99,
     "metadata": {},
     "output_type": "execute_result"
    }
   ],
   "source": [
    "# Use the .fit method\n",
    "svm.fit(X_train_df, y_train)"
   ]
  },
  {
   "cell_type": "markdown",
   "id": "78f6d3f3",
   "metadata": {
    "id": "f1Fb-2_PmqaW"
   },
   "source": [
    "### Evaluate the Model on the Evaluation dataset (Evalset)"
   ]
  },
  {
   "cell_type": "code",
   "execution_count": 100,
   "id": "29f66e91",
   "metadata": {},
   "outputs": [
    {
     "data": {
      "text/plain": [
       "(0.7333333333333333,\n",
       " 0.6190476190476191,\n",
       " 0.6341463414634146,\n",
       " 0.6046511627906976)"
      ]
     },
     "execution_count": 100,
     "metadata": {},
     "output_type": "execute_result"
    }
   ],
   "source": [
    "accuracy, f1, precision, recall = evaluate_model(svm, X_test_df, y_test)\n",
    "accuracy, f1, precision, recall"
   ]
  },
  {
   "cell_type": "code",
   "execution_count": 101,
   "id": "b80f25ee",
   "metadata": {},
   "outputs": [
    {
     "data": {
      "text/html": [
       "<div>\n",
       "<style scoped>\n",
       "    .dataframe tbody tr th:only-of-type {\n",
       "        vertical-align: middle;\n",
       "    }\n",
       "\n",
       "    .dataframe tbody tr th {\n",
       "        vertical-align: top;\n",
       "    }\n",
       "\n",
       "    .dataframe thead th {\n",
       "        text-align: right;\n",
       "    }\n",
       "</style>\n",
       "<table border=\"1\" class=\"dataframe\">\n",
       "  <thead>\n",
       "    <tr style=\"text-align: right;\">\n",
       "      <th></th>\n",
       "      <th>Model</th>\n",
       "      <th>Accuracy</th>\n",
       "      <th>F1_score</th>\n",
       "      <th>Precision</th>\n",
       "      <th>Recall</th>\n",
       "    </tr>\n",
       "  </thead>\n",
       "  <tbody>\n",
       "    <tr>\n",
       "      <th>0</th>\n",
       "      <td>Logistic Regression</td>\n",
       "      <td>0.775000</td>\n",
       "      <td>0.666667</td>\n",
       "      <td>0.710526</td>\n",
       "      <td>0.627907</td>\n",
       "    </tr>\n",
       "    <tr>\n",
       "      <th>0</th>\n",
       "      <td>XGBoost</td>\n",
       "      <td>0.725000</td>\n",
       "      <td>0.629213</td>\n",
       "      <td>0.608696</td>\n",
       "      <td>0.651163</td>\n",
       "    </tr>\n",
       "    <tr>\n",
       "      <th>0</th>\n",
       "      <td>Support Vector Machine</td>\n",
       "      <td>0.733333</td>\n",
       "      <td>0.619048</td>\n",
       "      <td>0.634146</td>\n",
       "      <td>0.604651</td>\n",
       "    </tr>\n",
       "  </tbody>\n",
       "</table>\n",
       "</div>"
      ],
      "text/plain": [
       "                    Model  Accuracy  F1_score  Precision    Recall\n",
       "0     Logistic Regression  0.775000  0.666667   0.710526  0.627907\n",
       "0                 XGBoost  0.725000  0.629213   0.608696  0.651163\n",
       "0  Support Vector Machine  0.733333  0.619048   0.634146  0.604651"
      ]
     },
     "execution_count": 101,
     "metadata": {},
     "output_type": "execute_result"
    }
   ],
   "source": [
    "model_result = pd.DataFrame([['Support Vector Machine', accuracy, f1, precision, recall]], columns = ['Model', 'Accuracy', 'F1_score', 'Precision', 'Recall'])\n",
    "results = results.append(model_result)\n",
    "results"
   ]
  },
  {
   "cell_type": "markdown",
   "id": "466fd2f0",
   "metadata": {},
   "source": [
    ">- "
   ]
  },
  {
   "cell_type": "markdown",
   "id": "3ac0a275",
   "metadata": {
    "id": "A54gPujOmqaV"
   },
   "source": [
    "## Decision tree"
   ]
  },
  {
   "cell_type": "markdown",
   "id": "fc371d8c",
   "metadata": {
    "id": "MC6WaxZUmqaW"
   },
   "source": [
    "### Create the Model"
   ]
  },
  {
   "cell_type": "code",
   "execution_count": 102,
   "id": "16a9f6fb",
   "metadata": {
    "id": "THTw7OjhmqaW"
   },
   "outputs": [],
   "source": [
    "# Code here\n",
    "from sklearn.tree import DecisionTreeClassifier\n",
    "dtc = DecisionTreeClassifier()"
   ]
  },
  {
   "cell_type": "markdown",
   "id": "5f0ec4bd",
   "metadata": {
    "id": "n7CV9W0DmqaW"
   },
   "source": [
    "### Train the Model"
   ]
  },
  {
   "cell_type": "code",
   "execution_count": 103,
   "id": "08107f82",
   "metadata": {
    "id": "uQMdz0JPmqaW"
   },
   "outputs": [
    {
     "data": {
      "text/plain": [
       "DecisionTreeClassifier()"
      ]
     },
     "execution_count": 103,
     "metadata": {},
     "output_type": "execute_result"
    }
   ],
   "source": [
    "# Use the .fit method\n",
    "dtc.fit(X_train_df, y_train)"
   ]
  },
  {
   "cell_type": "markdown",
   "id": "51011914",
   "metadata": {
    "id": "f1Fb-2_PmqaW"
   },
   "source": [
    "### Evaluate the Model on the Evaluation dataset (Evalset)"
   ]
  },
  {
   "cell_type": "code",
   "execution_count": 104,
   "id": "98fa80b0",
   "metadata": {},
   "outputs": [
    {
     "data": {
      "text/plain": [
       "(0.7083333333333334, 0.5783132530120482, 0.6, 0.5581395348837209)"
      ]
     },
     "execution_count": 104,
     "metadata": {},
     "output_type": "execute_result"
    }
   ],
   "source": [
    "accuracy, f1, precision, recall = evaluate_model(dtc, X_test_df, y_test)\n",
    "accuracy, f1, precision, recall"
   ]
  },
  {
   "cell_type": "code",
   "execution_count": 105,
   "id": "7fd79cda",
   "metadata": {},
   "outputs": [
    {
     "data": {
      "text/html": [
       "<div>\n",
       "<style scoped>\n",
       "    .dataframe tbody tr th:only-of-type {\n",
       "        vertical-align: middle;\n",
       "    }\n",
       "\n",
       "    .dataframe tbody tr th {\n",
       "        vertical-align: top;\n",
       "    }\n",
       "\n",
       "    .dataframe thead th {\n",
       "        text-align: right;\n",
       "    }\n",
       "</style>\n",
       "<table border=\"1\" class=\"dataframe\">\n",
       "  <thead>\n",
       "    <tr style=\"text-align: right;\">\n",
       "      <th></th>\n",
       "      <th>Model</th>\n",
       "      <th>Accuracy</th>\n",
       "      <th>F1_score</th>\n",
       "      <th>Precision</th>\n",
       "      <th>Recall</th>\n",
       "    </tr>\n",
       "  </thead>\n",
       "  <tbody>\n",
       "    <tr>\n",
       "      <th>0</th>\n",
       "      <td>Logistic Regression</td>\n",
       "      <td>0.775000</td>\n",
       "      <td>0.666667</td>\n",
       "      <td>0.710526</td>\n",
       "      <td>0.627907</td>\n",
       "    </tr>\n",
       "    <tr>\n",
       "      <th>0</th>\n",
       "      <td>XGBoost</td>\n",
       "      <td>0.725000</td>\n",
       "      <td>0.629213</td>\n",
       "      <td>0.608696</td>\n",
       "      <td>0.651163</td>\n",
       "    </tr>\n",
       "    <tr>\n",
       "      <th>0</th>\n",
       "      <td>Support Vector Machine</td>\n",
       "      <td>0.733333</td>\n",
       "      <td>0.619048</td>\n",
       "      <td>0.634146</td>\n",
       "      <td>0.604651</td>\n",
       "    </tr>\n",
       "    <tr>\n",
       "      <th>0</th>\n",
       "      <td>Decision Tree Classifier</td>\n",
       "      <td>0.708333</td>\n",
       "      <td>0.578313</td>\n",
       "      <td>0.600000</td>\n",
       "      <td>0.558140</td>\n",
       "    </tr>\n",
       "  </tbody>\n",
       "</table>\n",
       "</div>"
      ],
      "text/plain": [
       "                      Model  Accuracy  F1_score  Precision    Recall\n",
       "0       Logistic Regression  0.775000  0.666667   0.710526  0.627907\n",
       "0                   XGBoost  0.725000  0.629213   0.608696  0.651163\n",
       "0    Support Vector Machine  0.733333  0.619048   0.634146  0.604651\n",
       "0  Decision Tree Classifier  0.708333  0.578313   0.600000  0.558140"
      ]
     },
     "execution_count": 105,
     "metadata": {},
     "output_type": "execute_result"
    }
   ],
   "source": [
    "model_result = pd.DataFrame([['Decision Tree Classifier', accuracy, f1, precision, recall]], columns = ['Model', 'Accuracy', 'F1_score', 'Precision', 'Recall'])\n",
    "results = results.append(model_result)\n",
    "results"
   ]
  },
  {
   "cell_type": "code",
   "execution_count": null,
   "id": "f00bf900",
   "metadata": {},
   "outputs": [],
   "source": []
  },
  {
   "cell_type": "markdown",
   "id": "7f66a94b",
   "metadata": {
    "id": "A54gPujOmqaV"
   },
   "source": [
    "## Random Forest"
   ]
  },
  {
   "cell_type": "markdown",
   "id": "d50a93a3",
   "metadata": {
    "id": "MC6WaxZUmqaW"
   },
   "source": [
    "### Create the Model"
   ]
  },
  {
   "cell_type": "code",
   "execution_count": 106,
   "id": "af04409f",
   "metadata": {
    "id": "THTw7OjhmqaW"
   },
   "outputs": [],
   "source": [
    "# Code here\n",
    "\n",
    "from sklearn.ensemble import RandomForestClassifier\n",
    "rfc = RandomForestClassifier(criterion='gini', random_state=100, min_samples_leaf=8, max_depth=6, n_estimators=100)"
   ]
  },
  {
   "cell_type": "markdown",
   "id": "e5b7ede4",
   "metadata": {
    "id": "n7CV9W0DmqaW"
   },
   "source": [
    "### Train the Model"
   ]
  },
  {
   "cell_type": "code",
   "execution_count": 107,
   "id": "d9a6104c",
   "metadata": {
    "id": "uQMdz0JPmqaW"
   },
   "outputs": [
    {
     "data": {
      "text/plain": [
       "RandomForestClassifier(max_depth=6, min_samples_leaf=8, random_state=100)"
      ]
     },
     "execution_count": 107,
     "metadata": {},
     "output_type": "execute_result"
    }
   ],
   "source": [
    "# Use the .fit method\n",
    "rfc.fit(X_train_df, y_train)"
   ]
  },
  {
   "cell_type": "markdown",
   "id": "0f1003e9",
   "metadata": {
    "id": "f1Fb-2_PmqaW"
   },
   "source": [
    "### Evaluate the Model on the Evaluation dataset (Evalset)"
   ]
  },
  {
   "cell_type": "code",
   "execution_count": 108,
   "id": "d539529b",
   "metadata": {},
   "outputs": [
    {
     "data": {
      "text/plain": [
       "(0.7666666666666667, 0.6585365853658537, 0.6923076923076923, 0.627906976744186)"
      ]
     },
     "execution_count": 108,
     "metadata": {},
     "output_type": "execute_result"
    }
   ],
   "source": [
    "accuracy, f1, precision, recall = evaluate_model(rfc, X_test_df, y_test)\n",
    "accuracy, f1, precision, recall"
   ]
  },
  {
   "cell_type": "code",
   "execution_count": 109,
   "id": "dc90f428",
   "metadata": {},
   "outputs": [
    {
     "data": {
      "text/html": [
       "<div>\n",
       "<style scoped>\n",
       "    .dataframe tbody tr th:only-of-type {\n",
       "        vertical-align: middle;\n",
       "    }\n",
       "\n",
       "    .dataframe tbody tr th {\n",
       "        vertical-align: top;\n",
       "    }\n",
       "\n",
       "    .dataframe thead th {\n",
       "        text-align: right;\n",
       "    }\n",
       "</style>\n",
       "<table border=\"1\" class=\"dataframe\">\n",
       "  <thead>\n",
       "    <tr style=\"text-align: right;\">\n",
       "      <th></th>\n",
       "      <th>Model</th>\n",
       "      <th>Accuracy</th>\n",
       "      <th>F1_score</th>\n",
       "      <th>Precision</th>\n",
       "      <th>Recall</th>\n",
       "    </tr>\n",
       "  </thead>\n",
       "  <tbody>\n",
       "    <tr>\n",
       "      <th>0</th>\n",
       "      <td>Logistic Regression</td>\n",
       "      <td>0.775000</td>\n",
       "      <td>0.666667</td>\n",
       "      <td>0.710526</td>\n",
       "      <td>0.627907</td>\n",
       "    </tr>\n",
       "    <tr>\n",
       "      <th>0</th>\n",
       "      <td>XGBoost</td>\n",
       "      <td>0.725000</td>\n",
       "      <td>0.629213</td>\n",
       "      <td>0.608696</td>\n",
       "      <td>0.651163</td>\n",
       "    </tr>\n",
       "    <tr>\n",
       "      <th>0</th>\n",
       "      <td>Support Vector Machine</td>\n",
       "      <td>0.733333</td>\n",
       "      <td>0.619048</td>\n",
       "      <td>0.634146</td>\n",
       "      <td>0.604651</td>\n",
       "    </tr>\n",
       "    <tr>\n",
       "      <th>0</th>\n",
       "      <td>Decision Tree Classifier</td>\n",
       "      <td>0.708333</td>\n",
       "      <td>0.578313</td>\n",
       "      <td>0.600000</td>\n",
       "      <td>0.558140</td>\n",
       "    </tr>\n",
       "    <tr>\n",
       "      <th>0</th>\n",
       "      <td>Random Forest Classifier</td>\n",
       "      <td>0.766667</td>\n",
       "      <td>0.658537</td>\n",
       "      <td>0.692308</td>\n",
       "      <td>0.627907</td>\n",
       "    </tr>\n",
       "  </tbody>\n",
       "</table>\n",
       "</div>"
      ],
      "text/plain": [
       "                      Model  Accuracy  F1_score  Precision    Recall\n",
       "0       Logistic Regression  0.775000  0.666667   0.710526  0.627907\n",
       "0                   XGBoost  0.725000  0.629213   0.608696  0.651163\n",
       "0    Support Vector Machine  0.733333  0.619048   0.634146  0.604651\n",
       "0  Decision Tree Classifier  0.708333  0.578313   0.600000  0.558140\n",
       "0  Random Forest Classifier  0.766667  0.658537   0.692308  0.627907"
      ]
     },
     "execution_count": 109,
     "metadata": {},
     "output_type": "execute_result"
    }
   ],
   "source": [
    "model_result = pd.DataFrame([['Random Forest Classifier', accuracy, f1, precision, recall]], columns = ['Model', 'Accuracy', 'F1_score', 'Precision', 'Recall'])\n",
    "results = results.append(model_result)\n",
    "results"
   ]
  },
  {
   "cell_type": "markdown",
   "id": "c5127aab",
   "metadata": {},
   "source": [
    ">- "
   ]
  },
  {
   "cell_type": "code",
   "execution_count": 110,
   "id": "63a9b69c",
   "metadata": {},
   "outputs": [
    {
     "ename": "SyntaxError",
     "evalue": "invalid syntax (<ipython-input-110-759c4c5efcf3>, line 1)",
     "output_type": "error",
     "traceback": [
      "\u001b[1;36m  File \u001b[1;32m\"<ipython-input-110-759c4c5efcf3>\"\u001b[1;36m, line \u001b[1;32m1\u001b[0m\n\u001b[1;33m    ----\u001b[0m\n\u001b[1;37m        ^\u001b[0m\n\u001b[1;31mSyntaxError\u001b[0m\u001b[1;31m:\u001b[0m invalid syntax\n"
     ]
    }
   ],
   "source": [
    "----"
   ]
  },
  {
   "cell_type": "markdown",
   "id": "923d72c9",
   "metadata": {
    "id": "ezmrABneph31"
   },
   "source": [
    "## Hyperparameters tuning \n",
    "\n",
    "Fine-tune the Top-k models (3 < k < 5) using a ` GridSearchCV`  (that is in sklearn.model_selection\n",
    ") to find the best hyperparameters and achieve the maximum performance of each of the Top-k models, then compare them again to select the best one."
   ]
  },
  {
   "cell_type": "code",
   "execution_count": null,
   "id": "eed08a56",
   "metadata": {},
   "outputs": [],
   "source": [
    "# from sklearn.metrics import SCORERS"
   ]
  },
  {
   "cell_type": "code",
   "execution_count": null,
   "id": "6f79bb0c",
   "metadata": {},
   "outputs": [],
   "source": [
    "# # make f2 a scorer\n",
    "# f2_scorer = make_scorer(fbeta_score, beta=2)\n",
    "# accuracy_score = make_scorer(accuracy_score)\n",
    "# f1_score = make_scorer(f1_score)\n",
    "# precision_score = make_scorer(precision_score)\n",
    "\n",
    "\n",
    "scoring = {\n",
    "    'accuracy': accuracy_score,\n",
    "    'f1_score': f1_score,\n",
    "    'precision': precision_score\n",
    "}"
   ]
  },
  {
   "cell_type": "markdown",
   "id": "118add4b",
   "metadata": {},
   "source": [
    "### Model Tuning for Logistic Rgression Classifier"
   ]
  },
  {
   "cell_type": "code",
   "execution_count": null,
   "id": "6b26ec4b",
   "metadata": {
    "id": "FpTEDK9RrlRl"
   },
   "outputs": [],
   "source": [
    "# Code here\n",
    "from sklearn.model_selection import GridSearchCV\n",
    "param_grid= [{'penalty': ['l1', 'l2'],\\\n",
    "             'C': [0.001,0.009,0.01,5, 6.4, 7, 10,25], 'intercept_scaling':[1, 3.7, 2, 4.3, 7, 10],\\\n",
    "              'max_iter': [5, 50, 100, 150, 200, 400, 300, 500], 'class_weight':['balanced'], \\\n",
    "              'solver':['saga', 'liblinear'], 'tol': 10.0 ** -np.arange(1, 7), 'l1_ratio': np.arange(0,1, 0.2) }]"
   ]
  },
  {
   "cell_type": "code",
   "execution_count": null,
   "id": "7686a00b",
   "metadata": {},
   "outputs": [],
   "source": [
    "# create a bayessearchcv to finetune the logistic regression model\n",
    "logistic_grid_search = GridSearchCV(lgr_model,param_grid, scoring=scoring, cv=5, return_train_score=True, refit='f1_score')"
   ]
  },
  {
   "cell_type": "code",
   "execution_count": null,
   "id": "10dab0dc",
   "metadata": {},
   "outputs": [],
   "source": [
    "# train the model\n",
    "logistic_grid_search.fit(X_train_df, y_train)"
   ]
  },
  {
   "cell_type": "code",
   "execution_count": null,
   "id": "32296703",
   "metadata": {},
   "outputs": [],
   "source": [
    "# get the best parameter from the bayesearch\n",
    "best_lgr = logistic_grid_search.best_estimator_\n",
    "best_lgr"
   ]
  },
  {
   "cell_type": "code",
   "execution_count": null,
   "id": "6a9e7e7d",
   "metadata": {},
   "outputs": [],
   "source": [
    "X_test_df"
   ]
  },
  {
   "cell_type": "code",
   "execution_count": null,
   "id": "835e45f1",
   "metadata": {
    "scrolled": true
   },
   "outputs": [],
   "source": [
    "type([y_test])"
   ]
  },
  {
   "cell_type": "code",
   "execution_count": null,
   "id": "24e455a3",
   "metadata": {},
   "outputs": [],
   "source": [
    "pred = best_lgr.predict(X_test_df)"
   ]
  },
  {
   "cell_type": "code",
   "execution_count": null,
   "id": "ad0ea671",
   "metadata": {},
   "outputs": [],
   "source": [
    "pred"
   ]
  },
  {
   "cell_type": "code",
   "execution_count": null,
   "id": "af50a945",
   "metadata": {
    "scrolled": false
   },
   "outputs": [],
   "source": [
    "---"
   ]
  },
  {
   "cell_type": "code",
   "execution_count": null,
   "id": "a3192cbe",
   "metadata": {},
   "outputs": [],
   "source": [
    "from sklearn.metrics import recall_score , precision_score, f1_score, accuracy_score"
   ]
  },
  {
   "cell_type": "code",
   "execution_count": null,
   "id": "7ace2dc9",
   "metadata": {
    "scrolled": true
   },
   "outputs": [],
   "source": [
    "accuracy, f1, precision, recall = evaluate_model(best_lgr, X_test_df, y_test)"
   ]
  },
  {
   "cell_type": "code",
   "execution_count": null,
   "id": "5ae45cc6",
   "metadata": {},
   "outputs": [],
   "source": [
    "accuracy, f1, precision, recall"
   ]
  },
  {
   "cell_type": "code",
   "execution_count": null,
   "id": "aa155424",
   "metadata": {},
   "outputs": [],
   "source": [
    "tuned_results_bcv = pd.DataFrame([['Logistic Regression Classifier-finetuned', accuracy, f1, precision, recall\n",
    "]], columns = ['Model', 'Accuracy', 'F1_score', 'Precision', 'Recall'])"
   ]
  },
  {
   "cell_type": "code",
   "execution_count": null,
   "id": "38e9117d",
   "metadata": {},
   "outputs": [],
   "source": [
    "tuned_results_bcv"
   ]
  },
  {
   "cell_type": "code",
   "execution_count": null,
   "id": "c756cd29",
   "metadata": {},
   "outputs": [],
   "source": []
  },
  {
   "cell_type": "code",
   "execution_count": null,
   "id": "912c0377",
   "metadata": {},
   "outputs": [],
   "source": [
    "//"
   ]
  },
  {
   "cell_type": "markdown",
   "id": "9a9fc430",
   "metadata": {},
   "source": [
    "### Model Tuning for Random Forest Classifier"
   ]
  },
  {
   "cell_type": "code",
   "execution_count": null,
   "id": "5e7c9911",
   "metadata": {},
   "outputs": [],
   "source": [
    "# Create the parameter bayes search \n",
    "param_grid_rfc = {\n",
    "    'bootstrap': [True], \n",
    "    'max_features': [2, 3, 9], \n",
    "    'min_samples_split': [8, 10, 12], \n",
    "    'n_estimators': [100, 200, 300, 1000], \n",
    "    'random_state':[100,  120, 150], \n",
    "    'min_samples_leaf':[8, 6, 10, 7],\n",
    "    'max_depth': [6, 8, 9, 80, 90, 100]\n",
    "}"
   ]
  },
  {
   "cell_type": "code",
   "execution_count": null,
   "id": "d3519e72",
   "metadata": {},
   "outputs": [],
   "source": [
    "import gc\n",
    "gc.collect()"
   ]
  },
  {
   "cell_type": "code",
   "execution_count": null,
   "id": "7f361b5c",
   "metadata": {},
   "outputs": [],
   "source": [
    "# create a bayessearchcv to finetune the Support Vectors Machines regression model\n",
    "\n",
    "rfc_grid_search = GridSearchCV(rfc, param_grid_rfc, scoring=scoring, cv=5, return_train_score=True, refit='f1_score')"
   ]
  },
  {
   "cell_type": "code",
   "execution_count": null,
   "id": "2ed8aca2",
   "metadata": {},
   "outputs": [],
   "source": [
    "# train the model\n",
    "rfc_grid_search.fit(X_train_df, y_train)"
   ]
  },
  {
   "cell_type": "code",
   "execution_count": null,
   "id": "27e089d5",
   "metadata": {},
   "outputs": [],
   "source": [
    "# # get the bbest eestimator\n",
    "# rfc_bayes_search.best_estimator_"
   ]
  },
  {
   "cell_type": "code",
   "execution_count": null,
   "id": "d0a53956",
   "metadata": {
    "scrolled": false
   },
   "outputs": [],
   "source": [
    "# rfc_results_bcv = pd.DataFrame([['Random Forest Classifier-finetuned', accuracy, f1, precision, recall\n",
    "# ]], columns = ['Model', 'Accuracy', 'F1_score', 'Precision', 'Recall'])\n",
    "# tuned_results_bcv.append(rfc_results_bcv)"
   ]
  },
  {
   "cell_type": "markdown",
   "id": "34bc2e97",
   "metadata": {},
   "source": [
    "# Export key components\n",
    "Here is the section to **export** the important ML objects that will be use to develop an app: *Encoder, Scaler, ColumnTransformer, Model, Pipeline, etc*.\n",
    "\n",
    "# Use pickle : put all your key components in a python dictionary and save it as a file that will be loaded in an app"
   ]
  },
  {
   "cell_type": "code",
   "execution_count": null,
   "id": "08f1aba5",
   "metadata": {},
   "outputs": [],
   "source": []
  },
  {
   "cell_type": "code",
   "execution_count": 111,
   "id": "7480bb5f",
   "metadata": {},
   "outputs": [],
   "source": [
    "# Save the model and the columntransformer\n",
    "import pickle\n",
    "import os\n",
    "\n",
    "import os\n",
    "\n",
    "# Navigate to the desired directory\n",
    "directory = os.path.abspath(os.path.join(os.getcwd(), '..', '..', 'src', 'app', 'assets'))\n",
    "\n",
    "# Save the model as a pickle file\n",
    "filename = os.path.join(directory, 'model.pkl')\n",
    "pickle.dump(lgr_model, open(filename, 'wb'))\n",
    "\n"
   ]
  },
  {
   "cell_type": "code",
   "execution_count": 112,
   "id": "b644d618",
   "metadata": {},
   "outputs": [],
   "source": [
    "filename2 = os.path.join(directory, 'full_pipeline.pkl')\n",
    "pickle.dump(full_pipeline, open(filename2, 'wb') )"
   ]
  },
  {
   "cell_type": "markdown",
   "id": "b56bac1c",
   "metadata": {},
   "source": [
    "Model\tAccuracy\tF1_score\tPrecision\tRecall\n",
    "0\tLogistic Regression\t0.741667\t0.607595\t0.666667\t0.558140\n",
    "0\tXGBoost\t0.725000\t0.637363\t0.604167\t0.674419\n",
    "0\tSupport Vector Machine\t0.716667\t0.575000\t0.621622\t0.534884\n",
    "0\tDecision Tree Classifier\t0.716667\t0.622222\t0.595745\t0.651163\n",
    "\n",
    "\n",
    "\n",
    "replaced zeros with median"
   ]
  },
  {
   "cell_type": "markdown",
   "id": "9d0588af",
   "metadata": {},
   "source": [
    "0\tLogistic Regression\t0.750000\t0.625000\t0.675676\t0.581395\n",
    "0\tXGBoost\t0.716667\t0.622222\t0.595745\t0.651163\n",
    "0\tSupport Vector Machine\t0.725000\t0.592593\t0.631579\t0.558140\n",
    "0\tDecision Tree Classifier\t0.708333\t0.623656\t0.580000\t0.674419\n",
    "0\tRandom Forest Classifier\t0.733333\t0.619048\t0.634146\t0.604651\n",
    "\n",
    "\n",
    "mean"
   ]
  },
  {
   "cell_type": "code",
   "execution_count": null,
   "id": "6bdd2934",
   "metadata": {},
   "outputs": [],
   "source": [
    "%ls"
   ]
  },
  {
   "cell_type": "code",
   "execution_count": null,
   "id": "2d61c67d",
   "metadata": {},
   "outputs": [],
   "source": []
  }
 ],
 "metadata": {
  "kernelspec": {
   "display_name": "Python 3",
   "language": "python",
   "name": "python3"
  },
  "language_info": {
   "codemirror_mode": {
    "name": "ipython",
    "version": 3
   },
   "file_extension": ".py",
   "mimetype": "text/x-python",
   "name": "python",
   "nbconvert_exporter": "python",
   "pygments_lexer": "ipython3",
   "version": "3.8.8"
  }
 },
 "nbformat": 4,
 "nbformat_minor": 5
}
